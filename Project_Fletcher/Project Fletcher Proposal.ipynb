{
 "cells": [
  {
   "cell_type": "markdown",
   "metadata": {},
   "source": [
    "# Project Fletcher Proposal\n",
    "\n",
    "Gretta Ferguson | Nov 5 2018\n",
    "\n",
    "I want to perform NLP on job postings from indeed.com to help job seekers find the right jobs to apply to. For now, I anticipate limiting this to data science roles in Seattle.\n",
    "\n",
    "Potential data sources:\n",
    "\n",
    "- Indeed.com has an [API](http://opensource.indeedeng.io/api-documentation/docs/job-search/) to easily collect descriptions and info about open job postings. The downside here is that the descriptions are totally unstructures and there are no standardized easy-to-pull features. \n",
    "- Glassdoor also has an [API](https://www.glassdoor.com/developer/index.htm) and has similarly unstructured description fileds. However, they do have a lot of structured info on the company, salary ranges, reviews etc.\n",
    "- Worfor is a newer job platform specifically for AI roles, and it segments the job description into 3 standardized sections: About Company, Job Description, and Requirements. It does not have an API so I would need to use web scraping.\n",
    "\n",
    "From the job description I would like to pull out things like:\n",
    "\n",
    "- Soft skills (e.g. management/leadership experience)\n",
    "- Hard skills (e.g. programming languages)\n",
    "- Required or preferred tenure / years of experience\n",
    "- Required or preferred education \n",
    "\n",
    "In addition to NLP on the job description, I could try to fold in data from glasdoor such as e.g. company size, location, average salary, industry...\n",
    "\n",
    "Output\n",
    "- MVP\n",
    "    1. Cluster job postings into sub-categories based on the posting description and give descriptions to the different sub-roles related to data science.\n",
    "    1. Make similar-post recommendations given a job listing as an input.\n",
    "- Nice to have\n",
    "    1. Make a flask app \n",
    "    2. Make job-match recommendations given a resume input. e.g. A resume can be uploaded and then match that user to a current job post... or as an easier step, have someone manually feed in information like their tenure, skills etc...\n",
    "    3. Create flexible filter/importance inputs such as location, salary, industry, etc.\n",
    "    4. Add ability to put in a resume and a job post and identify the areas where the resume is lacking experience or skills for the job opening."
   ]
  },
  {
   "cell_type": "code",
   "execution_count": null,
   "metadata": {},
   "outputs": [],
   "source": []
  }
 ],
 "metadata": {
  "kernelspec": {
   "display_name": "Python 3",
   "language": "python",
   "name": "python3"
  },
  "language_info": {
   "codemirror_mode": {
    "name": "ipython",
    "version": 3
   },
   "file_extension": ".py",
   "mimetype": "text/x-python",
   "name": "python",
   "nbconvert_exporter": "python",
   "pygments_lexer": "ipython3",
   "version": "3.6.6"
  }
 },
 "nbformat": 4,
 "nbformat_minor": 2
}
