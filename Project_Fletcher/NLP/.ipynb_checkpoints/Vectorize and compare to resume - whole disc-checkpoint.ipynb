{
 "cells": [
  {
   "cell_type": "code",
   "execution_count": 16,
   "metadata": {},
   "outputs": [],
   "source": [
    "import pickle\n",
    "import pandas as pd\n",
    "import nltk\n",
    "import numpy as np"
   ]
  },
  {
   "cell_type": "code",
   "execution_count": 2,
   "metadata": {},
   "outputs": [],
   "source": [
    "# Only need to do once \n",
    "# nltk.download()"
   ]
  },
  {
   "cell_type": "code",
   "execution_count": 3,
   "metadata": {},
   "outputs": [],
   "source": [
    "df = pickle.load( open( \"ds_features_df_30.pkl\", \"rb\" ) )"
   ]
  },
  {
   "cell_type": "code",
   "execution_count": 4,
   "metadata": {},
   "outputs": [],
   "source": [
    "df.columns = ['Rating', 'Job_title', 'Company', 'Location', 'Salary_range', 'Status', 'Job_description', 'Company_info', 'Other'] "
   ]
  },
  {
   "cell_type": "code",
   "execution_count": 104,
   "metadata": {},
   "outputs": [
    {
     "data": {
      "text/html": [
       "<div>\n",
       "<style scoped>\n",
       "    .dataframe tbody tr th:only-of-type {\n",
       "        vertical-align: middle;\n",
       "    }\n",
       "\n",
       "    .dataframe tbody tr th {\n",
       "        vertical-align: top;\n",
       "    }\n",
       "\n",
       "    .dataframe thead th {\n",
       "        text-align: right;\n",
       "    }\n",
       "</style>\n",
       "<table border=\"1\" class=\"dataframe\">\n",
       "  <thead>\n",
       "    <tr style=\"text-align: right;\">\n",
       "      <th></th>\n",
       "      <th>Rating</th>\n",
       "      <th>Job_title</th>\n",
       "      <th>Company</th>\n",
       "      <th>Location</th>\n",
       "      <th>Salary_range</th>\n",
       "      <th>Status</th>\n",
       "      <th>Job_description</th>\n",
       "      <th>Company_info</th>\n",
       "      <th>Other</th>\n",
       "    </tr>\n",
       "  </thead>\n",
       "  <tbody>\n",
       "    <tr>\n",
       "      <th>0</th>\n",
       "      <td>2.9</td>\n",
       "      <td>Data Scientist</td>\n",
       "      <td>Spectro Scientific</td>\n",
       "      <td>Chelmsford, MA</td>\n",
       "      <td></td>\n",
       "      <td>We're Hiring</td>\n",
       "      <td>Spectro Scientific is seeking a Data Scientist...</td>\n",
       "      <td>Overview\\nHeadquartersChelmsford, MA\\nSize51 t...</td>\n",
       "      <td>NaN</td>\n",
       "    </tr>\n",
       "    <tr>\n",
       "      <th>1</th>\n",
       "      <td>5.0</td>\n",
       "      <td>Data Scientist</td>\n",
       "      <td>Steady</td>\n",
       "      <td>Atlanta, GA</td>\n",
       "      <td></td>\n",
       "      <td>We're Hiring</td>\n",
       "      <td>Steady helps users make more money - we allow ...</td>\n",
       "      <td>Overview\\nHeadquartersAtlanta, GA\\nSize1 to 50...</td>\n",
       "      <td>NaN</td>\n",
       "    </tr>\n",
       "    <tr>\n",
       "      <th>2</th>\n",
       "      <td>3.8</td>\n",
       "      <td>Data Scientist</td>\n",
       "      <td>Colgate-Palmolive</td>\n",
       "      <td>Topeka, KS</td>\n",
       "      <td></td>\n",
       "      <td>14 days ago</td>\n",
       "      <td>Work that matters, fueled by passion for pets!...</td>\n",
       "      <td>Overview\\nHeadquartersNew York, NY\\nSize10000+...</td>\n",
       "      <td>NaN</td>\n",
       "    </tr>\n",
       "    <tr>\n",
       "      <th>3</th>\n",
       "      <td>4.7</td>\n",
       "      <td>Data Scientist</td>\n",
       "      <td>Grand Rounds</td>\n",
       "      <td>San Francisco, CA</td>\n",
       "      <td>$139k-$193k(Glassdoor Est.)</td>\n",
       "      <td>We're Hiring</td>\n",
       "      <td>The Role:\\n\\nData Scientists at Grand Rounds w...</td>\n",
       "      <td>Overview\\nHeadquartersSan Francisco, CA\\nSize2...</td>\n",
       "      <td>NaN</td>\n",
       "    </tr>\n",
       "    <tr>\n",
       "      <th>4</th>\n",
       "      <td>2.7</td>\n",
       "      <td>Data Scientist</td>\n",
       "      <td>Simple</td>\n",
       "      <td>Portland, OR</td>\n",
       "      <td>$95k-$135k(Glassdoor Est.)</td>\n",
       "      <td>Hot</td>\n",
       "      <td>The Company:\\n\\nWe're a tech company that's ch...</td>\n",
       "      <td>Overview\\nHeadquartersPortland, OR\\nSize201 to...</td>\n",
       "      <td>NaN</td>\n",
       "    </tr>\n",
       "    <tr>\n",
       "      <th>5</th>\n",
       "      <td>4.5</td>\n",
       "      <td>Data Scientist</td>\n",
       "      <td>Viral Launch</td>\n",
       "      <td>Indianapolis, IN</td>\n",
       "      <td></td>\n",
       "      <td>Hot</td>\n",
       "      <td>Apply\\n\\nDescription\\n\\nViral Launch is search...</td>\n",
       "      <td>Overview\\nHeadquartersIndianapolis, IN\\nSize51...</td>\n",
       "      <td>NaN</td>\n",
       "    </tr>\n",
       "    <tr>\n",
       "      <th>6</th>\n",
       "      <td>3.1</td>\n",
       "      <td>Data Scientist</td>\n",
       "      <td>Rainforest Alliance</td>\n",
       "      <td>United States</td>\n",
       "      <td></td>\n",
       "      <td>Hot</td>\n",
       "      <td>The consultancy will support Rainforest Allian...</td>\n",
       "      <td>Overview\\nHeadquartersNew York, NY\\nSize51 to ...</td>\n",
       "      <td>NaN</td>\n",
       "    </tr>\n",
       "    <tr>\n",
       "      <th>7</th>\n",
       "      <td>3.9</td>\n",
       "      <td>Data Scientist</td>\n",
       "      <td>Mars</td>\n",
       "      <td>Chicago, IL</td>\n",
       "      <td>$110k-$164k(Glassdoor Est.)</td>\n",
       "      <td>6 days ago</td>\n",
       "      <td>Apply now »\\nApply now\\n\\nStart\\n\\nPlease wait...</td>\n",
       "      <td>Overview\\nHeadquartersMc Lean, VA\\nSize10000+ ...</td>\n",
       "      <td>NaN</td>\n",
       "    </tr>\n",
       "    <tr>\n",
       "      <th>8</th>\n",
       "      <td>3.6</td>\n",
       "      <td>Data Scientist</td>\n",
       "      <td>Quicken Loans</td>\n",
       "      <td>Detroit, MI</td>\n",
       "      <td>$103k-$155k(Glassdoor Est.)</td>\n",
       "      <td>We're Hiring</td>\n",
       "      <td>Who We Are\\n\\nWe’re America’s largest mortgage...</td>\n",
       "      <td>Overview\\nHeadquartersDetroit, MI\\nSize10000+ ...</td>\n",
       "      <td>NaN</td>\n",
       "    </tr>\n",
       "    <tr>\n",
       "      <th>9</th>\n",
       "      <td>3.4</td>\n",
       "      <td>Data Scientist</td>\n",
       "      <td>Banner Health</td>\n",
       "      <td>Phoenix, AZ</td>\n",
       "      <td>$73k-$110k(Glassdoor Est.)</td>\n",
       "      <td>22 days ago</td>\n",
       "      <td>Careers Center | Data Scientist\\nPlease Enable...</td>\n",
       "      <td>Overview\\nHeadquartersPhoenix, AZ\\nSize10000+ ...</td>\n",
       "      <td>NaN</td>\n",
       "    </tr>\n",
       "    <tr>\n",
       "      <th>10</th>\n",
       "      <td>3.7</td>\n",
       "      <td>Data Scientist</td>\n",
       "      <td>Akamai</td>\n",
       "      <td>Santa Clara, CA</td>\n",
       "      <td>$129k-$180k(Glassdoor Est.)</td>\n",
       "      <td>1 day ago</td>\n",
       "      <td>About the Job\\n\\nIf you have a deep passion fo...</td>\n",
       "      <td>Overview\\nHeadquartersCambridge, MA\\nSize5001 ...</td>\n",
       "      <td>NaN</td>\n",
       "    </tr>\n",
       "    <tr>\n",
       "      <th>11</th>\n",
       "      <td>4.3</td>\n",
       "      <td>Data Scientist</td>\n",
       "      <td>Simple Energy</td>\n",
       "      <td>Boulder, CO</td>\n",
       "      <td>$97k-$138k(Glassdoor Est.)</td>\n",
       "      <td>5 days ago</td>\n",
       "      <td>We are searching for an experienced, passionat...</td>\n",
       "      <td>Overview\\nHeadquartersBoulder, CO\\nSize1 to 50...</td>\n",
       "      <td>NaN</td>\n",
       "    </tr>\n",
       "    <tr>\n",
       "      <th>12</th>\n",
       "      <td>4.9</td>\n",
       "      <td>Data Scientist</td>\n",
       "      <td>Qventus</td>\n",
       "      <td>Mountain View, CA</td>\n",
       "      <td></td>\n",
       "      <td>27 days ago</td>\n",
       "      <td>Want to unlock insights from data to help doct...</td>\n",
       "      <td>Overview\\nHeadquartersMountain View, CA\\nSize5...</td>\n",
       "      <td>NaN</td>\n",
       "    </tr>\n",
       "    <tr>\n",
       "      <th>13</th>\n",
       "      <td>4.1</td>\n",
       "      <td>Data Scientist</td>\n",
       "      <td>Grid Dynamics</td>\n",
       "      <td>Atlanta, GA</td>\n",
       "      <td>$94k-$132k(Glassdoor Est.)</td>\n",
       "      <td>1 day ago</td>\n",
       "      <td>We are seeking a Data Science engineer for joi...</td>\n",
       "      <td>Overview\\nHeadquartersSan Ramon, CA\\nSize1001 ...</td>\n",
       "      <td>NaN</td>\n",
       "    </tr>\n",
       "    <tr>\n",
       "      <th>14</th>\n",
       "      <td>3.0</td>\n",
       "      <td>Data Scientist</td>\n",
       "      <td>PPL</td>\n",
       "      <td>Allentown, PA</td>\n",
       "      <td>$66k-$105k(Glassdoor Est.)</td>\n",
       "      <td>12 days ago</td>\n",
       "      <td>Title\\nData Scientist\\n\\n25-Oct-2018\\n\\n25-Oct...</td>\n",
       "      <td>Overview\\nHeadquartersAllentown, PA\\nSize10000...</td>\n",
       "      <td>NaN</td>\n",
       "    </tr>\n",
       "    <tr>\n",
       "      <th>15</th>\n",
       "      <td>4.0</td>\n",
       "      <td>Data Scientist</td>\n",
       "      <td>Lake Trust Credit Union</td>\n",
       "      <td>Brighton, MI</td>\n",
       "      <td>$89k-$135k(Glassdoor Est.)</td>\n",
       "      <td>14 days ago</td>\n",
       "      <td>Data Scientist\\n\\nLake Trust’s Business Intell...</td>\n",
       "      <td>Overview\\nHeadquartersBrighton, MI\\nSize201 to...</td>\n",
       "      <td>NaN</td>\n",
       "    </tr>\n",
       "    <tr>\n",
       "      <th>16</th>\n",
       "      <td>Data Scientist</td>\n",
       "      <td>Figure – San Francisco, CA</td>\n",
       "      <td>7 days ago</td>\n",
       "      <td>About the Role\\n\\nFigure is a financial techno...</td>\n",
       "      <td>Overview\\nHeadquartersSan Francisco, CA\\nSize5...</td>\n",
       "      <td>NaN</td>\n",
       "      <td>NaN</td>\n",
       "      <td>NaN</td>\n",
       "      <td>NaN</td>\n",
       "    </tr>\n",
       "    <tr>\n",
       "      <th>17</th>\n",
       "      <td>3.0</td>\n",
       "      <td>Data Scientist</td>\n",
       "      <td>EagleView Technologies</td>\n",
       "      <td>Bellevue, WA</td>\n",
       "      <td>$87k-$122k(Glassdoor Est.)</td>\n",
       "      <td>7 days ago</td>\n",
       "      <td>We are looking for talented Data Scientists to...</td>\n",
       "      <td>Overview\\nHeadquartersBothell, WA\\nSize501 to ...</td>\n",
       "      <td>NaN</td>\n",
       "    </tr>\n",
       "    <tr>\n",
       "      <th>18</th>\n",
       "      <td>3.9</td>\n",
       "      <td>Data Scientist</td>\n",
       "      <td>Alliant Credit Union</td>\n",
       "      <td>Rolling Meadows, IL</td>\n",
       "      <td>$117k-$174k(Glassdoor Est.)</td>\n",
       "      <td>14 days ago</td>\n",
       "      <td>Start a Rewarding Career with Alliant\\n\\nWhy A...</td>\n",
       "      <td>Overview\\nHeadquartersChicago, IL\\nSize201 to ...</td>\n",
       "      <td>NaN</td>\n",
       "    </tr>\n",
       "    <tr>\n",
       "      <th>19</th>\n",
       "      <td>3.8</td>\n",
       "      <td>Data Scientist</td>\n",
       "      <td>Dell</td>\n",
       "      <td>Round Rock, TX</td>\n",
       "      <td>$90k-$127k(Glassdoor Est.)</td>\n",
       "      <td>15 days ago</td>\n",
       "      <td>Dell provides the technology that transforms t...</td>\n",
       "      <td>Overview\\nHeadquartersRound Rock, TX\\nSize1000...</td>\n",
       "      <td>NaN</td>\n",
       "    </tr>\n",
       "    <tr>\n",
       "      <th>20</th>\n",
       "      <td>4.3</td>\n",
       "      <td>Data Scientist</td>\n",
       "      <td>Red Gate Group LTD</td>\n",
       "      <td>Reston, VA</td>\n",
       "      <td></td>\n",
       "      <td>11 days ago</td>\n",
       "      <td>POSITION: Data Scientist\\n\\nLOCATION: Reston, ...</td>\n",
       "      <td>Overview\\nHeadquartersChantilly, VA\\nSize1 to ...</td>\n",
       "      <td>NaN</td>\n",
       "    </tr>\n",
       "    <tr>\n",
       "      <th>21</th>\n",
       "      <td>3.6</td>\n",
       "      <td>Data Scientist</td>\n",
       "      <td>TIBCO Software</td>\n",
       "      <td>Seattle, WA</td>\n",
       "      <td>$121k-$168k(Glassdoor Est.)</td>\n",
       "      <td>13 days ago</td>\n",
       "      <td>Our Data Science team are central to our globa...</td>\n",
       "      <td>Overview\\nHeadquartersPalo Alto, CA\\nSize1001 ...</td>\n",
       "      <td>NaN</td>\n",
       "    </tr>\n",
       "    <tr>\n",
       "      <th>22</th>\n",
       "      <td>2.3</td>\n",
       "      <td>Data Scientist</td>\n",
       "      <td>Numerator</td>\n",
       "      <td>San Francisco, CA</td>\n",
       "      <td></td>\n",
       "      <td>7 days ago</td>\n",
       "      <td>About This Role\\n\\nThis data scientist positio...</td>\n",
       "      <td>Overview\\nHeadquartersChicago, IL\\nSize1001 to...</td>\n",
       "      <td>NaN</td>\n",
       "    </tr>\n",
       "    <tr>\n",
       "      <th>23</th>\n",
       "      <td>3.9</td>\n",
       "      <td>Data Scientist</td>\n",
       "      <td>TrueAccord</td>\n",
       "      <td>San Francisco, CA</td>\n",
       "      <td>$131k-$182k(Glassdoor Est.)</td>\n",
       "      <td>Today</td>\n",
       "      <td>Why TrueAccord?\\n\\nDebt collection is failing ...</td>\n",
       "      <td>Overview\\nHeadquartersSan Francisco, CA\\nSize5...</td>\n",
       "      <td>NaN</td>\n",
       "    </tr>\n",
       "    <tr>\n",
       "      <th>24</th>\n",
       "      <td>4.9</td>\n",
       "      <td>Data Scientist</td>\n",
       "      <td>Schireson</td>\n",
       "      <td>Boston, MA</td>\n",
       "      <td></td>\n",
       "      <td>20 days ago</td>\n",
       "      <td>Who we're looking for:\\n\\nWe are looking for a...</td>\n",
       "      <td>Overview\\nHeadquartersNew York, NY\\nSize51 to ...</td>\n",
       "      <td>NaN</td>\n",
       "    </tr>\n",
       "    <tr>\n",
       "      <th>25</th>\n",
       "      <td>3.6</td>\n",
       "      <td>Senior Data Scientist</td>\n",
       "      <td>Farfetch</td>\n",
       "      <td>New York, NY</td>\n",
       "      <td>$110k-$154k(Glassdoor Est.)</td>\n",
       "      <td>Today</td>\n",
       "      <td>Unlike anything in the world of fashion and te...</td>\n",
       "      <td>Overview\\nHeadquartersLondon, United Kingdom\\n...</td>\n",
       "      <td>NaN</td>\n",
       "    </tr>\n",
       "    <tr>\n",
       "      <th>26</th>\n",
       "      <td>3.4</td>\n",
       "      <td>Data Scientist</td>\n",
       "      <td>Fora Financial</td>\n",
       "      <td>New York, NY</td>\n",
       "      <td>$70k-$114k(Glassdoor Est.)</td>\n",
       "      <td>17 days ago</td>\n",
       "      <td>Fora Financial, located in NYC, is a leading f...</td>\n",
       "      <td>Overview\\nHeadquartersNew York, NY\\nSize51 to ...</td>\n",
       "      <td>NaN</td>\n",
       "    </tr>\n",
       "    <tr>\n",
       "      <th>27</th>\n",
       "      <td>4.7</td>\n",
       "      <td>Data Scientist</td>\n",
       "      <td>Turnberry Solutions</td>\n",
       "      <td>Philadelphia, PA</td>\n",
       "      <td></td>\n",
       "      <td>1 day ago</td>\n",
       "      <td>Data Scientist in Philadelphia, PA 19103\\n\\nIn...</td>\n",
       "      <td>Overview\\nHeadquartersBlue Bell, PA\\nSize501 t...</td>\n",
       "      <td>NaN</td>\n",
       "    </tr>\n",
       "    <tr>\n",
       "      <th>28</th>\n",
       "      <td>4.2</td>\n",
       "      <td>Sr. Data Scientist</td>\n",
       "      <td>Rubicon Global</td>\n",
       "      <td>Atlanta, GA</td>\n",
       "      <td>$92k-$134k(Glassdoor Est.)</td>\n",
       "      <td>13 days ago</td>\n",
       "      <td>We are seeking a Sr. Data Scientist to join ou...</td>\n",
       "      <td>Overview\\nHeadquartersAtlanta, GA\\nSize201 to ...</td>\n",
       "      <td>NaN</td>\n",
       "    </tr>\n",
       "    <tr>\n",
       "      <th>29</th>\n",
       "      <td>4.7</td>\n",
       "      <td>Data Scientist, Analytics</td>\n",
       "      <td>Slack</td>\n",
       "      <td>San Francisco, CA</td>\n",
       "      <td>$132k-$184k(Glassdoor Est.)</td>\n",
       "      <td>New</td>\n",
       "      <td>Slack is looking for experienced analysts to j...</td>\n",
       "      <td>Overview\\nHeadquartersSan Francisco, CA\\nSize1...</td>\n",
       "      <td>NaN</td>\n",
       "    </tr>\n",
       "    <tr>\n",
       "      <th>...</th>\n",
       "      <td>...</td>\n",
       "      <td>...</td>\n",
       "      <td>...</td>\n",
       "      <td>...</td>\n",
       "      <td>...</td>\n",
       "      <td>...</td>\n",
       "      <td>...</td>\n",
       "      <td>...</td>\n",
       "      <td>...</td>\n",
       "    </tr>\n",
       "    <tr>\n",
       "      <th>840</th>\n",
       "      <td>2.9</td>\n",
       "      <td>Senior Research Scientist, Learning, Assessmen...</td>\n",
       "      <td>ACT</td>\n",
       "      <td>Iowa City, IA</td>\n",
       "      <td></td>\n",
       "      <td>Today</td>\n",
       "      <td>Overview\\nACT is a nonprofit organization help...</td>\n",
       "      <td>Overview\\nHeadquartersIowa City, IA\\nSize1001 ...</td>\n",
       "      <td>NaN</td>\n",
       "    </tr>\n",
       "    <tr>\n",
       "      <th>841</th>\n",
       "      <td>3.8</td>\n",
       "      <td>Senior Scientist</td>\n",
       "      <td>GlaxoSmithKline</td>\n",
       "      <td>Harrisburg, PA</td>\n",
       "      <td>$65k-$94k(Glassdoor Est.)</td>\n",
       "      <td>We're Hiring</td>\n",
       "      <td>Your Responsibilities:\\nThe current position i...</td>\n",
       "      <td>Overview\\nHeadquartersBrentford, United Kingdo...</td>\n",
       "      <td>NaN</td>\n",
       "    </tr>\n",
       "    <tr>\n",
       "      <th>842</th>\n",
       "      <td>3.8</td>\n",
       "      <td>Deloitte Global- Data Scientist</td>\n",
       "      <td>Deloitte</td>\n",
       "      <td>New York, NY</td>\n",
       "      <td>$128k-$203k(Glassdoor Est.)</td>\n",
       "      <td>Hot</td>\n",
       "      <td>Position summary\\nDeloitte leads with purpose,...</td>\n",
       "      <td>Overview\\nHeadquartersNew York, NY\\nSize10000+...</td>\n",
       "      <td>NaN</td>\n",
       "    </tr>\n",
       "    <tr>\n",
       "      <th>843</th>\n",
       "      <td>3.8</td>\n",
       "      <td>Data Scientist, Customer Interests &amp; Personali...</td>\n",
       "      <td>Amazon</td>\n",
       "      <td>Santa Clara, CA</td>\n",
       "      <td>$139k-$196k(Glassdoor Est.)</td>\n",
       "      <td>We're Hiring</td>\n",
       "      <td>Job Description\\n\\nAlexa Household Organizatio...</td>\n",
       "      <td>Overview\\nHeadquartersSeattle, WA\\nSize10000+ ...</td>\n",
       "      <td>NaN</td>\n",
       "    </tr>\n",
       "    <tr>\n",
       "      <th>844</th>\n",
       "      <td>4.4</td>\n",
       "      <td>Data Scientist</td>\n",
       "      <td>NuWave Solutions</td>\n",
       "      <td>Springfield, MO</td>\n",
       "      <td>$78k-$127k(Glassdoor Est.)</td>\n",
       "      <td>Hot</td>\n",
       "      <td>Data Scientist\\n\\nPosition Description\\n\\nThe ...</td>\n",
       "      <td>Overview\\nHeadquartersMc Lean, VA\\nSize1 to 50...</td>\n",
       "      <td>NaN</td>\n",
       "    </tr>\n",
       "    <tr>\n",
       "      <th>845</th>\n",
       "      <td>4.5</td>\n",
       "      <td>Data Scientist</td>\n",
       "      <td>ApTask</td>\n",
       "      <td>Durham, NC</td>\n",
       "      <td>$101k-$151k(Glassdoor Est.)</td>\n",
       "      <td>30+ days ago</td>\n",
       "      <td>Experienced Data Scientist in the areas of Adv...</td>\n",
       "      <td>Overview\\nHeadquartersIselin, NJ\\nSize201 to 5...</td>\n",
       "      <td>NaN</td>\n",
       "    </tr>\n",
       "    <tr>\n",
       "      <th>846</th>\n",
       "      <td>4.3</td>\n",
       "      <td>Data Scientist</td>\n",
       "      <td>Boston Consulting Group</td>\n",
       "      <td>Seattle, WA</td>\n",
       "      <td>$130k-$187k(Glassdoor Est.)</td>\n",
       "      <td>New</td>\n",
       "      <td>Data Scientist\\n\\n30-Oct-2018\\n\\nPosition Summ...</td>\n",
       "      <td>Overview\\nHeadquartersBoston, MA\\nSizeUnknown\\...</td>\n",
       "      <td>NaN</td>\n",
       "    </tr>\n",
       "    <tr>\n",
       "      <th>847</th>\n",
       "      <td></td>\n",
       "      <td>Data Scientist</td>\n",
       "      <td>Mayfield</td>\n",
       "      <td>Illinois City, IL</td>\n",
       "      <td></td>\n",
       "      <td>New</td>\n",
       "      <td>About The Position BigPanda helps teams which ...</td>\n",
       "      <td>Overview\\nHeadquartersMenlo Park, CA\\nSize1 to...</td>\n",
       "      <td>NaN</td>\n",
       "    </tr>\n",
       "    <tr>\n",
       "      <th>848</th>\n",
       "      <td>4.4</td>\n",
       "      <td>Data Scientist</td>\n",
       "      <td>Envision LLC</td>\n",
       "      <td>Saint Louis, MO</td>\n",
       "      <td>$74k-$114k(Glassdoor Est.)</td>\n",
       "      <td>Hot</td>\n",
       "      <td>We are growing! We are actively seeking a Data...</td>\n",
       "      <td>Overview\\nHeadquartersSaint Louis, MO\\nSize201...</td>\n",
       "      <td>NaN</td>\n",
       "    </tr>\n",
       "    <tr>\n",
       "      <th>849</th>\n",
       "      <td></td>\n",
       "      <td>Data Scientist</td>\n",
       "      <td>Clark Davis Associates</td>\n",
       "      <td>Morristown, NJ</td>\n",
       "      <td></td>\n",
       "      <td>30+ days ago</td>\n",
       "      <td>Data Scientist (BC)\\n\\nMorristown, N.J.\\n\\n110...</td>\n",
       "      <td>Overview\\nHeadquartersParsippany, NJ\\nSize1 to...</td>\n",
       "      <td>NaN</td>\n",
       "    </tr>\n",
       "    <tr>\n",
       "      <th>850</th>\n",
       "      <td>4.0</td>\n",
       "      <td>Data Scientist</td>\n",
       "      <td>Better Hire</td>\n",
       "      <td>Birmingham, AL</td>\n",
       "      <td></td>\n",
       "      <td>27 days ago</td>\n",
       "      <td>We are looking for a Data Scientist to analyze...</td>\n",
       "      <td>Overview\\nHeadquartersBirmingham, AL\\nSize1 to...</td>\n",
       "      <td>NaN</td>\n",
       "    </tr>\n",
       "    <tr>\n",
       "      <th>851</th>\n",
       "      <td>3.6</td>\n",
       "      <td>Data Scientist</td>\n",
       "      <td>LMI</td>\n",
       "      <td>Austin, TX</td>\n",
       "      <td>$81k-$123k(Glassdoor Est.)</td>\n",
       "      <td>12 days ago</td>\n",
       "      <td>Position is on the staff of a not-for-profit g...</td>\n",
       "      <td>Overview\\nHeadquartersTysons, VA\\nSize1001 to ...</td>\n",
       "      <td>NaN</td>\n",
       "    </tr>\n",
       "    <tr>\n",
       "      <th>852</th>\n",
       "      <td>3.6</td>\n",
       "      <td>Data Scientist</td>\n",
       "      <td>Goken America</td>\n",
       "      <td>Detroit, MI</td>\n",
       "      <td>$117k-$172k(Glassdoor Est.)</td>\n",
       "      <td>Today</td>\n",
       "      <td>Overview\\n\\nHeadquartered in Dublin, Ohio, Gok...</td>\n",
       "      <td>Overview\\nHeadquartersDublin, OH\\nSize51 to 20...</td>\n",
       "      <td>NaN</td>\n",
       "    </tr>\n",
       "    <tr>\n",
       "      <th>853</th>\n",
       "      <td>4.8</td>\n",
       "      <td>Data Scientist</td>\n",
       "      <td>Hunter International</td>\n",
       "      <td>Newark, DE</td>\n",
       "      <td>$61k-$97k(Glassdoor Est.)</td>\n",
       "      <td>7 days ago</td>\n",
       "      <td>Data Scientist\\nNewark, DE\\n$54-56/hour\\nData ...</td>\n",
       "      <td>Overview\\nHeadquartersAvon, OH\\nSize201 to 500...</td>\n",
       "      <td>NaN</td>\n",
       "    </tr>\n",
       "    <tr>\n",
       "      <th>854</th>\n",
       "      <td>3.6</td>\n",
       "      <td>Data Scientist</td>\n",
       "      <td>Raytheon</td>\n",
       "      <td>Dulles, VA</td>\n",
       "      <td>$97k-$146k(Glassdoor Est.)</td>\n",
       "      <td>14 days ago</td>\n",
       "      <td>Raytheon is searching for a Data Scientist who...</td>\n",
       "      <td>Overview\\nHeadquartersWaltham, MA\\nSize10000+ ...</td>\n",
       "      <td>NaN</td>\n",
       "    </tr>\n",
       "    <tr>\n",
       "      <th>855</th>\n",
       "      <td>4.8</td>\n",
       "      <td>Data Scientist</td>\n",
       "      <td>Convergence Consulting Group</td>\n",
       "      <td>Tampa, FL</td>\n",
       "      <td>$82k-$123k(Glassdoor Est.)</td>\n",
       "      <td>18 days ago</td>\n",
       "      <td>Data Scientist\\nAre you an analytics leader pa...</td>\n",
       "      <td>Overview\\nHeadquartersTampa, FL\\nSize51 to 200...</td>\n",
       "      <td>NaN</td>\n",
       "    </tr>\n",
       "    <tr>\n",
       "      <th>856</th>\n",
       "      <td>3.6</td>\n",
       "      <td>Data Scientist</td>\n",
       "      <td>Flexton Inc</td>\n",
       "      <td>Santa Clara, CA</td>\n",
       "      <td>$78k-$111k(Glassdoor Est.)</td>\n",
       "      <td>Today</td>\n",
       "      <td>Skill: We are looking for a Data Scientist who...</td>\n",
       "      <td>Overview\\nHeadquartersSan Jose, CA\\nSize51 to ...</td>\n",
       "      <td>NaN</td>\n",
       "    </tr>\n",
       "    <tr>\n",
       "      <th>857</th>\n",
       "      <td>3.3</td>\n",
       "      <td>Data Scientist</td>\n",
       "      <td>Edelman</td>\n",
       "      <td>Chicago, IL</td>\n",
       "      <td>$80k-$119k(Glassdoor Est.)</td>\n",
       "      <td>26 days ago</td>\n",
       "      <td>Edelman Intelligence is the strategic insights...</td>\n",
       "      <td>Overview\\nHeadquartersNew York, NY\\nSize5001 t...</td>\n",
       "      <td>NaN</td>\n",
       "    </tr>\n",
       "    <tr>\n",
       "      <th>858</th>\n",
       "      <td>3.1</td>\n",
       "      <td>Data Scientist</td>\n",
       "      <td>CNH Industrial N.V.</td>\n",
       "      <td>Burr Ridge, IL</td>\n",
       "      <td>$111k-$164k(Glassdoor Est.)</td>\n",
       "      <td>21 days ago</td>\n",
       "      <td>Through its people and brands, CNH Industrial ...</td>\n",
       "      <td>Overview\\nHeadquartersBurr Ridge, IL\\nSize5001...</td>\n",
       "      <td>NaN</td>\n",
       "    </tr>\n",
       "    <tr>\n",
       "      <th>859</th>\n",
       "      <td>3.5</td>\n",
       "      <td>Data Scientist</td>\n",
       "      <td>NICE</td>\n",
       "      <td>Chicago, IL</td>\n",
       "      <td>$104k-$145k(Glassdoor Est.)</td>\n",
       "      <td>20 days ago</td>\n",
       "      <td>At Mattersight Data Scientists serve as subjec...</td>\n",
       "      <td>Overview\\nHeadquartersRaanana, Israel\\nSize100...</td>\n",
       "      <td>NaN</td>\n",
       "    </tr>\n",
       "    <tr>\n",
       "      <th>860</th>\n",
       "      <td>3.6</td>\n",
       "      <td>Business Intelligence Data Analyst</td>\n",
       "      <td>Fisher Investments</td>\n",
       "      <td>Vancouver, WA</td>\n",
       "      <td>$58k-$76k(Glassdoor Est.)</td>\n",
       "      <td>Today</td>\n",
       "      <td>Job Description\\nOverview\\nThe Opportunity:\\nT...</td>\n",
       "      <td>Overview\\nHeadquartersCamas, WA\\nSize1001 to 5...</td>\n",
       "      <td>NaN</td>\n",
       "    </tr>\n",
       "    <tr>\n",
       "      <th>861</th>\n",
       "      <td>4.5</td>\n",
       "      <td>Business Intelligence Analyst</td>\n",
       "      <td>Idaho Central Credit Union</td>\n",
       "      <td>Chubbuck, ID</td>\n",
       "      <td>$52k-$71k(Glassdoor Est.)</td>\n",
       "      <td>11 days ago</td>\n",
       "      <td>Do you enjoy working with other people and fin...</td>\n",
       "      <td>Overview\\nHeadquartersPocatello, ID\\nSize501 t...</td>\n",
       "      <td>NaN</td>\n",
       "    </tr>\n",
       "    <tr>\n",
       "      <th>862</th>\n",
       "      <td>4.0</td>\n",
       "      <td>Data Scientist</td>\n",
       "      <td>John Deere</td>\n",
       "      <td>San Francisco, CA</td>\n",
       "      <td>$117k-$163k(Glassdoor Est.)</td>\n",
       "      <td>11 days ago</td>\n",
       "      <td>There are 7 billion people on this planet. And...</td>\n",
       "      <td>Overview\\nHeadquartersMoline, IL\\nSize10000+ E...</td>\n",
       "      <td>NaN</td>\n",
       "    </tr>\n",
       "    <tr>\n",
       "      <th>863</th>\n",
       "      <td>3.5</td>\n",
       "      <td>Data Scientist</td>\n",
       "      <td>Hewlett Packard Enterprise Company</td>\n",
       "      <td>Santa Clara, CA</td>\n",
       "      <td>$114k-$160k(Glassdoor Est.)</td>\n",
       "      <td>26 days ago</td>\n",
       "      <td>Aruba, a Hewlett Packard Enterprise Company, i...</td>\n",
       "      <td>Overview\\nHeadquartersPalo Alto, CA\\nSize10000...</td>\n",
       "      <td>NaN</td>\n",
       "    </tr>\n",
       "    <tr>\n",
       "      <th>864</th>\n",
       "      <td></td>\n",
       "      <td>Data Scientist</td>\n",
       "      <td>Stride Search</td>\n",
       "      <td>United States</td>\n",
       "      <td></td>\n",
       "      <td>8 days ago</td>\n",
       "      <td>Work in a fast growing startup with unlimited ...</td>\n",
       "      <td>Overview\\nHeadquartersWestlake Village, CA\\nSi...</td>\n",
       "      <td>NaN</td>\n",
       "    </tr>\n",
       "    <tr>\n",
       "      <th>865</th>\n",
       "      <td>2.1</td>\n",
       "      <td>Data Scientist</td>\n",
       "      <td>Axis Capital Holdings</td>\n",
       "      <td>New York, NY</td>\n",
       "      <td>$129k-$191k(Glassdoor Est.)</td>\n",
       "      <td>12 days ago</td>\n",
       "      <td>This is your opportunity to join AXIS Capital ...</td>\n",
       "      <td>Overview\\nHeadquartersHamilton, Bermuda\\nSize1...</td>\n",
       "      <td>NaN</td>\n",
       "    </tr>\n",
       "    <tr>\n",
       "      <th>866</th>\n",
       "      <td>3.8</td>\n",
       "      <td>Data Scientist</td>\n",
       "      <td>ActiveCampaign</td>\n",
       "      <td>Chicago, IL</td>\n",
       "      <td>$80k-$116k(Glassdoor Est.)</td>\n",
       "      <td>8 days ago</td>\n",
       "      <td>ActiveCampaign is one of the fastest growing t...</td>\n",
       "      <td>Overview\\nHeadquartersChicago, IL\\nSize201 to ...</td>\n",
       "      <td>NaN</td>\n",
       "    </tr>\n",
       "    <tr>\n",
       "      <th>867</th>\n",
       "      <td>3.0</td>\n",
       "      <td>Data Scientist</td>\n",
       "      <td>Apptopia</td>\n",
       "      <td>Boston, MA</td>\n",
       "      <td>$71k-$103k(Glassdoor Est.)</td>\n",
       "      <td>9 days ago</td>\n",
       "      <td>**We are only considering local candidates at ...</td>\n",
       "      <td>Overview\\nHeadquartersBoston, MA\\nSize1 to 50 ...</td>\n",
       "      <td>NaN</td>\n",
       "    </tr>\n",
       "    <tr>\n",
       "      <th>868</th>\n",
       "      <td>3.6</td>\n",
       "      <td>Data Scientist</td>\n",
       "      <td>Spectraforce Technologies Inc</td>\n",
       "      <td>Menlo Park, CA</td>\n",
       "      <td></td>\n",
       "      <td>20 days ago</td>\n",
       "      <td>Title: Data Scientist\\n\\nLocation: Menlo Park,...</td>\n",
       "      <td>Overview\\nHeadquartersRaleigh, NC\\nSize501 to ...</td>\n",
       "      <td>NaN</td>\n",
       "    </tr>\n",
       "    <tr>\n",
       "      <th>869</th>\n",
       "      <td>3.6</td>\n",
       "      <td>Data Scientist</td>\n",
       "      <td>Yieldbot</td>\n",
       "      <td>Portland, OR</td>\n",
       "      <td>$92k-$149k(Glassdoor Est.)</td>\n",
       "      <td>Today</td>\n",
       "      <td>Data Scientist\\nLocation: Portland\\n\\nShare\\n\\...</td>\n",
       "      <td>Overview\\nHeadquartersNew York, NY\\nSize51 to ...</td>\n",
       "      <td>NaN</td>\n",
       "    </tr>\n",
       "  </tbody>\n",
       "</table>\n",
       "<p>870 rows × 9 columns</p>\n",
       "</div>"
      ],
      "text/plain": [
       "             Rating                                          Job_title  \\\n",
       "0               2.9                                     Data Scientist   \n",
       "1               5.0                                     Data Scientist   \n",
       "2               3.8                                     Data Scientist   \n",
       "3               4.7                                     Data Scientist   \n",
       "4               2.7                                     Data Scientist   \n",
       "5               4.5                                     Data Scientist   \n",
       "6               3.1                                     Data Scientist   \n",
       "7               3.9                                     Data Scientist   \n",
       "8               3.6                                     Data Scientist   \n",
       "9               3.4                                     Data Scientist   \n",
       "10              3.7                                     Data Scientist   \n",
       "11              4.3                                     Data Scientist   \n",
       "12              4.9                                     Data Scientist   \n",
       "13              4.1                                     Data Scientist   \n",
       "14              3.0                                     Data Scientist   \n",
       "15              4.0                                     Data Scientist   \n",
       "16   Data Scientist                         Figure – San Francisco, CA   \n",
       "17              3.0                                     Data Scientist   \n",
       "18              3.9                                     Data Scientist   \n",
       "19              3.8                                     Data Scientist   \n",
       "20              4.3                                     Data Scientist   \n",
       "21              3.6                                     Data Scientist   \n",
       "22              2.3                                     Data Scientist   \n",
       "23              3.9                                     Data Scientist   \n",
       "24              4.9                                     Data Scientist   \n",
       "25              3.6                              Senior Data Scientist   \n",
       "26              3.4                                     Data Scientist   \n",
       "27              4.7                                     Data Scientist   \n",
       "28              4.2                                 Sr. Data Scientist   \n",
       "29              4.7                          Data Scientist, Analytics   \n",
       "..              ...                                                ...   \n",
       "840             2.9  Senior Research Scientist, Learning, Assessmen...   \n",
       "841             3.8                                   Senior Scientist   \n",
       "842             3.8                    Deloitte Global- Data Scientist   \n",
       "843             3.8  Data Scientist, Customer Interests & Personali...   \n",
       "844             4.4                                     Data Scientist   \n",
       "845             4.5                                     Data Scientist   \n",
       "846             4.3                                     Data Scientist   \n",
       "847                                                     Data Scientist   \n",
       "848             4.4                                     Data Scientist   \n",
       "849                                                     Data Scientist   \n",
       "850             4.0                                     Data Scientist   \n",
       "851             3.6                                     Data Scientist   \n",
       "852             3.6                                     Data Scientist   \n",
       "853             4.8                                     Data Scientist   \n",
       "854             3.6                                     Data Scientist   \n",
       "855             4.8                                     Data Scientist   \n",
       "856             3.6                                     Data Scientist   \n",
       "857             3.3                                     Data Scientist   \n",
       "858             3.1                                     Data Scientist   \n",
       "859             3.5                                     Data Scientist   \n",
       "860             3.6                 Business Intelligence Data Analyst   \n",
       "861             4.5                      Business Intelligence Analyst   \n",
       "862             4.0                                     Data Scientist   \n",
       "863             3.5                                     Data Scientist   \n",
       "864                                                     Data Scientist   \n",
       "865             2.1                                     Data Scientist   \n",
       "866             3.8                                     Data Scientist   \n",
       "867             3.0                                     Data Scientist   \n",
       "868             3.6                                     Data Scientist   \n",
       "869             3.6                                     Data Scientist   \n",
       "\n",
       "                                Company  \\\n",
       "0                    Spectro Scientific   \n",
       "1                                Steady   \n",
       "2                     Colgate-Palmolive   \n",
       "3                          Grand Rounds   \n",
       "4                                Simple   \n",
       "5                          Viral Launch   \n",
       "6                   Rainforest Alliance   \n",
       "7                                  Mars   \n",
       "8                         Quicken Loans   \n",
       "9                         Banner Health   \n",
       "10                               Akamai   \n",
       "11                        Simple Energy   \n",
       "12                              Qventus   \n",
       "13                        Grid Dynamics   \n",
       "14                                  PPL   \n",
       "15              Lake Trust Credit Union   \n",
       "16                           7 days ago   \n",
       "17               EagleView Technologies   \n",
       "18                 Alliant Credit Union   \n",
       "19                                 Dell   \n",
       "20                   Red Gate Group LTD   \n",
       "21                       TIBCO Software   \n",
       "22                            Numerator   \n",
       "23                           TrueAccord   \n",
       "24                            Schireson   \n",
       "25                             Farfetch   \n",
       "26                       Fora Financial   \n",
       "27                  Turnberry Solutions   \n",
       "28                       Rubicon Global   \n",
       "29                                Slack   \n",
       "..                                  ...   \n",
       "840                                 ACT   \n",
       "841                     GlaxoSmithKline   \n",
       "842                            Deloitte   \n",
       "843                              Amazon   \n",
       "844                    NuWave Solutions   \n",
       "845                              ApTask   \n",
       "846             Boston Consulting Group   \n",
       "847                            Mayfield   \n",
       "848                        Envision LLC   \n",
       "849              Clark Davis Associates   \n",
       "850                         Better Hire   \n",
       "851                                 LMI   \n",
       "852                       Goken America   \n",
       "853                Hunter International   \n",
       "854                            Raytheon   \n",
       "855        Convergence Consulting Group   \n",
       "856                         Flexton Inc   \n",
       "857                             Edelman   \n",
       "858                 CNH Industrial N.V.   \n",
       "859                                NICE   \n",
       "860                  Fisher Investments   \n",
       "861          Idaho Central Credit Union   \n",
       "862                          John Deere   \n",
       "863  Hewlett Packard Enterprise Company   \n",
       "864                       Stride Search   \n",
       "865               Axis Capital Holdings   \n",
       "866                      ActiveCampaign   \n",
       "867                            Apptopia   \n",
       "868       Spectraforce Technologies Inc   \n",
       "869                            Yieldbot   \n",
       "\n",
       "                                              Location  \\\n",
       "0                                       Chelmsford, MA   \n",
       "1                                          Atlanta, GA   \n",
       "2                                           Topeka, KS   \n",
       "3                                    San Francisco, CA   \n",
       "4                                         Portland, OR   \n",
       "5                                     Indianapolis, IN   \n",
       "6                                        United States   \n",
       "7                                          Chicago, IL   \n",
       "8                                          Detroit, MI   \n",
       "9                                          Phoenix, AZ   \n",
       "10                                     Santa Clara, CA   \n",
       "11                                         Boulder, CO   \n",
       "12                                   Mountain View, CA   \n",
       "13                                         Atlanta, GA   \n",
       "14                                       Allentown, PA   \n",
       "15                                        Brighton, MI   \n",
       "16   About the Role\\n\\nFigure is a financial techno...   \n",
       "17                                        Bellevue, WA   \n",
       "18                                 Rolling Meadows, IL   \n",
       "19                                      Round Rock, TX   \n",
       "20                                          Reston, VA   \n",
       "21                                         Seattle, WA   \n",
       "22                                   San Francisco, CA   \n",
       "23                                   San Francisco, CA   \n",
       "24                                          Boston, MA   \n",
       "25                                        New York, NY   \n",
       "26                                        New York, NY   \n",
       "27                                    Philadelphia, PA   \n",
       "28                                         Atlanta, GA   \n",
       "29                                   San Francisco, CA   \n",
       "..                                                 ...   \n",
       "840                                      Iowa City, IA   \n",
       "841                                     Harrisburg, PA   \n",
       "842                                       New York, NY   \n",
       "843                                    Santa Clara, CA   \n",
       "844                                    Springfield, MO   \n",
       "845                                         Durham, NC   \n",
       "846                                        Seattle, WA   \n",
       "847                                  Illinois City, IL   \n",
       "848                                    Saint Louis, MO   \n",
       "849                                     Morristown, NJ   \n",
       "850                                     Birmingham, AL   \n",
       "851                                         Austin, TX   \n",
       "852                                        Detroit, MI   \n",
       "853                                         Newark, DE   \n",
       "854                                         Dulles, VA   \n",
       "855                                          Tampa, FL   \n",
       "856                                    Santa Clara, CA   \n",
       "857                                        Chicago, IL   \n",
       "858                                     Burr Ridge, IL   \n",
       "859                                        Chicago, IL   \n",
       "860                                      Vancouver, WA   \n",
       "861                                       Chubbuck, ID   \n",
       "862                                  San Francisco, CA   \n",
       "863                                    Santa Clara, CA   \n",
       "864                                      United States   \n",
       "865                                       New York, NY   \n",
       "866                                        Chicago, IL   \n",
       "867                                         Boston, MA   \n",
       "868                                     Menlo Park, CA   \n",
       "869                                       Portland, OR   \n",
       "\n",
       "                                          Salary_range        Status  \\\n",
       "0                                                       We're Hiring   \n",
       "1                                                       We're Hiring   \n",
       "2                                                        14 days ago   \n",
       "3                          $139k-$193k(Glassdoor Est.)  We're Hiring   \n",
       "4                           $95k-$135k(Glassdoor Est.)           Hot   \n",
       "5                                                                Hot   \n",
       "6                                                                Hot   \n",
       "7                          $110k-$164k(Glassdoor Est.)    6 days ago   \n",
       "8                          $103k-$155k(Glassdoor Est.)  We're Hiring   \n",
       "9                           $73k-$110k(Glassdoor Est.)   22 days ago   \n",
       "10                         $129k-$180k(Glassdoor Est.)     1 day ago   \n",
       "11                          $97k-$138k(Glassdoor Est.)    5 days ago   \n",
       "12                                                       27 days ago   \n",
       "13                          $94k-$132k(Glassdoor Est.)     1 day ago   \n",
       "14                          $66k-$105k(Glassdoor Est.)   12 days ago   \n",
       "15                          $89k-$135k(Glassdoor Est.)   14 days ago   \n",
       "16   Overview\\nHeadquartersSan Francisco, CA\\nSize5...           NaN   \n",
       "17                          $87k-$122k(Glassdoor Est.)    7 days ago   \n",
       "18                         $117k-$174k(Glassdoor Est.)   14 days ago   \n",
       "19                          $90k-$127k(Glassdoor Est.)   15 days ago   \n",
       "20                                                       11 days ago   \n",
       "21                         $121k-$168k(Glassdoor Est.)   13 days ago   \n",
       "22                                                        7 days ago   \n",
       "23                         $131k-$182k(Glassdoor Est.)         Today   \n",
       "24                                                       20 days ago   \n",
       "25                         $110k-$154k(Glassdoor Est.)         Today   \n",
       "26                          $70k-$114k(Glassdoor Est.)   17 days ago   \n",
       "27                                                         1 day ago   \n",
       "28                          $92k-$134k(Glassdoor Est.)   13 days ago   \n",
       "29                         $132k-$184k(Glassdoor Est.)           New   \n",
       "..                                                 ...           ...   \n",
       "840                                                            Today   \n",
       "841                          $65k-$94k(Glassdoor Est.)  We're Hiring   \n",
       "842                        $128k-$203k(Glassdoor Est.)           Hot   \n",
       "843                        $139k-$196k(Glassdoor Est.)  We're Hiring   \n",
       "844                         $78k-$127k(Glassdoor Est.)           Hot   \n",
       "845                        $101k-$151k(Glassdoor Est.)  30+ days ago   \n",
       "846                        $130k-$187k(Glassdoor Est.)           New   \n",
       "847                                                              New   \n",
       "848                         $74k-$114k(Glassdoor Est.)           Hot   \n",
       "849                                                     30+ days ago   \n",
       "850                                                      27 days ago   \n",
       "851                         $81k-$123k(Glassdoor Est.)   12 days ago   \n",
       "852                        $117k-$172k(Glassdoor Est.)         Today   \n",
       "853                          $61k-$97k(Glassdoor Est.)    7 days ago   \n",
       "854                         $97k-$146k(Glassdoor Est.)   14 days ago   \n",
       "855                         $82k-$123k(Glassdoor Est.)   18 days ago   \n",
       "856                         $78k-$111k(Glassdoor Est.)         Today   \n",
       "857                         $80k-$119k(Glassdoor Est.)   26 days ago   \n",
       "858                        $111k-$164k(Glassdoor Est.)   21 days ago   \n",
       "859                        $104k-$145k(Glassdoor Est.)   20 days ago   \n",
       "860                          $58k-$76k(Glassdoor Est.)         Today   \n",
       "861                          $52k-$71k(Glassdoor Est.)   11 days ago   \n",
       "862                        $117k-$163k(Glassdoor Est.)   11 days ago   \n",
       "863                        $114k-$160k(Glassdoor Est.)   26 days ago   \n",
       "864                                                       8 days ago   \n",
       "865                        $129k-$191k(Glassdoor Est.)   12 days ago   \n",
       "866                         $80k-$116k(Glassdoor Est.)    8 days ago   \n",
       "867                         $71k-$103k(Glassdoor Est.)    9 days ago   \n",
       "868                                                      20 days ago   \n",
       "869                         $92k-$149k(Glassdoor Est.)         Today   \n",
       "\n",
       "                                       Job_description  \\\n",
       "0    Spectro Scientific is seeking a Data Scientist...   \n",
       "1    Steady helps users make more money - we allow ...   \n",
       "2    Work that matters, fueled by passion for pets!...   \n",
       "3    The Role:\\n\\nData Scientists at Grand Rounds w...   \n",
       "4    The Company:\\n\\nWe're a tech company that's ch...   \n",
       "5    Apply\\n\\nDescription\\n\\nViral Launch is search...   \n",
       "6    The consultancy will support Rainforest Allian...   \n",
       "7    Apply now »\\nApply now\\n\\nStart\\n\\nPlease wait...   \n",
       "8    Who We Are\\n\\nWe’re America’s largest mortgage...   \n",
       "9    Careers Center | Data Scientist\\nPlease Enable...   \n",
       "10   About the Job\\n\\nIf you have a deep passion fo...   \n",
       "11   We are searching for an experienced, passionat...   \n",
       "12   Want to unlock insights from data to help doct...   \n",
       "13   We are seeking a Data Science engineer for joi...   \n",
       "14   Title\\nData Scientist\\n\\n25-Oct-2018\\n\\n25-Oct...   \n",
       "15   Data Scientist\\n\\nLake Trust’s Business Intell...   \n",
       "16                                                 NaN   \n",
       "17   We are looking for talented Data Scientists to...   \n",
       "18   Start a Rewarding Career with Alliant\\n\\nWhy A...   \n",
       "19   Dell provides the technology that transforms t...   \n",
       "20   POSITION: Data Scientist\\n\\nLOCATION: Reston, ...   \n",
       "21   Our Data Science team are central to our globa...   \n",
       "22   About This Role\\n\\nThis data scientist positio...   \n",
       "23   Why TrueAccord?\\n\\nDebt collection is failing ...   \n",
       "24   Who we're looking for:\\n\\nWe are looking for a...   \n",
       "25   Unlike anything in the world of fashion and te...   \n",
       "26   Fora Financial, located in NYC, is a leading f...   \n",
       "27   Data Scientist in Philadelphia, PA 19103\\n\\nIn...   \n",
       "28   We are seeking a Sr. Data Scientist to join ou...   \n",
       "29   Slack is looking for experienced analysts to j...   \n",
       "..                                                 ...   \n",
       "840  Overview\\nACT is a nonprofit organization help...   \n",
       "841  Your Responsibilities:\\nThe current position i...   \n",
       "842  Position summary\\nDeloitte leads with purpose,...   \n",
       "843  Job Description\\n\\nAlexa Household Organizatio...   \n",
       "844  Data Scientist\\n\\nPosition Description\\n\\nThe ...   \n",
       "845  Experienced Data Scientist in the areas of Adv...   \n",
       "846  Data Scientist\\n\\n30-Oct-2018\\n\\nPosition Summ...   \n",
       "847  About The Position BigPanda helps teams which ...   \n",
       "848  We are growing! We are actively seeking a Data...   \n",
       "849  Data Scientist (BC)\\n\\nMorristown, N.J.\\n\\n110...   \n",
       "850  We are looking for a Data Scientist to analyze...   \n",
       "851  Position is on the staff of a not-for-profit g...   \n",
       "852  Overview\\n\\nHeadquartered in Dublin, Ohio, Gok...   \n",
       "853  Data Scientist\\nNewark, DE\\n$54-56/hour\\nData ...   \n",
       "854  Raytheon is searching for a Data Scientist who...   \n",
       "855  Data Scientist\\nAre you an analytics leader pa...   \n",
       "856  Skill: We are looking for a Data Scientist who...   \n",
       "857  Edelman Intelligence is the strategic insights...   \n",
       "858  Through its people and brands, CNH Industrial ...   \n",
       "859  At Mattersight Data Scientists serve as subjec...   \n",
       "860  Job Description\\nOverview\\nThe Opportunity:\\nT...   \n",
       "861  Do you enjoy working with other people and fin...   \n",
       "862  There are 7 billion people on this planet. And...   \n",
       "863  Aruba, a Hewlett Packard Enterprise Company, i...   \n",
       "864  Work in a fast growing startup with unlimited ...   \n",
       "865  This is your opportunity to join AXIS Capital ...   \n",
       "866  ActiveCampaign is one of the fastest growing t...   \n",
       "867  **We are only considering local candidates at ...   \n",
       "868  Title: Data Scientist\\n\\nLocation: Menlo Park,...   \n",
       "869  Data Scientist\\nLocation: Portland\\n\\nShare\\n\\...   \n",
       "\n",
       "                                          Company_info Other  \n",
       "0    Overview\\nHeadquartersChelmsford, MA\\nSize51 t...   NaN  \n",
       "1    Overview\\nHeadquartersAtlanta, GA\\nSize1 to 50...   NaN  \n",
       "2    Overview\\nHeadquartersNew York, NY\\nSize10000+...   NaN  \n",
       "3    Overview\\nHeadquartersSan Francisco, CA\\nSize2...   NaN  \n",
       "4    Overview\\nHeadquartersPortland, OR\\nSize201 to...   NaN  \n",
       "5    Overview\\nHeadquartersIndianapolis, IN\\nSize51...   NaN  \n",
       "6    Overview\\nHeadquartersNew York, NY\\nSize51 to ...   NaN  \n",
       "7    Overview\\nHeadquartersMc Lean, VA\\nSize10000+ ...   NaN  \n",
       "8    Overview\\nHeadquartersDetroit, MI\\nSize10000+ ...   NaN  \n",
       "9    Overview\\nHeadquartersPhoenix, AZ\\nSize10000+ ...   NaN  \n",
       "10   Overview\\nHeadquartersCambridge, MA\\nSize5001 ...   NaN  \n",
       "11   Overview\\nHeadquartersBoulder, CO\\nSize1 to 50...   NaN  \n",
       "12   Overview\\nHeadquartersMountain View, CA\\nSize5...   NaN  \n",
       "13   Overview\\nHeadquartersSan Ramon, CA\\nSize1001 ...   NaN  \n",
       "14   Overview\\nHeadquartersAllentown, PA\\nSize10000...   NaN  \n",
       "15   Overview\\nHeadquartersBrighton, MI\\nSize201 to...   NaN  \n",
       "16                                                 NaN   NaN  \n",
       "17   Overview\\nHeadquartersBothell, WA\\nSize501 to ...   NaN  \n",
       "18   Overview\\nHeadquartersChicago, IL\\nSize201 to ...   NaN  \n",
       "19   Overview\\nHeadquartersRound Rock, TX\\nSize1000...   NaN  \n",
       "20   Overview\\nHeadquartersChantilly, VA\\nSize1 to ...   NaN  \n",
       "21   Overview\\nHeadquartersPalo Alto, CA\\nSize1001 ...   NaN  \n",
       "22   Overview\\nHeadquartersChicago, IL\\nSize1001 to...   NaN  \n",
       "23   Overview\\nHeadquartersSan Francisco, CA\\nSize5...   NaN  \n",
       "24   Overview\\nHeadquartersNew York, NY\\nSize51 to ...   NaN  \n",
       "25   Overview\\nHeadquartersLondon, United Kingdom\\n...   NaN  \n",
       "26   Overview\\nHeadquartersNew York, NY\\nSize51 to ...   NaN  \n",
       "27   Overview\\nHeadquartersBlue Bell, PA\\nSize501 t...   NaN  \n",
       "28   Overview\\nHeadquartersAtlanta, GA\\nSize201 to ...   NaN  \n",
       "29   Overview\\nHeadquartersSan Francisco, CA\\nSize1...   NaN  \n",
       "..                                                 ...   ...  \n",
       "840  Overview\\nHeadquartersIowa City, IA\\nSize1001 ...   NaN  \n",
       "841  Overview\\nHeadquartersBrentford, United Kingdo...   NaN  \n",
       "842  Overview\\nHeadquartersNew York, NY\\nSize10000+...   NaN  \n",
       "843  Overview\\nHeadquartersSeattle, WA\\nSize10000+ ...   NaN  \n",
       "844  Overview\\nHeadquartersMc Lean, VA\\nSize1 to 50...   NaN  \n",
       "845  Overview\\nHeadquartersIselin, NJ\\nSize201 to 5...   NaN  \n",
       "846  Overview\\nHeadquartersBoston, MA\\nSizeUnknown\\...   NaN  \n",
       "847  Overview\\nHeadquartersMenlo Park, CA\\nSize1 to...   NaN  \n",
       "848  Overview\\nHeadquartersSaint Louis, MO\\nSize201...   NaN  \n",
       "849  Overview\\nHeadquartersParsippany, NJ\\nSize1 to...   NaN  \n",
       "850  Overview\\nHeadquartersBirmingham, AL\\nSize1 to...   NaN  \n",
       "851  Overview\\nHeadquartersTysons, VA\\nSize1001 to ...   NaN  \n",
       "852  Overview\\nHeadquartersDublin, OH\\nSize51 to 20...   NaN  \n",
       "853  Overview\\nHeadquartersAvon, OH\\nSize201 to 500...   NaN  \n",
       "854  Overview\\nHeadquartersWaltham, MA\\nSize10000+ ...   NaN  \n",
       "855  Overview\\nHeadquartersTampa, FL\\nSize51 to 200...   NaN  \n",
       "856  Overview\\nHeadquartersSan Jose, CA\\nSize51 to ...   NaN  \n",
       "857  Overview\\nHeadquartersNew York, NY\\nSize5001 t...   NaN  \n",
       "858  Overview\\nHeadquartersBurr Ridge, IL\\nSize5001...   NaN  \n",
       "859  Overview\\nHeadquartersRaanana, Israel\\nSize100...   NaN  \n",
       "860  Overview\\nHeadquartersCamas, WA\\nSize1001 to 5...   NaN  \n",
       "861  Overview\\nHeadquartersPocatello, ID\\nSize501 t...   NaN  \n",
       "862  Overview\\nHeadquartersMoline, IL\\nSize10000+ E...   NaN  \n",
       "863  Overview\\nHeadquartersPalo Alto, CA\\nSize10000...   NaN  \n",
       "864  Overview\\nHeadquartersWestlake Village, CA\\nSi...   NaN  \n",
       "865  Overview\\nHeadquartersHamilton, Bermuda\\nSize1...   NaN  \n",
       "866  Overview\\nHeadquartersChicago, IL\\nSize201 to ...   NaN  \n",
       "867  Overview\\nHeadquartersBoston, MA\\nSize1 to 50 ...   NaN  \n",
       "868  Overview\\nHeadquartersRaleigh, NC\\nSize501 to ...   NaN  \n",
       "869  Overview\\nHeadquartersNew York, NY\\nSize51 to ...   NaN  \n",
       "\n",
       "[870 rows x 9 columns]"
      ]
     },
     "execution_count": 104,
     "metadata": {},
     "output_type": "execute_result"
    }
   ],
   "source": [
    "df.reset_index(drop = True, inplace = True)\n",
    "df"
   ]
  },
  {
   "cell_type": "code",
   "execution_count": 6,
   "metadata": {},
   "outputs": [],
   "source": [
    "#Using a subset for now\n",
    "job_descriptions = df['Job_description'].dropna()"
   ]
  },
  {
   "cell_type": "code",
   "execution_count": 7,
   "metadata": {},
   "outputs": [],
   "source": [
    "from sklearn.feature_extraction.text import CountVectorizer\n",
    "cv = CountVectorizer(\n",
    "    lowercase=True, \n",
    "    stop_words='english', \n",
    "    binary=True, \n",
    "    token_pattern = \"\\\\b[a-z][a-z]+\\\\b\",\n",
    "#    max_df = 0.5, # throws out too often (50% of docs)\n",
    "    min_df = 5, # throws out too infreq\n",
    "    ngram_range=(1,2)\n",
    ")\n",
    "X = cv.fit_transform(job_descriptions)\n",
    "X_cv = pd.DataFrame(X.toarray(), columns=cv.get_feature_names())"
   ]
  },
  {
   "cell_type": "code",
   "execution_count": 18,
   "metadata": {},
   "outputs": [],
   "source": [
    "vocab = np.array(cv.get_feature_names())\n",
    "# counts = np.array(tf.sum(0))[0,:]\n",
    "# vocab[np.argsort(-counts)[:100]]"
   ]
  },
  {
   "cell_type": "markdown",
   "metadata": {},
   "source": [
    "### LDA WITH skLearn"
   ]
  },
  {
   "cell_type": "code",
   "execution_count": 9,
   "metadata": {},
   "outputs": [],
   "source": [
    "from sklearn.decomposition import NMF, LatentDirichletAllocation"
   ]
  },
  {
   "cell_type": "code",
   "execution_count": 137,
   "metadata": {},
   "outputs": [],
   "source": [
    "n_components = 10\n",
    "beta = 0.01\n",
    "\n",
    "lda = LatentDirichletAllocation(learning_method='online',\n",
    "#                                 learning_decay=0.6,\n",
    "#                                 batch_size=256,\n",
    "#                                 learning_offset=1024,\n",
    "                                n_components=n_components,\n",
    "                                n_jobs=5,\n",
    "                                topic_word_prior=beta,\n",
    "                               )"
   ]
  },
  {
   "cell_type": "code",
   "execution_count": 138,
   "metadata": {},
   "outputs": [
    {
     "data": {
      "text/plain": [
       "LatentDirichletAllocation(batch_size=128, doc_topic_prior=None,\n",
       "             evaluate_every=-1, learning_decay=0.7,\n",
       "             learning_method='online', learning_offset=10.0,\n",
       "             max_doc_update_iter=100, max_iter=10, mean_change_tol=0.001,\n",
       "             n_components=10, n_jobs=5, n_topics=None, perp_tol=0.1,\n",
       "             random_state=None, topic_word_prior=0.01,\n",
       "             total_samples=1000000.0, verbose=0)"
      ]
     },
     "execution_count": 138,
     "metadata": {},
     "output_type": "execute_result"
    }
   ],
   "source": [
    "lda.fit(X_cv)"
   ]
  },
  {
   "cell_type": "code",
   "execution_count": 139,
   "metadata": {
    "scrolled": true
   },
   "outputs": [
    {
     "data": {
      "text/plain": [
       "5534.404394630772"
      ]
     },
     "execution_count": 139,
     "metadata": {},
     "output_type": "execute_result"
    }
   ],
   "source": [
    "lda.perplexity(X_cv)"
   ]
  },
  {
   "cell_type": "code",
   "execution_count": 140,
   "metadata": {},
   "outputs": [],
   "source": [
    "X_cv_lda = lda.transform(X)"
   ]
  },
  {
   "cell_type": "code",
   "execution_count": 141,
   "metadata": {},
   "outputs": [
    {
     "name": "stdout",
     "output_type": "stream",
     "text": [
      "TOPIC 0\n",
      "security clearance\n",
      "eligibility\n",
      "investigation\n",
      "access classified\n",
      "classified\n",
      "eligibility requirements\n",
      "washington dc\n",
      "selected\n",
      "clearance\n",
      "washington\n",
      "\n",
      "TOPIC 1\n",
      "data\n",
      "experience\n",
      "work\n",
      "skills\n",
      "python\n",
      "ability\n",
      "science\n",
      "business\n",
      "company\n",
      "new\n",
      "\n",
      "TOPIC 2\n",
      "expression\n",
      "genetic information\n",
      "genetic\n",
      "mental\n",
      "physical mental\n",
      "mental disability\n",
      "federal state\n",
      "state local\n",
      "physical\n",
      "origin ancestry\n",
      "\n",
      "TOPIC 3\n",
      "protected law\n",
      "sex\n",
      "race color\n",
      "regard\n",
      "clearance\n",
      "protected\n",
      "national origin\n",
      "veteran status\n",
      "origin\n",
      "religion\n",
      "\n",
      "TOPIC 4\n",
      "laboratory\n",
      "protocols\n",
      "procedures\n",
      "documents\n",
      "duties\n",
      "reports\n",
      "standard\n",
      "safety\n",
      "equipment\n",
      "documentation\n",
      "\n",
      "TOPIC 5\n",
      "data\n",
      "data science\n",
      "work\n",
      "knowledge\n",
      "learning\n",
      "techniques\n",
      "team\n",
      "science\n",
      "new\n",
      "models\n",
      "\n",
      "TOPIC 6\n",
      "teams\n",
      "python\n",
      "skills\n",
      "solutions\n",
      "regression\n",
      "science\n",
      "tools\n",
      "written\n",
      "new\n",
      "data\n",
      "\n",
      "TOPIC 7\n",
      "data\n",
      "experience\n",
      "work\n",
      "team\n",
      "science\n",
      "skills\n",
      "python\n",
      "years\n",
      "learning\n",
      "business\n",
      "\n",
      "TOPIC 8\n",
      "science\n",
      "team\n",
      "business\n",
      "data\n",
      "statistical\n",
      "experience\n",
      "skills\n",
      "ability\n",
      "scientist\n",
      "data scientist\n",
      "\n",
      "TOPIC 9\n",
      "age\n",
      "national origin\n",
      "origin\n",
      "race\n",
      "religion\n",
      "color\n",
      "national\n",
      "sexual orientation\n",
      "sexual\n",
      "gender\n",
      "\n"
     ]
    }
   ],
   "source": [
    "for topic in range(n_components):\n",
    "    print(f\"TOPIC {topic}\")\n",
    "    for j in np.argsort(-lda.components_,1)[topic,:10]:\n",
    "        print(vocab[j])\n",
    "    print()"
   ]
  },
  {
   "cell_type": "markdown",
   "metadata": {},
   "source": [
    "## NMF - Resume Compare in 2 dimensions\n",
    "\n",
    "Now feeding in my resume to find most and least similar"
   ]
  },
  {
   "cell_type": "code",
   "execution_count": 287,
   "metadata": {},
   "outputs": [],
   "source": [
    "from sklearn.decomposition import NMF, LatentDirichletAllocation"
   ]
  },
  {
   "cell_type": "code",
   "execution_count": 288,
   "metadata": {},
   "outputs": [],
   "source": [
    "from sklearn.feature_extraction.text import TfidfTransformer\n",
    "tfidf = TfidfTransformer()\n",
    "X_tfidf = tfidf.fit_transform(cv.transform(job_descriptions))"
   ]
  },
  {
   "cell_type": "code",
   "execution_count": 289,
   "metadata": {},
   "outputs": [],
   "source": [
    "from sklearn.decomposition.nmf import NMF\n",
    "nmf = NMF(n_components = 2, max_iter=500)"
   ]
  },
  {
   "cell_type": "code",
   "execution_count": 290,
   "metadata": {},
   "outputs": [],
   "source": [
    "w = nmf.fit_transform(X_tfidf)\n",
    "# h = nmf.components_\n",
    "# w.dot(h).shape"
   ]
  },
  {
   "cell_type": "code",
   "execution_count": 291,
   "metadata": {},
   "outputs": [
    {
     "data": {
      "text/plain": [
       "0.072106651042852091"
      ]
     },
     "execution_count": 291,
     "metadata": {},
     "output_type": "execute_result"
    }
   ],
   "source": [
    "df_resume = pd.read_csv('resume.txt', sep='^', dtype=str, header=None)\n",
    "\n",
    "string_resume = \"\"\n",
    "for i in df_resume[0]:\n",
    "    string_resume = string_resume + i + ' '\n",
    "    \n",
    "list_resume=[]\n",
    "list_resume.append(string_resume)\n",
    "    \n",
    "pt_resume = nmf.transform(tfidf.transform(cv.transform(list_resume)))\n",
    "pt_resume[0][0]"
   ]
  },
  {
   "cell_type": "code",
   "execution_count": 292,
   "metadata": {},
   "outputs": [],
   "source": [
    "test_examples = pickle.load(open( \"features_df\", \"rb\" ))\n",
    "\n",
    "pt_test = nmf.transform(tfidf.transform(cv.transform(test_examples['Job_description'])))"
   ]
  },
  {
   "cell_type": "code",
   "execution_count": 293,
   "metadata": {},
   "outputs": [
    {
     "data": {
      "text/plain": [
       "array([[ 0.10923257,  0.00577433],\n",
       "       [ 0.02701841,  0.16743216],\n",
       "       [ 0.0827964 ,  0.01560788]])"
      ]
     },
     "execution_count": 293,
     "metadata": {},
     "output_type": "execute_result"
    }
   ],
   "source": [
    "pt_test"
   ]
  },
  {
   "cell_type": "code",
   "execution_count": 294,
   "metadata": {},
   "outputs": [],
   "source": [
    "import matplotlib.pyplot as plt\n",
    "%matplotlib inline"
   ]
  },
  {
   "cell_type": "code",
   "execution_count": null,
   "metadata": {},
   "outputs": [],
   "source": []
  },
  {
   "cell_type": "code",
   "execution_count": 299,
   "metadata": {
    "scrolled": true
   },
   "outputs": [
    {
     "data": {
      "text/plain": [
       "<matplotlib.legend.Legend at 0x1a2a5d6c50>"
      ]
     },
     "execution_count": 299,
     "metadata": {},
     "output_type": "execute_result"
    },
    {
     "data": {
      "image/png": "[encoded data removed]",
      "text/plain": [
       "<Figure size 432x288 with 1 Axes>"
      ]
     },
     "metadata": {
      "needs_background": "light"
     },
     "output_type": "display_data"
    }
   ],
   "source": [
    "plt.figure()\n",
    "plt.plot(*w.T,'.', label=\"Jobs\")\n",
    "plt.plot(pt_resume[0][0],pt_resume[0][1],\".\", label=\"Me\", markersize=20)\n",
    "plt.legend()"
   ]
  },
  {
   "cell_type": "code",
   "execution_count": 297,
   "metadata": {},
   "outputs": [
    {
     "data": {
      "text/plain": [
       "<matplotlib.legend.Legend at 0x1a29db2f60>"
      ]
     },
     "execution_count": 297,
     "metadata": {},
     "output_type": "execute_result"
    },
    {
     "data": {
      "image/png": "[encoded data removed]",
      "text/plain": [
       "<Figure size 432x288 with 1 Axes>"
      ]
     },
     "metadata": {
      "needs_background": "light"
     },
     "output_type": "display_data"
    }
   ],
   "source": [
    "plt.figure()\n",
    "plt.plot(*w.T,'.', label=\"Jobs\")\n",
    "plt.plot(pt_resume[0][0],pt_resume[0][1],\".\", label=\"Me\", markersize=20)\n",
    "plt.plot(pt_test[0][0],pt_test[0][1],\".\", label=\"Amazon Data Scietist\", markersize=20)\n",
    "plt.plot(pt_test[1][0],pt_test[1][1],\".\", label=\"BCG Data Scietist\", markersize=20)\n",
    "plt.plot(pt_test[2][0],pt_test[2][1],\".\", label=\"Amazon UX Designer\", markersize=20)\n",
    "plt.legend()"
   ]
  },
  {
   "cell_type": "markdown",
   "metadata": {},
   "source": [
    "## NMF - Resume Compare in 10 dimensions\n",
    "\n",
    "Now feeding in my resume to find most and least similar"
   ]
  },
  {
   "cell_type": "code",
   "execution_count": 300,
   "metadata": {},
   "outputs": [],
   "source": [
    "from sklearn.decomposition import NMF, LatentDirichletAllocation"
   ]
  },
  {
   "cell_type": "code",
   "execution_count": 301,
   "metadata": {},
   "outputs": [],
   "source": [
    "from sklearn.feature_extraction.text import TfidfTransformer\n",
    "tfidf = TfidfTransformer()\n",
    "X_tfidf = tfidf.fit_transform(cv.transform(job_descriptions))"
   ]
  },
  {
   "cell_type": "code",
   "execution_count": 302,
   "metadata": {},
   "outputs": [],
   "source": [
    "from sklearn.decomposition.nmf import NMF\n",
    "nmf = NMF(n_components = 10, max_iter=500)"
   ]
  },
  {
   "cell_type": "code",
   "execution_count": 303,
   "metadata": {},
   "outputs": [],
   "source": [
    "X_nmf = nmf.fit_transform(X_tfidf)\n",
    "# h = nmf.components_\n",
    "# w.dot(h).shape"
   ]
  },
  {
   "cell_type": "code",
   "execution_count": 304,
   "metadata": {},
   "outputs": [
    {
     "data": {
      "text/plain": [
       "array([ 0.05074039,  0.        ,  0.0188364 ,  0.0018    ,  0.02609654,\n",
       "        0.03641562,  0.        ,  0.00633315,  0.        ,  0.00439978])"
      ]
     },
     "execution_count": 304,
     "metadata": {},
     "output_type": "execute_result"
    }
   ],
   "source": [
    "df_resume = pd.read_csv('resume.txt', sep='^', dtype=str, header=None)\n",
    "\n",
    "string_resume = \"\"\n",
    "for i in df_resume[0]:\n",
    "    string_resume = string_resume + i + ' '\n",
    "    \n",
    "list_resume=[]\n",
    "list_resume.append(string_resume)\n",
    "    \n",
    "pt_resume = nmf.transform(tfidf.transform(cv.transform(list_resume)))\n",
    "pt_resume[0]"
   ]
  },
  {
   "cell_type": "code",
   "execution_count": 305,
   "metadata": {},
   "outputs": [],
   "source": [
    "from sklearn.metrics.pairwise import cosine_similarity"
   ]
  },
  {
   "cell_type": "code",
   "execution_count": 308,
   "metadata": {},
   "outputs": [],
   "source": [
    "def cosine_sim(X_nmf, pt_resume):\n",
    "    similarities = []\n",
    "    for job in X_nmf:\n",
    "        cs = cosine_similarity(job.reshape(-1,1).T, pt_resume.reshape(-1,1).T)\n",
    "        similarities.append(cs[0][0])\n",
    "    return similarities"
   ]
  },
  {
   "cell_type": "code",
   "execution_count": 309,
   "metadata": {},
   "outputs": [],
   "source": [
    "similarities_to_my_resume = cosine_sim(X_nmf,pt_resume)"
   ]
  },
  {
   "cell_type": "code",
   "execution_count": 310,
   "metadata": {},
   "outputs": [],
   "source": [
    "df_similarities = pd.DataFrame()\n",
    "df_similarities['similarities'] = similarities_to_my_resume\n",
    "df_similarities['job_descriptions'] = job_descriptions"
   ]
  },
  {
   "cell_type": "code",
   "execution_count": 311,
   "metadata": {},
   "outputs": [],
   "source": [
    "top_matches = df_similarities.sort_values('similarities', ascending=False).head(3)"
   ]
  },
  {
   "cell_type": "code",
   "execution_count": 312,
   "metadata": {},
   "outputs": [
    {
     "data": {
      "text/html": [
       "<div>\n",
       "<style scoped>\n",
       "    .dataframe tbody tr th:only-of-type {\n",
       "        vertical-align: middle;\n",
       "    }\n",
       "\n",
       "    .dataframe tbody tr th {\n",
       "        vertical-align: top;\n",
       "    }\n",
       "\n",
       "    .dataframe thead th {\n",
       "        text-align: right;\n",
       "    }\n",
       "</style>\n",
       "<table border=\"1\" class=\"dataframe\">\n",
       "  <thead>\n",
       "    <tr style=\"text-align: right;\">\n",
       "      <th></th>\n",
       "      <th>similarities</th>\n",
       "      <th>job_descriptions</th>\n",
       "    </tr>\n",
       "  </thead>\n",
       "  <tbody>\n",
       "    <tr>\n",
       "      <th>373</th>\n",
       "      <td>0.0</td>\n",
       "      <td>We are looking for a Data Scientist to join ou...</td>\n",
       "    </tr>\n",
       "    <tr>\n",
       "      <th>768</th>\n",
       "      <td>0.0</td>\n",
       "      <td>Through its people and brands, CNH Industrial ...</td>\n",
       "    </tr>\n",
       "    <tr>\n",
       "      <th>344</th>\n",
       "      <td>0.0</td>\n",
       "      <td>Ranked as #12 on Forbes’ List of 25 Fastest Gr...</td>\n",
       "    </tr>\n",
       "  </tbody>\n",
       "</table>\n",
       "</div>"
      ],
      "text/plain": [
       "     similarities                                   job_descriptions\n",
       "373           0.0  We are looking for a Data Scientist to join ou...\n",
       "768           0.0  Through its people and brands, CNH Industrial ...\n",
       "344           0.0  Ranked as #12 on Forbes’ List of 25 Fastest Gr..."
      ]
     },
     "execution_count": 312,
     "metadata": {},
     "output_type": "execute_result"
    }
   ],
   "source": [
    "bottom_matches = df_similarities.sort_values('similarities', ascending=True).head(3)\n",
    "bottom_matches"
   ]
  },
  {
   "cell_type": "code",
   "execution_count": 313,
   "metadata": {},
   "outputs": [
    {
     "data": {
      "text/plain": [
       "\"Title: Senior Data Scientist\\nLocation: Westborough, MA\\nSalary: $100,000 - 150,000\\nContact: Paul Chatlos, pchatlos@smithhanley.com\\n#GD\\n\\nSenior Data Scientist Job Summary\\n\\nThe Membership Analytics Team is company's internal advanced analytics consultancy. The Team is responsible for a wide range of analysis in support of company's efforts to strengthen member loyalty, improve retention, acquire high quality members and increase member lifetime value. The Senior Data Scientist will be responsible for leveraging company's wealth of data using advanced statistical methods.\\n\\nSenior Data Scientist Major Tasks, Responsibilities, and Key Accountabilities\\n-Extract actionable insights from complex datasets using data mining, statistics, and database techniques to measure/understand/improve member acquisition/engagement KPIs\\n-Apply Data Science methods along with project management skills to assist in developing new approaches to member acquisition, engagement and promotion\\n-Work cross functionally with stakeholders to ensure data-driven answers are provided and recommended\\n-Build reports, dashboards, and other analytical tools to help communicate the state of business\\n-Apply data mining/machine learning/statistics in areas outside of membership/marketing\\n-Works with and streamlines established data warehouses, production data, and available tools to build strategic datasets in support of key initiatives\\n-Establishes and systematically performs processes to assess and validate data accuracy\\n\\nSenior Data Scientist Qualifications\\n\\n-Strong data science knowledge on machine learning and statistical methods (Supervised/unsupervised learning, Linear/logistic Regression, Random Forests, Lift Modeling, Linear/nonlinear Programming, Clustering, ARIMA, Neural Networks, Variable selection/feature engineering, hypothesis testing)\\n-Experience developing and productionizing machine learning models and application of statistical methods in Python(pandas/numpy/sklearn/scipy) or Spark\\n-Experience with data ETL in at least one of the following scripting language: Python/R/SAS/SQL/Spark\\n-Experience with Cloud computing environment preferred (AWS/Azure/Google Cloud)\\n-Strong Data Science and Analytics background with the ability to apply analytical skills to business problems\\n-Minimum 3 years of experience managing data science/analytics projects\\n-Bachelor's or Master's degree in Computer Science, Mathematics, Statistics, Engineering or a related field\""
      ]
     },
     "execution_count": 313,
     "metadata": {},
     "output_type": "execute_result"
    }
   ],
   "source": [
    "top_matches['job_descriptions'].iloc[0]"
   ]
  },
  {
   "cell_type": "code",
   "execution_count": 314,
   "metadata": {},
   "outputs": [
    {
     "data": {
      "text/plain": [
       "\"We are looking for a Data Scientist to join our growing Data Science Analytics team. Data science is part of every step of product development life cycle at Ask Media Group. We use data science techniques to identify the content that's relevant to our audiences, discern meaning from user queries, and evaluate business opportunities. As a member of our team, you will use your data science skills to transform data into new value for our audiences.\\n\\nQualifications\\n\\nYou're a great fit for this job if you have the following qualities:\\nYou enjoy gaining insights about data using your knowledge of probability, statistics, and machine learning.\\nYou take pride in delivering impactful and timely results.\\nYou enjoy developing or improving products and services through team collaboration.\\nYou enjoy creating pragmatic solutions to difficult problems.\\nYou seek new opportunities to develop and apply new analytical skills.\\nYou enjoy helping others and know when to seek support and advice.\\nYou enjoy writing for clear and readable code that your teammates can use.\\nYou enjoy using learning tools to increase your efficiency and effectiveness.\\nYou communicate frequently and clearly.\\nWe are looking for these skills and experiences:\\nYou have a bachelor's degree in computer science or related computational field, with additional post bachelor education (e.g., master's degree or a data science focussed program) preferred.\\nYou are able to build machine learning models to gain insights and make predictions.\\nYou write notebooks and small applications in Python or R.\\nYou use software development tools, such as version control, and techniques, such as testing.\\nYou can use SQL to manipulate and query tabular data.\\nYou can extract data from JSON or XML formatted files.\\nAdditional information\\n\\nWe have some of the greatest benefits such as: unlimited vacation for salaried employees, medical/dental/vision options, pet insurance, 401(k) matching, commuter subsidy, tuition reimbursement, charity gift matching, huge discounts to wireless/gym/travel/much more. Our office has free snacks, catered lunch, in-house massage chair, and more. More importantly we know how hard you work so we celebrate that hard work often. We are an equal opportunity employer and value diversity at our company. We do not discriminate on the basis of race, religion, color, national origin, gender, sexual orientation, age, marital status, veteran status, or disability status.\""
      ]
     },
     "execution_count": 314,
     "metadata": {},
     "output_type": "execute_result"
    }
   ],
   "source": [
    "bottom_matches['job_descriptions'].iloc[0]"
   ]
  },
  {
   "cell_type": "code",
   "execution_count": 315,
   "metadata": {},
   "outputs": [],
   "source": [
    "pt_test = nmf.transform(tfidf.transform(cv.transform(test_examples['Job_description'])))"
   ]
  },
  {
   "cell_type": "code",
   "execution_count": 317,
   "metadata": {
    "scrolled": true
   },
   "outputs": [
    {
     "data": {
      "text/plain": [
       "array([[ 0.82172796]])"
      ]
     },
     "execution_count": 317,
     "metadata": {},
     "output_type": "execute_result"
    }
   ],
   "source": [
    "# similarity to amazon data scientist\n",
    "cosine_similarity(pt_test[0].reshape(-1,1).T, pt_resume.reshape(-1,1).T)"
   ]
  },
  {
   "cell_type": "code",
   "execution_count": 318,
   "metadata": {},
   "outputs": [
    {
     "data": {
      "text/plain": [
       "array([[ 0.3021499]])"
      ]
     },
     "execution_count": 318,
     "metadata": {},
     "output_type": "execute_result"
    }
   ],
   "source": [
    "# similarity to BCG data scientist\n",
    "cosine_similarity(pt_test[1].reshape(-1,1).T, pt_resume.reshape(-1,1).T)"
   ]
  },
  {
   "cell_type": "code",
   "execution_count": 338,
   "metadata": {},
   "outputs": [
    {
     "data": {
      "text/plain": [
       "\"Data Scientist\\n\\n30-Oct-2018\\n\\nPosition Summary\\nWe are seeking the experienced and passionate candidate who will be the next member of our team in Seattle, WA. Demonstrating and communicating a passion for building the data foundation, products and capabilities that drive business growth, the Expert Data Scientist will work at the forefront of technology and business via our MSP Catalyst product suites.\\n\\nCatalyst is the E2E / enterprise grade, cloud-based, Big Data analytics platform that hosts all the Marketing, Sales and Pricing applications developed and commercialized by BCG. These products are critical to our growth plan, scalability, and to the success of our project teams. BCG has made multimillion-dollar investments to create Flagship products that complement our consulting offerings.\\n\\nJob ID\\n5621BR\\n\\nCompany Information\\nThe Boston Consulting Group (BCG) is a global management consulting firm and the world’s leading advisor on business strategy. We partner with clients from the private, public, and not-for-profit sectors in all regions to identify their highest value opportunities, address their most critical challenges, and transform their enterprises. BCG was founded in 1963 and is a privately owned firm with more than 14,000 employees across 85 offices in 48 countries. Integrity, respect for the individual, delivering value, and making an impact on society are just some of BCG's core values. BCG's commitment to both our clients' success and our own standards is what sets BCG apart as a world-class professional services organization. Join BCG - start your career at a company that is consistently ranked as the leader in its field, and is acknowledged as one of the best places to work.\\n\\nTravel Required\\nYes\\n\\nEmployee Type\\nRegular\\n\\nBasic Job Requirements\\nThe Expert Data Scientist needs…\\n8+ years of relevant work experience, including expertise in recommendation systems, personalization, collaborative filtering, and content-based filtering\\nKnowledge of Machine Learning, NLP, Graph Theory, and AI\\nFluency in one or more programming languages (Python, Java, R, etc.)\\nThe ability to deliver data science components that are part of successful commercial products\\nReadiness to collaborate with engineering teams to develop prototypes and software products\\nThe ability to lead and manage a team\\nThe ability to travel, depending on project requirements\\nA MS degree in Computer Science, Statistics, Applied Mathematics, or related areas preferred\\nOur ideal candidate also knows their way around…\\nBig Data and Fast Data (i.e., real time streaming)\\nDistributed systems (Hadoop/MapReduce, Spark, streaming data processing, cloud architecture, etc.)\\nSQL or other querying languages\\nDashboard and visualization software (Tableau, D3, Mixpanel, Flurry, Google Analytics, etc.)\\nKey Competencies\\nProactive problem solving, analytical skills, time management, and decision making\\nAbility to lead and mentor on- / offshore development teams using Agile software delivery processes\\nExcellent interpersonal and communication skills - able to adjust approach to effectively interact at all organizational and technical levels\\nFluent written and spoken English (other languages are desirable)\\nAbility and willingness to give and receive honest, balanced feedback\\nFocus on providing excellent customer service, meeting user needs, demonstrating competence and character, and inspiring trust\\nJob Type\\nFull time\\n\\nNon-discrimination Statement\\nThe Boston Consulting Group is an Equal Opportunity Employer. All qualified applicants will receive consideration for employment without regard to race, color, age, religion, sex, sexual orientation, gender identity / expression, national origin, disability, protected veteran status, or any other characteristic protected under federal, state or local law, where applicable, and those with criminal histories will be considered in a manner consistent with applicable state and local laws. In addition, as a federal government contractor, BCG maintains an affirmative action program which furthers its commitment and complies with recordkeeping and reporting requirements under certain federal civil rights laws and regulations.BCG is an E-Verify Employer. Click here for more information on E-Verify. VEVRAA Federal Contractor\\n\\nCountry\\nUnited States\\n\\nCity/Town\\nSeattle\\n\\nTravel Percent\\n20\\n\\nFunction\\nProduct Management & Business Building\\n\\nJob Responsibilities\\nOur Next Expert Data Scientist will…\\nBuild innovative data products (including real-time services, such as personalization and commerce graphing using Big Data platforms with real-time data ingestion and processing)\\nExecute descriptive analyses, ranging from identifying product opportunities to understanding user behavior\\nCultivate strong collaborative relationships with product, engineering, and senior stakeholders\\nShare technical solutions and product ideas through design review, code reviews, and tech talks\\nJob Title\\nExpert Data Scientist\""
      ]
     },
     "execution_count": 338,
     "metadata": {},
     "output_type": "execute_result"
    }
   ],
   "source": [
    "test_examples[\"Job_description\"].iloc[1]"
   ]
  },
  {
   "cell_type": "code",
   "execution_count": 319,
   "metadata": {},
   "outputs": [
    {
     "data": {
      "text/plain": [
       "array([[ 0.82552653]])"
      ]
     },
     "execution_count": 319,
     "metadata": {},
     "output_type": "execute_result"
    }
   ],
   "source": [
    "# similarity to Amazon UX designer\n",
    "cosine_similarity(pt_test[2].reshape(-1,1).T, pt_resume.reshape(-1,1).T)"
   ]
  },
  {
   "cell_type": "code",
   "execution_count": 330,
   "metadata": {},
   "outputs": [],
   "source": [
    "df_chef = pd.read_csv('Sous_chef.txt', sep='^', dtype=str, header=None)\n",
    "string_chef = df_chef.iloc[0,0]\n",
    "list_chef=[]\n",
    "list_chef.append(string_chef)\n",
    "pt_chef = nmf.transform(tfidf.transform(cv.transform(list_chef)))"
   ]
  },
  {
   "cell_type": "code",
   "execution_count": 331,
   "metadata": {},
   "outputs": [
    {
     "data": {
      "text/plain": [
       "array([[ 0.515722]])"
      ]
     },
     "execution_count": 331,
     "metadata": {},
     "output_type": "execute_result"
    }
   ],
   "source": [
    "cosine_similarity(pt_chef.reshape(-1,1).T, pt_resume.reshape(-1,1).T)"
   ]
  },
  {
   "cell_type": "code",
   "execution_count": 335,
   "metadata": {},
   "outputs": [
    {
     "data": {
      "text/html": [
       "<div>\n",
       "<style scoped>\n",
       "    .dataframe tbody tr th:only-of-type {\n",
       "        vertical-align: middle;\n",
       "    }\n",
       "\n",
       "    .dataframe tbody tr th {\n",
       "        vertical-align: top;\n",
       "    }\n",
       "\n",
       "    .dataframe thead th {\n",
       "        text-align: right;\n",
       "    }\n",
       "</style>\n",
       "<table border=\"1\" class=\"dataframe\">\n",
       "  <thead>\n",
       "    <tr style=\"text-align: right;\">\n",
       "      <th></th>\n",
       "      <th>Rating</th>\n",
       "      <th>Job_title</th>\n",
       "      <th>Company</th>\n",
       "      <th>Location</th>\n",
       "      <th>Salary_range</th>\n",
       "      <th>Status</th>\n",
       "      <th>Job_description</th>\n",
       "      <th>Company_info</th>\n",
       "    </tr>\n",
       "  </thead>\n",
       "  <tbody>\n",
       "    <tr>\n",
       "      <th>0</th>\n",
       "      <td>3.8</td>\n",
       "      <td>Data Scientist</td>\n",
       "      <td>Amazon</td>\n",
       "      <td>Seattle, WA</td>\n",
       "      <td>$129k-$182k(Glassdoor Est.)</td>\n",
       "      <td>12 days ago</td>\n",
       "      <td>Job Description\\nAs David Hilbert said “The ar...</td>\n",
       "      <td>Overview\\nHeadquartersSeattle, WA\\nSize10000+ ...</td>\n",
       "    </tr>\n",
       "    <tr>\n",
       "      <th>0</th>\n",
       "      <td>4.3</td>\n",
       "      <td>Data Scientist</td>\n",
       "      <td>Boston Consulting Group</td>\n",
       "      <td>Seattle, WA</td>\n",
       "      <td>$130k-$187k(Glassdoor Est.)</td>\n",
       "      <td>6 days ago</td>\n",
       "      <td>Data Scientist\\n\\n30-Oct-2018\\n\\nPosition Summ...</td>\n",
       "      <td>Overview\\nHeadquartersBoston, MA\\nSizeUnknown\\...</td>\n",
       "    </tr>\n",
       "    <tr>\n",
       "      <th>0</th>\n",
       "      <td>3.8</td>\n",
       "      <td>UX Designer</td>\n",
       "      <td>Amazon</td>\n",
       "      <td>Seattle, WA</td>\n",
       "      <td>$101k-$132k(Glassdoor Est.)</td>\n",
       "      <td>4 days ago</td>\n",
       "      <td>Job Description\\nWe make Amazon more personal ...</td>\n",
       "      <td>Overview\\nHeadquartersSeattle, WA\\nSize10000+ ...</td>\n",
       "    </tr>\n",
       "  </tbody>\n",
       "</table>\n",
       "</div>"
      ],
      "text/plain": [
       "  Rating       Job_title                  Company     Location  \\\n",
       "0    3.8  Data Scientist                   Amazon  Seattle, WA   \n",
       "0    4.3  Data Scientist  Boston Consulting Group  Seattle, WA   \n",
       "0    3.8     UX Designer                   Amazon  Seattle, WA   \n",
       "\n",
       "                  Salary_range       Status  \\\n",
       "0  $129k-$182k(Glassdoor Est.)  12 days ago   \n",
       "0  $130k-$187k(Glassdoor Est.)   6 days ago   \n",
       "0  $101k-$132k(Glassdoor Est.)   4 days ago   \n",
       "\n",
       "                                     Job_description  \\\n",
       "0  Job Description\\nAs David Hilbert said “The ar...   \n",
       "0  Data Scientist\\n\\n30-Oct-2018\\n\\nPosition Summ...   \n",
       "0  Job Description\\nWe make Amazon more personal ...   \n",
       "\n",
       "                                        Company_info  \n",
       "0  Overview\\nHeadquartersSeattle, WA\\nSize10000+ ...  \n",
       "0  Overview\\nHeadquartersBoston, MA\\nSizeUnknown\\...  \n",
       "0  Overview\\nHeadquartersSeattle, WA\\nSize10000+ ...  "
      ]
     },
     "execution_count": 335,
     "metadata": {},
     "output_type": "execute_result"
    }
   ],
   "source": [
    "test_examples"
   ]
  },
  {
   "cell_type": "markdown",
   "metadata": {},
   "source": [
    "## K Means to group into sub categories"
   ]
  },
  {
   "cell_type": "code",
   "execution_count": 143,
   "metadata": {},
   "outputs": [],
   "source": [
    "from sklearn.cluster import KMeans"
   ]
  },
  {
   "cell_type": "code",
   "execution_count": 144,
   "metadata": {},
   "outputs": [
    {
     "data": {
      "text/plain": [
       "KMeans(algorithm='auto', copy_x=True, init='k-means++', max_iter=300,\n",
       "    n_clusters=3, n_init=10, n_jobs=None, precompute_distances='auto',\n",
       "    random_state=10, tol=0.0001, verbose=0)"
      ]
     },
     "execution_count": 144,
     "metadata": {},
     "output_type": "execute_result"
    }
   ],
   "source": [
    "num_clusters = 3\n",
    "km = KMeans(n_clusters=num_clusters, random_state=10) # n_init, # of times the K-mean algorithm will run\n",
    "km.fit(X_cv_lda)"
   ]
  },
  {
   "cell_type": "code",
   "execution_count": null,
   "metadata": {},
   "outputs": [],
   "source": []
  },
  {
   "cell_type": "code",
   "execution_count": null,
   "metadata": {},
   "outputs": [],
   "source": []
  },
  {
   "cell_type": "code",
   "execution_count": null,
   "metadata": {},
   "outputs": [],
   "source": []
  },
  {
   "cell_type": "code",
   "execution_count": null,
   "metadata": {},
   "outputs": [],
   "source": []
  },
  {
   "cell_type": "code",
   "execution_count": null,
   "metadata": {},
   "outputs": [],
   "source": []
  },
  {
   "cell_type": "code",
   "execution_count": null,
   "metadata": {},
   "outputs": [],
   "source": []
  },
  {
   "cell_type": "code",
   "execution_count": 21,
   "metadata": {},
   "outputs": [
    {
     "name": "stdout",
     "output_type": "stream",
     "text": [
      "['Spectro Scientific is seeking a Data Scientist with a background in creating machine learning algorithms.', 'The successful candidate will have strong algorithm development experience, which may come from experience in such diverse areas as physics, data science, or computer science.', 'The candidate will work to enhance the Spectro Scientific’s TruVu platform and related rules engines with data-driven diagnostic and prognostic tools.', 'Are you looking for a challenge?', 'How about changing an entire industry with your input?', 'Spectro Scientific’s TruVu platform is changing the fluids analysis industry.', 'We are looking for a data scientist who knows various approaches to solving stochastic problems.', 'Further, knowing how large information databases and related algorithms can be put to use to enhance the quality of your predictions will be key.', 'You will not come onboard alone – Spectro’s existing fluidics rules engines have for years provided our customers with information-rich guidance, and you will join a team with deep experience in fluids analysis and failure mode indication.', 'Essential Responsibilities Include\\nPrototype and test developed solutions with applications and engineering teams\\nAnalyze existing data warehouse and create new data-driven solutions targeted by Spectro Scientific\\nUnderstand Spectro Scientific rules engines and support continued development using data science validation skills\\nQualifications & Requirements\\nMS (PhD preferred) in Physics, Data Science, Computer Science or related field\\nExperience with building solutions to stochastic problems and needed tools is essential.', 'Immersion in a variety of algorithmic approaches and techniques is important – eg.', 'Markov Models, particle filtering, artificial neural networks\\n0-5+ years of experience\\nExperience in working with real-world applications of data science, preferably with sensors and instrumentation\\nEnthusiastic and can drive projects to success\\nLocal candidates only please – no relocation is available for this position.', 'Qualified candidates should submit resumes to: cnickerson@spectrosci.com\\nVisit us at www.spectrosci.com\\nSpectro Scientific is an Equal Opportunity Employer']\n"
     ]
    }
   ],
   "source": [
    "from nltk.tokenize import sent_tokenize\n",
    "print(sent_tokenize(test_desc))"
   ]
  },
  {
   "cell_type": "code",
   "execution_count": 22,
   "metadata": {},
   "outputs": [
    {
     "name": "stdout",
     "output_type": "stream",
     "text": [
      "[('Spectro', 'Scientific'), ('Scientific', 'is'), ('is', 'seeking'), ('seeking', 'a'), ('a', 'Data'), ('Data', 'Scientist'), ('Scientist', 'with'), ('with', 'a'), ('a', 'background'), ('background', 'in'), ('in', 'creating'), ('creating', 'machine'), ('machine', 'learning'), ('learning', 'algorithms'), ('algorithms', '.'), ('.', 'The'), ('The', 'successful'), ('successful', 'candidate'), ('candidate', 'will'), ('will', 'have'), ('have', 'strong'), ('strong', 'algorithm'), ('algorithm', 'development'), ('development', 'experience'), ('experience', ','), (',', 'which'), ('which', 'may'), ('may', 'come'), ('come', 'from'), ('from', 'experience'), ('experience', 'in'), ('in', 'such'), ('such', 'diverse'), ('diverse', 'areas'), ('areas', 'as'), ('as', 'physics'), ('physics', ','), (',', 'data'), ('data', 'science'), ('science', ','), (',', 'or'), ('or', 'computer'), ('computer', 'science'), ('science', '.'), ('.', 'The'), ('The', 'candidate'), ('candidate', 'will'), ('will', 'work'), ('work', 'to'), ('to', 'enhance'), ('enhance', 'the'), ('the', 'Spectro'), ('Spectro', 'Scientific'), ('Scientific', '’'), ('’', 's'), ('s', 'TruVu'), ('TruVu', 'platform'), ('platform', 'and'), ('and', 'related'), ('related', 'rules'), ('rules', 'engines'), ('engines', 'with'), ('with', 'data-driven'), ('data-driven', 'diagnostic'), ('diagnostic', 'and'), ('and', 'prognostic'), ('prognostic', 'tools'), ('tools', '.'), ('.', 'Are'), ('Are', 'you'), ('you', 'looking'), ('looking', 'for'), ('for', 'a'), ('a', 'challenge'), ('challenge', '?'), ('?', 'How'), ('How', 'about'), ('about', 'changing'), ('changing', 'an'), ('an', 'entire'), ('entire', 'industry'), ('industry', 'with'), ('with', 'your'), ('your', 'input'), ('input', '?'), ('?', 'Spectro'), ('Spectro', 'Scientific'), ('Scientific', '’'), ('’', 's'), ('s', 'TruVu'), ('TruVu', 'platform'), ('platform', 'is'), ('is', 'changing'), ('changing', 'the'), ('the', 'fluids'), ('fluids', 'analysis'), ('analysis', 'industry'), ('industry', '.'), ('.', 'We'), ('We', 'are'), ('are', 'looking'), ('looking', 'for'), ('for', 'a'), ('a', 'data'), ('data', 'scientist'), ('scientist', 'who'), ('who', 'knows'), ('knows', 'various'), ('various', 'approaches'), ('approaches', 'to'), ('to', 'solving'), ('solving', 'stochastic'), ('stochastic', 'problems'), ('problems', '.'), ('.', 'Further'), ('Further', ','), (',', 'knowing'), ('knowing', 'how'), ('how', 'large'), ('large', 'information'), ('information', 'databases'), ('databases', 'and'), ('and', 'related'), ('related', 'algorithms'), ('algorithms', 'can'), ('can', 'be'), ('be', 'put'), ('put', 'to'), ('to', 'use'), ('use', 'to'), ('to', 'enhance'), ('enhance', 'the'), ('the', 'quality'), ('quality', 'of'), ('of', 'your'), ('your', 'predictions'), ('predictions', 'will'), ('will', 'be'), ('be', 'key'), ('key', '.'), ('.', 'You'), ('You', 'will'), ('will', 'not'), ('not', 'come'), ('come', 'onboard'), ('onboard', 'alone'), ('alone', '–'), ('–', 'Spectro'), ('Spectro', '’'), ('’', 's'), ('s', 'existing'), ('existing', 'fluidics'), ('fluidics', 'rules'), ('rules', 'engines'), ('engines', 'have'), ('have', 'for'), ('for', 'years'), ('years', 'provided'), ('provided', 'our'), ('our', 'customers'), ('customers', 'with'), ('with', 'information-rich'), ('information-rich', 'guidance'), ('guidance', ','), (',', 'and'), ('and', 'you'), ('you', 'will'), ('will', 'join'), ('join', 'a'), ('a', 'team'), ('team', 'with'), ('with', 'deep'), ('deep', 'experience'), ('experience', 'in'), ('in', 'fluids'), ('fluids', 'analysis'), ('analysis', 'and'), ('and', 'failure'), ('failure', 'mode'), ('mode', 'indication'), ('indication', '.'), ('.', 'Essential'), ('Essential', 'Responsibilities'), ('Responsibilities', 'Include'), ('Include', 'Prototype'), ('Prototype', 'and'), ('and', 'test'), ('test', 'developed'), ('developed', 'solutions'), ('solutions', 'with'), ('with', 'applications'), ('applications', 'and'), ('and', 'engineering'), ('engineering', 'teams'), ('teams', 'Analyze'), ('Analyze', 'existing'), ('existing', 'data'), ('data', 'warehouse'), ('warehouse', 'and'), ('and', 'create'), ('create', 'new'), ('new', 'data-driven'), ('data-driven', 'solutions'), ('solutions', 'targeted'), ('targeted', 'by'), ('by', 'Spectro'), ('Spectro', 'Scientific'), ('Scientific', 'Understand'), ('Understand', 'Spectro'), ('Spectro', 'Scientific'), ('Scientific', 'rules'), ('rules', 'engines'), ('engines', 'and'), ('and', 'support'), ('support', 'continued'), ('continued', 'development'), ('development', 'using'), ('using', 'data'), ('data', 'science'), ('science', 'validation'), ('validation', 'skills'), ('skills', 'Qualifications'), ('Qualifications', '&'), ('&', 'Requirements'), ('Requirements', 'MS'), ('MS', '('), ('(', 'PhD'), ('PhD', 'preferred'), ('preferred', ')'), (')', 'in'), ('in', 'Physics'), ('Physics', ','), (',', 'Data'), ('Data', 'Science'), ('Science', ','), (',', 'Computer'), ('Computer', 'Science'), ('Science', 'or'), ('or', 'related'), ('related', 'field'), ('field', 'Experience'), ('Experience', 'with'), ('with', 'building'), ('building', 'solutions'), ('solutions', 'to'), ('to', 'stochastic'), ('stochastic', 'problems'), ('problems', 'and'), ('and', 'needed'), ('needed', 'tools'), ('tools', 'is'), ('is', 'essential'), ('essential', '.'), ('.', 'Immersion'), ('Immersion', 'in'), ('in', 'a'), ('a', 'variety'), ('variety', 'of'), ('of', 'algorithmic'), ('algorithmic', 'approaches'), ('approaches', 'and'), ('and', 'techniques'), ('techniques', 'is'), ('is', 'important'), ('important', '–'), ('–', 'eg'), ('eg', '.'), ('.', 'Markov'), ('Markov', 'Models'), ('Models', ','), (',', 'particle'), ('particle', 'filtering'), ('filtering', ','), (',', 'artificial'), ('artificial', 'neural'), ('neural', 'networks'), ('networks', '0-5+'), ('0-5+', 'years'), ('years', 'of'), ('of', 'experience'), ('experience', 'Experience'), ('Experience', 'in'), ('in', 'working'), ('working', 'with'), ('with', 'real-world'), ('real-world', 'applications'), ('applications', 'of'), ('of', 'data'), ('data', 'science'), ('science', ','), (',', 'preferably'), ('preferably', 'with'), ('with', 'sensors'), ('sensors', 'and'), ('and', 'instrumentation'), ('instrumentation', 'Enthusiastic'), ('Enthusiastic', 'and'), ('and', 'can'), ('can', 'drive'), ('drive', 'projects'), ('projects', 'to'), ('to', 'success'), ('success', 'Local'), ('Local', 'candidates'), ('candidates', 'only'), ('only', 'please'), ('please', '–'), ('–', 'no'), ('no', 'relocation'), ('relocation', 'is'), ('is', 'available'), ('available', 'for'), ('for', 'this'), ('this', 'position'), ('position', '.'), ('.', 'Qualified'), ('Qualified', 'candidates'), ('candidates', 'should'), ('should', 'submit'), ('submit', 'resumes'), ('resumes', 'to'), ('to', ':'), (':', 'cnickerson'), ('cnickerson', '@'), ('@', 'spectrosci.com'), ('spectrosci.com', 'Visit'), ('Visit', 'us'), ('us', 'at'), ('at', 'www.spectrosci.com'), ('www.spectrosci.com', 'Spectro'), ('Spectro', 'Scientific'), ('Scientific', 'is'), ('is', 'an'), ('an', 'Equal'), ('Equal', 'Opportunity'), ('Opportunity', 'Employer')]\n"
     ]
    }
   ],
   "source": [
    "from nltk.util import ngrams\n",
    "my_words = word_tokenize(test_desc) # This is the list of all words\n",
    "twograms = list(ngrams(my_words,2)) # This is for two-word combos, but can pick any n\n",
    "print(twograms)"
   ]
  },
  {
   "cell_type": "code",
   "execution_count": null,
   "metadata": {},
   "outputs": [],
   "source": [
    "from nltk.tokenize import RegexpTokenizer\n",
    "\n",
    "# RegexpTokenizer with whitespace delimiter\n",
    "whitespace_tokenizer = RegexpTokenizer(\"\\s+\", gaps=True)\n",
    "print(whitespace_tokenizer.tokenize(my_text))\n",
    "\n",
    "cap_tokenizer = RegexpTokenizer(\"[A-Z]['\\w]+\")\n",
    "print(cap_tokenizer.tokenize(my_text))"
   ]
  },
  {
   "cell_type": "code",
   "execution_count": null,
   "metadata": {},
   "outputs": [],
   "source": [
    "import re # Regular expression library\n",
    "import string\n",
    "\n",
    "# Replace punctuations with a white space\n",
    "clean_text = re.sub('[%s]' % re.escape(string.punctuation), ' ', test_desc)\n",
    "clean_text = clean_text.lower()\n",
    "clean_text"
   ]
  },
  {
   "cell_type": "code",
   "execution_count": 26,
   "metadata": {},
   "outputs": [
    {
     "data": {
      "text/plain": [
       "'spectro scientific is seeking a data scientist with a background in creating machine learning algorithms  the successful candidate will have strong algorithm development experience  which may come from experience in such diverse areas as physics  data science  or computer science  the candidate will work to enhance the spectro scientific’s truvu platform and related rules engines with data driven diagnostic and prognostic tools \\nare you looking for a challenge  how about changing an entire industry with your input  spectro scientific’s truvu platform is changing the fluids analysis industry  we are looking for a data scientist who knows various approaches to solving stochastic problems  further  knowing how large information databases and related algorithms can be put to use to enhance the quality of your predictions will be key  you will not come onboard alone – spectro’s existing fluidics rules engines have for years provided our customers with information rich guidance  and you will join a team with deep experience in fluids analysis and failure mode indication \\nessential responsibilities include\\nprototype and test developed solutions with applications and engineering teams\\nanalyze existing data warehouse and create new data driven solutions targeted by spectro scientific\\nunderstand spectro scientific rules engines and support continued development using data science validation skills\\nqualifications   requirements\\nms  phd preferred  in physics  data science  computer science or related field\\nexperience with building solutions to stochastic problems and needed tools is essential \\nimmersion in a variety of algorithmic approaches and techniques is important – eg  markov models  particle filtering  artificial neural networks\\n0 5  years of experience\\nexperience in working with real world applications of data science  preferably with sensors and instrumentation\\nenthusiastic and can drive projects to success\\nlocal candidates only please – no relocation is available for this position \\nqualified candidates should submit resumes to  cnickerson spectrosci com\\nvisit us at www spectrosci com\\nspectro scientific is an equal opportunity employer'"
      ]
     },
     "execution_count": 26,
     "metadata": {},
     "output_type": "execute_result"
    }
   ],
   "source": [
    "import re # Regular expression library\n",
    "import string\n",
    "\n",
    "# Replace punctuations with a white space\n",
    "clean_text = re.sub('[%s]' % re.escape(string.punctuation), ' ', test_desc)\n",
    "clean_text = clean_text.lower()\n",
    "clean_text\n"
   ]
  },
  {
   "cell_type": "code",
   "execution_count": 58,
   "metadata": {},
   "outputs": [
    {
     "name": "stdout",
     "output_type": "stream",
     "text": [
      "['spectro scientific is seeking a data scientist with a background in creating machine learning algorithms  the successful candidate will have strong algorithm development experience  which may come from experience in such diverse areas as physics  data science  or computer science  the candidate will work to enhance the spectro scientific’s truvu platform and related rules engines with data driven diagnostic and prognostic tools \\nare you looking for a challenge  how about changing an entire industry with your input  spectro scientific’s truvu platform is changing the fluids analysis industry  we are looking for a data scientist who knows various approaches to solving stochastic problems  further  knowing how large information databases and related algorithms can be put to use to enhance the quality of your predictions will be key  you will not come onboard alone – spectro’s existing fluidics rules engines have for years provided our customers with information rich guidance  and you will join a team with deep experience in fluids analysis and failure mode indication \\nessential responsibilities include\\nprototype and test developed solutions with applications and engineering teams\\nanalyze existing data warehouse and create new data driven solutions targeted by spectro scientific\\nunderstand spectro scientific rules engines and support continued development using data science validation skills\\nqualifications   requirements\\nms  phd preferred  in physics  data science  computer science or related field\\nexperience with building solutions to stochastic problems and needed tools is essential \\nimmersion in a variety of algorithmic approaches and techniques is important – eg  markov models  particle filtering  artificial neural networks\\n0 5  years of experience\\nexperience in working with real world applications of data science  preferably with sensors and instrumentation\\nenthusiastic and can drive projects to success\\nlocal candidates only please – no relocation is available for this position \\nqualified candidates should submit resumes to  cnickerson spectrosci com\\nvisit us at www spectrosci com\\nspectro scientific is an equal opportunity employer']\n"
     ]
    }
   ],
   "source": [
    "clean_text_l=[]\n",
    "clean_text_l.append(clean_text)\n",
    "print(clean_text_l)"
   ]
  },
  {
   "cell_type": "code",
   "execution_count": 28,
   "metadata": {},
   "outputs": [
    {
     "data": {
      "text/plain": [
       "{'a',\n",
       " 'about',\n",
       " 'above',\n",
       " 'after',\n",
       " 'again',\n",
       " 'against',\n",
       " 'ain',\n",
       " 'all',\n",
       " 'am',\n",
       " 'an',\n",
       " 'and',\n",
       " 'any',\n",
       " 'are',\n",
       " 'aren',\n",
       " \"aren't\",\n",
       " 'as',\n",
       " 'at',\n",
       " 'be',\n",
       " 'because',\n",
       " 'been',\n",
       " 'before',\n",
       " 'being',\n",
       " 'below',\n",
       " 'between',\n",
       " 'both',\n",
       " 'but',\n",
       " 'by',\n",
       " 'can',\n",
       " 'couldn',\n",
       " \"couldn't\",\n",
       " 'd',\n",
       " 'did',\n",
       " 'didn',\n",
       " \"didn't\",\n",
       " 'do',\n",
       " 'does',\n",
       " 'doesn',\n",
       " \"doesn't\",\n",
       " 'doing',\n",
       " 'don',\n",
       " \"don't\",\n",
       " 'down',\n",
       " 'during',\n",
       " 'each',\n",
       " 'few',\n",
       " 'for',\n",
       " 'from',\n",
       " 'further',\n",
       " 'had',\n",
       " 'hadn',\n",
       " \"hadn't\",\n",
       " 'has',\n",
       " 'hasn',\n",
       " \"hasn't\",\n",
       " 'have',\n",
       " 'haven',\n",
       " \"haven't\",\n",
       " 'having',\n",
       " 'he',\n",
       " 'her',\n",
       " 'here',\n",
       " 'hers',\n",
       " 'herself',\n",
       " 'him',\n",
       " 'himself',\n",
       " 'his',\n",
       " 'how',\n",
       " 'i',\n",
       " 'if',\n",
       " 'in',\n",
       " 'into',\n",
       " 'is',\n",
       " 'isn',\n",
       " \"isn't\",\n",
       " 'it',\n",
       " \"it's\",\n",
       " 'its',\n",
       " 'itself',\n",
       " 'just',\n",
       " 'll',\n",
       " 'm',\n",
       " 'ma',\n",
       " 'me',\n",
       " 'mightn',\n",
       " \"mightn't\",\n",
       " 'more',\n",
       " 'most',\n",
       " 'mustn',\n",
       " \"mustn't\",\n",
       " 'my',\n",
       " 'myself',\n",
       " 'needn',\n",
       " \"needn't\",\n",
       " 'no',\n",
       " 'nor',\n",
       " 'not',\n",
       " 'now',\n",
       " 'o',\n",
       " 'of',\n",
       " 'off',\n",
       " 'on',\n",
       " 'once',\n",
       " 'only',\n",
       " 'or',\n",
       " 'other',\n",
       " 'our',\n",
       " 'ours',\n",
       " 'ourselves',\n",
       " 'out',\n",
       " 'over',\n",
       " 'own',\n",
       " 're',\n",
       " 's',\n",
       " 'same',\n",
       " 'shan',\n",
       " \"shan't\",\n",
       " 'she',\n",
       " \"she's\",\n",
       " 'should',\n",
       " \"should've\",\n",
       " 'shouldn',\n",
       " \"shouldn't\",\n",
       " 'so',\n",
       " 'some',\n",
       " 'such',\n",
       " 't',\n",
       " 'than',\n",
       " 'that',\n",
       " \"that'll\",\n",
       " 'the',\n",
       " 'their',\n",
       " 'theirs',\n",
       " 'them',\n",
       " 'themselves',\n",
       " 'then',\n",
       " 'there',\n",
       " 'these',\n",
       " 'they',\n",
       " 'this',\n",
       " 'those',\n",
       " 'through',\n",
       " 'to',\n",
       " 'too',\n",
       " 'under',\n",
       " 'until',\n",
       " 'up',\n",
       " 've',\n",
       " 'very',\n",
       " 'was',\n",
       " 'wasn',\n",
       " \"wasn't\",\n",
       " 'we',\n",
       " 'were',\n",
       " 'weren',\n",
       " \"weren't\",\n",
       " 'what',\n",
       " 'when',\n",
       " 'where',\n",
       " 'which',\n",
       " 'while',\n",
       " 'who',\n",
       " 'whom',\n",
       " 'why',\n",
       " 'will',\n",
       " 'with',\n",
       " 'won',\n",
       " \"won't\",\n",
       " 'wouldn',\n",
       " \"wouldn't\",\n",
       " 'y',\n",
       " 'you',\n",
       " \"you'd\",\n",
       " \"you'll\",\n",
       " \"you're\",\n",
       " \"you've\",\n",
       " 'your',\n",
       " 'yours',\n",
       " 'yourself',\n",
       " 'yourselves'}"
      ]
     },
     "execution_count": 28,
     "metadata": {},
     "output_type": "execute_result"
    }
   ],
   "source": [
    "from nltk.corpus import stopwords\n",
    "set(stopwords.words('english'))"
   ]
  },
  {
   "cell_type": "code",
   "execution_count": 59,
   "metadata": {},
   "outputs": [
    {
     "data": {
      "text/html": [
       "<div>\n",
       "<style scoped>\n",
       "    .dataframe tbody tr th:only-of-type {\n",
       "        vertical-align: middle;\n",
       "    }\n",
       "\n",
       "    .dataframe tbody tr th {\n",
       "        vertical-align: top;\n",
       "    }\n",
       "\n",
       "    .dataframe thead th {\n",
       "        text-align: right;\n",
       "    }\n",
       "</style>\n",
       "<table border=\"1\" class=\"dataframe\">\n",
       "  <thead>\n",
       "    <tr style=\"text-align: right;\">\n",
       "      <th></th>\n",
       "      <th>algorithm</th>\n",
       "      <th>algorithmic</th>\n",
       "      <th>algorithms</th>\n",
       "      <th>analysis</th>\n",
       "      <th>analyze</th>\n",
       "      <th>applications</th>\n",
       "      <th>approaches</th>\n",
       "      <th>areas</th>\n",
       "      <th>artificial</th>\n",
       "      <th>available</th>\n",
       "      <th>...</th>\n",
       "      <th>validation</th>\n",
       "      <th>variety</th>\n",
       "      <th>various</th>\n",
       "      <th>visit</th>\n",
       "      <th>warehouse</th>\n",
       "      <th>work</th>\n",
       "      <th>working</th>\n",
       "      <th>world</th>\n",
       "      <th>www</th>\n",
       "      <th>years</th>\n",
       "    </tr>\n",
       "  </thead>\n",
       "  <tbody>\n",
       "    <tr>\n",
       "      <th>0</th>\n",
       "      <td>1</td>\n",
       "      <td>1</td>\n",
       "      <td>2</td>\n",
       "      <td>2</td>\n",
       "      <td>1</td>\n",
       "      <td>2</td>\n",
       "      <td>2</td>\n",
       "      <td>1</td>\n",
       "      <td>1</td>\n",
       "      <td>1</td>\n",
       "      <td>...</td>\n",
       "      <td>1</td>\n",
       "      <td>1</td>\n",
       "      <td>1</td>\n",
       "      <td>1</td>\n",
       "      <td>1</td>\n",
       "      <td>1</td>\n",
       "      <td>1</td>\n",
       "      <td>1</td>\n",
       "      <td>1</td>\n",
       "      <td>2</td>\n",
       "    </tr>\n",
       "  </tbody>\n",
       "</table>\n",
       "<p>1 rows × 136 columns</p>\n",
       "</div>"
      ],
      "text/plain": [
       "   algorithm  algorithmic  algorithms  analysis  analyze  applications  \\\n",
       "0          1            1           2         2        1             2   \n",
       "\n",
       "   approaches  areas  artificial  available  ...    validation  variety  \\\n",
       "0           2      1           1          1  ...             1        1   \n",
       "\n",
       "   various  visit  warehouse  work  working  world  www  years  \n",
       "0        1      1          1     1        1      1    1      2  \n",
       "\n",
       "[1 rows x 136 columns]"
      ]
     },
     "execution_count": 59,
     "metadata": {},
     "output_type": "execute_result"
    }
   ],
   "source": [
    "from sklearn.feature_extraction.text import CountVectorizer\n",
    "cv = CountVectorizer(stop_words='english')\n",
    "X = cv.fit_transform(clean_text_l)\n",
    "pd.DataFrame(X.toarray(), columns=cv.get_feature_names())"
   ]
  },
  {
   "cell_type": "code",
   "execution_count": null,
   "metadata": {},
   "outputs": [],
   "source": [
    "WordNetLemmatizer"
   ]
  },
  {
   "cell_type": "code",
   "execution_count": 70,
   "metadata": {},
   "outputs": [
    {
     "data": {
      "text/plain": [
       "['spectro',\n",
       " 'scientific',\n",
       " 'is',\n",
       " 'seeking',\n",
       " 'a',\n",
       " 'data',\n",
       " 'scientist',\n",
       " 'with',\n",
       " 'a',\n",
       " 'background',\n",
       " 'in',\n",
       " 'creating',\n",
       " 'machine_learning',\n",
       " 'algorithms',\n",
       " 'the',\n",
       " 'successful',\n",
       " 'candidate',\n",
       " 'will',\n",
       " 'have',\n",
       " 'strong',\n",
       " 'algorithm',\n",
       " 'development',\n",
       " 'experience',\n",
       " 'which',\n",
       " 'may',\n",
       " 'come',\n",
       " 'from',\n",
       " 'experience',\n",
       " 'in',\n",
       " 'such',\n",
       " 'diverse',\n",
       " 'areas',\n",
       " 'as',\n",
       " 'physics',\n",
       " 'data',\n",
       " 'science',\n",
       " 'or',\n",
       " 'computer_science',\n",
       " 'the',\n",
       " 'candidate',\n",
       " 'will',\n",
       " 'work',\n",
       " 'to',\n",
       " 'enhance',\n",
       " 'the',\n",
       " 'spectro',\n",
       " 'scientific',\n",
       " '’',\n",
       " 's',\n",
       " 'truvu',\n",
       " 'platform',\n",
       " 'and',\n",
       " 'related',\n",
       " 'rules',\n",
       " 'engines',\n",
       " 'with',\n",
       " 'data',\n",
       " 'driven',\n",
       " 'diagnostic',\n",
       " 'and',\n",
       " 'prognostic',\n",
       " 'tools',\n",
       " 'are',\n",
       " 'you',\n",
       " 'looking',\n",
       " 'for',\n",
       " 'a',\n",
       " 'challenge',\n",
       " 'how',\n",
       " 'about',\n",
       " 'changing',\n",
       " 'an',\n",
       " 'entire',\n",
       " 'industry',\n",
       " 'with',\n",
       " 'your',\n",
       " 'input',\n",
       " 'spectro',\n",
       " 'scientific',\n",
       " '’',\n",
       " 's',\n",
       " 'truvu',\n",
       " 'platform',\n",
       " 'is',\n",
       " 'changing',\n",
       " 'the',\n",
       " 'fluids',\n",
       " 'analysis',\n",
       " 'industry',\n",
       " 'we',\n",
       " 'are',\n",
       " 'looking',\n",
       " 'for',\n",
       " 'a',\n",
       " 'data',\n",
       " 'scientist',\n",
       " 'who',\n",
       " 'knows',\n",
       " 'various',\n",
       " 'approaches',\n",
       " 'to',\n",
       " 'solving',\n",
       " 'stochastic',\n",
       " 'problems',\n",
       " 'further',\n",
       " 'knowing',\n",
       " 'how',\n",
       " 'large',\n",
       " 'information',\n",
       " 'databases',\n",
       " 'and',\n",
       " 'related',\n",
       " 'algorithms',\n",
       " 'can',\n",
       " 'be',\n",
       " 'put',\n",
       " 'to',\n",
       " 'use',\n",
       " 'to',\n",
       " 'enhance',\n",
       " 'the',\n",
       " 'quality',\n",
       " 'of',\n",
       " 'your',\n",
       " 'predictions',\n",
       " 'will',\n",
       " 'be',\n",
       " 'key',\n",
       " 'you',\n",
       " 'will',\n",
       " 'not',\n",
       " 'come',\n",
       " 'onboard',\n",
       " 'alone',\n",
       " '–',\n",
       " 'spectro',\n",
       " '’',\n",
       " 's',\n",
       " 'existing',\n",
       " 'fluidics',\n",
       " 'rules',\n",
       " 'engines',\n",
       " 'have',\n",
       " 'for',\n",
       " 'years',\n",
       " 'provided',\n",
       " 'our',\n",
       " 'customers',\n",
       " 'with',\n",
       " 'information',\n",
       " 'rich',\n",
       " 'guidance',\n",
       " 'and',\n",
       " 'you',\n",
       " 'will',\n",
       " 'join',\n",
       " 'a',\n",
       " 'team',\n",
       " 'with',\n",
       " 'deep',\n",
       " 'experience',\n",
       " 'in',\n",
       " 'fluids',\n",
       " 'analysis',\n",
       " 'and',\n",
       " 'failure',\n",
       " 'mode',\n",
       " 'indication',\n",
       " 'essential',\n",
       " 'responsibilities',\n",
       " 'include',\n",
       " 'prototype',\n",
       " 'and',\n",
       " 'test',\n",
       " 'developed',\n",
       " 'solutions',\n",
       " 'with',\n",
       " 'applications',\n",
       " 'and',\n",
       " 'engineering',\n",
       " 'teams',\n",
       " 'analyze',\n",
       " 'existing',\n",
       " 'data',\n",
       " 'warehouse',\n",
       " 'and',\n",
       " 'create',\n",
       " 'new',\n",
       " 'data',\n",
       " 'driven',\n",
       " 'solutions',\n",
       " 'targeted',\n",
       " 'by',\n",
       " 'spectro',\n",
       " 'scientific',\n",
       " 'understand',\n",
       " 'spectro',\n",
       " 'scientific',\n",
       " 'rules',\n",
       " 'engines',\n",
       " 'and',\n",
       " 'support',\n",
       " 'continued',\n",
       " 'development',\n",
       " 'using',\n",
       " 'data',\n",
       " 'science',\n",
       " 'validation',\n",
       " 'skills',\n",
       " 'qualifications',\n",
       " 'requirements',\n",
       " 'ms',\n",
       " 'phd',\n",
       " 'preferred',\n",
       " 'in',\n",
       " 'physics',\n",
       " 'data',\n",
       " 'science',\n",
       " 'computer_science',\n",
       " 'or',\n",
       " 'related',\n",
       " 'field',\n",
       " 'experience',\n",
       " 'with',\n",
       " 'building',\n",
       " 'solutions',\n",
       " 'to',\n",
       " 'stochastic',\n",
       " 'problems',\n",
       " 'and',\n",
       " 'needed',\n",
       " 'tools',\n",
       " 'is',\n",
       " 'essential',\n",
       " 'immersion',\n",
       " 'in',\n",
       " 'a',\n",
       " 'variety',\n",
       " 'of',\n",
       " 'algorithmic',\n",
       " 'approaches',\n",
       " 'and',\n",
       " 'techniques',\n",
       " 'is',\n",
       " 'important',\n",
       " '–',\n",
       " 'eg',\n",
       " 'markov',\n",
       " 'models',\n",
       " 'particle',\n",
       " 'filtering',\n",
       " 'artificial',\n",
       " 'neural_networks',\n",
       " '0',\n",
       " '5',\n",
       " 'years',\n",
       " 'of',\n",
       " 'experience',\n",
       " 'experience',\n",
       " 'in',\n",
       " 'working',\n",
       " 'with',\n",
       " 'real',\n",
       " 'world',\n",
       " 'applications',\n",
       " 'of',\n",
       " 'data',\n",
       " 'science',\n",
       " 'preferably',\n",
       " 'with',\n",
       " 'sensors',\n",
       " 'and',\n",
       " 'instrumentation',\n",
       " 'enthusiastic',\n",
       " 'and',\n",
       " 'can',\n",
       " 'drive',\n",
       " 'projects',\n",
       " 'to',\n",
       " 'success',\n",
       " 'local',\n",
       " 'candidates',\n",
       " 'only',\n",
       " 'please',\n",
       " '–',\n",
       " 'no',\n",
       " 'relocation',\n",
       " 'is',\n",
       " 'available',\n",
       " 'for',\n",
       " 'this',\n",
       " 'position',\n",
       " 'qualified',\n",
       " 'candidates',\n",
       " 'should',\n",
       " 'submit',\n",
       " 'resumes',\n",
       " 'to',\n",
       " 'cnickerson',\n",
       " 'spectrosci',\n",
       " 'com',\n",
       " 'visit',\n",
       " 'us',\n",
       " 'at',\n",
       " 'www',\n",
       " 'spectrosci',\n",
       " 'com',\n",
       " 'spectro',\n",
       " 'scientific',\n",
       " 'is',\n",
       " 'an',\n",
       " 'equal',\n",
       " 'opportunity',\n",
       " 'employer']"
      ]
     },
     "execution_count": 70,
     "metadata": {},
     "output_type": "execute_result"
    }
   ],
   "source": [
    "from nltk.tokenize import MWETokenizer # multi-word expression\n",
    "\n",
    "mwe_tokenizer = MWETokenizer([\n",
    "    ('machine', 'learning'),\n",
    "    ('computer', 'science'),\n",
    "    ('deep', 'learning'),\n",
    "    ('software', 'development'),\n",
    "    ('neural', 'networks'),\n",
    "    ('project', 'management'),\n",
    "    ('product', 'management'),\n",
    "    ('software', 'engineering'),\n",
    "    ('data', 'engineering'),\n",
    "    ('database', 'administration'),\n",
    "])\n",
    "\n",
    "mwe_tokens = mwe_tokenizer.tokenize(word_tokenize(clean_text))\n",
    "\n",
    "mwe_tokens"
   ]
  },
  {
   "cell_type": "code",
   "execution_count": 66,
   "metadata": {},
   "outputs": [
    {
     "name": "stdout",
     "output_type": "stream",
     "text": [
      "(S\n",
      "  (PERSON Mark/NNP)\n",
      "  and/CC\n",
      "  (PERSON John/NNP)\n",
      "  are/VBP\n",
      "  working/VBG\n",
      "  at/IN\n",
      "  (ORGANIZATION Google/NNP)\n",
      "  in/IN\n",
      "  the/DT\n",
      "  (GPE United/NNP States/NNPS)\n",
      "  on/IN\n",
      "  machine/NN\n",
      "  learning/NN\n",
      "  ./.)\n"
     ]
    }
   ],
   "source": [
    "from nltk import word_tokenize, pos_tag, ne_chunk\n",
    " \n",
    "sentence = \"Mark and John are working at Google in the United States on machine learning.\"\n",
    " \n",
    "print(ne_chunk(pos_tag(word_tokenize(sentence))))\n",
    " "
   ]
  },
  {
   "cell_type": "code",
   "execution_count": null,
   "metadata": {},
   "outputs": [],
   "source": []
  },
  {
   "cell_type": "markdown",
   "metadata": {},
   "source": [
    "# Now we try LDA"
   ]
  },
  {
   "cell_type": "code",
   "execution_count": 8,
   "metadata": {},
   "outputs": [],
   "source": [
    "from __future__ import print_function"
   ]
  },
  {
   "cell_type": "code",
   "execution_count": 173,
   "metadata": {},
   "outputs": [],
   "source": [
    "# gensim\n",
    "from gensim import corpora, models, similarities, matutils\n",
    "# sklearn\n",
    "from sklearn import datasets\n",
    "from sklearn.feature_extraction.text import CountVectorizer\n",
    "from sklearn.cluster import KMeans\n",
    "# logging for gensim (set to INFO)\n",
    "import logging\n",
    "logging.basicConfig(format='%(asctime)s : %(levelname)s : %(message)s', level=logging.INFO)"
   ]
  },
  {
   "cell_type": "code",
   "execution_count": 174,
   "metadata": {},
   "outputs": [],
   "source": [
    "cv.fit(job_descriptions)\n",
    "# Create the term-document matrix\n",
    "# Transpose it so the terms are the rows\n",
    "counts = cv.transform(job_descriptions).transpose()"
   ]
  },
  {
   "cell_type": "markdown",
   "metadata": {
    "run_control": {
     "frozen": false,
     "read_only": false
    }
   },
   "source": [
    "#### Convert to gensim\n",
    "We need to convert our sparse `scipy` matrix to a `gensim`-friendly object called a Corpus. This is also essential for term-document matrices that are larger than local memory."
   ]
  },
  {
   "cell_type": "code",
   "execution_count": 175,
   "metadata": {},
   "outputs": [],
   "source": [
    "# Convert sparse matrix of counts to a gensim corpus\n",
    "corpus = matutils.Sparse2Corpus(counts)"
   ]
  },
  {
   "cell_type": "markdown",
   "metadata": {
    "run_control": {
     "frozen": false,
     "read_only": false
    }
   },
   "source": [
    "#### Map matrix rows to words (tokens)\n",
    "We need to save a mapping (dict) of row id to word (token) for later use by gensim:"
   ]
  },
  {
   "cell_type": "code",
   "execution_count": 176,
   "metadata": {
    "run_control": {
     "frozen": false,
     "read_only": false
    }
   },
   "outputs": [],
   "source": [
    "id2word = dict((v, k) for k, v in cv.vocabulary_.items())"
   ]
  },
  {
   "cell_type": "code",
   "execution_count": 177,
   "metadata": {
    "run_control": {
     "frozen": false,
     "read_only": false
    }
   },
   "outputs": [
    {
     "data": {
      "text/plain": [
       "11127"
      ]
     },
     "execution_count": 177,
     "metadata": {},
     "output_type": "execute_result"
    }
   ],
   "source": [
    "len(id2word)"
   ]
  },
  {
   "cell_type": "markdown",
   "metadata": {
    "run_control": {
     "frozen": false,
     "read_only": false
    }
   },
   "source": [
    "At this point, we can create an LDA model. It requires our corpus of word counts, mapping of row ids to words, and our selection of `num_topics`."
   ]
  },
  {
   "cell_type": "code",
   "execution_count": 191,
   "metadata": {},
   "outputs": [
    {
     "data": {
      "text/plain": [
       "gensim.models.ldamodel.LdaModel"
      ]
     },
     "execution_count": 191,
     "metadata": {},
     "output_type": "execute_result"
    }
   ],
   "source": [
    "type(lda)"
   ]
  },
  {
   "cell_type": "markdown",
   "metadata": {
    "run_control": {
     "frozen": false,
     "read_only": false
    }
   },
   "source": [
    "Let's take a look at what happened.  Here are the 5 most important words for each topic we found:"
   ]
  },
  {
   "cell_type": "code",
   "execution_count": 161,
   "metadata": {
    "collapsed": true
   },
   "outputs": [
    {
     "name": "stderr",
     "output_type": "stream",
     "text": [
      "2018-11-13 13:01:45,835 : INFO : topic #0 (0.333): 0.004*\"national\" + 0.004*\"data\" + 0.004*\"status\" + 0.004*\"experience\" + 0.004*\"race\" + 0.004*\"disability\" + 0.004*\"opportunity\" + 0.004*\"origin\" + 0.004*\"religion\" + 0.004*\"equal\"\n",
      "2018-11-13 13:01:45,836 : INFO : topic #1 (0.333): 0.005*\"data\" + 0.005*\"experience\" + 0.005*\"work\" + 0.004*\"team\" + 0.004*\"science\" + 0.004*\"skills\" + 0.004*\"machine\" + 0.004*\"python\" + 0.004*\"learning\" + 0.004*\"scientist\"\n",
      "2018-11-13 13:01:45,837 : INFO : topic #2 (0.333): 0.005*\"data\" + 0.005*\"experience\" + 0.004*\"business\" + 0.004*\"work\" + 0.004*\"team\" + 0.004*\"science\" + 0.004*\"years\" + 0.004*\"skills\" + 0.004*\"python\" + 0.004*\"analysis\"\n"
     ]
    },
    {
     "data": {
      "text/plain": [
       "[(0,\n",
       "  '0.004*\"national\" + 0.004*\"data\" + 0.004*\"status\" + 0.004*\"experience\" + 0.004*\"race\" + 0.004*\"disability\" + 0.004*\"opportunity\" + 0.004*\"origin\" + 0.004*\"religion\" + 0.004*\"equal\"'),\n",
       " (1,\n",
       "  '0.005*\"data\" + 0.005*\"experience\" + 0.005*\"work\" + 0.004*\"team\" + 0.004*\"science\" + 0.004*\"skills\" + 0.004*\"machine\" + 0.004*\"python\" + 0.004*\"learning\" + 0.004*\"scientist\"'),\n",
       " (2,\n",
       "  '0.005*\"data\" + 0.005*\"experience\" + 0.004*\"business\" + 0.004*\"work\" + 0.004*\"team\" + 0.004*\"science\" + 0.004*\"years\" + 0.004*\"skills\" + 0.004*\"python\" + 0.004*\"analysis\"')]"
      ]
     },
     "execution_count": 161,
     "metadata": {},
     "output_type": "execute_result"
    }
   ],
   "source": [
    "lda.print_topics() # 3 topics, 1 ngrams"
   ]
  },
  {
   "cell_type": "code",
   "execution_count": 159,
   "metadata": {
    "collapsed": true,
    "run_control": {
     "frozen": false,
     "read_only": false
    }
   },
   "outputs": [
    {
     "name": "stderr",
     "output_type": "stream",
     "text": [
      "2018-11-13 12:59:36,996 : INFO : topic #0 (0.200): 0.004*\"national\" + 0.004*\"race\" + 0.004*\"religion\" + 0.004*\"origin\" + 0.004*\"color\" + 0.004*\"equal\" + 0.004*\"disability\" + 0.004*\"status\" + 0.004*\"employment\" + 0.004*\"veteran\"\n",
      "2018-11-13 12:59:36,998 : INFO : topic #1 (0.200): 0.004*\"work\" + 0.004*\"data\" + 0.004*\"experience\" + 0.004*\"team\" + 0.004*\"science\" + 0.004*\"learning\" + 0.004*\"skills\" + 0.003*\"scientist\" + 0.003*\"company\" + 0.003*\"statistics\"\n",
      "2018-11-13 12:59:36,998 : INFO : topic #2 (0.200): 0.005*\"data\" + 0.005*\"experience\" + 0.005*\"skills\" + 0.004*\"business\" + 0.004*\"work\" + 0.004*\"ability\" + 0.004*\"analysis\" + 0.004*\"python\" + 0.004*\"science\" + 0.004*\"statistical\"\n",
      "2018-11-13 12:59:36,999 : INFO : topic #3 (0.200): 0.006*\"data\" + 0.005*\"experience\" + 0.005*\"learning\" + 0.005*\"team\" + 0.005*\"python\" + 0.005*\"machine\" + 0.004*\"work\" + 0.004*\"science\" + 0.004*\"scientist\" + 0.004*\"years\"\n",
      "2018-11-13 12:59:37,000 : INFO : topic #4 (0.200): 0.004*\"experience\" + 0.004*\"data\" + 0.004*\"years\" + 0.004*\"work\" + 0.004*\"development\" + 0.003*\"skills\" + 0.003*\"business\" + 0.003*\"team\" + 0.003*\"responsibilities\" + 0.003*\"understanding\"\n"
     ]
    },
    {
     "data": {
      "text/plain": [
       "[(0,\n",
       "  '0.004*\"national\" + 0.004*\"race\" + 0.004*\"religion\" + 0.004*\"origin\" + 0.004*\"color\" + 0.004*\"equal\" + 0.004*\"disability\" + 0.004*\"status\" + 0.004*\"employment\" + 0.004*\"veteran\"'),\n",
       " (1,\n",
       "  '0.004*\"work\" + 0.004*\"data\" + 0.004*\"experience\" + 0.004*\"team\" + 0.004*\"science\" + 0.004*\"learning\" + 0.004*\"skills\" + 0.003*\"scientist\" + 0.003*\"company\" + 0.003*\"statistics\"'),\n",
       " (2,\n",
       "  '0.005*\"data\" + 0.005*\"experience\" + 0.005*\"skills\" + 0.004*\"business\" + 0.004*\"work\" + 0.004*\"ability\" + 0.004*\"analysis\" + 0.004*\"python\" + 0.004*\"science\" + 0.004*\"statistical\"'),\n",
       " (3,\n",
       "  '0.006*\"data\" + 0.005*\"experience\" + 0.005*\"learning\" + 0.005*\"team\" + 0.005*\"python\" + 0.005*\"machine\" + 0.004*\"work\" + 0.004*\"science\" + 0.004*\"scientist\" + 0.004*\"years\"'),\n",
       " (4,\n",
       "  '0.004*\"experience\" + 0.004*\"data\" + 0.004*\"years\" + 0.004*\"work\" + 0.004*\"development\" + 0.003*\"skills\" + 0.003*\"business\" + 0.003*\"team\" + 0.003*\"responsibilities\" + 0.003*\"understanding\"')]"
      ]
     },
     "execution_count": 159,
     "metadata": {},
     "output_type": "execute_result"
    }
   ],
   "source": [
    "# lda.print_topics() # 5 topics, 1 ngrams"
   ]
  },
  {
   "cell_type": "code",
   "execution_count": 163,
   "metadata": {
    "collapsed": true
   },
   "outputs": [
    {
     "name": "stderr",
     "output_type": "stream",
     "text": [
      "2018-11-13 13:03:12,061 : INFO : topic #0 (0.100): 0.004*\"data\" + 0.004*\"science\" + 0.004*\"experience\" + 0.004*\"team\" + 0.004*\"work\" + 0.004*\"learning\" + 0.003*\"python\" + 0.003*\"business\" + 0.003*\"new\" + 0.003*\"machine\"\n",
      "2018-11-13 13:03:12,062 : INFO : topic #1 (0.100): 0.005*\"data\" + 0.005*\"experience\" + 0.004*\"business\" + 0.004*\"skills\" + 0.004*\"scientist\" + 0.004*\"analytics\" + 0.004*\"years\" + 0.004*\"team\" + 0.004*\"science\" + 0.004*\"learning\"\n",
      "2018-11-13 13:03:12,063 : INFO : topic #2 (0.100): 0.005*\"experience\" + 0.005*\"data\" + 0.005*\"ability\" + 0.005*\"product\" + 0.004*\"looking\" + 0.004*\"analysis\" + 0.004*\"understand\" + 0.004*\"engineering\" + 0.004*\"science\" + 0.004*\"experiments\"\n",
      "2018-11-13 13:03:12,064 : INFO : topic #3 (0.100): 0.004*\"data\" + 0.004*\"analysis\" + 0.003*\"experience\" + 0.003*\"ability\" + 0.003*\"work\" + 0.003*\"years\" + 0.003*\"team\" + 0.003*\"new\" + 0.003*\"include\" + 0.003*\"responsibilities\"\n",
      "2018-11-13 13:03:12,065 : INFO : topic #4 (0.100): 0.004*\"experience\" + 0.004*\"data\" + 0.003*\"work\" + 0.003*\"employment\" + 0.003*\"python\" + 0.003*\"related\" + 0.003*\"analysis\" + 0.003*\"science\" + 0.003*\"job\" + 0.003*\"applicants\"\n",
      "2018-11-13 13:03:12,066 : INFO : topic #5 (0.100): 0.006*\"data\" + 0.005*\"experience\" + 0.005*\"work\" + 0.005*\"business\" + 0.005*\"skills\" + 0.005*\"python\" + 0.004*\"science\" + 0.004*\"team\" + 0.004*\"analysis\" + 0.004*\"years\"\n",
      "2018-11-13 13:03:12,067 : INFO : topic #6 (0.100): 0.005*\"experience\" + 0.005*\"data\" + 0.005*\"learning\" + 0.005*\"python\" + 0.005*\"machine\" + 0.004*\"work\" + 0.004*\"team\" + 0.004*\"company\" + 0.004*\"working\" + 0.004*\"science\"\n",
      "2018-11-13 13:03:12,068 : INFO : topic #7 (0.100): 0.004*\"data\" + 0.004*\"experience\" + 0.004*\"skills\" + 0.004*\"business\" + 0.004*\"work\" + 0.004*\"statistics\" + 0.004*\"looking\" + 0.004*\"scientist\" + 0.004*\"make\" + 0.004*\"team\"\n",
      "2018-11-13 13:03:12,069 : INFO : topic #8 (0.100): 0.005*\"data\" + 0.005*\"experience\" + 0.004*\"team\" + 0.004*\"work\" + 0.004*\"skills\" + 0.004*\"learning\" + 0.004*\"python\" + 0.004*\"science\" + 0.004*\"machine\" + 0.004*\"problems\"\n",
      "2018-11-13 13:03:12,069 : INFO : topic #9 (0.100): 0.005*\"data\" + 0.004*\"experience\" + 0.004*\"skills\" + 0.004*\"work\" + 0.004*\"scientist\" + 0.004*\"required\" + 0.004*\"ability\" + 0.004*\"team\" + 0.003*\"clinical\" + 0.003*\"years\"\n"
     ]
    },
    {
     "data": {
      "text/plain": [
       "[(0,\n",
       "  '0.004*\"data\" + 0.004*\"science\" + 0.004*\"experience\" + 0.004*\"team\" + 0.004*\"work\" + 0.004*\"learning\" + 0.003*\"python\" + 0.003*\"business\" + 0.003*\"new\" + 0.003*\"machine\"'),\n",
       " (1,\n",
       "  '0.005*\"data\" + 0.005*\"experience\" + 0.004*\"business\" + 0.004*\"skills\" + 0.004*\"scientist\" + 0.004*\"analytics\" + 0.004*\"years\" + 0.004*\"team\" + 0.004*\"science\" + 0.004*\"learning\"'),\n",
       " (2,\n",
       "  '0.005*\"experience\" + 0.005*\"data\" + 0.005*\"ability\" + 0.005*\"product\" + 0.004*\"looking\" + 0.004*\"analysis\" + 0.004*\"understand\" + 0.004*\"engineering\" + 0.004*\"science\" + 0.004*\"experiments\"'),\n",
       " (3,\n",
       "  '0.004*\"data\" + 0.004*\"analysis\" + 0.003*\"experience\" + 0.003*\"ability\" + 0.003*\"work\" + 0.003*\"years\" + 0.003*\"team\" + 0.003*\"new\" + 0.003*\"include\" + 0.003*\"responsibilities\"'),\n",
       " (4,\n",
       "  '0.004*\"experience\" + 0.004*\"data\" + 0.003*\"work\" + 0.003*\"employment\" + 0.003*\"python\" + 0.003*\"related\" + 0.003*\"analysis\" + 0.003*\"science\" + 0.003*\"job\" + 0.003*\"applicants\"'),\n",
       " (5,\n",
       "  '0.006*\"data\" + 0.005*\"experience\" + 0.005*\"work\" + 0.005*\"business\" + 0.005*\"skills\" + 0.005*\"python\" + 0.004*\"science\" + 0.004*\"team\" + 0.004*\"analysis\" + 0.004*\"years\"'),\n",
       " (6,\n",
       "  '0.005*\"experience\" + 0.005*\"data\" + 0.005*\"learning\" + 0.005*\"python\" + 0.005*\"machine\" + 0.004*\"work\" + 0.004*\"team\" + 0.004*\"company\" + 0.004*\"working\" + 0.004*\"science\"'),\n",
       " (7,\n",
       "  '0.004*\"data\" + 0.004*\"experience\" + 0.004*\"skills\" + 0.004*\"business\" + 0.004*\"work\" + 0.004*\"statistics\" + 0.004*\"looking\" + 0.004*\"scientist\" + 0.004*\"make\" + 0.004*\"team\"'),\n",
       " (8,\n",
       "  '0.005*\"data\" + 0.005*\"experience\" + 0.004*\"team\" + 0.004*\"work\" + 0.004*\"skills\" + 0.004*\"learning\" + 0.004*\"python\" + 0.004*\"science\" + 0.004*\"machine\" + 0.004*\"problems\"'),\n",
       " (9,\n",
       "  '0.005*\"data\" + 0.004*\"experience\" + 0.004*\"skills\" + 0.004*\"work\" + 0.004*\"scientist\" + 0.004*\"required\" + 0.004*\"ability\" + 0.004*\"team\" + 0.003*\"clinical\" + 0.003*\"years\"')]"
      ]
     },
     "execution_count": 163,
     "metadata": {},
     "output_type": "execute_result"
    }
   ],
   "source": [
    "lda.print_topics() # 10 topics, 1 ngrams"
   ]
  },
  {
   "cell_type": "code",
   "execution_count": 179,
   "metadata": {
    "collapsed": true
   },
   "outputs": [
    {
     "name": "stderr",
     "output_type": "stream",
     "text": [
      "2018-11-13 13:06:28,781 : INFO : topic #0 (0.100): 0.004*\"experience\" + 0.004*\"data\" + 0.003*\"scientist\" + 0.003*\"data scientist\" + 0.003*\"machine learning\" + 0.003*\"machine\" + 0.003*\"learning\" + 0.003*\"job\" + 0.003*\"work\" + 0.003*\"python\"\n",
      "2018-11-13 13:06:28,783 : INFO : topic #1 (0.100): 0.003*\"data\" + 0.003*\"experience\" + 0.003*\"team\" + 0.003*\"science\" + 0.003*\"new\" + 0.003*\"work\" + 0.003*\"business\" + 0.003*\"learning\" + 0.003*\"models\" + 0.003*\"scientist\"\n",
      "2018-11-13 13:06:28,784 : INFO : topic #2 (0.100): 0.004*\"data\" + 0.003*\"experience\" + 0.003*\"work\" + 0.003*\"learning\" + 0.003*\"data scientist\" + 0.003*\"scientist\" + 0.003*\"science\" + 0.003*\"python\" + 0.003*\"skills\" + 0.003*\"business\"\n",
      "2018-11-13 13:06:28,786 : INFO : topic #3 (0.100): 0.003*\"data\" + 0.003*\"experience\" + 0.003*\"work\" + 0.002*\"science\" + 0.002*\"team\" + 0.002*\"skills\" + 0.002*\"python\" + 0.002*\"years\" + 0.002*\"analysis\" + 0.002*\"ability\"\n",
      "2018-11-13 13:06:28,787 : INFO : topic #4 (0.100): 0.003*\"data\" + 0.003*\"experience\" + 0.002*\"science\" + 0.002*\"learning\" + 0.002*\"skills\" + 0.002*\"machine\" + 0.002*\"machine learning\" + 0.002*\"work\" + 0.002*\"python\" + 0.002*\"business\"\n",
      "2018-11-13 13:06:28,787 : INFO : topic #5 (0.100): 0.003*\"data\" + 0.003*\"analysis\" + 0.003*\"experience\" + 0.003*\"statistical\" + 0.002*\"years\" + 0.002*\"skills\" + 0.002*\"work\" + 0.002*\"ability\" + 0.002*\"scientist\" + 0.002*\"team\"\n",
      "2018-11-13 13:06:28,788 : INFO : topic #6 (0.100): 0.003*\"experience\" + 0.003*\"python\" + 0.003*\"data\" + 0.003*\"team\" + 0.003*\"work\" + 0.002*\"company\" + 0.002*\"product\" + 0.002*\"skills\" + 0.002*\"science\" + 0.002*\"statistical\"\n",
      "2018-11-13 13:06:28,789 : INFO : topic #7 (0.100): 0.003*\"data\" + 0.003*\"experience\" + 0.003*\"team\" + 0.003*\"work\" + 0.003*\"python\" + 0.003*\"learning\" + 0.003*\"years\" + 0.003*\"machine\" + 0.002*\"skills\" + 0.002*\"machine learning\"\n",
      "2018-11-13 13:06:28,790 : INFO : topic #8 (0.100): 0.003*\"experience\" + 0.003*\"analysis\" + 0.003*\"data\" + 0.003*\"intelligence\" + 0.003*\"requirements\" + 0.002*\"computer\" + 0.002*\"problems\" + 0.002*\"position\" + 0.002*\"strong\" + 0.002*\"techniques\"\n",
      "2018-11-13 13:06:28,791 : INFO : topic #9 (0.100): 0.003*\"data\" + 0.003*\"skills\" + 0.003*\"experience\" + 0.003*\"work\" + 0.003*\"statistical\" + 0.003*\"ability\" + 0.003*\"required\" + 0.002*\"business\" + 0.002*\"scientist\" + 0.002*\"including\"\n"
     ]
    },
    {
     "data": {
      "text/plain": [
       "[(0,\n",
       "  '0.004*\"experience\" + 0.004*\"data\" + 0.003*\"scientist\" + 0.003*\"data scientist\" + 0.003*\"machine learning\" + 0.003*\"machine\" + 0.003*\"learning\" + 0.003*\"job\" + 0.003*\"work\" + 0.003*\"python\"'),\n",
       " (1,\n",
       "  '0.003*\"data\" + 0.003*\"experience\" + 0.003*\"team\" + 0.003*\"science\" + 0.003*\"new\" + 0.003*\"work\" + 0.003*\"business\" + 0.003*\"learning\" + 0.003*\"models\" + 0.003*\"scientist\"'),\n",
       " (2,\n",
       "  '0.004*\"data\" + 0.003*\"experience\" + 0.003*\"work\" + 0.003*\"learning\" + 0.003*\"data scientist\" + 0.003*\"scientist\" + 0.003*\"science\" + 0.003*\"python\" + 0.003*\"skills\" + 0.003*\"business\"'),\n",
       " (3,\n",
       "  '0.003*\"data\" + 0.003*\"experience\" + 0.003*\"work\" + 0.002*\"science\" + 0.002*\"team\" + 0.002*\"skills\" + 0.002*\"python\" + 0.002*\"years\" + 0.002*\"analysis\" + 0.002*\"ability\"'),\n",
       " (4,\n",
       "  '0.003*\"data\" + 0.003*\"experience\" + 0.002*\"science\" + 0.002*\"learning\" + 0.002*\"skills\" + 0.002*\"machine\" + 0.002*\"machine learning\" + 0.002*\"work\" + 0.002*\"python\" + 0.002*\"business\"'),\n",
       " (5,\n",
       "  '0.003*\"data\" + 0.003*\"analysis\" + 0.003*\"experience\" + 0.003*\"statistical\" + 0.002*\"years\" + 0.002*\"skills\" + 0.002*\"work\" + 0.002*\"ability\" + 0.002*\"scientist\" + 0.002*\"team\"'),\n",
       " (6,\n",
       "  '0.003*\"experience\" + 0.003*\"python\" + 0.003*\"data\" + 0.003*\"team\" + 0.003*\"work\" + 0.002*\"company\" + 0.002*\"product\" + 0.002*\"skills\" + 0.002*\"science\" + 0.002*\"statistical\"'),\n",
       " (7,\n",
       "  '0.003*\"data\" + 0.003*\"experience\" + 0.003*\"team\" + 0.003*\"work\" + 0.003*\"python\" + 0.003*\"learning\" + 0.003*\"years\" + 0.003*\"machine\" + 0.002*\"skills\" + 0.002*\"machine learning\"'),\n",
       " (8,\n",
       "  '0.003*\"experience\" + 0.003*\"analysis\" + 0.003*\"data\" + 0.003*\"intelligence\" + 0.003*\"requirements\" + 0.002*\"computer\" + 0.002*\"problems\" + 0.002*\"position\" + 0.002*\"strong\" + 0.002*\"techniques\"'),\n",
       " (9,\n",
       "  '0.003*\"data\" + 0.003*\"skills\" + 0.003*\"experience\" + 0.003*\"work\" + 0.003*\"statistical\" + 0.003*\"ability\" + 0.003*\"required\" + 0.002*\"business\" + 0.002*\"scientist\" + 0.002*\"including\"')]"
      ]
     },
     "execution_count": 179,
     "metadata": {},
     "output_type": "execute_result"
    }
   ],
   "source": [
    "lda.print_topics() # 10 topics, 2 ngrams"
   ]
  },
  {
   "cell_type": "code",
   "execution_count": 203,
   "metadata": {
    "collapsed": true,
    "run_control": {
     "frozen": false,
     "read_only": false
    }
   },
   "outputs": [
    {
     "name": "stderr",
     "output_type": "stream",
     "text": [
      "2018-11-13 13:33:42,245 : INFO : using autotuned alpha, starting with [0.1, 0.1, 0.1, 0.1, 0.1, 0.1, 0.1, 0.1, 0.1, 0.1]\n",
      "2018-11-13 13:33:42,247 : INFO : using serial LDA version on this node\n",
      "2018-11-13 13:33:42,258 : INFO : running online (multi-pass) LDA training, 10 topics, 10 passes over the supplied corpus of 864 documents, updating model once every 864 documents, evaluating perplexity every 864 documents, iterating 50x with a convergence threshold of 0.001000\n",
      "2018-11-13 13:33:44,895 : INFO : -12.205 per-word bound, 4721.5 perplexity estimate based on a held-out corpus of 864 documents with 266881 words\n",
      "2018-11-13 13:33:44,896 : INFO : PROGRESS: pass 0, at document #864/864\n",
      "2018-11-13 13:33:45,821 : INFO : optimized alpha [0.18760604, 0.17225592, 0.18321985, 0.17945519, 0.18426305, 0.1814042, 0.18447064, 0.17309329, 0.17600399, 0.16562086]\n",
      "2018-11-13 13:33:45,832 : INFO : topic #9 (0.166): 0.003*\"team\" + 0.003*\"skills\" + 0.003*\"science\" + 0.003*\"working\" + 0.003*\"experience\" + 0.002*\"data\" + 0.002*\"knowledge\" + 0.002*\"years\" + 0.002*\"python\" + 0.002*\"new\"\n",
      "2018-11-13 13:33:45,833 : INFO : topic #1 (0.172): 0.003*\"data\" + 0.003*\"team\" + 0.003*\"experience\" + 0.003*\"science\" + 0.003*\"years\" + 0.003*\"work\" + 0.003*\"skills\" + 0.003*\"scientist\" + 0.002*\"business\" + 0.002*\"using\"\n",
      "2018-11-13 13:33:45,833 : INFO : topic #4 (0.184): 0.003*\"data\" + 0.003*\"python\" + 0.003*\"business\" + 0.003*\"skills\" + 0.003*\"experience\" + 0.003*\"science\" + 0.003*\"machine\" + 0.003*\"strong\" + 0.003*\"team\" + 0.002*\"statistical\"\n",
      "2018-11-13 13:33:45,834 : INFO : topic #6 (0.184): 0.003*\"experience\" + 0.003*\"work\" + 0.003*\"data\" + 0.003*\"team\" + 0.003*\"data scientist\" + 0.003*\"skills\" + 0.003*\"science\" + 0.003*\"company\" + 0.003*\"years\" + 0.002*\"machine\"\n",
      "2018-11-13 13:33:45,835 : INFO : topic #0 (0.188): 0.005*\"data\" + 0.003*\"experience\" + 0.003*\"python\" + 0.003*\"work\" + 0.003*\"years\" + 0.003*\"team\" + 0.003*\"learning\" + 0.003*\"new\" + 0.003*\"analysis\" + 0.003*\"science\"\n",
      "2018-11-13 13:33:45,836 : INFO : topic diff=1.571742, rho=1.000000\n",
      "2018-11-13 13:33:48,570 : INFO : -10.815 per-word bound, 1801.5 perplexity estimate based on a held-out corpus of 864 documents with 266881 words\n",
      "2018-11-13 13:33:48,571 : INFO : PROGRESS: pass 1, at document #864/864\n",
      "2018-11-13 13:33:49,441 : INFO : optimized alpha [0.20709839, 0.094870649, 0.17426373, 0.13442037, 0.18045284, 0.14744022, 0.18845902, 0.095694706, 0.10206316, 0.084825456]\n",
      "2018-11-13 13:33:49,452 : INFO : topic #9 (0.085): 0.003*\"skills\" + 0.003*\"team\" + 0.003*\"experience\" + 0.002*\"years\" + 0.002*\"data\" + 0.002*\"science\" + 0.002*\"knowledge\" + 0.002*\"working\" + 0.002*\"ability\" + 0.002*\"python\"\n",
      "2018-11-13 13:33:49,453 : INFO : topic #1 (0.095): 0.004*\"data\" + 0.003*\"experience\" + 0.003*\"team\" + 0.003*\"years\" + 0.003*\"work\" + 0.003*\"science\" + 0.003*\"skills\" + 0.003*\"scientist\" + 0.002*\"business\" + 0.002*\"degree\"\n",
      "2018-11-13 13:33:49,454 : INFO : topic #4 (0.180): 0.003*\"data\" + 0.003*\"python\" + 0.003*\"business\" + 0.003*\"experience\" + 0.003*\"science\" + 0.003*\"skills\" + 0.002*\"team\" + 0.002*\"statistical\" + 0.002*\"machine\" + 0.002*\"strong\"\n",
      "2018-11-13 13:33:49,455 : INFO : topic #6 (0.188): 0.003*\"experience\" + 0.003*\"work\" + 0.003*\"data\" + 0.003*\"team\" + 0.003*\"science\" + 0.003*\"skills\" + 0.003*\"machine\" + 0.003*\"machine learning\" + 0.003*\"data scientist\" + 0.003*\"years\"\n",
      "2018-11-13 13:33:49,456 : INFO : topic #0 (0.207): 0.004*\"data\" + 0.003*\"experience\" + 0.003*\"python\" + 0.003*\"work\" + 0.003*\"team\" + 0.003*\"years\" + 0.003*\"learning\" + 0.003*\"new\" + 0.003*\"science\" + 0.003*\"analysis\"\n",
      "2018-11-13 13:33:49,457 : INFO : topic diff=1.352016, rho=0.577350\n",
      "2018-11-13 13:33:52,212 : INFO : -10.545 per-word bound, 1494.5 perplexity estimate based on a held-out corpus of 864 documents with 266881 words\n",
      "2018-11-13 13:33:52,213 : INFO : PROGRESS: pass 2, at document #864/864\n",
      "2018-11-13 13:33:53,019 : INFO : optimized alpha [0.18326265, 0.071597487, 0.14590526, 0.095493697, 0.14273202, 0.10737841, 0.15578426, 0.070648707, 0.072951399, 0.063946106]\n",
      "2018-11-13 13:33:53,029 : INFO : topic #9 (0.064): 0.003*\"skills\" + 0.003*\"team\" + 0.003*\"experience\" + 0.002*\"years\" + 0.002*\"data\" + 0.002*\"development\" + 0.002*\"python\" + 0.002*\"ability\" + 0.002*\"work\" + 0.002*\"analysis\"\n",
      "2018-11-13 13:33:53,030 : INFO : topic #7 (0.071): 0.003*\"data\" + 0.003*\"work\" + 0.003*\"experience\" + 0.003*\"science\" + 0.003*\"skills\" + 0.003*\"business\" + 0.003*\"team\" + 0.002*\"python\" + 0.002*\"years\" + 0.002*\"scientist\"\n",
      "2018-11-13 13:33:53,032 : INFO : topic #2 (0.146): 0.003*\"work\" + 0.003*\"experience\" + 0.002*\"science\" + 0.002*\"data\" + 0.002*\"team\" + 0.002*\"skills\" + 0.002*\"learning\" + 0.002*\"religion\" + 0.002*\"python\" + 0.002*\"disability\"\n",
      "2018-11-13 13:33:53,033 : INFO : topic #6 (0.156): 0.003*\"experience\" + 0.003*\"data\" + 0.003*\"work\" + 0.003*\"team\" + 0.003*\"science\" + 0.003*\"skills\" + 0.003*\"machine\" + 0.003*\"learning\" + 0.003*\"machine learning\" + 0.003*\"python\"\n",
      "2018-11-13 13:33:53,034 : INFO : topic #0 (0.183): 0.004*\"data\" + 0.003*\"experience\" + 0.003*\"python\" + 0.003*\"work\" + 0.003*\"team\" + 0.003*\"years\" + 0.003*\"science\" + 0.003*\"business\" + 0.003*\"skills\" + 0.003*\"new\"\n",
      "2018-11-13 13:33:53,035 : INFO : topic diff=inf, rho=0.500000\n",
      "2018-11-13 13:33:55,600 : INFO : -10.342 per-word bound, 1298.3 perplexity estimate based on a held-out corpus of 864 documents with 266881 words\n",
      "2018-11-13 13:33:55,600 : INFO : PROGRESS: pass 3, at document #864/864\n",
      "2018-11-13 13:33:56,366 : INFO : optimized alpha [0.16353157, 0.059905749, 0.12780201, 0.077830777, 0.12105089, 0.088447258, 0.13453484, 0.05782764, 0.059000965, 0.052953739]\n",
      "/Users/user/anaconda3/lib/python3.6/site-packages/gensim/models/ldamodel.py:1023: RuntimeWarning: divide by zero encountered in log\n",
      "  diff = np.log(self.expElogbeta)\n",
      "2018-11-13 13:33:56,378 : INFO : topic #9 (0.053): 0.003*\"skills\" + 0.003*\"team\" + 0.003*\"experience\" + 0.002*\"years\" + 0.002*\"data\" + 0.002*\"development\" + 0.002*\"python\" + 0.002*\"analysis\" + 0.002*\"work\" + 0.002*\"ability\"\n",
      "2018-11-13 13:33:56,379 : INFO : topic #7 (0.058): 0.003*\"data\" + 0.003*\"work\" + 0.003*\"experience\" + 0.003*\"science\" + 0.003*\"skills\" + 0.003*\"years\" + 0.003*\"python\" + 0.003*\"scientist\" + 0.003*\"business\" + 0.002*\"data scientist\"\n",
      "2018-11-13 13:33:56,380 : INFO : topic #2 (0.128): 0.003*\"experience\" + 0.002*\"data\" + 0.002*\"work\" + 0.002*\"disability\" + 0.002*\"religion\" + 0.002*\"race\" + 0.002*\"team\" + 0.002*\"science\" + 0.002*\"national\" + 0.002*\"origin\"\n",
      "2018-11-13 13:33:56,381 : INFO : topic #6 (0.135): 0.003*\"experience\" + 0.003*\"data\" + 0.003*\"work\" + 0.003*\"team\" + 0.003*\"learning\" + 0.003*\"machine\" + 0.003*\"science\" + 0.003*\"machine learning\" + 0.003*\"skills\" + 0.003*\"python\"\n",
      "2018-11-13 13:33:56,382 : INFO : topic #0 (0.164): 0.004*\"data\" + 0.003*\"experience\" + 0.003*\"python\" + 0.003*\"work\" + 0.003*\"team\" + 0.003*\"business\" + 0.003*\"science\" + 0.003*\"skills\" + 0.003*\"years\" + 0.003*\"analysis\"\n",
      "2018-11-13 13:33:56,383 : INFO : topic diff=inf, rho=0.447214\n",
      "2018-11-13 13:33:58,945 : INFO : -10.183 per-word bound, 1162.2 perplexity estimate based on a held-out corpus of 864 documents with 266881 words\n",
      "2018-11-13 13:33:58,946 : INFO : PROGRESS: pass 4, at document #864/864\n",
      "2018-11-13 13:33:59,699 : INFO : optimized alpha [0.15020624, 0.053087674, 0.11622138, 0.067282699, 0.1080979, 0.07788609, 0.12179232, 0.049896177, 0.050551403, 0.046198558]\n",
      "2018-11-13 13:33:59,710 : INFO : topic #9 (0.046): 0.003*\"skills\" + 0.003*\"team\" + 0.003*\"development\" + 0.002*\"experience\" + 0.002*\"data\" + 0.002*\"years\" + 0.002*\"python\" + 0.002*\"analysis\" + 0.002*\"opportunity\" + 0.002*\"work\"\n",
      "2018-11-13 13:33:59,712 : INFO : topic #7 (0.050): 0.003*\"data\" + 0.003*\"work\" + 0.003*\"experience\" + 0.003*\"years\" + 0.003*\"science\" + 0.003*\"skills\" + 0.003*\"scientist\" + 0.003*\"data scientist\" + 0.003*\"python\" + 0.003*\"development\"\n",
      "2018-11-13 13:33:59,712 : INFO : topic #2 (0.116): 0.003*\"disability\" + 0.003*\"race\" + 0.003*\"religion\" + 0.003*\"national\" + 0.003*\"data\" + 0.003*\"experience\" + 0.002*\"origin\" + 0.002*\"color\" + 0.002*\"work\" + 0.002*\"national origin\"\n",
      "2018-11-13 13:33:59,713 : INFO : topic #6 (0.122): 0.003*\"experience\" + 0.003*\"data\" + 0.003*\"work\" + 0.003*\"team\" + 0.003*\"learning\" + 0.003*\"machine\" + 0.003*\"machine learning\" + 0.003*\"science\" + 0.003*\"skills\" + 0.003*\"python\"\n"
     ]
    },
    {
     "name": "stderr",
     "output_type": "stream",
     "text": [
      "2018-11-13 13:33:59,714 : INFO : topic #0 (0.150): 0.004*\"data\" + 0.003*\"experience\" + 0.003*\"python\" + 0.003*\"work\" + 0.003*\"team\" + 0.003*\"business\" + 0.003*\"science\" + 0.003*\"skills\" + 0.003*\"analysis\" + 0.003*\"years\"\n",
      "2018-11-13 13:33:59,715 : INFO : topic diff=inf, rho=0.408248\n",
      "2018-11-13 13:34:02,274 : INFO : -10.047 per-word bound, 1057.7 perplexity estimate based on a held-out corpus of 864 documents with 266881 words\n",
      "2018-11-13 13:34:02,274 : INFO : PROGRESS: pass 5, at document #864/864\n",
      "2018-11-13 13:34:03,009 : INFO : optimized alpha [0.14168856, 0.048733663, 0.10845286, 0.060220808, 0.099178433, 0.071056016, 0.11326329, 0.044590466, 0.044797637, 0.041566994]\n",
      "2018-11-13 13:34:03,024 : INFO : topic #9 (0.042): 0.003*\"skills\" + 0.003*\"team\" + 0.003*\"development\" + 0.002*\"experience\" + 0.002*\"python\" + 0.002*\"data\" + 0.002*\"years\" + 0.002*\"analysis\" + 0.002*\"opportunity\" + 0.002*\"ability\"\n",
      "2018-11-13 13:34:03,025 : INFO : topic #7 (0.045): 0.003*\"work\" + 0.003*\"data\" + 0.003*\"experience\" + 0.003*\"years\" + 0.003*\"scientist\" + 0.003*\"data scientist\" + 0.003*\"science\" + 0.003*\"python\" + 0.003*\"skills\" + 0.003*\"engineering\"\n",
      "2018-11-13 13:34:03,026 : INFO : topic #2 (0.108): 0.003*\"disability\" + 0.003*\"race\" + 0.003*\"religion\" + 0.003*\"national\" + 0.003*\"origin\" + 0.003*\"color\" + 0.003*\"national origin\" + 0.003*\"veteran\" + 0.003*\"data\" + 0.003*\"status\"\n",
      "2018-11-13 13:34:03,028 : INFO : topic #6 (0.113): 0.004*\"experience\" + 0.003*\"data\" + 0.003*\"work\" + 0.003*\"learning\" + 0.003*\"team\" + 0.003*\"machine\" + 0.003*\"machine learning\" + 0.003*\"science\" + 0.003*\"python\" + 0.003*\"skills\"\n",
      "2018-11-13 13:34:03,029 : INFO : topic #0 (0.142): 0.004*\"data\" + 0.003*\"experience\" + 0.003*\"python\" + 0.003*\"work\" + 0.003*\"team\" + 0.003*\"business\" + 0.003*\"science\" + 0.003*\"skills\" + 0.003*\"analysis\" + 0.003*\"scientist\"\n",
      "2018-11-13 13:34:03,030 : INFO : topic diff=inf, rho=0.377964\n",
      "2018-11-13 13:34:05,763 : INFO : -9.927 per-word bound, 973.5 perplexity estimate based on a held-out corpus of 864 documents with 266881 words\n",
      "2018-11-13 13:34:05,763 : INFO : PROGRESS: pass 6, at document #864/864\n",
      "2018-11-13 13:34:06,544 : INFO : optimized alpha [0.13589005, 0.045655981, 0.10292628, 0.055174869, 0.092892751, 0.066360235, 0.10725125, 0.040755041, 0.040583394, 0.038192894]\n",
      "2018-11-13 13:34:06,558 : INFO : topic #9 (0.038): 0.003*\"skills\" + 0.003*\"team\" + 0.003*\"development\" + 0.002*\"python\" + 0.002*\"experience\" + 0.002*\"analysis\" + 0.002*\"data\" + 0.002*\"years\" + 0.002*\"opportunity\" + 0.002*\"ability\"\n",
      "2018-11-13 13:34:06,559 : INFO : topic #8 (0.041): 0.004*\"experience\" + 0.004*\"science\" + 0.004*\"data\" + 0.003*\"skills\" + 0.003*\"computer\" + 0.003*\"working\" + 0.003*\"ability\" + 0.003*\"work\" + 0.003*\"python\" + 0.003*\"computer science\"\n",
      "2018-11-13 13:34:06,560 : INFO : topic #2 (0.103): 0.003*\"disability\" + 0.003*\"race\" + 0.003*\"religion\" + 0.003*\"national\" + 0.003*\"origin\" + 0.003*\"color\" + 0.003*\"national origin\" + 0.003*\"veteran\" + 0.003*\"status\" + 0.003*\"equal\"\n",
      "2018-11-13 13:34:06,561 : INFO : topic #6 (0.107): 0.004*\"experience\" + 0.003*\"data\" + 0.003*\"learning\" + 0.003*\"work\" + 0.003*\"team\" + 0.003*\"machine\" + 0.003*\"machine learning\" + 0.003*\"science\" + 0.003*\"python\" + 0.003*\"skills\"\n",
      "2018-11-13 13:34:06,562 : INFO : topic #0 (0.136): 0.004*\"data\" + 0.003*\"experience\" + 0.003*\"python\" + 0.003*\"work\" + 0.003*\"team\" + 0.003*\"business\" + 0.003*\"skills\" + 0.003*\"science\" + 0.003*\"analysis\" + 0.003*\"scientist\"\n",
      "2018-11-13 13:34:06,562 : INFO : topic diff=inf, rho=0.353553\n",
      "2018-11-13 13:34:09,159 : INFO : -9.820 per-word bound, 904.0 perplexity estimate based on a held-out corpus of 864 documents with 266881 words\n",
      "2018-11-13 13:34:09,160 : INFO : PROGRESS: pass 7, at document #864/864\n",
      "2018-11-13 13:34:10,041 : INFO : optimized alpha [0.13169204, 0.043376703, 0.098816395, 0.051343374, 0.088124141, 0.062884644, 0.10295191, 0.037788015, 0.037390292, 0.035579778]\n",
      "2018-11-13 13:34:10,058 : INFO : topic #9 (0.036): 0.003*\"development\" + 0.003*\"skills\" + 0.003*\"team\" + 0.003*\"python\" + 0.002*\"analysis\" + 0.002*\"experience\" + 0.002*\"data\" + 0.002*\"years\" + 0.002*\"opportunity\" + 0.002*\"expertise\"\n",
      "2018-11-13 13:34:10,059 : INFO : topic #8 (0.037): 0.004*\"experience\" + 0.004*\"science\" + 0.004*\"data\" + 0.003*\"skills\" + 0.003*\"computer\" + 0.003*\"working\" + 0.003*\"ability\" + 0.003*\"computer science\" + 0.003*\"work\" + 0.003*\"python\"\n",
      "2018-11-13 13:34:10,060 : INFO : topic #2 (0.099): 0.003*\"disability\" + 0.003*\"race\" + 0.003*\"religion\" + 0.003*\"national\" + 0.003*\"origin\" + 0.003*\"color\" + 0.003*\"national origin\" + 0.003*\"veteran\" + 0.003*\"status\" + 0.003*\"equal\"\n",
      "2018-11-13 13:34:10,062 : INFO : topic #6 (0.103): 0.004*\"experience\" + 0.004*\"data\" + 0.003*\"learning\" + 0.003*\"team\" + 0.003*\"work\" + 0.003*\"machine\" + 0.003*\"machine learning\" + 0.003*\"science\" + 0.003*\"python\" + 0.003*\"skills\"\n",
      "2018-11-13 13:34:10,063 : INFO : topic #0 (0.132): 0.004*\"data\" + 0.003*\"experience\" + 0.003*\"python\" + 0.003*\"work\" + 0.003*\"team\" + 0.003*\"business\" + 0.003*\"skills\" + 0.003*\"science\" + 0.003*\"analysis\" + 0.003*\"scientist\"\n",
      "2018-11-13 13:34:10,063 : INFO : topic diff=inf, rho=0.333333\n",
      "2018-11-13 13:34:13,093 : INFO : -9.724 per-word bound, 845.8 perplexity estimate based on a held-out corpus of 864 documents with 266881 words\n",
      "2018-11-13 13:34:13,094 : INFO : PROGRESS: pass 8, at document #864/864\n",
      "2018-11-13 13:34:14,100 : INFO : optimized alpha [0.12831345, 0.041730564, 0.095794015, 0.048344702, 0.084417991, 0.060146075, 0.099677168, 0.035469517, 0.034904603, 0.033495128]\n",
      "2018-11-13 13:34:14,117 : INFO : topic #9 (0.033): 0.003*\"development\" + 0.003*\"skills\" + 0.003*\"team\" + 0.003*\"python\" + 0.002*\"analysis\" + 0.002*\"experience\" + 0.002*\"data\" + 0.002*\"years\" + 0.002*\"opportunity\" + 0.002*\"expertise\"\n",
      "2018-11-13 13:34:14,118 : INFO : topic #8 (0.035): 0.004*\"experience\" + 0.004*\"science\" + 0.004*\"data\" + 0.004*\"skills\" + 0.003*\"computer\" + 0.003*\"ability\" + 0.003*\"working\" + 0.003*\"computer science\" + 0.003*\"work\" + 0.003*\"machine\"\n",
      "2018-11-13 13:34:14,119 : INFO : topic #2 (0.096): 0.003*\"disability\" + 0.003*\"race\" + 0.003*\"religion\" + 0.003*\"origin\" + 0.003*\"national\" + 0.003*\"color\" + 0.003*\"national origin\" + 0.003*\"veteran\" + 0.003*\"status\" + 0.003*\"equal\"\n",
      "2018-11-13 13:34:14,120 : INFO : topic #6 (0.100): 0.004*\"experience\" + 0.004*\"data\" + 0.003*\"learning\" + 0.003*\"team\" + 0.003*\"machine\" + 0.003*\"machine learning\" + 0.003*\"work\" + 0.003*\"python\" + 0.003*\"science\" + 0.003*\"skills\"\n",
      "2018-11-13 13:34:14,121 : INFO : topic #0 (0.128): 0.003*\"data\" + 0.003*\"experience\" + 0.003*\"python\" + 0.003*\"work\" + 0.003*\"business\" + 0.003*\"team\" + 0.003*\"skills\" + 0.003*\"science\" + 0.003*\"analysis\" + 0.003*\"scientist\"\n",
      "2018-11-13 13:34:14,122 : INFO : topic diff=inf, rho=0.316228\n",
      "2018-11-13 13:34:16,901 : INFO : -9.638 per-word bound, 796.8 perplexity estimate based on a held-out corpus of 864 documents with 266881 words\n",
      "2018-11-13 13:34:16,901 : INFO : PROGRESS: pass 9, at document #864/864\n",
      "2018-11-13 13:34:17,833 : INFO : optimized alpha [0.12566315, 0.04047358, 0.093313865, 0.045942318, 0.081551574, 0.058006234, 0.097102463, 0.033586472, 0.032881878, 0.031767972]\n",
      "2018-11-13 13:34:17,853 : INFO : topic #9 (0.032): 0.003*\"development\" + 0.003*\"skills\" + 0.003*\"python\" + 0.003*\"team\" + 0.002*\"analysis\" + 0.002*\"experience\" + 0.002*\"data\" + 0.002*\"years\" + 0.002*\"opportunity\" + 0.002*\"expertise\"\n",
      "2018-11-13 13:34:17,854 : INFO : topic #8 (0.033): 0.004*\"experience\" + 0.004*\"science\" + 0.004*\"data\" + 0.004*\"skills\" + 0.003*\"computer\" + 0.003*\"computer science\" + 0.003*\"ability\" + 0.003*\"working\" + 0.003*\"work\" + 0.003*\"machine\"\n",
      "2018-11-13 13:34:17,855 : INFO : topic #2 (0.093): 0.003*\"disability\" + 0.003*\"race\" + 0.003*\"religion\" + 0.003*\"origin\" + 0.003*\"national\" + 0.003*\"national origin\" + 0.003*\"color\" + 0.003*\"status\" + 0.003*\"veteran\" + 0.003*\"equal\"\n",
      "2018-11-13 13:34:17,856 : INFO : topic #6 (0.097): 0.004*\"experience\" + 0.004*\"data\" + 0.003*\"learning\" + 0.003*\"machine\" + 0.003*\"machine learning\" + 0.003*\"team\" + 0.003*\"work\" + 0.003*\"python\" + 0.003*\"science\" + 0.003*\"skills\"\n",
      "2018-11-13 13:34:17,857 : INFO : topic #0 (0.126): 0.003*\"data\" + 0.003*\"experience\" + 0.003*\"python\" + 0.003*\"work\" + 0.003*\"business\" + 0.003*\"team\" + 0.003*\"skills\" + 0.003*\"science\" + 0.003*\"analysis\" + 0.003*\"scientist\"\n"
     ]
    },
    {
     "name": "stderr",
     "output_type": "stream",
     "text": [
      "2018-11-13 13:34:17,858 : INFO : topic diff=inf, rho=0.301511\n"
     ]
    }
   ],
   "source": [
    "# Create lda model (equivalent to \"fit\" in sklearn)\n",
    "lda = models.LdaModel(alpha='auto', corpus=corpus, num_topics=10, minimum_probability=0.03, id2word=id2word, passes=10, eta = 0.001)"
   ]
  },
  {
   "cell_type": "code",
   "execution_count": 198,
   "metadata": {},
   "outputs": [
    {
     "data": {
      "text/plain": [
       "array([ 0.50894791,  0.30484518,  0.3135291 , ...,  0.40335864,\n",
       "        0.26946664,  0.36234537], dtype=float32)"
      ]
     },
     "execution_count": 198,
     "metadata": {},
     "output_type": "execute_result"
    }
   ],
   "source": [
    "lda.eta"
   ]
  },
  {
   "cell_type": "code",
   "execution_count": 204,
   "metadata": {},
   "outputs": [
    {
     "name": "stderr",
     "output_type": "stream",
     "text": [
      "2018-11-13 13:34:17,876 : INFO : topic #0 (0.126): 0.003*\"data\" + 0.003*\"experience\" + 0.003*\"python\" + 0.003*\"work\" + 0.003*\"business\" + 0.003*\"team\" + 0.003*\"skills\" + 0.003*\"science\" + 0.003*\"analysis\" + 0.003*\"scientist\"\n",
      "2018-11-13 13:34:17,877 : INFO : topic #1 (0.040): 0.004*\"data\" + 0.004*\"experience\" + 0.004*\"years\" + 0.003*\"skills\" + 0.003*\"work\" + 0.003*\"ability\" + 0.003*\"scientist\" + 0.003*\"degree\" + 0.003*\"communication\" + 0.003*\"responsibilities\"\n",
      "2018-11-13 13:34:17,878 : INFO : topic #2 (0.093): 0.003*\"disability\" + 0.003*\"race\" + 0.003*\"religion\" + 0.003*\"origin\" + 0.003*\"national\" + 0.003*\"national origin\" + 0.003*\"color\" + 0.003*\"status\" + 0.003*\"veteran\" + 0.003*\"equal\"\n",
      "2018-11-13 13:34:17,880 : INFO : topic #3 (0.046): 0.004*\"data\" + 0.004*\"experience\" + 0.003*\"work\" + 0.003*\"learning\" + 0.003*\"machine\" + 0.003*\"machine learning\" + 0.003*\"team\" + 0.003*\"scientist\" + 0.003*\"years\" + 0.003*\"data scientist\"\n",
      "2018-11-13 13:34:17,880 : INFO : topic #4 (0.082): 0.003*\"data\" + 0.003*\"experience\" + 0.002*\"business\" + 0.002*\"work\" + 0.002*\"python\" + 0.002*\"science\" + 0.002*\"skills\" + 0.002*\"team\" + 0.002*\"analytics\" + 0.002*\"time\"\n",
      "2018-11-13 13:34:17,882 : INFO : topic #5 (0.058): 0.003*\"data\" + 0.003*\"experience\" + 0.003*\"science\" + 0.003*\"development\" + 0.003*\"solutions\" + 0.003*\"degree\" + 0.003*\"skills\" + 0.002*\"work\" + 0.002*\"analysis\" + 0.002*\"years\"\n",
      "2018-11-13 13:34:17,883 : INFO : topic #6 (0.097): 0.004*\"experience\" + 0.004*\"data\" + 0.003*\"learning\" + 0.003*\"machine\" + 0.003*\"machine learning\" + 0.003*\"team\" + 0.003*\"work\" + 0.003*\"python\" + 0.003*\"science\" + 0.003*\"skills\"\n",
      "2018-11-13 13:34:17,884 : INFO : topic #7 (0.034): 0.004*\"work\" + 0.003*\"data\" + 0.003*\"experience\" + 0.003*\"years\" + 0.003*\"engineering\" + 0.003*\"data scientist\" + 0.003*\"scientist\" + 0.003*\"company\" + 0.003*\"new\" + 0.003*\"python\"\n",
      "2018-11-13 13:34:17,885 : INFO : topic #8 (0.033): 0.004*\"experience\" + 0.004*\"science\" + 0.004*\"data\" + 0.004*\"skills\" + 0.003*\"computer\" + 0.003*\"computer science\" + 0.003*\"ability\" + 0.003*\"working\" + 0.003*\"work\" + 0.003*\"machine\"\n",
      "2018-11-13 13:34:17,887 : INFO : topic #9 (0.032): 0.003*\"development\" + 0.003*\"skills\" + 0.003*\"python\" + 0.003*\"team\" + 0.002*\"analysis\" + 0.002*\"experience\" + 0.002*\"data\" + 0.002*\"years\" + 0.002*\"opportunity\" + 0.002*\"expertise\"\n"
     ]
    },
    {
     "data": {
      "text/plain": [
       "[(0,\n",
       "  '0.003*\"data\" + 0.003*\"experience\" + 0.003*\"python\" + 0.003*\"work\" + 0.003*\"business\" + 0.003*\"team\" + 0.003*\"skills\" + 0.003*\"science\" + 0.003*\"analysis\" + 0.003*\"scientist\"'),\n",
       " (1,\n",
       "  '0.004*\"data\" + 0.004*\"experience\" + 0.004*\"years\" + 0.003*\"skills\" + 0.003*\"work\" + 0.003*\"ability\" + 0.003*\"scientist\" + 0.003*\"degree\" + 0.003*\"communication\" + 0.003*\"responsibilities\"'),\n",
       " (2,\n",
       "  '0.003*\"disability\" + 0.003*\"race\" + 0.003*\"religion\" + 0.003*\"origin\" + 0.003*\"national\" + 0.003*\"national origin\" + 0.003*\"color\" + 0.003*\"status\" + 0.003*\"veteran\" + 0.003*\"equal\"'),\n",
       " (3,\n",
       "  '0.004*\"data\" + 0.004*\"experience\" + 0.003*\"work\" + 0.003*\"learning\" + 0.003*\"machine\" + 0.003*\"machine learning\" + 0.003*\"team\" + 0.003*\"scientist\" + 0.003*\"years\" + 0.003*\"data scientist\"'),\n",
       " (4,\n",
       "  '0.003*\"data\" + 0.003*\"experience\" + 0.002*\"business\" + 0.002*\"work\" + 0.002*\"python\" + 0.002*\"science\" + 0.002*\"skills\" + 0.002*\"team\" + 0.002*\"analytics\" + 0.002*\"time\"'),\n",
       " (5,\n",
       "  '0.003*\"data\" + 0.003*\"experience\" + 0.003*\"science\" + 0.003*\"development\" + 0.003*\"solutions\" + 0.003*\"degree\" + 0.003*\"skills\" + 0.002*\"work\" + 0.002*\"analysis\" + 0.002*\"years\"'),\n",
       " (6,\n",
       "  '0.004*\"experience\" + 0.004*\"data\" + 0.003*\"learning\" + 0.003*\"machine\" + 0.003*\"machine learning\" + 0.003*\"team\" + 0.003*\"work\" + 0.003*\"python\" + 0.003*\"science\" + 0.003*\"skills\"'),\n",
       " (7,\n",
       "  '0.004*\"work\" + 0.003*\"data\" + 0.003*\"experience\" + 0.003*\"years\" + 0.003*\"engineering\" + 0.003*\"data scientist\" + 0.003*\"scientist\" + 0.003*\"company\" + 0.003*\"new\" + 0.003*\"python\"'),\n",
       " (8,\n",
       "  '0.004*\"experience\" + 0.004*\"science\" + 0.004*\"data\" + 0.004*\"skills\" + 0.003*\"computer\" + 0.003*\"computer science\" + 0.003*\"ability\" + 0.003*\"working\" + 0.003*\"work\" + 0.003*\"machine\"'),\n",
       " (9,\n",
       "  '0.003*\"development\" + 0.003*\"skills\" + 0.003*\"python\" + 0.003*\"team\" + 0.002*\"analysis\" + 0.002*\"experience\" + 0.002*\"data\" + 0.002*\"years\" + 0.002*\"opportunity\" + 0.002*\"expertise\"')]"
      ]
     },
     "execution_count": 204,
     "metadata": {},
     "output_type": "execute_result"
    }
   ],
   "source": [
    "lda.print_topics() # 10 topics, 2 ngrams"
   ]
  },
  {
   "cell_type": "markdown",
   "metadata": {},
   "source": [
    "These are all very similar topics..."
   ]
  },
  {
   "cell_type": "markdown",
   "metadata": {
    "run_control": {
     "frozen": false,
     "read_only": false
    }
   },
   "source": [
    "### Topic Space\n",
    "If we want to map our documents to the topic space we need to actually use the LdaModel transformer that we created above, like so:"
   ]
  },
  {
   "cell_type": "code",
   "execution_count": 180,
   "metadata": {
    "run_control": {
     "frozen": false,
     "read_only": false
    }
   },
   "outputs": [
    {
     "data": {
      "text/plain": [
       "<gensim.interfaces.TransformedCorpus at 0x1a1e4051d0>"
      ]
     },
     "execution_count": 180,
     "metadata": {},
     "output_type": "execute_result"
    }
   ],
   "source": [
    "# Transform the docs from the word space to the topic space (like \"transform\" in sklearn)\n",
    "lda_corpus = lda[corpus]\n",
    "lda_corpus"
   ]
  },
  {
   "cell_type": "code",
   "execution_count": 181,
   "metadata": {
    "run_control": {
     "frozen": false,
     "read_only": false
    }
   },
   "outputs": [],
   "source": [
    "# Store the documents' topic vectors in a list so we can take a peak\n",
    "lda_docs = [doc for doc in lda_corpus]"
   ]
  },
  {
   "cell_type": "markdown",
   "metadata": {
    "run_control": {
     "frozen": false,
     "read_only": false
    }
   },
   "source": [
    "Now we can take a look at the document vectors in the topic space, which are measures of the component of each document along each topic.  Thus, at most a document vector can have num_topics=3 nonzero components in the topic space, and most have far fewer."
   ]
  },
  {
   "cell_type": "code",
   "execution_count": 182,
   "metadata": {
    "run_control": {
     "frozen": false,
     "read_only": false
    }
   },
   "outputs": [
    {
     "data": {
      "text/plain": [
       "[[(0, 0.65589267), (7, 0.33963692)],\n",
       " [(1, 0.27860165), (2, 0.10319155), (5, 0.61610413)],\n",
       " [(1, 0.66787702), (3, 0.25903639), (7, 0.071130775)],\n",
       " [(1, 0.8098048), (3, 0.045381062), (6, 0.10736494), (7, 0.036103625)],\n",
       " [(1, 0.071023211), (3, 0.50963038), (7, 0.41091055)]]"
      ]
     },
     "execution_count": 182,
     "metadata": {},
     "output_type": "execute_result"
    }
   ],
   "source": [
    "# Check out the document vectors in the topic space for the first 5 documents\n",
    "lda_docs[:5]"
   ]
  },
  {
   "cell_type": "code",
   "execution_count": 183,
   "metadata": {
    "run_control": {
     "frozen": false,
     "read_only": false
    }
   },
   "outputs": [
    {
     "data": {
      "text/plain": [
       "0    Spectro Scientific is seeking a Data Scientist...\n",
       "1    Steady helps users make more money - we allow ...\n",
       "2    Work that matters, fueled by passion for pets!...\n",
       "3    The Role:\\n\\nData Scientists at Grand Rounds w...\n",
       "4    The Company:\\n\\nWe're a tech company that's ch...\n",
       "Name: Job_description, dtype: object"
      ]
     },
     "execution_count": 183,
     "metadata": {},
     "output_type": "execute_result"
    }
   ],
   "source": [
    "job_descriptions[0:5]"
   ]
  },
  {
   "cell_type": "code",
   "execution_count": 184,
   "metadata": {},
   "outputs": [
    {
     "name": "stderr",
     "output_type": "stream",
     "text": [
      "2018-11-13 13:07:58,980 : INFO : -8.582 per-word bound, 383.2 perplexity estimate based on a held-out corpus of 864 documents with 266881 words\n"
     ]
    },
    {
     "data": {
      "text/plain": [
       "-8.5820042324580665"
      ]
     },
     "execution_count": 184,
     "metadata": {},
     "output_type": "execute_result"
    }
   ],
   "source": [
    "# we can quantify the 'fit' of our model, to compare with other corpora, etc.\n",
    "lda.log_perplexity(corpus)"
   ]
  },
  {
   "cell_type": "markdown",
   "metadata": {},
   "source": [
    "Lower perplexity is better, but the practical utility of LDA is the final word in how happy we are with our model:\n",
    ">Is it intuitively associating my documents with my themes?\n",
    "\n",
    ">Is it helping me cluster similar documents together?"
   ]
  }
 ],
 "metadata": {
  "kernelspec": {
   "display_name": "Python 3",
   "language": "python",
   "name": "python3"
  },
  "language_info": {
   "codemirror_mode": {
    "name": "ipython",
    "version": 3
   },
   "file_extension": ".py",
   "mimetype": "text/x-python",
   "name": "python",
   "nbconvert_exporter": "python",
   "pygments_lexer": "ipython3",
   "version": "3.6.6"
  }
 },
 "nbformat": 4,
 "nbformat_minor": 2
}
