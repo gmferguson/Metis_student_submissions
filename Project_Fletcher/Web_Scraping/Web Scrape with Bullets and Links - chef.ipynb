{
 "cells": [
  {
   "cell_type": "code",
   "execution_count": 50,
   "metadata": {},
   "outputs": [],
   "source": [
    "import requests\n",
    "from selenium import webdriver\n",
    "from selenium.webdriver.common.keys import Keys\n",
    "import time\n",
    "import os\n",
    "from selenium.webdriver.common.by import By\n",
    "import pandas as pd\n",
    "from time import sleep\n",
    "import re\n",
    "import pickle\n",
    "from numpy.random import randint"
   ]
  },
  {
   "cell_type": "code",
   "execution_count": 51,
   "metadata": {},
   "outputs": [],
   "source": [
    "def scrape_30_listings(driver):\n",
    "    # Loop through all 30 entries per page\n",
    "    for post in range(29):\n",
    "        \n",
    "        # Pull job details from the list of jobs on left side of browser window\n",
    "        listing_str = driver.find_element_by_xpath(\"(//li[@class='jl selected'])\").text\n",
    "        listing_int = listing_str.split(\"\\n\")\n",
    "        \n",
    "        # Clean up the data so order of elements is always ['Rating','Job_title','Company','Location', 'Salary_range', 'Status', 'Job_description', 'Company_info'] \n",
    "        if not bool(re.search(r'\\d+.*', listing_int[0])): \n",
    "            listing_int.insert(0, \"\") # If no star rating available, insert a blank\n",
    "        listing_lst = listing_int[0:2] + listing_int[2].split(\" – \") + listing_int[3:] # Split company and location into 2 fields\n",
    "        if 'EASY APPLY' in listing_lst: listing_lst.remove('EASY APPLY') # Remove \"Easy Apply\"\n",
    "        if len(listing_lst) >= 5:\n",
    "                if not bool(re.search(r'\\D\\d+[\\w]\\s*[-]\\D\\s*\\d+\\w+.*', listing_lst[4])): \n",
    "                    listing_lst.insert(4, \"\") # If no estimated salary available, insert a blank\n",
    "        \n",
    "        # Pull full text for job description from right side of browser window\n",
    "        try:\n",
    "            job_description = driver.find_element_by_xpath(\"(//div[@class='jobDescriptionContent desc'])\").text\n",
    "        except:\n",
    "            job_description = '-'\n",
    "        listing_lst.append(job_description)\n",
    "        \n",
    "        # Pull bulleted lists from job description from right side of browser window\n",
    "        try:\n",
    "            job_description_bullets = driver.find_element_by_xpath(\"(//div[@class='jobDescriptionContent desc']//ul[1])\").text\n",
    "        except:\n",
    "            job_description_bullets = '-' \n",
    "        try:\n",
    "            job_description_bullets = job_description_bullets + \" \" + driver.find_element_by_xpath(\"(//div[@class='jobDescriptionContent desc']//ul[2])\").text\n",
    "        except:\n",
    "            pass  \n",
    "        try:\n",
    "            job_description_bullets = job_description_bullets + \" \" + driver.find_element_by_xpath(\"(//div[@class='jobDescriptionContent desc']//ul[3])\").text\n",
    "        except:\n",
    "            pass\n",
    "        try:\n",
    "            job_description_bullets = job_description_bullets + \" \" + driver.find_element_by_xpath(\"(//div[@class='jobDescriptionContent desc']//ul[3])\").text\n",
    "        except:\n",
    "            pass\n",
    "        listing_lst.append(job_description_bullets)\n",
    "        \n",
    "        # If the company tab exists for this listing, click on it and scrape company info\n",
    "        try:\n",
    "            driver.find_element_by_xpath(\"(//li[@data-tab-type='overview'])\").click()\n",
    "            sleep(randint(1000,3000)/1000)\n",
    "            company_str = driver.find_element_by_xpath(\"(//div[@id='EmpBasicInfo'])\").text\n",
    "        except:\n",
    "            company_str = '-'\n",
    "        listing_lst.append(company_str)\n",
    "        \n",
    "        # Get the link to the listing\n",
    "        element = masked_driver.find_element_by_xpath(\"(//li[@class='jl selected']/div/a)\")\n",
    "        link = element.get_attribute('href')\n",
    "        listing_lst.append(link)\n",
    "        \n",
    "        # Turn the data into a pandas Dataframe and add that df to the list, 'frames'\n",
    "        listing_df = pd.DataFrame([listing_lst])\n",
    "        frames.append(listing_df)\n",
    "        \n",
    "        # Click on next job posting from the list on left side of browser window\n",
    "        driver.find_element_by_xpath(\"(//li[@class='jl'])[position()=\" + str(post+1) + \"]\").click()\n",
    "        sleep(randint(1000,3000)/1000)\n",
    "        \n",
    "    # Stack each entry into one large dataframe    \n",
    "    features_df = pd.concat(frames)\n",
    "    return features_df\n"
   ]
  },
  {
   "cell_type": "code",
   "execution_count": 52,
   "metadata": {},
   "outputs": [],
   "source": [
    "def go_to_next_page(driver):\n",
    "    driver.find_element_by_xpath(\"(//li[@class='next'])\").click()\n",
    "    sleep(randint(3000,5000)/1000)"
   ]
  },
  {
   "cell_type": "code",
   "execution_count": 53,
   "metadata": {},
   "outputs": [],
   "source": [
    "def collect_mult_pages(masked_driver):\n",
    "    \n",
    "    scrape_30_listings(masked_driver)\n",
    "    \n",
    "    for i in range(29):\n",
    "        go_to_next_page(masked_driver)\n",
    "        sleep(randint(500,1000)/1000)\n",
    "        x = scrape_30_listings(masked_driver)\n",
    "        sleep(randint(500,1000)/1000)\n",
    "\n",
    "    return x"
   ]
  },
  {
   "cell_type": "code",
   "execution_count": 54,
   "metadata": {},
   "outputs": [],
   "source": [
    "# # Used to test proxy id's\n",
    "\n",
    "# proxy = '95.181.35.30:40804'\n",
    "# chrome_options = webdriver.ChromeOptions()\n",
    "# chrome_options.add_argument('--proxy-server=%s' % proxy)\n",
    "# masked_driver = webdriver.Chrome(executable_path=\"/Users/user/Documents/chromedriver2\", options=chrome_options)\n",
    "# masked_driver.get(\"https://whatismyipaddress.com/\")"
   ]
  },
  {
   "cell_type": "code",
   "execution_count": 58,
   "metadata": {},
   "outputs": [],
   "source": [
    "proxy_1 = '139.59.177.41:3128'\n",
    "proxy_2 = '200.122.209.78:47220'\n",
    "proxy_3 = '88.247.9.171:58985'\n",
    "proxy_4 = '95.181.35.30:40804'"
   ]
  },
  {
   "cell_type": "code",
   "execution_count": 59,
   "metadata": {},
   "outputs": [],
   "source": [
    "chrome_options = webdriver.ChromeOptions()\n",
    "chrome_options.add_argument('--proxy-server=%s' % proxy_1)\n",
    "masked_driver = webdriver.Chrome(executable_path=\"/Users/user/Documents/chromedriver2\", options=chrome_options)\n",
    "search_phrase='chef'\n",
    "masked_driver.get(\"https://www.glassdoor.com/Job/jobs.htm?suggestCount=0&suggestChosen=false&clickSource=searchBtn&typedKeyword=\" + search_phrase + \"&sc.keyword=\" + search_phrase + \"&locT=N&locId=1&fromAge=1&jobType=\")\n"
   ]
  },
  {
   "cell_type": "code",
   "execution_count": 61,
   "metadata": {},
   "outputs": [
    {
     "ename": "NoSuchElementException",
     "evalue": "Message: no such element: Unable to locate element: {\"method\":\"xpath\",\"selector\":\"(//li[@class='jl selected'])\"}\n  (Session info: chrome=70.0.3538.102)\n  (Driver info: chromedriver=2.42.591059 (a3d9684d10d61aa0c45f6723b327283be1ebaad8),platform=Mac OS X 10.14.0 x86_64)\n",
     "output_type": "error",
     "traceback": [
      "\u001b[0;31m---------------------------------------------------------------------------\u001b[0m",
      "\u001b[0;31mNoSuchElementException\u001b[0m                    Traceback (most recent call last)",
      "\u001b[0;32m<ipython-input-61-2eb7f61090fd>\u001b[0m in \u001b[0;36m<module>\u001b[0;34m()\u001b[0m\n\u001b[0;32m----> 1\u001b[0;31m \u001b[0mchef\u001b[0m \u001b[0;34m=\u001b[0m \u001b[0mcollect_mult_pages\u001b[0m\u001b[0;34m(\u001b[0m\u001b[0mmasked_driver\u001b[0m\u001b[0;34m)\u001b[0m\u001b[0;34m\u001b[0m\u001b[0m\n\u001b[0m",
      "\u001b[0;32m<ipython-input-53-71a709670116>\u001b[0m in \u001b[0;36mcollect_mult_pages\u001b[0;34m(masked_driver)\u001b[0m\n\u001b[1;32m      6\u001b[0m         \u001b[0mgo_to_next_page\u001b[0m\u001b[0;34m(\u001b[0m\u001b[0mmasked_driver\u001b[0m\u001b[0;34m)\u001b[0m\u001b[0;34m\u001b[0m\u001b[0m\n\u001b[1;32m      7\u001b[0m         \u001b[0msleep\u001b[0m\u001b[0;34m(\u001b[0m\u001b[0mrandint\u001b[0m\u001b[0;34m(\u001b[0m\u001b[0;36m500\u001b[0m\u001b[0;34m,\u001b[0m\u001b[0;36m1000\u001b[0m\u001b[0;34m)\u001b[0m\u001b[0;34m/\u001b[0m\u001b[0;36m1000\u001b[0m\u001b[0;34m)\u001b[0m\u001b[0;34m\u001b[0m\u001b[0m\n\u001b[0;32m----> 8\u001b[0;31m         \u001b[0mx\u001b[0m \u001b[0;34m=\u001b[0m \u001b[0mscrape_30_listings\u001b[0m\u001b[0;34m(\u001b[0m\u001b[0mmasked_driver\u001b[0m\u001b[0;34m)\u001b[0m\u001b[0;34m\u001b[0m\u001b[0m\n\u001b[0m\u001b[1;32m      9\u001b[0m         \u001b[0msleep\u001b[0m\u001b[0;34m(\u001b[0m\u001b[0mrandint\u001b[0m\u001b[0;34m(\u001b[0m\u001b[0;36m500\u001b[0m\u001b[0;34m,\u001b[0m\u001b[0;36m1000\u001b[0m\u001b[0;34m)\u001b[0m\u001b[0;34m/\u001b[0m\u001b[0;36m1000\u001b[0m\u001b[0;34m)\u001b[0m\u001b[0;34m\u001b[0m\u001b[0m\n\u001b[1;32m     10\u001b[0m \u001b[0;34m\u001b[0m\u001b[0m\n",
      "\u001b[0;32m<ipython-input-51-5024c87401db>\u001b[0m in \u001b[0;36mscrape_30_listings\u001b[0;34m(driver)\u001b[0m\n\u001b[1;32m      4\u001b[0m \u001b[0;34m\u001b[0m\u001b[0m\n\u001b[1;32m      5\u001b[0m         \u001b[0;31m# Pull job details from the list of jobs on left side of browser window\u001b[0m\u001b[0;34m\u001b[0m\u001b[0;34m\u001b[0m\u001b[0m\n\u001b[0;32m----> 6\u001b[0;31m         \u001b[0mlisting_str\u001b[0m \u001b[0;34m=\u001b[0m \u001b[0mdriver\u001b[0m\u001b[0;34m.\u001b[0m\u001b[0mfind_element_by_xpath\u001b[0m\u001b[0;34m(\u001b[0m\u001b[0;34m\"(//li[@class='jl selected'])\"\u001b[0m\u001b[0;34m)\u001b[0m\u001b[0;34m.\u001b[0m\u001b[0mtext\u001b[0m\u001b[0;34m\u001b[0m\u001b[0m\n\u001b[0m\u001b[1;32m      7\u001b[0m         \u001b[0mlisting_int\u001b[0m \u001b[0;34m=\u001b[0m \u001b[0mlisting_str\u001b[0m\u001b[0;34m.\u001b[0m\u001b[0msplit\u001b[0m\u001b[0;34m(\u001b[0m\u001b[0;34m\"\\n\"\u001b[0m\u001b[0;34m)\u001b[0m\u001b[0;34m\u001b[0m\u001b[0m\n\u001b[1;32m      8\u001b[0m \u001b[0;34m\u001b[0m\u001b[0m\n",
      "\u001b[0;32m~/anaconda3/lib/python3.6/site-packages/selenium/webdriver/remote/webdriver.py\u001b[0m in \u001b[0;36mfind_element_by_xpath\u001b[0;34m(self, xpath)\u001b[0m\n\u001b[1;32m    391\u001b[0m             \u001b[0melement\u001b[0m \u001b[0;34m=\u001b[0m \u001b[0mdriver\u001b[0m\u001b[0;34m.\u001b[0m\u001b[0mfind_element_by_xpath\u001b[0m\u001b[0;34m(\u001b[0m\u001b[0;34m'//div/td[1]'\u001b[0m\u001b[0;34m)\u001b[0m\u001b[0;34m\u001b[0m\u001b[0m\n\u001b[1;32m    392\u001b[0m         \"\"\"\n\u001b[0;32m--> 393\u001b[0;31m         \u001b[0;32mreturn\u001b[0m \u001b[0mself\u001b[0m\u001b[0;34m.\u001b[0m\u001b[0mfind_element\u001b[0m\u001b[0;34m(\u001b[0m\u001b[0mby\u001b[0m\u001b[0;34m=\u001b[0m\u001b[0mBy\u001b[0m\u001b[0;34m.\u001b[0m\u001b[0mXPATH\u001b[0m\u001b[0;34m,\u001b[0m \u001b[0mvalue\u001b[0m\u001b[0;34m=\u001b[0m\u001b[0mxpath\u001b[0m\u001b[0;34m)\u001b[0m\u001b[0;34m\u001b[0m\u001b[0m\n\u001b[0m\u001b[1;32m    394\u001b[0m \u001b[0;34m\u001b[0m\u001b[0m\n\u001b[1;32m    395\u001b[0m     \u001b[0;32mdef\u001b[0m \u001b[0mfind_elements_by_xpath\u001b[0m\u001b[0;34m(\u001b[0m\u001b[0mself\u001b[0m\u001b[0;34m,\u001b[0m \u001b[0mxpath\u001b[0m\u001b[0;34m)\u001b[0m\u001b[0;34m:\u001b[0m\u001b[0;34m\u001b[0m\u001b[0m\n",
      "\u001b[0;32m~/anaconda3/lib/python3.6/site-packages/selenium/webdriver/remote/webdriver.py\u001b[0m in \u001b[0;36mfind_element\u001b[0;34m(self, by, value)\u001b[0m\n\u001b[1;32m    964\u001b[0m         return self.execute(Command.FIND_ELEMENT, {\n\u001b[1;32m    965\u001b[0m             \u001b[0;34m'using'\u001b[0m\u001b[0;34m:\u001b[0m \u001b[0mby\u001b[0m\u001b[0;34m,\u001b[0m\u001b[0;34m\u001b[0m\u001b[0m\n\u001b[0;32m--> 966\u001b[0;31m             'value': value})['value']\n\u001b[0m\u001b[1;32m    967\u001b[0m \u001b[0;34m\u001b[0m\u001b[0m\n\u001b[1;32m    968\u001b[0m     \u001b[0;32mdef\u001b[0m \u001b[0mfind_elements\u001b[0m\u001b[0;34m(\u001b[0m\u001b[0mself\u001b[0m\u001b[0;34m,\u001b[0m \u001b[0mby\u001b[0m\u001b[0;34m=\u001b[0m\u001b[0mBy\u001b[0m\u001b[0;34m.\u001b[0m\u001b[0mID\u001b[0m\u001b[0;34m,\u001b[0m \u001b[0mvalue\u001b[0m\u001b[0;34m=\u001b[0m\u001b[0;32mNone\u001b[0m\u001b[0;34m)\u001b[0m\u001b[0;34m:\u001b[0m\u001b[0;34m\u001b[0m\u001b[0m\n",
      "\u001b[0;32m~/anaconda3/lib/python3.6/site-packages/selenium/webdriver/remote/webdriver.py\u001b[0m in \u001b[0;36mexecute\u001b[0;34m(self, driver_command, params)\u001b[0m\n\u001b[1;32m    318\u001b[0m         \u001b[0mresponse\u001b[0m \u001b[0;34m=\u001b[0m \u001b[0mself\u001b[0m\u001b[0;34m.\u001b[0m\u001b[0mcommand_executor\u001b[0m\u001b[0;34m.\u001b[0m\u001b[0mexecute\u001b[0m\u001b[0;34m(\u001b[0m\u001b[0mdriver_command\u001b[0m\u001b[0;34m,\u001b[0m \u001b[0mparams\u001b[0m\u001b[0;34m)\u001b[0m\u001b[0;34m\u001b[0m\u001b[0m\n\u001b[1;32m    319\u001b[0m         \u001b[0;32mif\u001b[0m \u001b[0mresponse\u001b[0m\u001b[0;34m:\u001b[0m\u001b[0;34m\u001b[0m\u001b[0m\n\u001b[0;32m--> 320\u001b[0;31m             \u001b[0mself\u001b[0m\u001b[0;34m.\u001b[0m\u001b[0merror_handler\u001b[0m\u001b[0;34m.\u001b[0m\u001b[0mcheck_response\u001b[0m\u001b[0;34m(\u001b[0m\u001b[0mresponse\u001b[0m\u001b[0;34m)\u001b[0m\u001b[0;34m\u001b[0m\u001b[0m\n\u001b[0m\u001b[1;32m    321\u001b[0m             response['value'] = self._unwrap_value(\n\u001b[1;32m    322\u001b[0m                 response.get('value', None))\n",
      "\u001b[0;32m~/anaconda3/lib/python3.6/site-packages/selenium/webdriver/remote/errorhandler.py\u001b[0m in \u001b[0;36mcheck_response\u001b[0;34m(self, response)\u001b[0m\n\u001b[1;32m    240\u001b[0m                 \u001b[0malert_text\u001b[0m \u001b[0;34m=\u001b[0m \u001b[0mvalue\u001b[0m\u001b[0;34m[\u001b[0m\u001b[0;34m'alert'\u001b[0m\u001b[0;34m]\u001b[0m\u001b[0;34m.\u001b[0m\u001b[0mget\u001b[0m\u001b[0;34m(\u001b[0m\u001b[0;34m'text'\u001b[0m\u001b[0;34m)\u001b[0m\u001b[0;34m\u001b[0m\u001b[0m\n\u001b[1;32m    241\u001b[0m             \u001b[0;32mraise\u001b[0m \u001b[0mexception_class\u001b[0m\u001b[0;34m(\u001b[0m\u001b[0mmessage\u001b[0m\u001b[0;34m,\u001b[0m \u001b[0mscreen\u001b[0m\u001b[0;34m,\u001b[0m \u001b[0mstacktrace\u001b[0m\u001b[0;34m,\u001b[0m \u001b[0malert_text\u001b[0m\u001b[0;34m)\u001b[0m\u001b[0;34m\u001b[0m\u001b[0m\n\u001b[0;32m--> 242\u001b[0;31m         \u001b[0;32mraise\u001b[0m \u001b[0mexception_class\u001b[0m\u001b[0;34m(\u001b[0m\u001b[0mmessage\u001b[0m\u001b[0;34m,\u001b[0m \u001b[0mscreen\u001b[0m\u001b[0;34m,\u001b[0m \u001b[0mstacktrace\u001b[0m\u001b[0;34m)\u001b[0m\u001b[0;34m\u001b[0m\u001b[0m\n\u001b[0m\u001b[1;32m    243\u001b[0m \u001b[0;34m\u001b[0m\u001b[0m\n\u001b[1;32m    244\u001b[0m     \u001b[0;32mdef\u001b[0m \u001b[0m_value_or_default\u001b[0m\u001b[0;34m(\u001b[0m\u001b[0mself\u001b[0m\u001b[0;34m,\u001b[0m \u001b[0mobj\u001b[0m\u001b[0;34m,\u001b[0m \u001b[0mkey\u001b[0m\u001b[0;34m,\u001b[0m \u001b[0mdefault\u001b[0m\u001b[0;34m)\u001b[0m\u001b[0;34m:\u001b[0m\u001b[0;34m\u001b[0m\u001b[0m\n",
      "\u001b[0;31mNoSuchElementException\u001b[0m: Message: no such element: Unable to locate element: {\"method\":\"xpath\",\"selector\":\"(//li[@class='jl selected'])\"}\n  (Session info: chrome=70.0.3538.102)\n  (Driver info: chromedriver=2.42.591059 (a3d9684d10d61aa0c45f6723b327283be1ebaad8),platform=Mac OS X 10.14.0 x86_64)\n"
     ]
    }
   ],
   "source": [
    "chef = collect_mult_pages(masked_driver)"
   ]
  },
  {
   "cell_type": "code",
   "execution_count": 64,
   "metadata": {},
   "outputs": [],
   "source": [
    "chef = pd.concat(frames)\n",
    "pickle.dump(chef, open( \"chef_posts_long.pkl\", \"wb\" ) )"
   ]
  },
  {
   "cell_type": "code",
   "execution_count": 62,
   "metadata": {},
   "outputs": [
    {
     "data": {
      "text/plain": [
       "854"
      ]
     },
     "execution_count": 62,
     "metadata": {},
     "output_type": "execute_result"
    }
   ],
   "source": [
    "len(frames)"
   ]
  },
  {
   "cell_type": "code",
   "execution_count": null,
   "metadata": {},
   "outputs": [],
   "source": [
    "# chrome_options = webdriver.ChromeOptions()\n",
    "# chrome_options.add_argument('--proxy-server=%s' % proxy_2)\n",
    "# masked_driver = webdriver.Chrome(executable_path=\"/Users/user/Documents/chromedriver2\", options=chrome_options)\n",
    "# search_phrase='machine+learning'\n",
    "# masked_driver.get(\"https://www.glassdoor.com/Job/jobs.htm?suggestCount=0&suggestChosen=false&clickSource=searchBtn&typedKeyword=\" + search_phrase + \"&sc.keyword=\" + search_phrase + \"&locT=N&locId=1&fromAge=1&jobType=\")\n"
   ]
  },
  {
   "cell_type": "code",
   "execution_count": null,
   "metadata": {},
   "outputs": [],
   "source": [
    "# frames=[]\n",
    "# machine_learning = collect_mult_pages(masked_driver)\n",
    "# pickle.dump(machine_learning, open( \"machine_learning_posts.pkl\", \"wb\" ) )"
   ]
  },
  {
   "cell_type": "code",
   "execution_count": 16,
   "metadata": {},
   "outputs": [],
   "source": [
    "# chrome_options = webdriver.ChromeOptions()\n",
    "# chrome_options.add_argument('--proxy-server=%s' % proxy_3)\n",
    "# masked_driver = webdriver.Chrome(executable_path=\"/Users/user/Documents/chromedriver2\", options=chrome_options)\n",
    "# search_phrase='artificial+intelligence'\n",
    "# masked_driver.get(\"https://www.glassdoor.com/Job/jobs.htm?suggestCount=0&suggestChosen=false&clickSource=searchBtn&typedKeyword=\" + search_phrase + \"&sc.keyword=\" + search_phrase + \"&locT=N&locId=1&fromAge=1&jobType=\")\n"
   ]
  },
  {
   "cell_type": "code",
   "execution_count": null,
   "metadata": {},
   "outputs": [],
   "source": [
    "# frames=[]\n",
    "# artificial_intelligence = collect_mult_pages(masked_driver)\n",
    "# pickle.dump(artificial_intelligence, open( \"artificial_intelligence_posts.pkl\", \"wb\" ) )"
   ]
  },
  {
   "cell_type": "code",
   "execution_count": null,
   "metadata": {},
   "outputs": [],
   "source": [
    "# chrome_options = webdriver.ChromeOptions()\n",
    "# chrome_options.add_argument('--proxy-server=%s' % proxy_4)\n",
    "# masked_driver = webdriver.Chrome(executable_path=\"/Users/user/Documents/chromedriver2\", options=chrome_options)\n",
    "# search_phrase='data+analyst'\n",
    "# masked_driver.get(\"https://www.glassdoor.com/Job/jobs.htm?suggestCount=0&suggestChosen=false&clickSource=searchBtn&typedKeyword=\" + search_phrase + \"&sc.keyword=\" + search_phrase + \"&locT=N&locId=1&fromAge=1&jobType=\")\n"
   ]
  },
  {
   "cell_type": "code",
   "execution_count": null,
   "metadata": {},
   "outputs": [],
   "source": [
    "# frames=[]\n",
    "# data_analyst = collect_mult_pages(masked_driver)\n",
    "# pickle.dump(data_analyst, open( \"data_analyst_posts.pkl\", \"wb\" ) )"
   ]
  },
  {
   "cell_type": "code",
   "execution_count": null,
   "metadata": {},
   "outputs": [],
   "source": []
  },
  {
   "cell_type": "code",
   "execution_count": null,
   "metadata": {},
   "outputs": [],
   "source": []
  },
  {
   "cell_type": "code",
   "execution_count": null,
   "metadata": {},
   "outputs": [],
   "source": []
  }
 ],
 "metadata": {
  "kernelspec": {
   "display_name": "Python 3",
   "language": "python",
   "name": "python3"
  },
  "language_info": {
   "codemirror_mode": {
    "name": "ipython",
    "version": 3
   },
   "file_extension": ".py",
   "mimetype": "text/x-python",
   "name": "python",
   "nbconvert_exporter": "python",
   "pygments_lexer": "ipython3",
   "version": "3.6.6"
  }
 },
 "nbformat": 4,
 "nbformat_minor": 2
}
