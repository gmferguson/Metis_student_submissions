{
 "cells": [
  {
   "cell_type": "markdown",
   "metadata": {},
   "source": [
    "# Project Fletcher - Summary\n",
    "\n",
    "Gretta Ferguson\n",
    "\n",
    "Nov 19 2018\n",
    "\n",
    "### Motivation\n",
    "\n",
    "Looking for a job can be overwhelming and stressful, especially in a field like Data Science where there are thousands of job listings (over 26K on glassdoor alone). Therefore, I wanted to build an application that could leverage NLP to make a job recomendation by comparing a resume to a job listing. \n",
    "\n",
    "### Data \n",
    "\n",
    "I collected my data from glassdoor via webscraping. I first attempted to use beautifulsoup, however, glassdoor detects the crawler and blocks it. Thankfully, I was able to get around this by using selenium. Glassdoor will block an IP address that makes too many requests in a day or which behaves in a \"bot-like\" manner. To avoid detection I used two tactics:\n",
    "1. I added random pauses (1.000 to 3.000 seconds in length) between my programed \"clicks\"\n",
    "2. I used proxy IPs, found free [here](https://free-proxy-list.net/) to mask my IP adddress\n",
    "\n",
    "The values I web scraped included the job title, company, company rating, salary range, date posted, full job description, additional company info, and the href job link. For the resume recomender all I really needed was the job description and the job link, but I gathered the other fields in case I wanted to go back and do some deeper analysis in the future.\n",
    "\n",
    "### Pipeline\n",
    "\n",
    "The pipeline I used to process my text job descriptions was as follows:\n",
    "- Train test split\n",
    "- Count Vectorize - I tokenized by 1 and 2 n-grams and threw out punctuation, numbers, and stop words. \n",
    "- LDA - I used 10 topics, 20 iterations, and a beta of .005\n",
    "- K-means or Cosine Similarity (elaborated on in sections below)\n",
    "\n",
    "### Proof of Concept - Clustering\n",
    "\n",
    "Before building the recommender, I wanted to verify that NLP could infact find meaningful similarities and differences between job postings. For a proof of concept, I gathered about 860 job postings for \"data scientist\" and 860 job postings for \"chef\". I then sent the data through the above mentioned pipeline, with the final step going through a K-means clustering algorithm with K=2. The algorithm was able to accurately group the data into the two distinct job types with an accuracy of 93%. Confident that NLP was finding true similarities among job postings I proceeded to the next step of comparing a resume to a job listing\n",
    "\n",
    "### Resume recomender - Flask\n",
    "\n",
    "I first tested out my resume in a mixed-industry dataset and indeed found it recommended data science jobs for me over chef positions. Therefore I turned my attention to building a flask app that provides a simple user interface to generate recommendations. My flask app takes resume text as an input and optional additional inputs for job description, location, and company star rating. When the request is submitted, the flask app will redirect you to the url of the best-matched job listing out of 4,316 data science-related posts.\n",
    "\n",
    "list \n",
    "square\n",
    "filter odd\n",
    "add up\n",
    "\n",
    "### Results and Final Thoughts\n",
    "\n",
    "I think the recommender does a pretty good job. It recommended a Data Science postition at Amazon to me which required SQL, Python, R, and Tableau, all of which I have listed on my resume. It also talked about applying data analytics to business problems, which I did in my last job. \n",
    "\n",
    "I learned a lot doing this project, and I think there are many things I could do to continue pushing it forward. For one, I would like to address the asymilarity in the importance of a resume having words that a job description is missing (OK) vs a job description having words that a resume is missing (which should be worse for certain key words). Therefore, I would like to create an ensemble algorithm that places more emphasis on certain keywords in an asymetric way and filters for certain requirements. For example, I would want to combine the similarity score of the full job description and a second asymmetric similarity score based on a limited list of words (like python, SQL, R, matlab etc) and filter out jobs which require much more experience. I also would like to try some neural networks to this task like LSTM or RNN to see if they do a better job of finding meaning in the text. Another improvement would be to gather data in real time to continuously update the relevance of my flask app."
   ]
  },
  {
   "cell_type": "code",
   "execution_count": null,
   "metadata": {},
   "outputs": [],
   "source": []
  }
 ],
 "metadata": {
  "kernelspec": {
   "display_name": "Python 3",
   "language": "python",
   "name": "python3"
  },
  "language_info": {
   "codemirror_mode": {
    "name": "ipython",
    "version": 3
   },
   "file_extension": ".py",
   "mimetype": "text/x-python",
   "name": "python",
   "nbconvert_exporter": "python",
   "pygments_lexer": "ipython3",
   "version": "3.6.6"
  }
 },
 "nbformat": 4,
 "nbformat_minor": 2
}
