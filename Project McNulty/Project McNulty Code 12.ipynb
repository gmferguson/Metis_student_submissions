{
 "cells": [
  {
   "cell_type": "markdown",
   "metadata": {},
   "source": [
    "# Project McNulty: Predicting activity with physics\n",
    "\n",
    "Gretta Ferguson\n",
    "\n",
    "10/17/18\n",
    "\n",
    "## Table of Contents\n",
    "\n",
    "1. Import and format data\n",
    "2. Visualize the data using PCA\n",
    "3. Use GroupKFold to create a CV split\n",
    "4. Tune parameters on full feature space\n",
    "5. Tune parameters on limited feature space\n",
    "6. Testing our chosen model\n",
    "    "
   ]
  },
  {
   "cell_type": "markdown",
   "metadata": {},
   "source": [
    "-----------\n",
    "-----------\n",
    "-----------\n",
    "## 1. Import and format data"
   ]
  },
  {
   "cell_type": "code",
   "execution_count": 1,
   "metadata": {},
   "outputs": [],
   "source": [
    "import pandas as pd\n",
    "import numpy as np\n",
    "from sklearn.decomposition import PCA\n",
    "from matplotlib import pyplot as plt\n",
    "%matplotlib inline\n",
    "from sklearn.neighbors import KNeighborsClassifier\n",
    "\n",
    "\n",
    "# from sklearn.ensemble import RandomForestClassifier\n",
    "# from sklearn.feature_selection import SelectFromModel\n",
    "# from sklearn.metrics import accuracy_score\n",
    "\n",
    "from sklearn.model_selection import GridSearchCV, cross_val_predict\n",
    "\n",
    "from sklearn.metrics import accuracy_score, confusion_matrix, auc, roc_auc_score\n",
    "from sklearn.model_selection import train_test_split\n",
    "from sklearn import svm\n",
    "from sklearn.model_selection import StratifiedKFold\n",
    "from sklearn.tree import DecisionTreeClassifier\n",
    "from sklearn.ensemble import RandomForestClassifier\n",
    "from sklearn.ensemble import GradientBoostingClassifier\n",
    "from sklearn.linear_model import LogisticRegression\n",
    "from sklearn.preprocessing import StandardScaler\n",
    "from sklearn.pipeline import make_pipeline\n",
    "from sklearn.metrics import accuracy_score, confusion_matrix, auc, roc_auc_score, classification_report\n",
    "from sklearn.preprocessing import label_binarize\n",
    "from sklearn.metrics import roc_curve, auc\n",
    "from sklearn.naive_bayes import GaussianNB\n",
    "from scipy import interp\n",
    "from sklearn.naive_bayes import BernoulliNB\n",
    "\n",
    "from sklearn.ensemble import ExtraTreesClassifier\n",
    "\n",
    "\n",
    "from skopt import BayesSearchCV\n",
    "class BayesSearchCV(BayesSearchCV):\n",
    "    def _run_search(self, x): raise BaseException('Use newer skopt')\n"
   ]
  },
  {
   "cell_type": "code",
   "execution_count": 39,
   "metadata": {},
   "outputs": [],
   "source": [
    "features = pd.read_csv('HAPT Data Set/features.txt', delim_whitespace=True, header=None)\n",
    "activity = pd.read_csv('HAPT Data Set/activity_labels.txt', delim_whitespace=True, header=None)\n",
    "subject = pd.read_csv('HAPT Data Set/train/subject_id_train.txt', delim_whitespace=True, header=None)\n",
    "X_train = pd.read_csv('HAPT Data Set/train/X_train.txt', delim_whitespace=True, header=None)\n",
    "y_train = pd.read_csv('HAPT Data Set/train/y_train.txt', delim_whitespace=True, header=None)"
   ]
  },
  {
   "cell_type": "code",
   "execution_count": 3,
   "metadata": {},
   "outputs": [],
   "source": [
    "y_train.columns=[\"ActivityID\"]\n",
    "activity.columns=[\"ActivityID\",\"Activity\"]\n",
    "subject.columns=[\"SubjectID\"]\n",
    "X_train.columns=features"
   ]
  },
  {
   "cell_type": "code",
   "execution_count": 4,
   "metadata": {},
   "outputs": [],
   "source": [
    "y_train_merged = y_train.merge(activity, left_on='ActivityID', right_on='ActivityID', how='left')\n",
    "y_train_merged = pd.concat([y_train_merged, subject], axis=1)"
   ]
  },
  {
   "cell_type": "code",
   "execution_count": 29,
   "metadata": {},
   "outputs": [
    {
     "data": {
      "text/plain": [
       "STANDING              1423\n",
       "LAYING                1413\n",
       "SITTING               1293\n",
       "WALKING               1226\n",
       "WALKING_UPSTAIRS      1073\n",
       "WALKING_DOWNSTAIRS     987\n",
       "STAND_TO_LIE            90\n",
       "SIT_TO_LIE              75\n",
       "LIE_TO_SIT              60\n",
       "LIE_TO_STAND            57\n",
       "STAND_TO_SIT            47\n",
       "SIT_TO_STAND            23\n",
       "Name: Activity, dtype: int64"
      ]
     },
     "execution_count": 29,
     "metadata": {},
     "output_type": "execute_result"
    }
   ],
   "source": [
    "y_train_merged['Activity'].value_counts()"
   ]
  },
  {
   "cell_type": "code",
   "execution_count": 6,
   "metadata": {},
   "outputs": [
    {
     "data": {
      "text/plain": [
       "PCA(copy=True, iterated_power='auto', n_components=2, random_state=None,\n",
       "  svd_solver='auto', tol=0.0, whiten=False)"
      ]
     },
     "execution_count": 6,
     "metadata": {},
     "output_type": "execute_result"
    }
   ],
   "source": [
    "pca_2D = PCA(n_components=2)\n",
    "pca_2D.fit(X_train)"
   ]
  },
  {
   "cell_type": "code",
   "execution_count": 7,
   "metadata": {},
   "outputs": [],
   "source": [
    "pcafeatures_train = pca_2D.transform(X_train)"
   ]
  },
  {
   "cell_type": "code",
   "execution_count": 8,
   "metadata": {},
   "outputs": [
    {
     "data": {
      "text/plain": [
       "7767"
      ]
     },
     "execution_count": 8,
     "metadata": {},
     "output_type": "execute_result"
    }
   ],
   "source": [
    "len(pcafeatures_train)"
   ]
  },
  {
   "cell_type": "code",
   "execution_count": 9,
   "metadata": {},
   "outputs": [
    {
     "data": {
      "text/plain": [
       "7415"
      ]
     },
     "execution_count": 9,
     "metadata": {},
     "output_type": "execute_result"
    }
   ],
   "source": [
    "len(y_train[y_train['ActivityID']<7])"
   ]
  },
  {
   "cell_type": "code",
   "execution_count": 10,
   "metadata": {},
   "outputs": [
    {
     "data": {
      "text/html": [
       "<div>\n",
       "<style scoped>\n",
       "    .dataframe tbody tr th:only-of-type {\n",
       "        vertical-align: middle;\n",
       "    }\n",
       "\n",
       "    .dataframe tbody tr th {\n",
       "        vertical-align: top;\n",
       "    }\n",
       "\n",
       "    .dataframe thead th {\n",
       "        text-align: right;\n",
       "    }\n",
       "</style>\n",
       "<table border=\"1\" class=\"dataframe\">\n",
       "  <thead>\n",
       "    <tr style=\"text-align: right;\">\n",
       "      <th></th>\n",
       "      <th>0</th>\n",
       "      <th>1</th>\n",
       "      <th>2</th>\n",
       "      <th>3</th>\n",
       "      <th>4</th>\n",
       "      <th>5</th>\n",
       "      <th>6</th>\n",
       "      <th>7</th>\n",
       "      <th>8</th>\n",
       "      <th>9</th>\n",
       "      <th>...</th>\n",
       "      <th>551</th>\n",
       "      <th>552</th>\n",
       "      <th>553</th>\n",
       "      <th>554</th>\n",
       "      <th>555</th>\n",
       "      <th>556</th>\n",
       "      <th>557</th>\n",
       "      <th>558</th>\n",
       "      <th>559</th>\n",
       "      <th>560</th>\n",
       "    </tr>\n",
       "  </thead>\n",
       "  <tbody>\n",
       "    <tr>\n",
       "      <th>0</th>\n",
       "      <td>0.047269</td>\n",
       "      <td>-0.053254</td>\n",
       "      <td>-0.187937</td>\n",
       "      <td>-0.897865</td>\n",
       "      <td>-0.963016</td>\n",
       "      <td>-0.765226</td>\n",
       "      <td>-0.887665</td>\n",
       "      <td>-0.951001</td>\n",
       "      <td>-0.781987</td>\n",
       "      <td>-0.870540</td>\n",
       "      <td>...</td>\n",
       "      <td>-0.733157</td>\n",
       "      <td>0.005416</td>\n",
       "      <td>-0.291430</td>\n",
       "      <td>-0.390965</td>\n",
       "      <td>0.026899</td>\n",
       "      <td>-0.788465</td>\n",
       "      <td>-0.027791</td>\n",
       "      <td>-0.698332</td>\n",
       "      <td>0.430794</td>\n",
       "      <td>0.004234</td>\n",
       "    </tr>\n",
       "    <tr>\n",
       "      <th>1</th>\n",
       "      <td>0.007072</td>\n",
       "      <td>-0.014852</td>\n",
       "      <td>-0.121357</td>\n",
       "      <td>-0.904585</td>\n",
       "      <td>-0.948267</td>\n",
       "      <td>-0.870601</td>\n",
       "      <td>-0.896503</td>\n",
       "      <td>-0.935193</td>\n",
       "      <td>-0.857829</td>\n",
       "      <td>-0.886045</td>\n",
       "      <td>...</td>\n",
       "      <td>0.173020</td>\n",
       "      <td>-0.913252</td>\n",
       "      <td>-0.778501</td>\n",
       "      <td>0.110783</td>\n",
       "      <td>-0.058409</td>\n",
       "      <td>-1.234038</td>\n",
       "      <td>1.485151</td>\n",
       "      <td>-0.705272</td>\n",
       "      <td>0.431951</td>\n",
       "      <td>0.019739</td>\n",
       "    </tr>\n",
       "    <tr>\n",
       "      <th>2</th>\n",
       "      <td>0.011953</td>\n",
       "      <td>-0.045076</td>\n",
       "      <td>-0.049999</td>\n",
       "      <td>-0.898093</td>\n",
       "      <td>-0.932946</td>\n",
       "      <td>-0.912535</td>\n",
       "      <td>-0.891032</td>\n",
       "      <td>-0.913698</td>\n",
       "      <td>-0.901751</td>\n",
       "      <td>-0.877913</td>\n",
       "      <td>...</td>\n",
       "      <td>1.172900</td>\n",
       "      <td>-0.279978</td>\n",
       "      <td>-0.451858</td>\n",
       "      <td>-0.408486</td>\n",
       "      <td>0.359470</td>\n",
       "      <td>0.152136</td>\n",
       "      <td>1.705229</td>\n",
       "      <td>-0.713397</td>\n",
       "      <td>0.433110</td>\n",
       "      <td>0.038440</td>\n",
       "    </tr>\n",
       "    <tr>\n",
       "      <th>3</th>\n",
       "      <td>0.010058</td>\n",
       "      <td>-0.111658</td>\n",
       "      <td>-0.119672</td>\n",
       "      <td>-0.899706</td>\n",
       "      <td>-0.963568</td>\n",
       "      <td>-0.938951</td>\n",
       "      <td>-0.892418</td>\n",
       "      <td>-0.950170</td>\n",
       "      <td>-0.928025</td>\n",
       "      <td>-0.877913</td>\n",
       "      <td>...</td>\n",
       "      <td>1.134179</td>\n",
       "      <td>0.567656</td>\n",
       "      <td>0.441326</td>\n",
       "      <td>-0.161670</td>\n",
       "      <td>-0.070715</td>\n",
       "      <td>1.049241</td>\n",
       "      <td>-1.006276</td>\n",
       "      <td>-0.712840</td>\n",
       "      <td>0.437423</td>\n",
       "      <td>0.043673</td>\n",
       "    </tr>\n",
       "    <tr>\n",
       "      <th>4</th>\n",
       "      <td>-0.000006</td>\n",
       "      <td>-0.016425</td>\n",
       "      <td>-0.063479</td>\n",
       "      <td>-0.904344</td>\n",
       "      <td>-0.958685</td>\n",
       "      <td>-0.938515</td>\n",
       "      <td>-0.895340</td>\n",
       "      <td>-0.944286</td>\n",
       "      <td>-0.930553</td>\n",
       "      <td>-0.884933</td>\n",
       "      <td>...</td>\n",
       "      <td>-0.101181</td>\n",
       "      <td>-0.158231</td>\n",
       "      <td>-0.255675</td>\n",
       "      <td>0.321595</td>\n",
       "      <td>0.234653</td>\n",
       "      <td>1.138346</td>\n",
       "      <td>-1.279972</td>\n",
       "      <td>-0.711304</td>\n",
       "      <td>0.448114</td>\n",
       "      <td>0.057238</td>\n",
       "    </tr>\n",
       "  </tbody>\n",
       "</table>\n",
       "<p>5 rows × 561 columns</p>\n",
       "</div>"
      ],
      "text/plain": [
       "        0         1         2         3         4         5         6    \\\n",
       "0  0.047269 -0.053254 -0.187937 -0.897865 -0.963016 -0.765226 -0.887665   \n",
       "1  0.007072 -0.014852 -0.121357 -0.904585 -0.948267 -0.870601 -0.896503   \n",
       "2  0.011953 -0.045076 -0.049999 -0.898093 -0.932946 -0.912535 -0.891032   \n",
       "3  0.010058 -0.111658 -0.119672 -0.899706 -0.963568 -0.938951 -0.892418   \n",
       "4 -0.000006 -0.016425 -0.063479 -0.904344 -0.958685 -0.938515 -0.895340   \n",
       "\n",
       "        7         8         9      ...          551       552       553  \\\n",
       "0 -0.951001 -0.781987 -0.870540    ...    -0.733157  0.005416 -0.291430   \n",
       "1 -0.935193 -0.857829 -0.886045    ...     0.173020 -0.913252 -0.778501   \n",
       "2 -0.913698 -0.901751 -0.877913    ...     1.172900 -0.279978 -0.451858   \n",
       "3 -0.950170 -0.928025 -0.877913    ...     1.134179  0.567656  0.441326   \n",
       "4 -0.944286 -0.930553 -0.884933    ...    -0.101181 -0.158231 -0.255675   \n",
       "\n",
       "        554       555       556       557       558       559       560  \n",
       "0 -0.390965  0.026899 -0.788465 -0.027791 -0.698332  0.430794  0.004234  \n",
       "1  0.110783 -0.058409 -1.234038  1.485151 -0.705272  0.431951  0.019739  \n",
       "2 -0.408486  0.359470  0.152136  1.705229 -0.713397  0.433110  0.038440  \n",
       "3 -0.161670 -0.070715  1.049241 -1.006276 -0.712840  0.437423  0.043673  \n",
       "4  0.321595  0.234653  1.138346 -1.279972 -0.711304  0.448114  0.057238  \n",
       "\n",
       "[5 rows x 561 columns]"
      ]
     },
     "execution_count": 10,
     "metadata": {},
     "output_type": "execute_result"
    }
   ],
   "source": [
    "scaler = StandardScaler()\n",
    "X_train_scaled = pd.DataFrame(scaler.fit_transform(X_train))\n",
    "X_train_scaled.head()"
   ]
  },
  {
   "cell_type": "markdown",
   "metadata": {},
   "source": [
    "--------\n",
    "## 2. Visualize the data using PCA"
   ]
  },
  {
   "cell_type": "code",
   "execution_count": 11,
   "metadata": {},
   "outputs": [],
   "source": [
    "from itertools import cycle\n",
    "\n",
    "def plot_PCA_2D(data, target, target_names):\n",
    "    colors = cycle(['r','g','b','c','m','y'])\n",
    "    target_ids = range(len(target_names))\n",
    "    plt.figure()\n",
    "    for i, c, label in zip(target_ids, colors, target_names):\n",
    "        test = np.array(target == i)\n",
    "        plt.scatter(data[test[:,0], 0], data[test[:,0], 1],\n",
    "                   c=c, label=label)\n",
    "    plt.legend()"
   ]
  },
  {
   "cell_type": "code",
   "execution_count": 12,
   "metadata": {},
   "outputs": [
    {
     "data": {
      "image/png": "[encoded data removed]",
      "text/plain": [
       "<Figure size 432x288 with 1 Axes>"
      ]
     },
     "metadata": {
      "needs_background": "light"
     },
     "output_type": "display_data"
    }
   ],
   "source": [
    "plot_PCA_2D(pcafeatures_train, target=y_train, target_names=np.array(activity['Activity'])) # np.array(['WALKING', 'WALKING_UPSTAIRS', 'WALKING_DOWNSTAIRS', 'SITTING', 'STANDING', 'LAYING']))\n",
    "            "
   ]
  },
  {
   "cell_type": "code",
   "execution_count": 13,
   "metadata": {},
   "outputs": [],
   "source": [
    "pca_3D = PCA(n_components=3)\n",
    "pca_3D.fit(X_train)\n",
    "result=pd.DataFrame(pca_3D.transform(X_train), columns=['PCA%i' % i for i in range(3)], index=X_train.index)"
   ]
  },
  {
   "cell_type": "code",
   "execution_count": 14,
   "metadata": {},
   "outputs": [
    {
     "data": {
      "text/plain": [
       "<Figure size 432x288 with 0 Axes>"
      ]
     },
     "metadata": {},
     "output_type": "display_data"
    },
    {
     "data": {
      "image/png": "[encoded data removed]",
      "text/plain": [
       "<Figure size 432x288 with 1 Axes>"
      ]
     },
     "metadata": {
      "needs_background": "light"
     },
     "output_type": "display_data"
    },
    {
     "data": {
      "text/plain": [
       "<Figure size 432x288 with 0 Axes>"
      ]
     },
     "metadata": {},
     "output_type": "display_data"
    },
    {
     "data": {
      "text/plain": [
       "<Figure size 432x288 with 0 Axes>"
      ]
     },
     "metadata": {},
     "output_type": "display_data"
    },
    {
     "data": {
      "text/plain": [
       "<Figure size 432x288 with 0 Axes>"
      ]
     },
     "metadata": {},
     "output_type": "display_data"
    },
    {
     "data": {
      "text/plain": [
       "<Figure size 432x288 with 0 Axes>"
      ]
     },
     "metadata": {},
     "output_type": "display_data"
    },
    {
     "data": {
      "text/plain": [
       "<Figure size 432x288 with 0 Axes>"
      ]
     },
     "metadata": {},
     "output_type": "display_data"
    },
    {
     "data": {
      "text/plain": [
       "<Figure size 432x288 with 0 Axes>"
      ]
     },
     "metadata": {},
     "output_type": "display_data"
    },
    {
     "data": {
      "text/plain": [
       "<Figure size 432x288 with 0 Axes>"
      ]
     },
     "metadata": {},
     "output_type": "display_data"
    },
    {
     "data": {
      "text/plain": [
       "<Figure size 432x288 with 0 Axes>"
      ]
     },
     "metadata": {},
     "output_type": "display_data"
    },
    {
     "data": {
      "text/plain": [
       "<Figure size 432x288 with 0 Axes>"
      ]
     },
     "metadata": {},
     "output_type": "display_data"
    },
    {
     "data": {
      "text/plain": [
       "<Figure size 432x288 with 0 Axes>"
      ]
     },
     "metadata": {},
     "output_type": "display_data"
    },
    {
     "data": {
      "text/plain": [
       "<Figure size 432x288 with 0 Axes>"
      ]
     },
     "metadata": {},
     "output_type": "display_data"
    },
    {
     "data": {
      "text/plain": [
       "<Figure size 432x288 with 0 Axes>"
      ]
     },
     "metadata": {},
     "output_type": "display_data"
    },
    {
     "data": {
      "text/plain": [
       "<Figure size 432x288 with 0 Axes>"
      ]
     },
     "metadata": {},
     "output_type": "display_data"
    },
    {
     "data": {
      "text/plain": [
       "<Figure size 432x288 with 0 Axes>"
      ]
     },
     "metadata": {},
     "output_type": "display_data"
    },
    {
     "data": {
      "text/plain": [
       "<Figure size 432x288 with 0 Axes>"
      ]
     },
     "metadata": {},
     "output_type": "display_data"
    },
    {
     "data": {
      "text/plain": [
       "<Figure size 432x288 with 0 Axes>"
      ]
     },
     "metadata": {},
     "output_type": "display_data"
    },
    {
     "data": {
      "text/plain": [
       "<Figure size 432x288 with 0 Axes>"
      ]
     },
     "metadata": {},
     "output_type": "display_data"
    },
    {
     "data": {
      "text/plain": [
       "<Figure size 432x288 with 0 Axes>"
      ]
     },
     "metadata": {},
     "output_type": "display_data"
    },
    {
     "data": {
      "text/plain": [
       "<Figure size 432x288 with 0 Axes>"
      ]
     },
     "metadata": {},
     "output_type": "display_data"
    },
    {
     "data": {
      "text/plain": [
       "<Figure size 432x288 with 0 Axes>"
      ]
     },
     "metadata": {},
     "output_type": "display_data"
    },
    {
     "data": {
      "text/plain": [
       "<Figure size 432x288 with 0 Axes>"
      ]
     },
     "metadata": {},
     "output_type": "display_data"
    },
    {
     "data": {
      "text/plain": [
       "<Figure size 432x288 with 0 Axes>"
      ]
     },
     "metadata": {},
     "output_type": "display_data"
    },
    {
     "data": {
      "text/plain": [
       "<Figure size 432x288 with 0 Axes>"
      ]
     },
     "metadata": {},
     "output_type": "display_data"
    },
    {
     "data": {
      "text/plain": [
       "<Figure size 432x288 with 0 Axes>"
      ]
     },
     "metadata": {},
     "output_type": "display_data"
    },
    {
     "data": {
      "text/plain": [
       "<Figure size 432x288 with 0 Axes>"
      ]
     },
     "metadata": {},
     "output_type": "display_data"
    },
    {
     "data": {
      "text/plain": [
       "<Figure size 432x288 with 0 Axes>"
      ]
     },
     "metadata": {},
     "output_type": "display_data"
    },
    {
     "data": {
      "text/plain": [
       "<Figure size 432x288 with 0 Axes>"
      ]
     },
     "metadata": {},
     "output_type": "display_data"
    },
    {
     "data": {
      "text/plain": [
       "<Figure size 432x288 with 0 Axes>"
      ]
     },
     "metadata": {},
     "output_type": "display_data"
    },
    {
     "data": {
      "text/plain": [
       "<Figure size 432x288 with 0 Axes>"
      ]
     },
     "metadata": {},
     "output_type": "display_data"
    },
    {
     "data": {
      "text/plain": [
       "<Figure size 432x288 with 0 Axes>"
      ]
     },
     "metadata": {},
     "output_type": "display_data"
    },
    {
     "data": {
      "text/plain": [
       "<Figure size 432x288 with 0 Axes>"
      ]
     },
     "metadata": {},
     "output_type": "display_data"
    },
    {
     "data": {
      "text/plain": [
       "<Figure size 432x288 with 0 Axes>"
      ]
     },
     "metadata": {},
     "output_type": "display_data"
    },
    {
     "data": {
      "text/plain": [
       "<Figure size 432x288 with 0 Axes>"
      ]
     },
     "metadata": {},
     "output_type": "display_data"
    },
    {
     "data": {
      "text/plain": [
       "<Figure size 432x288 with 0 Axes>"
      ]
     },
     "metadata": {},
     "output_type": "display_data"
    },
    {
     "data": {
      "text/plain": [
       "<Figure size 432x288 with 0 Axes>"
      ]
     },
     "metadata": {},
     "output_type": "display_data"
    },
    {
     "data": {
      "text/plain": [
       "<Figure size 432x288 with 0 Axes>"
      ]
     },
     "metadata": {},
     "output_type": "display_data"
    },
    {
     "data": {
      "text/plain": [
       "<Figure size 432x288 with 0 Axes>"
      ]
     },
     "metadata": {},
     "output_type": "display_data"
    },
    {
     "data": {
      "text/plain": [
       "<Figure size 432x288 with 0 Axes>"
      ]
     },
     "metadata": {},
     "output_type": "display_data"
    },
    {
     "data": {
      "text/plain": [
       "<Figure size 432x288 with 0 Axes>"
      ]
     },
     "metadata": {},
     "output_type": "display_data"
    },
    {
     "data": {
      "text/plain": [
       "<Figure size 432x288 with 0 Axes>"
      ]
     },
     "metadata": {},
     "output_type": "display_data"
    },
    {
     "data": {
      "text/plain": [
       "<Figure size 432x288 with 0 Axes>"
      ]
     },
     "metadata": {},
     "output_type": "display_data"
    },
    {
     "data": {
      "text/plain": [
       "<Figure size 432x288 with 0 Axes>"
      ]
     },
     "metadata": {},
     "output_type": "display_data"
    },
    {
     "data": {
      "text/plain": [
       "<Figure size 432x288 with 0 Axes>"
      ]
     },
     "metadata": {},
     "output_type": "display_data"
    },
    {
     "data": {
      "text/plain": [
       "<Figure size 432x288 with 0 Axes>"
      ]
     },
     "metadata": {},
     "output_type": "display_data"
    },
    {
     "data": {
      "text/plain": [
       "<Figure size 432x288 with 0 Axes>"
      ]
     },
     "metadata": {},
     "output_type": "display_data"
    },
    {
     "data": {
      "text/plain": [
       "<Figure size 432x288 with 0 Axes>"
      ]
     },
     "metadata": {},
     "output_type": "display_data"
    },
    {
     "data": {
      "text/plain": [
       "<Figure size 432x288 with 0 Axes>"
      ]
     },
     "metadata": {},
     "output_type": "display_data"
    },
    {
     "data": {
      "text/plain": [
       "<Figure size 432x288 with 0 Axes>"
      ]
     },
     "metadata": {},
     "output_type": "display_data"
    },
    {
     "data": {
      "text/plain": [
       "<Figure size 432x288 with 0 Axes>"
      ]
     },
     "metadata": {},
     "output_type": "display_data"
    },
    {
     "data": {
      "text/plain": [
       "<Figure size 432x288 with 0 Axes>"
      ]
     },
     "metadata": {},
     "output_type": "display_data"
    },
    {
     "data": {
      "text/plain": [
       "<Figure size 432x288 with 0 Axes>"
      ]
     },
     "metadata": {},
     "output_type": "display_data"
    },
    {
     "data": {
      "text/plain": [
       "<Figure size 432x288 with 0 Axes>"
      ]
     },
     "metadata": {},
     "output_type": "display_data"
    },
    {
     "data": {
      "text/plain": [
       "<Figure size 432x288 with 0 Axes>"
      ]
     },
     "metadata": {},
     "output_type": "display_data"
    },
    {
     "data": {
      "text/plain": [
       "<Figure size 432x288 with 0 Axes>"
      ]
     },
     "metadata": {},
     "output_type": "display_data"
    },
    {
     "data": {
      "text/plain": [
       "<Figure size 432x288 with 0 Axes>"
      ]
     },
     "metadata": {},
     "output_type": "display_data"
    },
    {
     "data": {
      "text/plain": [
       "<Figure size 432x288 with 0 Axes>"
      ]
     },
     "metadata": {},
     "output_type": "display_data"
    },
    {
     "data": {
      "text/plain": [
       "<Figure size 432x288 with 0 Axes>"
      ]
     },
     "metadata": {},
     "output_type": "display_data"
    },
    {
     "data": {
      "text/plain": [
       "<Figure size 432x288 with 0 Axes>"
      ]
     },
     "metadata": {},
     "output_type": "display_data"
    },
    {
     "data": {
      "text/plain": [
       "<Figure size 432x288 with 0 Axes>"
      ]
     },
     "metadata": {},
     "output_type": "display_data"
    },
    {
     "data": {
      "text/plain": [
       "<Figure size 432x288 with 0 Axes>"
      ]
     },
     "metadata": {},
     "output_type": "display_data"
    },
    {
     "data": {
      "text/plain": [
       "<Figure size 432x288 with 0 Axes>"
      ]
     },
     "metadata": {},
     "output_type": "display_data"
    },
    {
     "data": {
      "text/plain": [
       "<Figure size 432x288 with 0 Axes>"
      ]
     },
     "metadata": {},
     "output_type": "display_data"
    },
    {
     "data": {
      "text/plain": [
       "<Figure size 432x288 with 0 Axes>"
      ]
     },
     "metadata": {},
     "output_type": "display_data"
    },
    {
     "data": {
      "text/plain": [
       "<Figure size 432x288 with 0 Axes>"
      ]
     },
     "metadata": {},
     "output_type": "display_data"
    },
    {
     "data": {
      "text/plain": [
       "<Figure size 432x288 with 0 Axes>"
      ]
     },
     "metadata": {},
     "output_type": "display_data"
    },
    {
     "data": {
      "text/plain": [
       "<Figure size 432x288 with 0 Axes>"
      ]
     },
     "metadata": {},
     "output_type": "display_data"
    },
    {
     "data": {
      "text/plain": [
       "<Figure size 432x288 with 0 Axes>"
      ]
     },
     "metadata": {},
     "output_type": "display_data"
    },
    {
     "data": {
      "text/plain": [
       "<Figure size 432x288 with 0 Axes>"
      ]
     },
     "metadata": {},
     "output_type": "display_data"
    },
    {
     "data": {
      "text/plain": [
       "<Figure size 432x288 with 0 Axes>"
      ]
     },
     "metadata": {},
     "output_type": "display_data"
    },
    {
     "data": {
      "text/plain": [
       "<Figure size 432x288 with 0 Axes>"
      ]
     },
     "metadata": {},
     "output_type": "display_data"
    },
    {
     "data": {
      "text/plain": [
       "<Figure size 432x288 with 0 Axes>"
      ]
     },
     "metadata": {},
     "output_type": "display_data"
    },
    {
     "data": {
      "text/plain": [
       "<Figure size 432x288 with 0 Axes>"
      ]
     },
     "metadata": {},
     "output_type": "display_data"
    },
    {
     "data": {
      "text/plain": [
       "<Figure size 432x288 with 0 Axes>"
      ]
     },
     "metadata": {},
     "output_type": "display_data"
    },
    {
     "data": {
      "text/plain": [
       "<Figure size 432x288 with 0 Axes>"
      ]
     },
     "metadata": {},
     "output_type": "display_data"
    },
    {
     "data": {
      "text/plain": [
       "<Figure size 432x288 with 0 Axes>"
      ]
     },
     "metadata": {},
     "output_type": "display_data"
    },
    {
     "data": {
      "text/plain": [
       "<Figure size 432x288 with 0 Axes>"
      ]
     },
     "metadata": {},
     "output_type": "display_data"
    },
    {
     "data": {
      "text/plain": [
       "<Figure size 432x288 with 0 Axes>"
      ]
     },
     "metadata": {},
     "output_type": "display_data"
    },
    {
     "data": {
      "text/plain": [
       "<Figure size 432x288 with 0 Axes>"
      ]
     },
     "metadata": {},
     "output_type": "display_data"
    },
    {
     "data": {
      "text/plain": [
       "<Figure size 432x288 with 0 Axes>"
      ]
     },
     "metadata": {},
     "output_type": "display_data"
    },
    {
     "data": {
      "text/plain": [
       "<Figure size 432x288 with 0 Axes>"
      ]
     },
     "metadata": {},
     "output_type": "display_data"
    },
    {
     "data": {
      "text/plain": [
       "<Figure size 432x288 with 0 Axes>"
      ]
     },
     "metadata": {},
     "output_type": "display_data"
    },
    {
     "data": {
      "text/plain": [
       "<Figure size 432x288 with 0 Axes>"
      ]
     },
     "metadata": {},
     "output_type": "display_data"
    },
    {
     "data": {
      "text/plain": [
       "<Figure size 432x288 with 0 Axes>"
      ]
     },
     "metadata": {},
     "output_type": "display_data"
    },
    {
     "data": {
      "text/plain": [
       "<Figure size 432x288 with 0 Axes>"
      ]
     },
     "metadata": {},
     "output_type": "display_data"
    },
    {
     "data": {
      "text/plain": [
       "<Figure size 432x288 with 0 Axes>"
      ]
     },
     "metadata": {},
     "output_type": "display_data"
    },
    {
     "data": {
      "text/plain": [
       "<Figure size 432x288 with 0 Axes>"
      ]
     },
     "metadata": {},
     "output_type": "display_data"
    },
    {
     "data": {
      "text/plain": [
       "<Figure size 432x288 with 0 Axes>"
      ]
     },
     "metadata": {},
     "output_type": "display_data"
    },
    {
     "data": {
      "text/plain": [
       "<Figure size 432x288 with 0 Axes>"
      ]
     },
     "metadata": {},
     "output_type": "display_data"
    },
    {
     "data": {
      "text/plain": [
       "<Figure size 432x288 with 0 Axes>"
      ]
     },
     "metadata": {},
     "output_type": "display_data"
    },
    {
     "data": {
      "text/plain": [
       "<Figure size 432x288 with 0 Axes>"
      ]
     },
     "metadata": {},
     "output_type": "display_data"
    },
    {
     "data": {
      "text/plain": [
       "<Figure size 432x288 with 0 Axes>"
      ]
     },
     "metadata": {},
     "output_type": "display_data"
    },
    {
     "data": {
      "text/plain": [
       "<Figure size 432x288 with 0 Axes>"
      ]
     },
     "metadata": {},
     "output_type": "display_data"
    },
    {
     "data": {
      "text/plain": [
       "<Figure size 432x288 with 0 Axes>"
      ]
     },
     "metadata": {},
     "output_type": "display_data"
    },
    {
     "data": {
      "text/plain": [
       "<Figure size 432x288 with 0 Axes>"
      ]
     },
     "metadata": {},
     "output_type": "display_data"
    },
    {
     "data": {
      "text/plain": [
       "<Figure size 432x288 with 0 Axes>"
      ]
     },
     "metadata": {},
     "output_type": "display_data"
    },
    {
     "data": {
      "text/plain": [
       "<Figure size 432x288 with 0 Axes>"
      ]
     },
     "metadata": {},
     "output_type": "display_data"
    },
    {
     "data": {
      "text/plain": [
       "<Figure size 432x288 with 0 Axes>"
      ]
     },
     "metadata": {},
     "output_type": "display_data"
    },
    {
     "data": {
      "text/plain": [
       "<Figure size 432x288 with 0 Axes>"
      ]
     },
     "metadata": {},
     "output_type": "display_data"
    },
    {
     "data": {
      "text/plain": [
       "<Figure size 432x288 with 0 Axes>"
      ]
     },
     "metadata": {},
     "output_type": "display_data"
    },
    {
     "data": {
      "text/plain": [
       "<Figure size 432x288 with 0 Axes>"
      ]
     },
     "metadata": {},
     "output_type": "display_data"
    },
    {
     "data": {
      "text/plain": [
       "<Figure size 432x288 with 0 Axes>"
      ]
     },
     "metadata": {},
     "output_type": "display_data"
    },
    {
     "data": {
      "text/plain": [
       "<Figure size 432x288 with 0 Axes>"
      ]
     },
     "metadata": {},
     "output_type": "display_data"
    },
    {
     "data": {
      "text/plain": [
       "<Figure size 432x288 with 0 Axes>"
      ]
     },
     "metadata": {},
     "output_type": "display_data"
    },
    {
     "data": {
      "text/plain": [
       "<Figure size 432x288 with 0 Axes>"
      ]
     },
     "metadata": {},
     "output_type": "display_data"
    },
    {
     "data": {
      "text/plain": [
       "<Figure size 432x288 with 0 Axes>"
      ]
     },
     "metadata": {},
     "output_type": "display_data"
    },
    {
     "data": {
      "text/plain": [
       "<Figure size 432x288 with 0 Axes>"
      ]
     },
     "metadata": {},
     "output_type": "display_data"
    },
    {
     "data": {
      "text/plain": [
       "<Figure size 432x288 with 0 Axes>"
      ]
     },
     "metadata": {},
     "output_type": "display_data"
    },
    {
     "data": {
      "text/plain": [
       "<Figure size 432x288 with 0 Axes>"
      ]
     },
     "metadata": {},
     "output_type": "display_data"
    },
    {
     "data": {
      "text/plain": [
       "<Figure size 432x288 with 0 Axes>"
      ]
     },
     "metadata": {},
     "output_type": "display_data"
    },
    {
     "data": {
      "text/plain": [
       "<Figure size 432x288 with 0 Axes>"
      ]
     },
     "metadata": {},
     "output_type": "display_data"
    },
    {
     "data": {
      "text/plain": [
       "<Figure size 432x288 with 0 Axes>"
      ]
     },
     "metadata": {},
     "output_type": "display_data"
    },
    {
     "data": {
      "text/plain": [
       "<Figure size 432x288 with 0 Axes>"
      ]
     },
     "metadata": {},
     "output_type": "display_data"
    },
    {
     "data": {
      "text/plain": [
       "<Figure size 432x288 with 0 Axes>"
      ]
     },
     "metadata": {},
     "output_type": "display_data"
    },
    {
     "data": {
      "text/plain": [
       "<Figure size 432x288 with 0 Axes>"
      ]
     },
     "metadata": {},
     "output_type": "display_data"
    },
    {
     "data": {
      "text/plain": [
       "<Figure size 432x288 with 0 Axes>"
      ]
     },
     "metadata": {},
     "output_type": "display_data"
    },
    {
     "data": {
      "text/plain": [
       "<Figure size 432x288 with 0 Axes>"
      ]
     },
     "metadata": {},
     "output_type": "display_data"
    },
    {
     "data": {
      "text/plain": [
       "<Figure size 432x288 with 0 Axes>"
      ]
     },
     "metadata": {},
     "output_type": "display_data"
    },
    {
     "data": {
      "text/plain": [
       "<Figure size 432x288 with 0 Axes>"
      ]
     },
     "metadata": {},
     "output_type": "display_data"
    },
    {
     "data": {
      "text/plain": [
       "<Figure size 432x288 with 0 Axes>"
      ]
     },
     "metadata": {},
     "output_type": "display_data"
    },
    {
     "data": {
      "text/plain": [
       "<Figure size 432x288 with 0 Axes>"
      ]
     },
     "metadata": {},
     "output_type": "display_data"
    },
    {
     "data": {
      "text/plain": [
       "<Figure size 432x288 with 0 Axes>"
      ]
     },
     "metadata": {},
     "output_type": "display_data"
    },
    {
     "data": {
      "text/plain": [
       "<Figure size 432x288 with 0 Axes>"
      ]
     },
     "metadata": {},
     "output_type": "display_data"
    },
    {
     "data": {
      "text/plain": [
       "<Figure size 432x288 with 0 Axes>"
      ]
     },
     "metadata": {},
     "output_type": "display_data"
    },
    {
     "data": {
      "text/plain": [
       "<Figure size 432x288 with 0 Axes>"
      ]
     },
     "metadata": {},
     "output_type": "display_data"
    },
    {
     "data": {
      "text/plain": [
       "<Figure size 432x288 with 0 Axes>"
      ]
     },
     "metadata": {},
     "output_type": "display_data"
    },
    {
     "data": {
      "text/plain": [
       "<Figure size 432x288 with 0 Axes>"
      ]
     },
     "metadata": {},
     "output_type": "display_data"
    },
    {
     "data": {
      "text/plain": [
       "<Figure size 432x288 with 0 Axes>"
      ]
     },
     "metadata": {},
     "output_type": "display_data"
    },
    {
     "data": {
      "text/plain": [
       "<Figure size 432x288 with 0 Axes>"
      ]
     },
     "metadata": {},
     "output_type": "display_data"
    },
    {
     "data": {
      "text/plain": [
       "<Figure size 432x288 with 0 Axes>"
      ]
     },
     "metadata": {},
     "output_type": "display_data"
    },
    {
     "data": {
      "text/plain": [
       "<Figure size 432x288 with 0 Axes>"
      ]
     },
     "metadata": {},
     "output_type": "display_data"
    },
    {
     "data": {
      "text/plain": [
       "<Figure size 432x288 with 0 Axes>"
      ]
     },
     "metadata": {},
     "output_type": "display_data"
    },
    {
     "data": {
      "text/plain": [
       "<Figure size 432x288 with 0 Axes>"
      ]
     },
     "metadata": {},
     "output_type": "display_data"
    },
    {
     "data": {
      "text/plain": [
       "<Figure size 432x288 with 0 Axes>"
      ]
     },
     "metadata": {},
     "output_type": "display_data"
    },
    {
     "data": {
      "text/plain": [
       "<Figure size 432x288 with 0 Axes>"
      ]
     },
     "metadata": {},
     "output_type": "display_data"
    },
    {
     "data": {
      "text/plain": [
       "<Figure size 432x288 with 0 Axes>"
      ]
     },
     "metadata": {},
     "output_type": "display_data"
    },
    {
     "data": {
      "text/plain": [
       "<Figure size 432x288 with 0 Axes>"
      ]
     },
     "metadata": {},
     "output_type": "display_data"
    },
    {
     "data": {
      "text/plain": [
       "<Figure size 432x288 with 0 Axes>"
      ]
     },
     "metadata": {},
     "output_type": "display_data"
    },
    {
     "data": {
      "text/plain": [
       "<Figure size 432x288 with 0 Axes>"
      ]
     },
     "metadata": {},
     "output_type": "display_data"
    },
    {
     "data": {
      "text/plain": [
       "<Figure size 432x288 with 0 Axes>"
      ]
     },
     "metadata": {},
     "output_type": "display_data"
    },
    {
     "data": {
      "text/plain": [
       "<Figure size 432x288 with 0 Axes>"
      ]
     },
     "metadata": {},
     "output_type": "display_data"
    },
    {
     "data": {
      "text/plain": [
       "<Figure size 432x288 with 0 Axes>"
      ]
     },
     "metadata": {},
     "output_type": "display_data"
    },
    {
     "data": {
      "text/plain": [
       "<Figure size 432x288 with 0 Axes>"
      ]
     },
     "metadata": {},
     "output_type": "display_data"
    },
    {
     "data": {
      "text/plain": [
       "<Figure size 432x288 with 0 Axes>"
      ]
     },
     "metadata": {},
     "output_type": "display_data"
    },
    {
     "data": {
      "text/plain": [
       "<Figure size 432x288 with 0 Axes>"
      ]
     },
     "metadata": {},
     "output_type": "display_data"
    },
    {
     "data": {
      "text/plain": [
       "<Figure size 432x288 with 0 Axes>"
      ]
     },
     "metadata": {},
     "output_type": "display_data"
    },
    {
     "data": {
      "text/plain": [
       "<Figure size 432x288 with 0 Axes>"
      ]
     },
     "metadata": {},
     "output_type": "display_data"
    },
    {
     "data": {
      "text/plain": [
       "<Figure size 432x288 with 0 Axes>"
      ]
     },
     "metadata": {},
     "output_type": "display_data"
    },
    {
     "data": {
      "text/plain": [
       "<Figure size 432x288 with 0 Axes>"
      ]
     },
     "metadata": {},
     "output_type": "display_data"
    },
    {
     "data": {
      "text/plain": [
       "<Figure size 432x288 with 0 Axes>"
      ]
     },
     "metadata": {},
     "output_type": "display_data"
    },
    {
     "data": {
      "text/plain": [
       "<Figure size 432x288 with 0 Axes>"
      ]
     },
     "metadata": {},
     "output_type": "display_data"
    },
    {
     "data": {
      "text/plain": [
       "<Figure size 432x288 with 0 Axes>"
      ]
     },
     "metadata": {},
     "output_type": "display_data"
    },
    {
     "data": {
      "text/plain": [
       "<Figure size 432x288 with 0 Axes>"
      ]
     },
     "metadata": {},
     "output_type": "display_data"
    },
    {
     "data": {
      "text/plain": [
       "<Figure size 432x288 with 0 Axes>"
      ]
     },
     "metadata": {},
     "output_type": "display_data"
    },
    {
     "data": {
      "text/plain": [
       "<Figure size 432x288 with 0 Axes>"
      ]
     },
     "metadata": {},
     "output_type": "display_data"
    },
    {
     "data": {
      "text/plain": [
       "<Figure size 432x288 with 0 Axes>"
      ]
     },
     "metadata": {},
     "output_type": "display_data"
    },
    {
     "data": {
      "text/plain": [
       "<Figure size 432x288 with 0 Axes>"
      ]
     },
     "metadata": {},
     "output_type": "display_data"
    },
    {
     "data": {
      "text/plain": [
       "<Figure size 432x288 with 0 Axes>"
      ]
     },
     "metadata": {},
     "output_type": "display_data"
    },
    {
     "data": {
      "text/plain": [
       "<Figure size 432x288 with 0 Axes>"
      ]
     },
     "metadata": {},
     "output_type": "display_data"
    },
    {
     "data": {
      "text/plain": [
       "<Figure size 432x288 with 0 Axes>"
      ]
     },
     "metadata": {},
     "output_type": "display_data"
    },
    {
     "data": {
      "text/plain": [
       "<Figure size 432x288 with 0 Axes>"
      ]
     },
     "metadata": {},
     "output_type": "display_data"
    },
    {
     "data": {
      "text/plain": [
       "<Figure size 432x288 with 0 Axes>"
      ]
     },
     "metadata": {},
     "output_type": "display_data"
    },
    {
     "data": {
      "text/plain": [
       "<Figure size 432x288 with 0 Axes>"
      ]
     },
     "metadata": {},
     "output_type": "display_data"
    },
    {
     "data": {
      "text/plain": [
       "<Figure size 432x288 with 0 Axes>"
      ]
     },
     "metadata": {},
     "output_type": "display_data"
    },
    {
     "data": {
      "text/plain": [
       "<Figure size 432x288 with 0 Axes>"
      ]
     },
     "metadata": {},
     "output_type": "display_data"
    },
    {
     "data": {
      "text/plain": [
       "<Figure size 432x288 with 0 Axes>"
      ]
     },
     "metadata": {},
     "output_type": "display_data"
    },
    {
     "data": {
      "text/plain": [
       "<Figure size 432x288 with 0 Axes>"
      ]
     },
     "metadata": {},
     "output_type": "display_data"
    },
    {
     "data": {
      "text/plain": [
       "<Figure size 432x288 with 0 Axes>"
      ]
     },
     "metadata": {},
     "output_type": "display_data"
    },
    {
     "data": {
      "text/plain": [
       "<Figure size 432x288 with 0 Axes>"
      ]
     },
     "metadata": {},
     "output_type": "display_data"
    },
    {
     "data": {
      "text/plain": [
       "<Figure size 432x288 with 0 Axes>"
      ]
     },
     "metadata": {},
     "output_type": "display_data"
    },
    {
     "data": {
      "text/plain": [
       "<Figure size 432x288 with 0 Axes>"
      ]
     },
     "metadata": {},
     "output_type": "display_data"
    },
    {
     "data": {
      "text/plain": [
       "<Figure size 432x288 with 0 Axes>"
      ]
     },
     "metadata": {},
     "output_type": "display_data"
    },
    {
     "data": {
      "text/plain": [
       "<Figure size 432x288 with 0 Axes>"
      ]
     },
     "metadata": {},
     "output_type": "display_data"
    },
    {
     "data": {
      "text/plain": [
       "<Figure size 432x288 with 0 Axes>"
      ]
     },
     "metadata": {},
     "output_type": "display_data"
    },
    {
     "data": {
      "text/plain": [
       "<Figure size 432x288 with 0 Axes>"
      ]
     },
     "metadata": {},
     "output_type": "display_data"
    },
    {
     "data": {
      "text/plain": [
       "<Figure size 432x288 with 0 Axes>"
      ]
     },
     "metadata": {},
     "output_type": "display_data"
    },
    {
     "data": {
      "text/plain": [
       "<Figure size 432x288 with 0 Axes>"
      ]
     },
     "metadata": {},
     "output_type": "display_data"
    },
    {
     "data": {
      "text/plain": [
       "<Figure size 432x288 with 0 Axes>"
      ]
     },
     "metadata": {},
     "output_type": "display_data"
    },
    {
     "data": {
      "text/plain": [
       "<Figure size 432x288 with 0 Axes>"
      ]
     },
     "metadata": {},
     "output_type": "display_data"
    },
    {
     "data": {
      "text/plain": [
       "<Figure size 432x288 with 0 Axes>"
      ]
     },
     "metadata": {},
     "output_type": "display_data"
    },
    {
     "data": {
      "text/plain": [
       "<Figure size 432x288 with 0 Axes>"
      ]
     },
     "metadata": {},
     "output_type": "display_data"
    },
    {
     "data": {
      "text/plain": [
       "<Figure size 432x288 with 0 Axes>"
      ]
     },
     "metadata": {},
     "output_type": "display_data"
    },
    {
     "data": {
      "text/plain": [
       "<Figure size 432x288 with 0 Axes>"
      ]
     },
     "metadata": {},
     "output_type": "display_data"
    },
    {
     "data": {
      "text/plain": [
       "<Figure size 432x288 with 0 Axes>"
      ]
     },
     "metadata": {},
     "output_type": "display_data"
    },
    {
     "data": {
      "text/plain": [
       "<Figure size 432x288 with 0 Axes>"
      ]
     },
     "metadata": {},
     "output_type": "display_data"
    },
    {
     "data": {
      "text/plain": [
       "<Figure size 432x288 with 0 Axes>"
      ]
     },
     "metadata": {},
     "output_type": "display_data"
    },
    {
     "data": {
      "text/plain": [
       "<Figure size 432x288 with 0 Axes>"
      ]
     },
     "metadata": {},
     "output_type": "display_data"
    },
    {
     "data": {
      "text/plain": [
       "<Figure size 432x288 with 0 Axes>"
      ]
     },
     "metadata": {},
     "output_type": "display_data"
    },
    {
     "data": {
      "text/plain": [
       "<Figure size 432x288 with 0 Axes>"
      ]
     },
     "metadata": {},
     "output_type": "display_data"
    },
    {
     "data": {
      "text/plain": [
       "<Figure size 432x288 with 0 Axes>"
      ]
     },
     "metadata": {},
     "output_type": "display_data"
    },
    {
     "data": {
      "text/plain": [
       "<Figure size 432x288 with 0 Axes>"
      ]
     },
     "metadata": {},
     "output_type": "display_data"
    },
    {
     "data": {
      "text/plain": [
       "<Figure size 432x288 with 0 Axes>"
      ]
     },
     "metadata": {},
     "output_type": "display_data"
    },
    {
     "data": {
      "text/plain": [
       "<Figure size 432x288 with 0 Axes>"
      ]
     },
     "metadata": {},
     "output_type": "display_data"
    },
    {
     "data": {
      "text/plain": [
       "<Figure size 432x288 with 0 Axes>"
      ]
     },
     "metadata": {},
     "output_type": "display_data"
    },
    {
     "data": {
      "text/plain": [
       "<Figure size 432x288 with 0 Axes>"
      ]
     },
     "metadata": {},
     "output_type": "display_data"
    },
    {
     "data": {
      "text/plain": [
       "<Figure size 432x288 with 0 Axes>"
      ]
     },
     "metadata": {},
     "output_type": "display_data"
    },
    {
     "data": {
      "text/plain": [
       "<Figure size 432x288 with 0 Axes>"
      ]
     },
     "metadata": {},
     "output_type": "display_data"
    },
    {
     "data": {
      "text/plain": [
       "<Figure size 432x288 with 0 Axes>"
      ]
     },
     "metadata": {},
     "output_type": "display_data"
    },
    {
     "data": {
      "text/plain": [
       "<Figure size 432x288 with 0 Axes>"
      ]
     },
     "metadata": {},
     "output_type": "display_data"
    },
    {
     "data": {
      "text/plain": [
       "<Figure size 432x288 with 0 Axes>"
      ]
     },
     "metadata": {},
     "output_type": "display_data"
    },
    {
     "data": {
      "text/plain": [
       "<Figure size 432x288 with 0 Axes>"
      ]
     },
     "metadata": {},
     "output_type": "display_data"
    },
    {
     "data": {
      "text/plain": [
       "<Figure size 432x288 with 0 Axes>"
      ]
     },
     "metadata": {},
     "output_type": "display_data"
    },
    {
     "data": {
      "text/plain": [
       "<Figure size 432x288 with 0 Axes>"
      ]
     },
     "metadata": {},
     "output_type": "display_data"
    },
    {
     "data": {
      "text/plain": [
       "<Figure size 432x288 with 0 Axes>"
      ]
     },
     "metadata": {},
     "output_type": "display_data"
    },
    {
     "data": {
      "text/plain": [
       "<Figure size 432x288 with 0 Axes>"
      ]
     },
     "metadata": {},
     "output_type": "display_data"
    },
    {
     "data": {
      "text/plain": [
       "<Figure size 432x288 with 0 Axes>"
      ]
     },
     "metadata": {},
     "output_type": "display_data"
    },
    {
     "data": {
      "text/plain": [
       "<Figure size 432x288 with 0 Axes>"
      ]
     },
     "metadata": {},
     "output_type": "display_data"
    },
    {
     "data": {
      "text/plain": [
       "<Figure size 432x288 with 0 Axes>"
      ]
     },
     "metadata": {},
     "output_type": "display_data"
    },
    {
     "data": {
      "text/plain": [
       "<Figure size 432x288 with 0 Axes>"
      ]
     },
     "metadata": {},
     "output_type": "display_data"
    },
    {
     "data": {
      "text/plain": [
       "<Figure size 432x288 with 0 Axes>"
      ]
     },
     "metadata": {},
     "output_type": "display_data"
    },
    {
     "data": {
      "text/plain": [
       "<Figure size 432x288 with 0 Axes>"
      ]
     },
     "metadata": {},
     "output_type": "display_data"
    },
    {
     "data": {
      "text/plain": [
       "<Figure size 432x288 with 0 Axes>"
      ]
     },
     "metadata": {},
     "output_type": "display_data"
    },
    {
     "data": {
      "text/plain": [
       "<Figure size 432x288 with 0 Axes>"
      ]
     },
     "metadata": {},
     "output_type": "display_data"
    },
    {
     "data": {
      "text/plain": [
       "<Figure size 432x288 with 0 Axes>"
      ]
     },
     "metadata": {},
     "output_type": "display_data"
    },
    {
     "data": {
      "text/plain": [
       "<Figure size 432x288 with 0 Axes>"
      ]
     },
     "metadata": {},
     "output_type": "display_data"
    },
    {
     "data": {
      "text/plain": [
       "<Figure size 432x288 with 0 Axes>"
      ]
     },
     "metadata": {},
     "output_type": "display_data"
    },
    {
     "data": {
      "text/plain": [
       "<Figure size 432x288 with 0 Axes>"
      ]
     },
     "metadata": {},
     "output_type": "display_data"
    },
    {
     "data": {
      "text/plain": [
       "<Figure size 432x288 with 0 Axes>"
      ]
     },
     "metadata": {},
     "output_type": "display_data"
    },
    {
     "data": {
      "text/plain": [
       "<Figure size 432x288 with 0 Axes>"
      ]
     },
     "metadata": {},
     "output_type": "display_data"
    },
    {
     "data": {
      "text/plain": [
       "<Figure size 432x288 with 0 Axes>"
      ]
     },
     "metadata": {},
     "output_type": "display_data"
    },
    {
     "data": {
      "text/plain": [
       "<Figure size 432x288 with 0 Axes>"
      ]
     },
     "metadata": {},
     "output_type": "display_data"
    },
    {
     "data": {
      "text/plain": [
       "<Figure size 432x288 with 0 Axes>"
      ]
     },
     "metadata": {},
     "output_type": "display_data"
    },
    {
     "data": {
      "text/plain": [
       "<Figure size 432x288 with 0 Axes>"
      ]
     },
     "metadata": {},
     "output_type": "display_data"
    },
    {
     "data": {
      "text/plain": [
       "<Figure size 432x288 with 0 Axes>"
      ]
     },
     "metadata": {},
     "output_type": "display_data"
    },
    {
     "data": {
      "text/plain": [
       "<Figure size 432x288 with 0 Axes>"
      ]
     },
     "metadata": {},
     "output_type": "display_data"
    },
    {
     "data": {
      "text/plain": [
       "<Figure size 432x288 with 0 Axes>"
      ]
     },
     "metadata": {},
     "output_type": "display_data"
    },
    {
     "data": {
      "text/plain": [
       "<Figure size 432x288 with 0 Axes>"
      ]
     },
     "metadata": {},
     "output_type": "display_data"
    },
    {
     "data": {
      "text/plain": [
       "<Figure size 432x288 with 0 Axes>"
      ]
     },
     "metadata": {},
     "output_type": "display_data"
    },
    {
     "data": {
      "text/plain": [
       "<Figure size 432x288 with 0 Axes>"
      ]
     },
     "metadata": {},
     "output_type": "display_data"
    },
    {
     "data": {
      "text/plain": [
       "<Figure size 432x288 with 0 Axes>"
      ]
     },
     "metadata": {},
     "output_type": "display_data"
    },
    {
     "data": {
      "text/plain": [
       "<Figure size 432x288 with 0 Axes>"
      ]
     },
     "metadata": {},
     "output_type": "display_data"
    },
    {
     "data": {
      "text/plain": [
       "<Figure size 432x288 with 0 Axes>"
      ]
     },
     "metadata": {},
     "output_type": "display_data"
    },
    {
     "data": {
      "text/plain": [
       "<Figure size 432x288 with 0 Axes>"
      ]
     },
     "metadata": {},
     "output_type": "display_data"
    },
    {
     "data": {
      "text/plain": [
       "<Figure size 432x288 with 0 Axes>"
      ]
     },
     "metadata": {},
     "output_type": "display_data"
    },
    {
     "data": {
      "text/plain": [
       "<Figure size 432x288 with 0 Axes>"
      ]
     },
     "metadata": {},
     "output_type": "display_data"
    },
    {
     "data": {
      "text/plain": [
       "<Figure size 432x288 with 0 Axes>"
      ]
     },
     "metadata": {},
     "output_type": "display_data"
    },
    {
     "data": {
      "text/plain": [
       "<Figure size 432x288 with 0 Axes>"
      ]
     },
     "metadata": {},
     "output_type": "display_data"
    },
    {
     "data": {
      "text/plain": [
       "<Figure size 432x288 with 0 Axes>"
      ]
     },
     "metadata": {},
     "output_type": "display_data"
    },
    {
     "data": {
      "text/plain": [
       "<Figure size 432x288 with 0 Axes>"
      ]
     },
     "metadata": {},
     "output_type": "display_data"
    },
    {
     "data": {
      "text/plain": [
       "<Figure size 432x288 with 0 Axes>"
      ]
     },
     "metadata": {},
     "output_type": "display_data"
    },
    {
     "data": {
      "text/plain": [
       "<Figure size 432x288 with 0 Axes>"
      ]
     },
     "metadata": {},
     "output_type": "display_data"
    },
    {
     "data": {
      "text/plain": [
       "<Figure size 432x288 with 0 Axes>"
      ]
     },
     "metadata": {},
     "output_type": "display_data"
    },
    {
     "data": {
      "text/plain": [
       "<Figure size 432x288 with 0 Axes>"
      ]
     },
     "metadata": {},
     "output_type": "display_data"
    },
    {
     "data": {
      "text/plain": [
       "<Figure size 432x288 with 0 Axes>"
      ]
     },
     "metadata": {},
     "output_type": "display_data"
    },
    {
     "data": {
      "text/plain": [
       "<Figure size 432x288 with 0 Axes>"
      ]
     },
     "metadata": {},
     "output_type": "display_data"
    },
    {
     "data": {
      "text/plain": [
       "<Figure size 432x288 with 0 Axes>"
      ]
     },
     "metadata": {},
     "output_type": "display_data"
    },
    {
     "data": {
      "text/plain": [
       "<Figure size 432x288 with 0 Axes>"
      ]
     },
     "metadata": {},
     "output_type": "display_data"
    },
    {
     "data": {
      "text/plain": [
       "<Figure size 432x288 with 0 Axes>"
      ]
     },
     "metadata": {},
     "output_type": "display_data"
    },
    {
     "data": {
      "text/plain": [
       "<Figure size 432x288 with 0 Axes>"
      ]
     },
     "metadata": {},
     "output_type": "display_data"
    },
    {
     "data": {
      "text/plain": [
       "<Figure size 432x288 with 0 Axes>"
      ]
     },
     "metadata": {},
     "output_type": "display_data"
    },
    {
     "data": {
      "text/plain": [
       "<Figure size 432x288 with 0 Axes>"
      ]
     },
     "metadata": {},
     "output_type": "display_data"
    },
    {
     "data": {
      "text/plain": [
       "<Figure size 432x288 with 0 Axes>"
      ]
     },
     "metadata": {},
     "output_type": "display_data"
    },
    {
     "data": {
      "text/plain": [
       "<Figure size 432x288 with 0 Axes>"
      ]
     },
     "metadata": {},
     "output_type": "display_data"
    },
    {
     "data": {
      "text/plain": [
       "<Figure size 432x288 with 0 Axes>"
      ]
     },
     "metadata": {},
     "output_type": "display_data"
    },
    {
     "data": {
      "text/plain": [
       "<Figure size 432x288 with 0 Axes>"
      ]
     },
     "metadata": {},
     "output_type": "display_data"
    },
    {
     "data": {
      "text/plain": [
       "<Figure size 432x288 with 0 Axes>"
      ]
     },
     "metadata": {},
     "output_type": "display_data"
    },
    {
     "data": {
      "text/plain": [
       "<Figure size 432x288 with 0 Axes>"
      ]
     },
     "metadata": {},
     "output_type": "display_data"
    },
    {
     "data": {
      "text/plain": [
       "<Figure size 432x288 with 0 Axes>"
      ]
     },
     "metadata": {},
     "output_type": "display_data"
    },
    {
     "data": {
      "text/plain": [
       "<Figure size 432x288 with 0 Axes>"
      ]
     },
     "metadata": {},
     "output_type": "display_data"
    },
    {
     "data": {
      "text/plain": [
       "<Figure size 432x288 with 0 Axes>"
      ]
     },
     "metadata": {},
     "output_type": "display_data"
    },
    {
     "data": {
      "text/plain": [
       "<Figure size 432x288 with 0 Axes>"
      ]
     },
     "metadata": {},
     "output_type": "display_data"
    },
    {
     "data": {
      "text/plain": [
       "<Figure size 432x288 with 0 Axes>"
      ]
     },
     "metadata": {},
     "output_type": "display_data"
    },
    {
     "data": {
      "text/plain": [
       "<Figure size 432x288 with 0 Axes>"
      ]
     },
     "metadata": {},
     "output_type": "display_data"
    },
    {
     "data": {
      "text/plain": [
       "<Figure size 432x288 with 0 Axes>"
      ]
     },
     "metadata": {},
     "output_type": "display_data"
    },
    {
     "data": {
      "text/plain": [
       "<Figure size 432x288 with 0 Axes>"
      ]
     },
     "metadata": {},
     "output_type": "display_data"
    },
    {
     "data": {
      "text/plain": [
       "<Figure size 432x288 with 0 Axes>"
      ]
     },
     "metadata": {},
     "output_type": "display_data"
    },
    {
     "data": {
      "text/plain": [
       "<Figure size 432x288 with 0 Axes>"
      ]
     },
     "metadata": {},
     "output_type": "display_data"
    },
    {
     "data": {
      "text/plain": [
       "<Figure size 432x288 with 0 Axes>"
      ]
     },
     "metadata": {},
     "output_type": "display_data"
    },
    {
     "data": {
      "text/plain": [
       "<Figure size 432x288 with 0 Axes>"
      ]
     },
     "metadata": {},
     "output_type": "display_data"
    },
    {
     "data": {
      "text/plain": [
       "<Figure size 432x288 with 0 Axes>"
      ]
     },
     "metadata": {},
     "output_type": "display_data"
    },
    {
     "data": {
      "text/plain": [
       "<Figure size 432x288 with 0 Axes>"
      ]
     },
     "metadata": {},
     "output_type": "display_data"
    },
    {
     "data": {
      "text/plain": [
       "<Figure size 432x288 with 0 Axes>"
      ]
     },
     "metadata": {},
     "output_type": "display_data"
    },
    {
     "data": {
      "text/plain": [
       "<Figure size 432x288 with 0 Axes>"
      ]
     },
     "metadata": {},
     "output_type": "display_data"
    },
    {
     "data": {
      "text/plain": [
       "<Figure size 432x288 with 0 Axes>"
      ]
     },
     "metadata": {},
     "output_type": "display_data"
    },
    {
     "data": {
      "text/plain": [
       "<Figure size 432x288 with 0 Axes>"
      ]
     },
     "metadata": {},
     "output_type": "display_data"
    },
    {
     "data": {
      "text/plain": [
       "<Figure size 432x288 with 0 Axes>"
      ]
     },
     "metadata": {},
     "output_type": "display_data"
    },
    {
     "data": {
      "text/plain": [
       "<Figure size 432x288 with 0 Axes>"
      ]
     },
     "metadata": {},
     "output_type": "display_data"
    },
    {
     "data": {
      "text/plain": [
       "<Figure size 432x288 with 0 Axes>"
      ]
     },
     "metadata": {},
     "output_type": "display_data"
    },
    {
     "data": {
      "text/plain": [
       "<Figure size 432x288 with 0 Axes>"
      ]
     },
     "metadata": {},
     "output_type": "display_data"
    },
    {
     "data": {
      "text/plain": [
       "<Figure size 432x288 with 0 Axes>"
      ]
     },
     "metadata": {},
     "output_type": "display_data"
    },
    {
     "data": {
      "text/plain": [
       "<Figure size 432x288 with 0 Axes>"
      ]
     },
     "metadata": {},
     "output_type": "display_data"
    },
    {
     "data": {
      "text/plain": [
       "<Figure size 432x288 with 0 Axes>"
      ]
     },
     "metadata": {},
     "output_type": "display_data"
    },
    {
     "data": {
      "text/plain": [
       "<Figure size 432x288 with 0 Axes>"
      ]
     },
     "metadata": {},
     "output_type": "display_data"
    },
    {
     "data": {
      "text/plain": [
       "<Figure size 432x288 with 0 Axes>"
      ]
     },
     "metadata": {},
     "output_type": "display_data"
    },
    {
     "data": {
      "text/plain": [
       "<Figure size 432x288 with 0 Axes>"
      ]
     },
     "metadata": {},
     "output_type": "display_data"
    },
    {
     "data": {
      "text/plain": [
       "<Figure size 432x288 with 0 Axes>"
      ]
     },
     "metadata": {},
     "output_type": "display_data"
    },
    {
     "data": {
      "text/plain": [
       "<Figure size 432x288 with 0 Axes>"
      ]
     },
     "metadata": {},
     "output_type": "display_data"
    },
    {
     "data": {
      "text/plain": [
       "<Figure size 432x288 with 0 Axes>"
      ]
     },
     "metadata": {},
     "output_type": "display_data"
    },
    {
     "data": {
      "text/plain": [
       "<Figure size 432x288 with 0 Axes>"
      ]
     },
     "metadata": {},
     "output_type": "display_data"
    },
    {
     "data": {
      "text/plain": [
       "<Figure size 432x288 with 0 Axes>"
      ]
     },
     "metadata": {},
     "output_type": "display_data"
    },
    {
     "data": {
      "text/plain": [
       "<Figure size 432x288 with 0 Axes>"
      ]
     },
     "metadata": {},
     "output_type": "display_data"
    },
    {
     "data": {
      "text/plain": [
       "<Figure size 432x288 with 0 Axes>"
      ]
     },
     "metadata": {},
     "output_type": "display_data"
    },
    {
     "data": {
      "text/plain": [
       "<Figure size 432x288 with 0 Axes>"
      ]
     },
     "metadata": {},
     "output_type": "display_data"
    },
    {
     "data": {
      "text/plain": [
       "<Figure size 432x288 with 0 Axes>"
      ]
     },
     "metadata": {},
     "output_type": "display_data"
    },
    {
     "data": {
      "text/plain": [
       "<Figure size 432x288 with 0 Axes>"
      ]
     },
     "metadata": {},
     "output_type": "display_data"
    },
    {
     "data": {
      "text/plain": [
       "<Figure size 432x288 with 0 Axes>"
      ]
     },
     "metadata": {},
     "output_type": "display_data"
    },
    {
     "data": {
      "text/plain": [
       "<Figure size 432x288 with 0 Axes>"
      ]
     },
     "metadata": {},
     "output_type": "display_data"
    },
    {
     "data": {
      "text/plain": [
       "<Figure size 432x288 with 0 Axes>"
      ]
     },
     "metadata": {},
     "output_type": "display_data"
    },
    {
     "data": {
      "text/plain": [
       "<Figure size 432x288 with 0 Axes>"
      ]
     },
     "metadata": {},
     "output_type": "display_data"
    },
    {
     "data": {
      "text/plain": [
       "<Figure size 432x288 with 0 Axes>"
      ]
     },
     "metadata": {},
     "output_type": "display_data"
    },
    {
     "data": {
      "text/plain": [
       "<Figure size 432x288 with 0 Axes>"
      ]
     },
     "metadata": {},
     "output_type": "display_data"
    },
    {
     "data": {
      "text/plain": [
       "<Figure size 432x288 with 0 Axes>"
      ]
     },
     "metadata": {},
     "output_type": "display_data"
    },
    {
     "data": {
      "text/plain": [
       "<Figure size 432x288 with 0 Axes>"
      ]
     },
     "metadata": {},
     "output_type": "display_data"
    },
    {
     "data": {
      "text/plain": [
       "<Figure size 432x288 with 0 Axes>"
      ]
     },
     "metadata": {},
     "output_type": "display_data"
    },
    {
     "data": {
      "text/plain": [
       "<Figure size 432x288 with 0 Axes>"
      ]
     },
     "metadata": {},
     "output_type": "display_data"
    },
    {
     "data": {
      "text/plain": [
       "<Figure size 432x288 with 0 Axes>"
      ]
     },
     "metadata": {},
     "output_type": "display_data"
    },
    {
     "data": {
      "text/plain": [
       "<Figure size 432x288 with 0 Axes>"
      ]
     },
     "metadata": {},
     "output_type": "display_data"
    },
    {
     "data": {
      "text/plain": [
       "<Figure size 432x288 with 0 Axes>"
      ]
     },
     "metadata": {},
     "output_type": "display_data"
    },
    {
     "data": {
      "text/plain": [
       "<Figure size 432x288 with 0 Axes>"
      ]
     },
     "metadata": {},
     "output_type": "display_data"
    },
    {
     "data": {
      "text/plain": [
       "<Figure size 432x288 with 0 Axes>"
      ]
     },
     "metadata": {},
     "output_type": "display_data"
    },
    {
     "data": {
      "text/plain": [
       "<Figure size 432x288 with 0 Axes>"
      ]
     },
     "metadata": {},
     "output_type": "display_data"
    },
    {
     "data": {
      "text/plain": [
       "<Figure size 432x288 with 0 Axes>"
      ]
     },
     "metadata": {},
     "output_type": "display_data"
    },
    {
     "data": {
      "text/plain": [
       "<Figure size 432x288 with 0 Axes>"
      ]
     },
     "metadata": {},
     "output_type": "display_data"
    },
    {
     "data": {
      "text/plain": [
       "<Figure size 432x288 with 0 Axes>"
      ]
     },
     "metadata": {},
     "output_type": "display_data"
    },
    {
     "data": {
      "text/plain": [
       "<Figure size 432x288 with 0 Axes>"
      ]
     },
     "metadata": {},
     "output_type": "display_data"
    },
    {
     "data": {
      "text/plain": [
       "<Figure size 432x288 with 0 Axes>"
      ]
     },
     "metadata": {},
     "output_type": "display_data"
    },
    {
     "data": {
      "text/plain": [
       "<Figure size 432x288 with 0 Axes>"
      ]
     },
     "metadata": {},
     "output_type": "display_data"
    },
    {
     "data": {
      "text/plain": [
       "<Figure size 432x288 with 0 Axes>"
      ]
     },
     "metadata": {},
     "output_type": "display_data"
    },
    {
     "data": {
      "text/plain": [
       "<Figure size 432x288 with 0 Axes>"
      ]
     },
     "metadata": {},
     "output_type": "display_data"
    },
    {
     "data": {
      "text/plain": [
       "<Figure size 432x288 with 0 Axes>"
      ]
     },
     "metadata": {},
     "output_type": "display_data"
    },
    {
     "data": {
      "text/plain": [
       "<Figure size 432x288 with 0 Axes>"
      ]
     },
     "metadata": {},
     "output_type": "display_data"
    },
    {
     "data": {
      "text/plain": [
       "<Figure size 432x288 with 0 Axes>"
      ]
     },
     "metadata": {},
     "output_type": "display_data"
    },
    {
     "data": {
      "text/plain": [
       "<Figure size 432x288 with 0 Axes>"
      ]
     },
     "metadata": {},
     "output_type": "display_data"
    },
    {
     "data": {
      "text/plain": [
       "<Figure size 432x288 with 0 Axes>"
      ]
     },
     "metadata": {},
     "output_type": "display_data"
    },
    {
     "data": {
      "text/plain": [
       "<Figure size 432x288 with 0 Axes>"
      ]
     },
     "metadata": {},
     "output_type": "display_data"
    },
    {
     "data": {
      "text/plain": [
       "<Figure size 432x288 with 0 Axes>"
      ]
     },
     "metadata": {},
     "output_type": "display_data"
    },
    {
     "data": {
      "text/plain": [
       "<Figure size 432x288 with 0 Axes>"
      ]
     },
     "metadata": {},
     "output_type": "display_data"
    },
    {
     "data": {
      "text/plain": [
       "<Figure size 432x288 with 0 Axes>"
      ]
     },
     "metadata": {},
     "output_type": "display_data"
    },
    {
     "data": {
      "text/plain": [
       "<Figure size 432x288 with 0 Axes>"
      ]
     },
     "metadata": {},
     "output_type": "display_data"
    },
    {
     "data": {
      "text/plain": [
       "<Figure size 432x288 with 0 Axes>"
      ]
     },
     "metadata": {},
     "output_type": "display_data"
    },
    {
     "data": {
      "text/plain": [
       "<Figure size 432x288 with 0 Axes>"
      ]
     },
     "metadata": {},
     "output_type": "display_data"
    },
    {
     "data": {
      "text/plain": [
       "<Figure size 432x288 with 0 Axes>"
      ]
     },
     "metadata": {},
     "output_type": "display_data"
    },
    {
     "data": {
      "text/plain": [
       "<Figure size 432x288 with 0 Axes>"
      ]
     },
     "metadata": {},
     "output_type": "display_data"
    },
    {
     "data": {
      "text/plain": [
       "<Figure size 432x288 with 0 Axes>"
      ]
     },
     "metadata": {},
     "output_type": "display_data"
    },
    {
     "data": {
      "text/plain": [
       "<Figure size 432x288 with 0 Axes>"
      ]
     },
     "metadata": {},
     "output_type": "display_data"
    },
    {
     "data": {
      "text/plain": [
       "<Figure size 432x288 with 0 Axes>"
      ]
     },
     "metadata": {},
     "output_type": "display_data"
    },
    {
     "data": {
      "text/plain": [
       "<Figure size 432x288 with 0 Axes>"
      ]
     },
     "metadata": {},
     "output_type": "display_data"
    },
    {
     "data": {
      "text/plain": [
       "<Figure size 432x288 with 0 Axes>"
      ]
     },
     "metadata": {},
     "output_type": "display_data"
    },
    {
     "data": {
      "text/plain": [
       "<Figure size 432x288 with 0 Axes>"
      ]
     },
     "metadata": {},
     "output_type": "display_data"
    },
    {
     "data": {
      "text/plain": [
       "<Figure size 432x288 with 0 Axes>"
      ]
     },
     "metadata": {},
     "output_type": "display_data"
    },
    {
     "data": {
      "text/plain": [
       "<Figure size 432x288 with 0 Axes>"
      ]
     },
     "metadata": {},
     "output_type": "display_data"
    },
    {
     "data": {
      "text/plain": [
       "<Figure size 432x288 with 0 Axes>"
      ]
     },
     "metadata": {},
     "output_type": "display_data"
    },
    {
     "data": {
      "text/plain": [
       "<Figure size 432x288 with 0 Axes>"
      ]
     },
     "metadata": {},
     "output_type": "display_data"
    },
    {
     "data": {
      "text/plain": [
       "<Figure size 432x288 with 0 Axes>"
      ]
     },
     "metadata": {},
     "output_type": "display_data"
    },
    {
     "data": {
      "text/plain": [
       "<Figure size 432x288 with 0 Axes>"
      ]
     },
     "metadata": {},
     "output_type": "display_data"
    },
    {
     "data": {
      "text/plain": [
       "<Figure size 432x288 with 0 Axes>"
      ]
     },
     "metadata": {},
     "output_type": "display_data"
    },
    {
     "data": {
      "text/plain": [
       "<Figure size 432x288 with 0 Axes>"
      ]
     },
     "metadata": {},
     "output_type": "display_data"
    },
    {
     "data": {
      "text/plain": [
       "<Figure size 432x288 with 0 Axes>"
      ]
     },
     "metadata": {},
     "output_type": "display_data"
    },
    {
     "data": {
      "text/plain": [
       "<Figure size 432x288 with 0 Axes>"
      ]
     },
     "metadata": {},
     "output_type": "display_data"
    },
    {
     "data": {
      "text/plain": [
       "<Figure size 432x288 with 0 Axes>"
      ]
     },
     "metadata": {},
     "output_type": "display_data"
    },
    {
     "data": {
      "text/plain": [
       "<Figure size 432x288 with 0 Axes>"
      ]
     },
     "metadata": {},
     "output_type": "display_data"
    },
    {
     "data": {
      "text/plain": [
       "<Figure size 432x288 with 0 Axes>"
      ]
     },
     "metadata": {},
     "output_type": "display_data"
    },
    {
     "data": {
      "text/plain": [
       "<Figure size 432x288 with 0 Axes>"
      ]
     },
     "metadata": {},
     "output_type": "display_data"
    },
    {
     "data": {
      "text/plain": [
       "<Figure size 432x288 with 0 Axes>"
      ]
     },
     "metadata": {},
     "output_type": "display_data"
    },
    {
     "data": {
      "text/plain": [
       "<Figure size 432x288 with 0 Axes>"
      ]
     },
     "metadata": {},
     "output_type": "display_data"
    },
    {
     "data": {
      "text/plain": [
       "<Figure size 432x288 with 0 Axes>"
      ]
     },
     "metadata": {},
     "output_type": "display_data"
    },
    {
     "data": {
      "text/plain": [
       "<Figure size 432x288 with 0 Axes>"
      ]
     },
     "metadata": {},
     "output_type": "display_data"
    },
    {
     "data": {
      "text/plain": [
       "<Figure size 432x288 with 0 Axes>"
      ]
     },
     "metadata": {},
     "output_type": "display_data"
    },
    {
     "data": {
      "text/plain": [
       "<Figure size 432x288 with 0 Axes>"
      ]
     },
     "metadata": {},
     "output_type": "display_data"
    },
    {
     "data": {
      "text/plain": [
       "<Figure size 432x288 with 0 Axes>"
      ]
     },
     "metadata": {},
     "output_type": "display_data"
    }
   ],
   "source": [
    "from mpl_toolkits.mplot3d import Axes3D\n",
    "\n",
    "# Plot initialisation\n",
    "fig = plt.figure()\n",
    " \n",
    "    \n",
    "def plot_PCA_3D(data, target, target_names):\n",
    "\n",
    "    colors = cycle(['r','g','b','c','m','y'])\n",
    "    target_ids = range(len(target_names))\n",
    "\n",
    "    fig = plt.figure()\n",
    "    ax = fig.add_subplot(111, projection='3d')\n",
    "\n",
    "    for i, c, label in zip(target_ids, colors, target_names):\n",
    "        test = np.array(target == i)\n",
    "        \n",
    "        ax.scatter(data[test[:,0], 0], data[test[:,0], 1], data[test[:,0], 2],\n",
    "                   c=c, label=label)\n",
    "#         ax.scatter(result['PCA0'], result['PCA1'], result['PCA2'], s=60)\n",
    "\n",
    "\n",
    "    # label the axes\n",
    "    ax.set_xlabel(\"PC1\")\n",
    "    ax.set_ylabel(\"PC2\")\n",
    "    ax.set_zlabel(\"PC3\")\n",
    "    ax.set_title(\"PCA 3D\")\n",
    "#     plt.legend()\n",
    "\n",
    "\n",
    "    for angle in range(0, 360):\n",
    "        ax.view_init(0, 0)\n",
    "        plt.draw()\n",
    "        plt.pause(.001)\n",
    "\n",
    "    #plt.show()\n",
    "    \n",
    "# Axes3D.scatter(xs, ys, zs=0, zdir='z', s=20, c=None, depthshade=True, *args, **kwargs)\n",
    "\n",
    "plot_PCA_3D(pca_3D.transform(X_train), target=y_train, target_names=np.array(activity['Activity'])) "
   ]
  },
  {
   "cell_type": "markdown",
   "metadata": {},
   "source": [
    "### <span style=\"color:red\">Need to make a 3d rotating plot</span> "
   ]
  },
  {
   "cell_type": "code",
   "execution_count": 15,
   "metadata": {},
   "outputs": [
    {
     "data": {
      "text/plain": [
       "<Figure size 432x288 with 0 Axes>"
      ]
     },
     "metadata": {},
     "output_type": "display_data"
    },
    {
     "data": {
      "image/png": "[encoded data removed]",
      "text/plain": [
       "<Figure size 432x288 with 1 Axes>"
      ]
     },
     "metadata": {
      "needs_background": "light"
     },
     "output_type": "display_data"
    },
    {
     "data": {
      "text/plain": [
       "<Figure size 432x288 with 0 Axes>"
      ]
     },
     "metadata": {},
     "output_type": "display_data"
    },
    {
     "data": {
      "text/plain": [
       "<Figure size 432x288 with 0 Axes>"
      ]
     },
     "metadata": {},
     "output_type": "display_data"
    },
    {
     "data": {
      "text/plain": [
       "<Figure size 432x288 with 0 Axes>"
      ]
     },
     "metadata": {},
     "output_type": "display_data"
    },
    {
     "data": {
      "text/plain": [
       "<Figure size 432x288 with 0 Axes>"
      ]
     },
     "metadata": {},
     "output_type": "display_data"
    },
    {
     "data": {
      "text/plain": [
       "<Figure size 432x288 with 0 Axes>"
      ]
     },
     "metadata": {},
     "output_type": "display_data"
    },
    {
     "data": {
      "text/plain": [
       "<Figure size 432x288 with 0 Axes>"
      ]
     },
     "metadata": {},
     "output_type": "display_data"
    },
    {
     "data": {
      "text/plain": [
       "<Figure size 432x288 with 0 Axes>"
      ]
     },
     "metadata": {},
     "output_type": "display_data"
    },
    {
     "data": {
      "text/plain": [
       "<Figure size 432x288 with 0 Axes>"
      ]
     },
     "metadata": {},
     "output_type": "display_data"
    },
    {
     "data": {
      "text/plain": [
       "<Figure size 432x288 with 0 Axes>"
      ]
     },
     "metadata": {},
     "output_type": "display_data"
    },
    {
     "data": {
      "text/plain": [
       "<Figure size 432x288 with 0 Axes>"
      ]
     },
     "metadata": {},
     "output_type": "display_data"
    },
    {
     "data": {
      "text/plain": [
       "<Figure size 432x288 with 0 Axes>"
      ]
     },
     "metadata": {},
     "output_type": "display_data"
    },
    {
     "data": {
      "text/plain": [
       "<Figure size 432x288 with 0 Axes>"
      ]
     },
     "metadata": {},
     "output_type": "display_data"
    },
    {
     "data": {
      "text/plain": [
       "<Figure size 432x288 with 0 Axes>"
      ]
     },
     "metadata": {},
     "output_type": "display_data"
    },
    {
     "data": {
      "text/plain": [
       "<Figure size 432x288 with 0 Axes>"
      ]
     },
     "metadata": {},
     "output_type": "display_data"
    },
    {
     "data": {
      "text/plain": [
       "<Figure size 432x288 with 0 Axes>"
      ]
     },
     "metadata": {},
     "output_type": "display_data"
    },
    {
     "data": {
      "text/plain": [
       "<Figure size 432x288 with 0 Axes>"
      ]
     },
     "metadata": {},
     "output_type": "display_data"
    },
    {
     "data": {
      "text/plain": [
       "<Figure size 432x288 with 0 Axes>"
      ]
     },
     "metadata": {},
     "output_type": "display_data"
    },
    {
     "data": {
      "text/plain": [
       "<Figure size 432x288 with 0 Axes>"
      ]
     },
     "metadata": {},
     "output_type": "display_data"
    },
    {
     "data": {
      "text/plain": [
       "<Figure size 432x288 with 0 Axes>"
      ]
     },
     "metadata": {},
     "output_type": "display_data"
    },
    {
     "data": {
      "text/plain": [
       "<Figure size 432x288 with 0 Axes>"
      ]
     },
     "metadata": {},
     "output_type": "display_data"
    },
    {
     "data": {
      "text/plain": [
       "<Figure size 432x288 with 0 Axes>"
      ]
     },
     "metadata": {},
     "output_type": "display_data"
    },
    {
     "data": {
      "text/plain": [
       "<Figure size 432x288 with 0 Axes>"
      ]
     },
     "metadata": {},
     "output_type": "display_data"
    },
    {
     "data": {
      "text/plain": [
       "<Figure size 432x288 with 0 Axes>"
      ]
     },
     "metadata": {},
     "output_type": "display_data"
    },
    {
     "data": {
      "text/plain": [
       "<Figure size 432x288 with 0 Axes>"
      ]
     },
     "metadata": {},
     "output_type": "display_data"
    },
    {
     "data": {
      "text/plain": [
       "<Figure size 432x288 with 0 Axes>"
      ]
     },
     "metadata": {},
     "output_type": "display_data"
    },
    {
     "data": {
      "text/plain": [
       "<Figure size 432x288 with 0 Axes>"
      ]
     },
     "metadata": {},
     "output_type": "display_data"
    },
    {
     "data": {
      "text/plain": [
       "<Figure size 432x288 with 0 Axes>"
      ]
     },
     "metadata": {},
     "output_type": "display_data"
    },
    {
     "data": {
      "text/plain": [
       "<Figure size 432x288 with 0 Axes>"
      ]
     },
     "metadata": {},
     "output_type": "display_data"
    },
    {
     "data": {
      "text/plain": [
       "<Figure size 432x288 with 0 Axes>"
      ]
     },
     "metadata": {},
     "output_type": "display_data"
    },
    {
     "data": {
      "text/plain": [
       "<Figure size 432x288 with 0 Axes>"
      ]
     },
     "metadata": {},
     "output_type": "display_data"
    },
    {
     "data": {
      "text/plain": [
       "<Figure size 432x288 with 0 Axes>"
      ]
     },
     "metadata": {},
     "output_type": "display_data"
    },
    {
     "data": {
      "text/plain": [
       "<Figure size 432x288 with 0 Axes>"
      ]
     },
     "metadata": {},
     "output_type": "display_data"
    },
    {
     "data": {
      "text/plain": [
       "<Figure size 432x288 with 0 Axes>"
      ]
     },
     "metadata": {},
     "output_type": "display_data"
    },
    {
     "data": {
      "text/plain": [
       "<Figure size 432x288 with 0 Axes>"
      ]
     },
     "metadata": {},
     "output_type": "display_data"
    },
    {
     "data": {
      "text/plain": [
       "<Figure size 432x288 with 0 Axes>"
      ]
     },
     "metadata": {},
     "output_type": "display_data"
    },
    {
     "data": {
      "text/plain": [
       "<Figure size 432x288 with 0 Axes>"
      ]
     },
     "metadata": {},
     "output_type": "display_data"
    },
    {
     "data": {
      "text/plain": [
       "<Figure size 432x288 with 0 Axes>"
      ]
     },
     "metadata": {},
     "output_type": "display_data"
    },
    {
     "data": {
      "text/plain": [
       "<Figure size 432x288 with 0 Axes>"
      ]
     },
     "metadata": {},
     "output_type": "display_data"
    },
    {
     "data": {
      "text/plain": [
       "<Figure size 432x288 with 0 Axes>"
      ]
     },
     "metadata": {},
     "output_type": "display_data"
    },
    {
     "data": {
      "text/plain": [
       "<Figure size 432x288 with 0 Axes>"
      ]
     },
     "metadata": {},
     "output_type": "display_data"
    },
    {
     "data": {
      "text/plain": [
       "<Figure size 432x288 with 0 Axes>"
      ]
     },
     "metadata": {},
     "output_type": "display_data"
    },
    {
     "data": {
      "text/plain": [
       "<Figure size 432x288 with 0 Axes>"
      ]
     },
     "metadata": {},
     "output_type": "display_data"
    },
    {
     "data": {
      "text/plain": [
       "<Figure size 432x288 with 0 Axes>"
      ]
     },
     "metadata": {},
     "output_type": "display_data"
    },
    {
     "data": {
      "text/plain": [
       "<Figure size 432x288 with 0 Axes>"
      ]
     },
     "metadata": {},
     "output_type": "display_data"
    },
    {
     "data": {
      "text/plain": [
       "<Figure size 432x288 with 0 Axes>"
      ]
     },
     "metadata": {},
     "output_type": "display_data"
    },
    {
     "data": {
      "text/plain": [
       "<Figure size 432x288 with 0 Axes>"
      ]
     },
     "metadata": {},
     "output_type": "display_data"
    },
    {
     "data": {
      "text/plain": [
       "<Figure size 432x288 with 0 Axes>"
      ]
     },
     "metadata": {},
     "output_type": "display_data"
    },
    {
     "data": {
      "text/plain": [
       "<Figure size 432x288 with 0 Axes>"
      ]
     },
     "metadata": {},
     "output_type": "display_data"
    },
    {
     "data": {
      "text/plain": [
       "<Figure size 432x288 with 0 Axes>"
      ]
     },
     "metadata": {},
     "output_type": "display_data"
    },
    {
     "data": {
      "text/plain": [
       "<Figure size 432x288 with 0 Axes>"
      ]
     },
     "metadata": {},
     "output_type": "display_data"
    },
    {
     "data": {
      "text/plain": [
       "<Figure size 432x288 with 0 Axes>"
      ]
     },
     "metadata": {},
     "output_type": "display_data"
    },
    {
     "data": {
      "text/plain": [
       "<Figure size 432x288 with 0 Axes>"
      ]
     },
     "metadata": {},
     "output_type": "display_data"
    },
    {
     "data": {
      "text/plain": [
       "<Figure size 432x288 with 0 Axes>"
      ]
     },
     "metadata": {},
     "output_type": "display_data"
    },
    {
     "data": {
      "text/plain": [
       "<Figure size 432x288 with 0 Axes>"
      ]
     },
     "metadata": {},
     "output_type": "display_data"
    },
    {
     "data": {
      "text/plain": [
       "<Figure size 432x288 with 0 Axes>"
      ]
     },
     "metadata": {},
     "output_type": "display_data"
    },
    {
     "data": {
      "text/plain": [
       "<Figure size 432x288 with 0 Axes>"
      ]
     },
     "metadata": {},
     "output_type": "display_data"
    },
    {
     "data": {
      "text/plain": [
       "<Figure size 432x288 with 0 Axes>"
      ]
     },
     "metadata": {},
     "output_type": "display_data"
    },
    {
     "data": {
      "text/plain": [
       "<Figure size 432x288 with 0 Axes>"
      ]
     },
     "metadata": {},
     "output_type": "display_data"
    },
    {
     "data": {
      "text/plain": [
       "<Figure size 432x288 with 0 Axes>"
      ]
     },
     "metadata": {},
     "output_type": "display_data"
    },
    {
     "data": {
      "text/plain": [
       "<Figure size 432x288 with 0 Axes>"
      ]
     },
     "metadata": {},
     "output_type": "display_data"
    },
    {
     "data": {
      "text/plain": [
       "<Figure size 432x288 with 0 Axes>"
      ]
     },
     "metadata": {},
     "output_type": "display_data"
    },
    {
     "data": {
      "text/plain": [
       "<Figure size 432x288 with 0 Axes>"
      ]
     },
     "metadata": {},
     "output_type": "display_data"
    },
    {
     "data": {
      "text/plain": [
       "<Figure size 432x288 with 0 Axes>"
      ]
     },
     "metadata": {},
     "output_type": "display_data"
    },
    {
     "data": {
      "text/plain": [
       "<Figure size 432x288 with 0 Axes>"
      ]
     },
     "metadata": {},
     "output_type": "display_data"
    },
    {
     "data": {
      "text/plain": [
       "<Figure size 432x288 with 0 Axes>"
      ]
     },
     "metadata": {},
     "output_type": "display_data"
    },
    {
     "data": {
      "text/plain": [
       "<Figure size 432x288 with 0 Axes>"
      ]
     },
     "metadata": {},
     "output_type": "display_data"
    },
    {
     "data": {
      "text/plain": [
       "<Figure size 432x288 with 0 Axes>"
      ]
     },
     "metadata": {},
     "output_type": "display_data"
    },
    {
     "data": {
      "text/plain": [
       "<Figure size 432x288 with 0 Axes>"
      ]
     },
     "metadata": {},
     "output_type": "display_data"
    },
    {
     "data": {
      "text/plain": [
       "<Figure size 432x288 with 0 Axes>"
      ]
     },
     "metadata": {},
     "output_type": "display_data"
    },
    {
     "data": {
      "text/plain": [
       "<Figure size 432x288 with 0 Axes>"
      ]
     },
     "metadata": {},
     "output_type": "display_data"
    },
    {
     "data": {
      "text/plain": [
       "<Figure size 432x288 with 0 Axes>"
      ]
     },
     "metadata": {},
     "output_type": "display_data"
    },
    {
     "data": {
      "text/plain": [
       "<Figure size 432x288 with 0 Axes>"
      ]
     },
     "metadata": {},
     "output_type": "display_data"
    },
    {
     "data": {
      "text/plain": [
       "<Figure size 432x288 with 0 Axes>"
      ]
     },
     "metadata": {},
     "output_type": "display_data"
    },
    {
     "data": {
      "text/plain": [
       "<Figure size 432x288 with 0 Axes>"
      ]
     },
     "metadata": {},
     "output_type": "display_data"
    },
    {
     "data": {
      "text/plain": [
       "<Figure size 432x288 with 0 Axes>"
      ]
     },
     "metadata": {},
     "output_type": "display_data"
    },
    {
     "data": {
      "text/plain": [
       "<Figure size 432x288 with 0 Axes>"
      ]
     },
     "metadata": {},
     "output_type": "display_data"
    },
    {
     "data": {
      "text/plain": [
       "<Figure size 432x288 with 0 Axes>"
      ]
     },
     "metadata": {},
     "output_type": "display_data"
    },
    {
     "data": {
      "text/plain": [
       "<Figure size 432x288 with 0 Axes>"
      ]
     },
     "metadata": {},
     "output_type": "display_data"
    },
    {
     "data": {
      "text/plain": [
       "<Figure size 432x288 with 0 Axes>"
      ]
     },
     "metadata": {},
     "output_type": "display_data"
    },
    {
     "data": {
      "text/plain": [
       "<Figure size 432x288 with 0 Axes>"
      ]
     },
     "metadata": {},
     "output_type": "display_data"
    },
    {
     "data": {
      "text/plain": [
       "<Figure size 432x288 with 0 Axes>"
      ]
     },
     "metadata": {},
     "output_type": "display_data"
    },
    {
     "data": {
      "text/plain": [
       "<Figure size 432x288 with 0 Axes>"
      ]
     },
     "metadata": {},
     "output_type": "display_data"
    },
    {
     "data": {
      "text/plain": [
       "<Figure size 432x288 with 0 Axes>"
      ]
     },
     "metadata": {},
     "output_type": "display_data"
    },
    {
     "data": {
      "text/plain": [
       "<Figure size 432x288 with 0 Axes>"
      ]
     },
     "metadata": {},
     "output_type": "display_data"
    },
    {
     "data": {
      "text/plain": [
       "<Figure size 432x288 with 0 Axes>"
      ]
     },
     "metadata": {},
     "output_type": "display_data"
    },
    {
     "data": {
      "text/plain": [
       "<Figure size 432x288 with 0 Axes>"
      ]
     },
     "metadata": {},
     "output_type": "display_data"
    },
    {
     "data": {
      "text/plain": [
       "<Figure size 432x288 with 0 Axes>"
      ]
     },
     "metadata": {},
     "output_type": "display_data"
    },
    {
     "data": {
      "text/plain": [
       "<Figure size 432x288 with 0 Axes>"
      ]
     },
     "metadata": {},
     "output_type": "display_data"
    },
    {
     "data": {
      "text/plain": [
       "<Figure size 432x288 with 0 Axes>"
      ]
     },
     "metadata": {},
     "output_type": "display_data"
    },
    {
     "data": {
      "text/plain": [
       "<Figure size 432x288 with 0 Axes>"
      ]
     },
     "metadata": {},
     "output_type": "display_data"
    },
    {
     "data": {
      "text/plain": [
       "<Figure size 432x288 with 0 Axes>"
      ]
     },
     "metadata": {},
     "output_type": "display_data"
    },
    {
     "data": {
      "text/plain": [
       "<Figure size 432x288 with 0 Axes>"
      ]
     },
     "metadata": {},
     "output_type": "display_data"
    },
    {
     "data": {
      "text/plain": [
       "<Figure size 432x288 with 0 Axes>"
      ]
     },
     "metadata": {},
     "output_type": "display_data"
    },
    {
     "data": {
      "text/plain": [
       "<Figure size 432x288 with 0 Axes>"
      ]
     },
     "metadata": {},
     "output_type": "display_data"
    },
    {
     "data": {
      "text/plain": [
       "<Figure size 432x288 with 0 Axes>"
      ]
     },
     "metadata": {},
     "output_type": "display_data"
    },
    {
     "data": {
      "text/plain": [
       "<Figure size 432x288 with 0 Axes>"
      ]
     },
     "metadata": {},
     "output_type": "display_data"
    },
    {
     "data": {
      "text/plain": [
       "<Figure size 432x288 with 0 Axes>"
      ]
     },
     "metadata": {},
     "output_type": "display_data"
    },
    {
     "data": {
      "text/plain": [
       "<Figure size 432x288 with 0 Axes>"
      ]
     },
     "metadata": {},
     "output_type": "display_data"
    },
    {
     "data": {
      "text/plain": [
       "<Figure size 432x288 with 0 Axes>"
      ]
     },
     "metadata": {},
     "output_type": "display_data"
    },
    {
     "data": {
      "text/plain": [
       "<Figure size 432x288 with 0 Axes>"
      ]
     },
     "metadata": {},
     "output_type": "display_data"
    },
    {
     "data": {
      "text/plain": [
       "<Figure size 432x288 with 0 Axes>"
      ]
     },
     "metadata": {},
     "output_type": "display_data"
    },
    {
     "data": {
      "text/plain": [
       "<Figure size 432x288 with 0 Axes>"
      ]
     },
     "metadata": {},
     "output_type": "display_data"
    },
    {
     "data": {
      "text/plain": [
       "<Figure size 432x288 with 0 Axes>"
      ]
     },
     "metadata": {},
     "output_type": "display_data"
    },
    {
     "data": {
      "text/plain": [
       "<Figure size 432x288 with 0 Axes>"
      ]
     },
     "metadata": {},
     "output_type": "display_data"
    },
    {
     "data": {
      "text/plain": [
       "<Figure size 432x288 with 0 Axes>"
      ]
     },
     "metadata": {},
     "output_type": "display_data"
    },
    {
     "data": {
      "text/plain": [
       "<Figure size 432x288 with 0 Axes>"
      ]
     },
     "metadata": {},
     "output_type": "display_data"
    },
    {
     "data": {
      "text/plain": [
       "<Figure size 432x288 with 0 Axes>"
      ]
     },
     "metadata": {},
     "output_type": "display_data"
    },
    {
     "data": {
      "text/plain": [
       "<Figure size 432x288 with 0 Axes>"
      ]
     },
     "metadata": {},
     "output_type": "display_data"
    },
    {
     "data": {
      "text/plain": [
       "<Figure size 432x288 with 0 Axes>"
      ]
     },
     "metadata": {},
     "output_type": "display_data"
    },
    {
     "data": {
      "text/plain": [
       "<Figure size 432x288 with 0 Axes>"
      ]
     },
     "metadata": {},
     "output_type": "display_data"
    },
    {
     "data": {
      "text/plain": [
       "<Figure size 432x288 with 0 Axes>"
      ]
     },
     "metadata": {},
     "output_type": "display_data"
    },
    {
     "data": {
      "text/plain": [
       "<Figure size 432x288 with 0 Axes>"
      ]
     },
     "metadata": {},
     "output_type": "display_data"
    },
    {
     "data": {
      "text/plain": [
       "<Figure size 432x288 with 0 Axes>"
      ]
     },
     "metadata": {},
     "output_type": "display_data"
    },
    {
     "data": {
      "text/plain": [
       "<Figure size 432x288 with 0 Axes>"
      ]
     },
     "metadata": {},
     "output_type": "display_data"
    },
    {
     "data": {
      "text/plain": [
       "<Figure size 432x288 with 0 Axes>"
      ]
     },
     "metadata": {},
     "output_type": "display_data"
    },
    {
     "data": {
      "text/plain": [
       "<Figure size 432x288 with 0 Axes>"
      ]
     },
     "metadata": {},
     "output_type": "display_data"
    },
    {
     "data": {
      "text/plain": [
       "<Figure size 432x288 with 0 Axes>"
      ]
     },
     "metadata": {},
     "output_type": "display_data"
    },
    {
     "data": {
      "text/plain": [
       "<Figure size 432x288 with 0 Axes>"
      ]
     },
     "metadata": {},
     "output_type": "display_data"
    },
    {
     "data": {
      "text/plain": [
       "<Figure size 432x288 with 0 Axes>"
      ]
     },
     "metadata": {},
     "output_type": "display_data"
    },
    {
     "data": {
      "text/plain": [
       "<Figure size 432x288 with 0 Axes>"
      ]
     },
     "metadata": {},
     "output_type": "display_data"
    },
    {
     "data": {
      "text/plain": [
       "<Figure size 432x288 with 0 Axes>"
      ]
     },
     "metadata": {},
     "output_type": "display_data"
    },
    {
     "data": {
      "text/plain": [
       "<Figure size 432x288 with 0 Axes>"
      ]
     },
     "metadata": {},
     "output_type": "display_data"
    },
    {
     "data": {
      "text/plain": [
       "<Figure size 432x288 with 0 Axes>"
      ]
     },
     "metadata": {},
     "output_type": "display_data"
    },
    {
     "data": {
      "text/plain": [
       "<Figure size 432x288 with 0 Axes>"
      ]
     },
     "metadata": {},
     "output_type": "display_data"
    },
    {
     "data": {
      "text/plain": [
       "<Figure size 432x288 with 0 Axes>"
      ]
     },
     "metadata": {},
     "output_type": "display_data"
    },
    {
     "data": {
      "text/plain": [
       "<Figure size 432x288 with 0 Axes>"
      ]
     },
     "metadata": {},
     "output_type": "display_data"
    },
    {
     "data": {
      "text/plain": [
       "<Figure size 432x288 with 0 Axes>"
      ]
     },
     "metadata": {},
     "output_type": "display_data"
    },
    {
     "data": {
      "text/plain": [
       "<Figure size 432x288 with 0 Axes>"
      ]
     },
     "metadata": {},
     "output_type": "display_data"
    },
    {
     "data": {
      "text/plain": [
       "<Figure size 432x288 with 0 Axes>"
      ]
     },
     "metadata": {},
     "output_type": "display_data"
    },
    {
     "data": {
      "text/plain": [
       "<Figure size 432x288 with 0 Axes>"
      ]
     },
     "metadata": {},
     "output_type": "display_data"
    },
    {
     "data": {
      "text/plain": [
       "<Figure size 432x288 with 0 Axes>"
      ]
     },
     "metadata": {},
     "output_type": "display_data"
    },
    {
     "data": {
      "text/plain": [
       "<Figure size 432x288 with 0 Axes>"
      ]
     },
     "metadata": {},
     "output_type": "display_data"
    },
    {
     "data": {
      "text/plain": [
       "<Figure size 432x288 with 0 Axes>"
      ]
     },
     "metadata": {},
     "output_type": "display_data"
    },
    {
     "data": {
      "text/plain": [
       "<Figure size 432x288 with 0 Axes>"
      ]
     },
     "metadata": {},
     "output_type": "display_data"
    },
    {
     "data": {
      "text/plain": [
       "<Figure size 432x288 with 0 Axes>"
      ]
     },
     "metadata": {},
     "output_type": "display_data"
    },
    {
     "data": {
      "text/plain": [
       "<Figure size 432x288 with 0 Axes>"
      ]
     },
     "metadata": {},
     "output_type": "display_data"
    },
    {
     "data": {
      "text/plain": [
       "<Figure size 432x288 with 0 Axes>"
      ]
     },
     "metadata": {},
     "output_type": "display_data"
    },
    {
     "data": {
      "text/plain": [
       "<Figure size 432x288 with 0 Axes>"
      ]
     },
     "metadata": {},
     "output_type": "display_data"
    },
    {
     "data": {
      "text/plain": [
       "<Figure size 432x288 with 0 Axes>"
      ]
     },
     "metadata": {},
     "output_type": "display_data"
    },
    {
     "data": {
      "text/plain": [
       "<Figure size 432x288 with 0 Axes>"
      ]
     },
     "metadata": {},
     "output_type": "display_data"
    },
    {
     "data": {
      "text/plain": [
       "<Figure size 432x288 with 0 Axes>"
      ]
     },
     "metadata": {},
     "output_type": "display_data"
    },
    {
     "data": {
      "text/plain": [
       "<Figure size 432x288 with 0 Axes>"
      ]
     },
     "metadata": {},
     "output_type": "display_data"
    },
    {
     "data": {
      "text/plain": [
       "<Figure size 432x288 with 0 Axes>"
      ]
     },
     "metadata": {},
     "output_type": "display_data"
    },
    {
     "data": {
      "text/plain": [
       "<Figure size 432x288 with 0 Axes>"
      ]
     },
     "metadata": {},
     "output_type": "display_data"
    },
    {
     "data": {
      "text/plain": [
       "<Figure size 432x288 with 0 Axes>"
      ]
     },
     "metadata": {},
     "output_type": "display_data"
    },
    {
     "data": {
      "text/plain": [
       "<Figure size 432x288 with 0 Axes>"
      ]
     },
     "metadata": {},
     "output_type": "display_data"
    },
    {
     "data": {
      "text/plain": [
       "<Figure size 432x288 with 0 Axes>"
      ]
     },
     "metadata": {},
     "output_type": "display_data"
    },
    {
     "data": {
      "text/plain": [
       "<Figure size 432x288 with 0 Axes>"
      ]
     },
     "metadata": {},
     "output_type": "display_data"
    },
    {
     "data": {
      "text/plain": [
       "<Figure size 432x288 with 0 Axes>"
      ]
     },
     "metadata": {},
     "output_type": "display_data"
    },
    {
     "data": {
      "text/plain": [
       "<Figure size 432x288 with 0 Axes>"
      ]
     },
     "metadata": {},
     "output_type": "display_data"
    },
    {
     "data": {
      "text/plain": [
       "<Figure size 432x288 with 0 Axes>"
      ]
     },
     "metadata": {},
     "output_type": "display_data"
    },
    {
     "data": {
      "text/plain": [
       "<Figure size 432x288 with 0 Axes>"
      ]
     },
     "metadata": {},
     "output_type": "display_data"
    },
    {
     "data": {
      "text/plain": [
       "<Figure size 432x288 with 0 Axes>"
      ]
     },
     "metadata": {},
     "output_type": "display_data"
    },
    {
     "data": {
      "text/plain": [
       "<Figure size 432x288 with 0 Axes>"
      ]
     },
     "metadata": {},
     "output_type": "display_data"
    },
    {
     "data": {
      "text/plain": [
       "<Figure size 432x288 with 0 Axes>"
      ]
     },
     "metadata": {},
     "output_type": "display_data"
    },
    {
     "data": {
      "text/plain": [
       "<Figure size 432x288 with 0 Axes>"
      ]
     },
     "metadata": {},
     "output_type": "display_data"
    },
    {
     "data": {
      "text/plain": [
       "<Figure size 432x288 with 0 Axes>"
      ]
     },
     "metadata": {},
     "output_type": "display_data"
    },
    {
     "data": {
      "text/plain": [
       "<Figure size 432x288 with 0 Axes>"
      ]
     },
     "metadata": {},
     "output_type": "display_data"
    },
    {
     "data": {
      "text/plain": [
       "<Figure size 432x288 with 0 Axes>"
      ]
     },
     "metadata": {},
     "output_type": "display_data"
    },
    {
     "data": {
      "text/plain": [
       "<Figure size 432x288 with 0 Axes>"
      ]
     },
     "metadata": {},
     "output_type": "display_data"
    },
    {
     "data": {
      "text/plain": [
       "<Figure size 432x288 with 0 Axes>"
      ]
     },
     "metadata": {},
     "output_type": "display_data"
    },
    {
     "data": {
      "text/plain": [
       "<Figure size 432x288 with 0 Axes>"
      ]
     },
     "metadata": {},
     "output_type": "display_data"
    },
    {
     "data": {
      "text/plain": [
       "<Figure size 432x288 with 0 Axes>"
      ]
     },
     "metadata": {},
     "output_type": "display_data"
    },
    {
     "data": {
      "text/plain": [
       "<Figure size 432x288 with 0 Axes>"
      ]
     },
     "metadata": {},
     "output_type": "display_data"
    },
    {
     "data": {
      "text/plain": [
       "<Figure size 432x288 with 0 Axes>"
      ]
     },
     "metadata": {},
     "output_type": "display_data"
    },
    {
     "data": {
      "text/plain": [
       "<Figure size 432x288 with 0 Axes>"
      ]
     },
     "metadata": {},
     "output_type": "display_data"
    },
    {
     "data": {
      "text/plain": [
       "<Figure size 432x288 with 0 Axes>"
      ]
     },
     "metadata": {},
     "output_type": "display_data"
    },
    {
     "data": {
      "text/plain": [
       "<Figure size 432x288 with 0 Axes>"
      ]
     },
     "metadata": {},
     "output_type": "display_data"
    },
    {
     "data": {
      "text/plain": [
       "<Figure size 432x288 with 0 Axes>"
      ]
     },
     "metadata": {},
     "output_type": "display_data"
    },
    {
     "data": {
      "text/plain": [
       "<Figure size 432x288 with 0 Axes>"
      ]
     },
     "metadata": {},
     "output_type": "display_data"
    },
    {
     "data": {
      "text/plain": [
       "<Figure size 432x288 with 0 Axes>"
      ]
     },
     "metadata": {},
     "output_type": "display_data"
    },
    {
     "data": {
      "text/plain": [
       "<Figure size 432x288 with 0 Axes>"
      ]
     },
     "metadata": {},
     "output_type": "display_data"
    },
    {
     "data": {
      "text/plain": [
       "<Figure size 432x288 with 0 Axes>"
      ]
     },
     "metadata": {},
     "output_type": "display_data"
    },
    {
     "data": {
      "text/plain": [
       "<Figure size 432x288 with 0 Axes>"
      ]
     },
     "metadata": {},
     "output_type": "display_data"
    },
    {
     "data": {
      "text/plain": [
       "<Figure size 432x288 with 0 Axes>"
      ]
     },
     "metadata": {},
     "output_type": "display_data"
    },
    {
     "data": {
      "text/plain": [
       "<Figure size 432x288 with 0 Axes>"
      ]
     },
     "metadata": {},
     "output_type": "display_data"
    },
    {
     "data": {
      "text/plain": [
       "<Figure size 432x288 with 0 Axes>"
      ]
     },
     "metadata": {},
     "output_type": "display_data"
    },
    {
     "data": {
      "text/plain": [
       "<Figure size 432x288 with 0 Axes>"
      ]
     },
     "metadata": {},
     "output_type": "display_data"
    },
    {
     "data": {
      "text/plain": [
       "<Figure size 432x288 with 0 Axes>"
      ]
     },
     "metadata": {},
     "output_type": "display_data"
    },
    {
     "data": {
      "text/plain": [
       "<Figure size 432x288 with 0 Axes>"
      ]
     },
     "metadata": {},
     "output_type": "display_data"
    },
    {
     "data": {
      "text/plain": [
       "<Figure size 432x288 with 0 Axes>"
      ]
     },
     "metadata": {},
     "output_type": "display_data"
    },
    {
     "data": {
      "text/plain": [
       "<Figure size 432x288 with 0 Axes>"
      ]
     },
     "metadata": {},
     "output_type": "display_data"
    },
    {
     "data": {
      "text/plain": [
       "<Figure size 432x288 with 0 Axes>"
      ]
     },
     "metadata": {},
     "output_type": "display_data"
    },
    {
     "data": {
      "text/plain": [
       "<Figure size 432x288 with 0 Axes>"
      ]
     },
     "metadata": {},
     "output_type": "display_data"
    },
    {
     "data": {
      "text/plain": [
       "<Figure size 432x288 with 0 Axes>"
      ]
     },
     "metadata": {},
     "output_type": "display_data"
    },
    {
     "data": {
      "text/plain": [
       "<Figure size 432x288 with 0 Axes>"
      ]
     },
     "metadata": {},
     "output_type": "display_data"
    },
    {
     "data": {
      "text/plain": [
       "<Figure size 432x288 with 0 Axes>"
      ]
     },
     "metadata": {},
     "output_type": "display_data"
    },
    {
     "data": {
      "text/plain": [
       "<Figure size 432x288 with 0 Axes>"
      ]
     },
     "metadata": {},
     "output_type": "display_data"
    },
    {
     "data": {
      "text/plain": [
       "<Figure size 432x288 with 0 Axes>"
      ]
     },
     "metadata": {},
     "output_type": "display_data"
    },
    {
     "data": {
      "text/plain": [
       "<Figure size 432x288 with 0 Axes>"
      ]
     },
     "metadata": {},
     "output_type": "display_data"
    },
    {
     "data": {
      "text/plain": [
       "<Figure size 432x288 with 0 Axes>"
      ]
     },
     "metadata": {},
     "output_type": "display_data"
    },
    {
     "data": {
      "text/plain": [
       "<Figure size 432x288 with 0 Axes>"
      ]
     },
     "metadata": {},
     "output_type": "display_data"
    },
    {
     "data": {
      "text/plain": [
       "<Figure size 432x288 with 0 Axes>"
      ]
     },
     "metadata": {},
     "output_type": "display_data"
    },
    {
     "data": {
      "text/plain": [
       "<Figure size 432x288 with 0 Axes>"
      ]
     },
     "metadata": {},
     "output_type": "display_data"
    },
    {
     "data": {
      "text/plain": [
       "<Figure size 432x288 with 0 Axes>"
      ]
     },
     "metadata": {},
     "output_type": "display_data"
    },
    {
     "data": {
      "text/plain": [
       "<Figure size 432x288 with 0 Axes>"
      ]
     },
     "metadata": {},
     "output_type": "display_data"
    },
    {
     "data": {
      "text/plain": [
       "<Figure size 432x288 with 0 Axes>"
      ]
     },
     "metadata": {},
     "output_type": "display_data"
    },
    {
     "data": {
      "text/plain": [
       "<Figure size 432x288 with 0 Axes>"
      ]
     },
     "metadata": {},
     "output_type": "display_data"
    },
    {
     "data": {
      "text/plain": [
       "<Figure size 432x288 with 0 Axes>"
      ]
     },
     "metadata": {},
     "output_type": "display_data"
    },
    {
     "data": {
      "text/plain": [
       "<Figure size 432x288 with 0 Axes>"
      ]
     },
     "metadata": {},
     "output_type": "display_data"
    },
    {
     "data": {
      "text/plain": [
       "<Figure size 432x288 with 0 Axes>"
      ]
     },
     "metadata": {},
     "output_type": "display_data"
    },
    {
     "data": {
      "text/plain": [
       "<Figure size 432x288 with 0 Axes>"
      ]
     },
     "metadata": {},
     "output_type": "display_data"
    },
    {
     "data": {
      "text/plain": [
       "<Figure size 432x288 with 0 Axes>"
      ]
     },
     "metadata": {},
     "output_type": "display_data"
    },
    {
     "data": {
      "text/plain": [
       "<Figure size 432x288 with 0 Axes>"
      ]
     },
     "metadata": {},
     "output_type": "display_data"
    },
    {
     "data": {
      "text/plain": [
       "<Figure size 432x288 with 0 Axes>"
      ]
     },
     "metadata": {},
     "output_type": "display_data"
    },
    {
     "data": {
      "text/plain": [
       "<Figure size 432x288 with 0 Axes>"
      ]
     },
     "metadata": {},
     "output_type": "display_data"
    },
    {
     "data": {
      "text/plain": [
       "<Figure size 432x288 with 0 Axes>"
      ]
     },
     "metadata": {},
     "output_type": "display_data"
    },
    {
     "data": {
      "text/plain": [
       "<Figure size 432x288 with 0 Axes>"
      ]
     },
     "metadata": {},
     "output_type": "display_data"
    },
    {
     "data": {
      "text/plain": [
       "<Figure size 432x288 with 0 Axes>"
      ]
     },
     "metadata": {},
     "output_type": "display_data"
    },
    {
     "data": {
      "text/plain": [
       "<Figure size 432x288 with 0 Axes>"
      ]
     },
     "metadata": {},
     "output_type": "display_data"
    },
    {
     "data": {
      "text/plain": [
       "<Figure size 432x288 with 0 Axes>"
      ]
     },
     "metadata": {},
     "output_type": "display_data"
    },
    {
     "data": {
      "text/plain": [
       "<Figure size 432x288 with 0 Axes>"
      ]
     },
     "metadata": {},
     "output_type": "display_data"
    },
    {
     "data": {
      "text/plain": [
       "<Figure size 432x288 with 0 Axes>"
      ]
     },
     "metadata": {},
     "output_type": "display_data"
    },
    {
     "data": {
      "text/plain": [
       "<Figure size 432x288 with 0 Axes>"
      ]
     },
     "metadata": {},
     "output_type": "display_data"
    },
    {
     "data": {
      "text/plain": [
       "<Figure size 432x288 with 0 Axes>"
      ]
     },
     "metadata": {},
     "output_type": "display_data"
    },
    {
     "data": {
      "text/plain": [
       "<Figure size 432x288 with 0 Axes>"
      ]
     },
     "metadata": {},
     "output_type": "display_data"
    },
    {
     "data": {
      "text/plain": [
       "<Figure size 432x288 with 0 Axes>"
      ]
     },
     "metadata": {},
     "output_type": "display_data"
    },
    {
     "data": {
      "text/plain": [
       "<Figure size 432x288 with 0 Axes>"
      ]
     },
     "metadata": {},
     "output_type": "display_data"
    },
    {
     "data": {
      "text/plain": [
       "<Figure size 432x288 with 0 Axes>"
      ]
     },
     "metadata": {},
     "output_type": "display_data"
    },
    {
     "data": {
      "text/plain": [
       "<Figure size 432x288 with 0 Axes>"
      ]
     },
     "metadata": {},
     "output_type": "display_data"
    },
    {
     "data": {
      "text/plain": [
       "<Figure size 432x288 with 0 Axes>"
      ]
     },
     "metadata": {},
     "output_type": "display_data"
    },
    {
     "data": {
      "text/plain": [
       "<Figure size 432x288 with 0 Axes>"
      ]
     },
     "metadata": {},
     "output_type": "display_data"
    },
    {
     "data": {
      "text/plain": [
       "<Figure size 432x288 with 0 Axes>"
      ]
     },
     "metadata": {},
     "output_type": "display_data"
    },
    {
     "data": {
      "text/plain": [
       "<Figure size 432x288 with 0 Axes>"
      ]
     },
     "metadata": {},
     "output_type": "display_data"
    },
    {
     "data": {
      "text/plain": [
       "<Figure size 432x288 with 0 Axes>"
      ]
     },
     "metadata": {},
     "output_type": "display_data"
    },
    {
     "data": {
      "text/plain": [
       "<Figure size 432x288 with 0 Axes>"
      ]
     },
     "metadata": {},
     "output_type": "display_data"
    },
    {
     "data": {
      "text/plain": [
       "<Figure size 432x288 with 0 Axes>"
      ]
     },
     "metadata": {},
     "output_type": "display_data"
    },
    {
     "data": {
      "text/plain": [
       "<Figure size 432x288 with 0 Axes>"
      ]
     },
     "metadata": {},
     "output_type": "display_data"
    },
    {
     "data": {
      "text/plain": [
       "<Figure size 432x288 with 0 Axes>"
      ]
     },
     "metadata": {},
     "output_type": "display_data"
    },
    {
     "data": {
      "text/plain": [
       "<Figure size 432x288 with 0 Axes>"
      ]
     },
     "metadata": {},
     "output_type": "display_data"
    },
    {
     "data": {
      "text/plain": [
       "<Figure size 432x288 with 0 Axes>"
      ]
     },
     "metadata": {},
     "output_type": "display_data"
    },
    {
     "data": {
      "text/plain": [
       "<Figure size 432x288 with 0 Axes>"
      ]
     },
     "metadata": {},
     "output_type": "display_data"
    },
    {
     "data": {
      "text/plain": [
       "<Figure size 432x288 with 0 Axes>"
      ]
     },
     "metadata": {},
     "output_type": "display_data"
    },
    {
     "data": {
      "text/plain": [
       "<Figure size 432x288 with 0 Axes>"
      ]
     },
     "metadata": {},
     "output_type": "display_data"
    },
    {
     "data": {
      "text/plain": [
       "<Figure size 432x288 with 0 Axes>"
      ]
     },
     "metadata": {},
     "output_type": "display_data"
    },
    {
     "data": {
      "text/plain": [
       "<Figure size 432x288 with 0 Axes>"
      ]
     },
     "metadata": {},
     "output_type": "display_data"
    },
    {
     "data": {
      "text/plain": [
       "<Figure size 432x288 with 0 Axes>"
      ]
     },
     "metadata": {},
     "output_type": "display_data"
    },
    {
     "data": {
      "text/plain": [
       "<Figure size 432x288 with 0 Axes>"
      ]
     },
     "metadata": {},
     "output_type": "display_data"
    },
    {
     "data": {
      "text/plain": [
       "<Figure size 432x288 with 0 Axes>"
      ]
     },
     "metadata": {},
     "output_type": "display_data"
    },
    {
     "data": {
      "text/plain": [
       "<Figure size 432x288 with 0 Axes>"
      ]
     },
     "metadata": {},
     "output_type": "display_data"
    },
    {
     "data": {
      "text/plain": [
       "<Figure size 432x288 with 0 Axes>"
      ]
     },
     "metadata": {},
     "output_type": "display_data"
    },
    {
     "data": {
      "text/plain": [
       "<Figure size 432x288 with 0 Axes>"
      ]
     },
     "metadata": {},
     "output_type": "display_data"
    },
    {
     "data": {
      "text/plain": [
       "<Figure size 432x288 with 0 Axes>"
      ]
     },
     "metadata": {},
     "output_type": "display_data"
    },
    {
     "data": {
      "text/plain": [
       "<Figure size 432x288 with 0 Axes>"
      ]
     },
     "metadata": {},
     "output_type": "display_data"
    },
    {
     "data": {
      "text/plain": [
       "<Figure size 432x288 with 0 Axes>"
      ]
     },
     "metadata": {},
     "output_type": "display_data"
    },
    {
     "data": {
      "text/plain": [
       "<Figure size 432x288 with 0 Axes>"
      ]
     },
     "metadata": {},
     "output_type": "display_data"
    },
    {
     "data": {
      "text/plain": [
       "<Figure size 432x288 with 0 Axes>"
      ]
     },
     "metadata": {},
     "output_type": "display_data"
    },
    {
     "data": {
      "text/plain": [
       "<Figure size 432x288 with 0 Axes>"
      ]
     },
     "metadata": {},
     "output_type": "display_data"
    },
    {
     "data": {
      "text/plain": [
       "<Figure size 432x288 with 0 Axes>"
      ]
     },
     "metadata": {},
     "output_type": "display_data"
    },
    {
     "data": {
      "text/plain": [
       "<Figure size 432x288 with 0 Axes>"
      ]
     },
     "metadata": {},
     "output_type": "display_data"
    },
    {
     "data": {
      "text/plain": [
       "<Figure size 432x288 with 0 Axes>"
      ]
     },
     "metadata": {},
     "output_type": "display_data"
    },
    {
     "data": {
      "text/plain": [
       "<Figure size 432x288 with 0 Axes>"
      ]
     },
     "metadata": {},
     "output_type": "display_data"
    },
    {
     "data": {
      "text/plain": [
       "<Figure size 432x288 with 0 Axes>"
      ]
     },
     "metadata": {},
     "output_type": "display_data"
    },
    {
     "data": {
      "text/plain": [
       "<Figure size 432x288 with 0 Axes>"
      ]
     },
     "metadata": {},
     "output_type": "display_data"
    },
    {
     "data": {
      "text/plain": [
       "<Figure size 432x288 with 0 Axes>"
      ]
     },
     "metadata": {},
     "output_type": "display_data"
    },
    {
     "data": {
      "text/plain": [
       "<Figure size 432x288 with 0 Axes>"
      ]
     },
     "metadata": {},
     "output_type": "display_data"
    },
    {
     "data": {
      "text/plain": [
       "<Figure size 432x288 with 0 Axes>"
      ]
     },
     "metadata": {},
     "output_type": "display_data"
    },
    {
     "data": {
      "text/plain": [
       "<Figure size 432x288 with 0 Axes>"
      ]
     },
     "metadata": {},
     "output_type": "display_data"
    },
    {
     "data": {
      "text/plain": [
       "<Figure size 432x288 with 0 Axes>"
      ]
     },
     "metadata": {},
     "output_type": "display_data"
    },
    {
     "data": {
      "text/plain": [
       "<Figure size 432x288 with 0 Axes>"
      ]
     },
     "metadata": {},
     "output_type": "display_data"
    },
    {
     "data": {
      "text/plain": [
       "<Figure size 432x288 with 0 Axes>"
      ]
     },
     "metadata": {},
     "output_type": "display_data"
    },
    {
     "data": {
      "text/plain": [
       "<Figure size 432x288 with 0 Axes>"
      ]
     },
     "metadata": {},
     "output_type": "display_data"
    },
    {
     "data": {
      "text/plain": [
       "<Figure size 432x288 with 0 Axes>"
      ]
     },
     "metadata": {},
     "output_type": "display_data"
    },
    {
     "data": {
      "text/plain": [
       "<Figure size 432x288 with 0 Axes>"
      ]
     },
     "metadata": {},
     "output_type": "display_data"
    },
    {
     "data": {
      "text/plain": [
       "<Figure size 432x288 with 0 Axes>"
      ]
     },
     "metadata": {},
     "output_type": "display_data"
    },
    {
     "data": {
      "text/plain": [
       "<Figure size 432x288 with 0 Axes>"
      ]
     },
     "metadata": {},
     "output_type": "display_data"
    },
    {
     "data": {
      "text/plain": [
       "<Figure size 432x288 with 0 Axes>"
      ]
     },
     "metadata": {},
     "output_type": "display_data"
    },
    {
     "data": {
      "text/plain": [
       "<Figure size 432x288 with 0 Axes>"
      ]
     },
     "metadata": {},
     "output_type": "display_data"
    },
    {
     "data": {
      "text/plain": [
       "<Figure size 432x288 with 0 Axes>"
      ]
     },
     "metadata": {},
     "output_type": "display_data"
    },
    {
     "data": {
      "text/plain": [
       "<Figure size 432x288 with 0 Axes>"
      ]
     },
     "metadata": {},
     "output_type": "display_data"
    },
    {
     "data": {
      "text/plain": [
       "<Figure size 432x288 with 0 Axes>"
      ]
     },
     "metadata": {},
     "output_type": "display_data"
    },
    {
     "data": {
      "text/plain": [
       "<Figure size 432x288 with 0 Axes>"
      ]
     },
     "metadata": {},
     "output_type": "display_data"
    },
    {
     "data": {
      "text/plain": [
       "<Figure size 432x288 with 0 Axes>"
      ]
     },
     "metadata": {},
     "output_type": "display_data"
    },
    {
     "data": {
      "text/plain": [
       "<Figure size 432x288 with 0 Axes>"
      ]
     },
     "metadata": {},
     "output_type": "display_data"
    },
    {
     "data": {
      "text/plain": [
       "<Figure size 432x288 with 0 Axes>"
      ]
     },
     "metadata": {},
     "output_type": "display_data"
    },
    {
     "data": {
      "text/plain": [
       "<Figure size 432x288 with 0 Axes>"
      ]
     },
     "metadata": {},
     "output_type": "display_data"
    },
    {
     "data": {
      "text/plain": [
       "<Figure size 432x288 with 0 Axes>"
      ]
     },
     "metadata": {},
     "output_type": "display_data"
    },
    {
     "data": {
      "text/plain": [
       "<Figure size 432x288 with 0 Axes>"
      ]
     },
     "metadata": {},
     "output_type": "display_data"
    },
    {
     "data": {
      "text/plain": [
       "<Figure size 432x288 with 0 Axes>"
      ]
     },
     "metadata": {},
     "output_type": "display_data"
    },
    {
     "data": {
      "text/plain": [
       "<Figure size 432x288 with 0 Axes>"
      ]
     },
     "metadata": {},
     "output_type": "display_data"
    },
    {
     "data": {
      "text/plain": [
       "<Figure size 432x288 with 0 Axes>"
      ]
     },
     "metadata": {},
     "output_type": "display_data"
    },
    {
     "data": {
      "text/plain": [
       "<Figure size 432x288 with 0 Axes>"
      ]
     },
     "metadata": {},
     "output_type": "display_data"
    },
    {
     "data": {
      "text/plain": [
       "<Figure size 432x288 with 0 Axes>"
      ]
     },
     "metadata": {},
     "output_type": "display_data"
    },
    {
     "data": {
      "text/plain": [
       "<Figure size 432x288 with 0 Axes>"
      ]
     },
     "metadata": {},
     "output_type": "display_data"
    },
    {
     "data": {
      "text/plain": [
       "<Figure size 432x288 with 0 Axes>"
      ]
     },
     "metadata": {},
     "output_type": "display_data"
    },
    {
     "data": {
      "text/plain": [
       "<Figure size 432x288 with 0 Axes>"
      ]
     },
     "metadata": {},
     "output_type": "display_data"
    },
    {
     "data": {
      "text/plain": [
       "<Figure size 432x288 with 0 Axes>"
      ]
     },
     "metadata": {},
     "output_type": "display_data"
    },
    {
     "data": {
      "text/plain": [
       "<Figure size 432x288 with 0 Axes>"
      ]
     },
     "metadata": {},
     "output_type": "display_data"
    },
    {
     "data": {
      "text/plain": [
       "<Figure size 432x288 with 0 Axes>"
      ]
     },
     "metadata": {},
     "output_type": "display_data"
    },
    {
     "data": {
      "text/plain": [
       "<Figure size 432x288 with 0 Axes>"
      ]
     },
     "metadata": {},
     "output_type": "display_data"
    },
    {
     "data": {
      "text/plain": [
       "<Figure size 432x288 with 0 Axes>"
      ]
     },
     "metadata": {},
     "output_type": "display_data"
    },
    {
     "data": {
      "text/plain": [
       "<Figure size 432x288 with 0 Axes>"
      ]
     },
     "metadata": {},
     "output_type": "display_data"
    },
    {
     "data": {
      "text/plain": [
       "<Figure size 432x288 with 0 Axes>"
      ]
     },
     "metadata": {},
     "output_type": "display_data"
    },
    {
     "data": {
      "text/plain": [
       "<Figure size 432x288 with 0 Axes>"
      ]
     },
     "metadata": {},
     "output_type": "display_data"
    },
    {
     "data": {
      "text/plain": [
       "<Figure size 432x288 with 0 Axes>"
      ]
     },
     "metadata": {},
     "output_type": "display_data"
    },
    {
     "data": {
      "text/plain": [
       "<Figure size 432x288 with 0 Axes>"
      ]
     },
     "metadata": {},
     "output_type": "display_data"
    },
    {
     "data": {
      "text/plain": [
       "<Figure size 432x288 with 0 Axes>"
      ]
     },
     "metadata": {},
     "output_type": "display_data"
    },
    {
     "data": {
      "text/plain": [
       "<Figure size 432x288 with 0 Axes>"
      ]
     },
     "metadata": {},
     "output_type": "display_data"
    },
    {
     "data": {
      "text/plain": [
       "<Figure size 432x288 with 0 Axes>"
      ]
     },
     "metadata": {},
     "output_type": "display_data"
    },
    {
     "data": {
      "text/plain": [
       "<Figure size 432x288 with 0 Axes>"
      ]
     },
     "metadata": {},
     "output_type": "display_data"
    },
    {
     "data": {
      "text/plain": [
       "<Figure size 432x288 with 0 Axes>"
      ]
     },
     "metadata": {},
     "output_type": "display_data"
    },
    {
     "data": {
      "text/plain": [
       "<Figure size 432x288 with 0 Axes>"
      ]
     },
     "metadata": {},
     "output_type": "display_data"
    },
    {
     "data": {
      "text/plain": [
       "<Figure size 432x288 with 0 Axes>"
      ]
     },
     "metadata": {},
     "output_type": "display_data"
    },
    {
     "data": {
      "text/plain": [
       "<Figure size 432x288 with 0 Axes>"
      ]
     },
     "metadata": {},
     "output_type": "display_data"
    },
    {
     "data": {
      "text/plain": [
       "<Figure size 432x288 with 0 Axes>"
      ]
     },
     "metadata": {},
     "output_type": "display_data"
    },
    {
     "data": {
      "text/plain": [
       "<Figure size 432x288 with 0 Axes>"
      ]
     },
     "metadata": {},
     "output_type": "display_data"
    },
    {
     "data": {
      "text/plain": [
       "<Figure size 432x288 with 0 Axes>"
      ]
     },
     "metadata": {},
     "output_type": "display_data"
    },
    {
     "data": {
      "text/plain": [
       "<Figure size 432x288 with 0 Axes>"
      ]
     },
     "metadata": {},
     "output_type": "display_data"
    },
    {
     "data": {
      "text/plain": [
       "<Figure size 432x288 with 0 Axes>"
      ]
     },
     "metadata": {},
     "output_type": "display_data"
    },
    {
     "data": {
      "text/plain": [
       "<Figure size 432x288 with 0 Axes>"
      ]
     },
     "metadata": {},
     "output_type": "display_data"
    },
    {
     "data": {
      "text/plain": [
       "<Figure size 432x288 with 0 Axes>"
      ]
     },
     "metadata": {},
     "output_type": "display_data"
    },
    {
     "data": {
      "text/plain": [
       "<Figure size 432x288 with 0 Axes>"
      ]
     },
     "metadata": {},
     "output_type": "display_data"
    },
    {
     "data": {
      "text/plain": [
       "<Figure size 432x288 with 0 Axes>"
      ]
     },
     "metadata": {},
     "output_type": "display_data"
    },
    {
     "data": {
      "text/plain": [
       "<Figure size 432x288 with 0 Axes>"
      ]
     },
     "metadata": {},
     "output_type": "display_data"
    },
    {
     "data": {
      "text/plain": [
       "<Figure size 432x288 with 0 Axes>"
      ]
     },
     "metadata": {},
     "output_type": "display_data"
    },
    {
     "data": {
      "text/plain": [
       "<Figure size 432x288 with 0 Axes>"
      ]
     },
     "metadata": {},
     "output_type": "display_data"
    },
    {
     "data": {
      "text/plain": [
       "<Figure size 432x288 with 0 Axes>"
      ]
     },
     "metadata": {},
     "output_type": "display_data"
    },
    {
     "data": {
      "text/plain": [
       "<Figure size 432x288 with 0 Axes>"
      ]
     },
     "metadata": {},
     "output_type": "display_data"
    },
    {
     "data": {
      "text/plain": [
       "<Figure size 432x288 with 0 Axes>"
      ]
     },
     "metadata": {},
     "output_type": "display_data"
    },
    {
     "data": {
      "text/plain": [
       "<Figure size 432x288 with 0 Axes>"
      ]
     },
     "metadata": {},
     "output_type": "display_data"
    },
    {
     "data": {
      "text/plain": [
       "<Figure size 432x288 with 0 Axes>"
      ]
     },
     "metadata": {},
     "output_type": "display_data"
    },
    {
     "data": {
      "text/plain": [
       "<Figure size 432x288 with 0 Axes>"
      ]
     },
     "metadata": {},
     "output_type": "display_data"
    },
    {
     "data": {
      "text/plain": [
       "<Figure size 432x288 with 0 Axes>"
      ]
     },
     "metadata": {},
     "output_type": "display_data"
    },
    {
     "data": {
      "text/plain": [
       "<Figure size 432x288 with 0 Axes>"
      ]
     },
     "metadata": {},
     "output_type": "display_data"
    },
    {
     "data": {
      "text/plain": [
       "<Figure size 432x288 with 0 Axes>"
      ]
     },
     "metadata": {},
     "output_type": "display_data"
    },
    {
     "data": {
      "text/plain": [
       "<Figure size 432x288 with 0 Axes>"
      ]
     },
     "metadata": {},
     "output_type": "display_data"
    },
    {
     "data": {
      "text/plain": [
       "<Figure size 432x288 with 0 Axes>"
      ]
     },
     "metadata": {},
     "output_type": "display_data"
    },
    {
     "data": {
      "text/plain": [
       "<Figure size 432x288 with 0 Axes>"
      ]
     },
     "metadata": {},
     "output_type": "display_data"
    },
    {
     "data": {
      "text/plain": [
       "<Figure size 432x288 with 0 Axes>"
      ]
     },
     "metadata": {},
     "output_type": "display_data"
    },
    {
     "data": {
      "text/plain": [
       "<Figure size 432x288 with 0 Axes>"
      ]
     },
     "metadata": {},
     "output_type": "display_data"
    },
    {
     "data": {
      "text/plain": [
       "<Figure size 432x288 with 0 Axes>"
      ]
     },
     "metadata": {},
     "output_type": "display_data"
    },
    {
     "data": {
      "text/plain": [
       "<Figure size 432x288 with 0 Axes>"
      ]
     },
     "metadata": {},
     "output_type": "display_data"
    },
    {
     "data": {
      "text/plain": [
       "<Figure size 432x288 with 0 Axes>"
      ]
     },
     "metadata": {},
     "output_type": "display_data"
    },
    {
     "data": {
      "text/plain": [
       "<Figure size 432x288 with 0 Axes>"
      ]
     },
     "metadata": {},
     "output_type": "display_data"
    },
    {
     "data": {
      "text/plain": [
       "<Figure size 432x288 with 0 Axes>"
      ]
     },
     "metadata": {},
     "output_type": "display_data"
    },
    {
     "data": {
      "text/plain": [
       "<Figure size 432x288 with 0 Axes>"
      ]
     },
     "metadata": {},
     "output_type": "display_data"
    },
    {
     "data": {
      "text/plain": [
       "<Figure size 432x288 with 0 Axes>"
      ]
     },
     "metadata": {},
     "output_type": "display_data"
    },
    {
     "data": {
      "text/plain": [
       "<Figure size 432x288 with 0 Axes>"
      ]
     },
     "metadata": {},
     "output_type": "display_data"
    },
    {
     "data": {
      "text/plain": [
       "<Figure size 432x288 with 0 Axes>"
      ]
     },
     "metadata": {},
     "output_type": "display_data"
    },
    {
     "data": {
      "text/plain": [
       "<Figure size 432x288 with 0 Axes>"
      ]
     },
     "metadata": {},
     "output_type": "display_data"
    },
    {
     "data": {
      "text/plain": [
       "<Figure size 432x288 with 0 Axes>"
      ]
     },
     "metadata": {},
     "output_type": "display_data"
    },
    {
     "data": {
      "text/plain": [
       "<Figure size 432x288 with 0 Axes>"
      ]
     },
     "metadata": {},
     "output_type": "display_data"
    },
    {
     "data": {
      "text/plain": [
       "<Figure size 432x288 with 0 Axes>"
      ]
     },
     "metadata": {},
     "output_type": "display_data"
    },
    {
     "data": {
      "text/plain": [
       "<Figure size 432x288 with 0 Axes>"
      ]
     },
     "metadata": {},
     "output_type": "display_data"
    },
    {
     "data": {
      "text/plain": [
       "<Figure size 432x288 with 0 Axes>"
      ]
     },
     "metadata": {},
     "output_type": "display_data"
    },
    {
     "data": {
      "text/plain": [
       "<Figure size 432x288 with 0 Axes>"
      ]
     },
     "metadata": {},
     "output_type": "display_data"
    },
    {
     "data": {
      "text/plain": [
       "<Figure size 432x288 with 0 Axes>"
      ]
     },
     "metadata": {},
     "output_type": "display_data"
    },
    {
     "data": {
      "text/plain": [
       "<Figure size 432x288 with 0 Axes>"
      ]
     },
     "metadata": {},
     "output_type": "display_data"
    },
    {
     "data": {
      "text/plain": [
       "<Figure size 432x288 with 0 Axes>"
      ]
     },
     "metadata": {},
     "output_type": "display_data"
    },
    {
     "data": {
      "text/plain": [
       "<Figure size 432x288 with 0 Axes>"
      ]
     },
     "metadata": {},
     "output_type": "display_data"
    },
    {
     "data": {
      "text/plain": [
       "<Figure size 432x288 with 0 Axes>"
      ]
     },
     "metadata": {},
     "output_type": "display_data"
    },
    {
     "data": {
      "text/plain": [
       "<Figure size 432x288 with 0 Axes>"
      ]
     },
     "metadata": {},
     "output_type": "display_data"
    },
    {
     "data": {
      "text/plain": [
       "<Figure size 432x288 with 0 Axes>"
      ]
     },
     "metadata": {},
     "output_type": "display_data"
    },
    {
     "data": {
      "text/plain": [
       "<Figure size 432x288 with 0 Axes>"
      ]
     },
     "metadata": {},
     "output_type": "display_data"
    },
    {
     "data": {
      "text/plain": [
       "<Figure size 432x288 with 0 Axes>"
      ]
     },
     "metadata": {},
     "output_type": "display_data"
    },
    {
     "data": {
      "text/plain": [
       "<Figure size 432x288 with 0 Axes>"
      ]
     },
     "metadata": {},
     "output_type": "display_data"
    },
    {
     "data": {
      "text/plain": [
       "<Figure size 432x288 with 0 Axes>"
      ]
     },
     "metadata": {},
     "output_type": "display_data"
    },
    {
     "data": {
      "text/plain": [
       "<Figure size 432x288 with 0 Axes>"
      ]
     },
     "metadata": {},
     "output_type": "display_data"
    },
    {
     "data": {
      "text/plain": [
       "<Figure size 432x288 with 0 Axes>"
      ]
     },
     "metadata": {},
     "output_type": "display_data"
    }
   ],
   "source": [
    "from mpl_toolkits.mplot3d import Axes3D\n",
    "\n",
    "# Plot initialisation\n",
    "fig = plt.figure()\n",
    " \n",
    "    \n",
    "def plot_PCA_3D(data, target, target_names):\n",
    "\n",
    "    colors = cycle(['r','g','b','c','m','y'])\n",
    "    target_ids = range(len(target_names))\n",
    "\n",
    "    fig = plt.figure()\n",
    "    ax = fig.add_subplot(111, projection='3d')\n",
    "\n",
    "    for i, c, label in zip(target_ids, colors, target_names):\n",
    "        test = np.array(target == i)\n",
    "        \n",
    "        ax.scatter(data[test[:,0], 0], data[test[:,0], 1], data[test[:,0], 2],\n",
    "                   c=c, label=label)\n",
    "#         ax.scatter(result['PCA0'], result['PCA1'], result['PCA2'], s=60)\n",
    "\n",
    "\n",
    "    # label the axes\n",
    "    ax.set_xlabel(\"PC1\")\n",
    "    ax.set_ylabel(\"PC2\")\n",
    "    ax.set_zlabel(\"PC3\")\n",
    "    ax.set_title(\"PCA 3D\")\n",
    "#     plt.legend()\n",
    "\n",
    "\n",
    "    for angle in range(0, 360):\n",
    "        ax.view_init(0,90)\n",
    "        plt.draw()\n",
    "        plt.pause(.001)\n",
    "\n",
    "    #plt.show()\n",
    "    \n",
    "# Axes3D.scatter(xs, ys, zs=0, zdir='z', s=20, c=None, depthshade=True, *args, **kwargs)\n",
    "\n",
    "plot_PCA_3D(pca_3D.transform(X_train), target=y_train, target_names=np.array(activity['Activity'])) "
   ]
  },
  {
   "cell_type": "markdown",
   "metadata": {},
   "source": [
    "--------\n",
    "## 3. Use GroupKFold to create a CV split"
   ]
  },
  {
   "cell_type": "code",
   "execution_count": 16,
   "metadata": {},
   "outputs": [],
   "source": [
    "folds1 = StratifiedKFold(n_splits=5, shuffle=True, random_state=47)"
   ]
  },
  {
   "cell_type": "code",
   "execution_count": 17,
   "metadata": {},
   "outputs": [],
   "source": [
    "folds2 = StratifiedKFold(n_splits=5, shuffle=False, random_state=4)"
   ]
  },
  {
   "cell_type": "code",
   "execution_count": 18,
   "metadata": {},
   "outputs": [],
   "source": [
    "from sklearn.model_selection import GroupKFold\n",
    "\n",
    "grouped_kfold = GroupKFold(n_splits=3)\n",
    "groups = np.array(y_train_merged['SubjectID'])\n",
    "folds = grouped_kfold.split(np.array(X_train), np.array(y_train), groups)"
   ]
  },
  {
   "cell_type": "code",
   "execution_count": 19,
   "metadata": {},
   "outputs": [
    {
     "data": {
      "text/plain": [
       "SVC(C=1.0, cache_size=200, class_weight=None, coef0=0.0,\n",
       "  decision_function_shape='ovr', degree=3, gamma='auto_deprecated',\n",
       "  kernel='rbf', max_iter=-1, probability=False, random_state=None,\n",
       "  shrinking=True, tol=0.001, verbose=False)"
      ]
     },
     "execution_count": 19,
     "metadata": {},
     "output_type": "execute_result"
    }
   ],
   "source": [
    "ExtraTreesClassifier()\n",
    "GradientBoostingClassifier()\n",
    "svm.SVC()"
   ]
  },
  {
   "cell_type": "markdown",
   "metadata": {},
   "source": [
    "--------\n",
    "## 4. Fit Models on full feature space"
   ]
  },
  {
   "cell_type": "code",
   "execution_count": 20,
   "metadata": {},
   "outputs": [],
   "source": [
    "models = [('knn', KNeighborsClassifier), \n",
    "          ('logistic', LogisticRegression),\n",
    "          ('svm', svm.SVC),\n",
    "          ('gnb', GaussianNB),\n",
    "          ('bnb', BernoulliNB),\n",
    "          ('tree', DecisionTreeClassifier),\n",
    "          ('forest', RandomForestClassifier),\n",
    "          ('erf', ExtraTreesClassifier)#,\n",
    "#          ('boost', GradientBoostingClassifier),\n",
    "         ]\n",
    "\n",
    "\n",
    "\n",
    "param_choices = [\n",
    "    {\n",
    "        'n_neighbors': range(1, 100, 2)\n",
    "    },\n",
    "    {\n",
    "        'C': np.logspace(-3,6, 12),\n",
    "        'penalty': ['l1', 'l2']\n",
    "    },\n",
    "    {\n",
    "        'gamma': [.0001,.001,.01,.1, 'scale','auto_deprecated'], \n",
    "        'kernel': ['linear', 'poly', 'rbf', 'sigmoid']\n",
    "    },\n",
    "    {\n",
    "        'var_smoothing' : [1e-10, 1e-9, 1e-8]\n",
    "    },\n",
    "    {\n",
    "        'alpha': [.5, 1.0, 5],\n",
    "        'binarize': [0.0, 6.0]\n",
    "    },\n",
    "    {\n",
    "        'max_depth': [1,2,3,4,5],\n",
    "        'min_samples_leaf': [3,6,10]\n",
    "    },\n",
    "    {\n",
    "        'n_estimators': [50, 200],\n",
    "        'criterion': ['gini', 'entropy'],\n",
    "        'max_depth': [15, 20, None], \n",
    "        'max_features': [10, 15, 50, 'auto'],\n",
    "        'min_samples_split': [2, 5, 25]\n",
    "    },\n",
    "    { \n",
    "        'max_features': [1, 10, 'auto'],\n",
    "        'criterion': ['gini', 'entropy'],\n",
    "        'n_estimators': [100, 200],\n",
    "        'min_samples_split': [2,5,20],\n",
    "        'min_impurity_decrease': [0, 1e-3, 1e-2],\n",
    "        'bootstrap': [True,False],\n",
    "        'max_depth': [3, 10, None] \n",
    "    }#, \n",
    "#     {\n",
    "#         'n_estimators': [100, 200],\n",
    "#         'criterion': ['friedman_mse', 'mse', 'mae'],\n",
    "#         'max_depth': [3, 10], \n",
    "#         'max_features': [10, 'auto'],\n",
    "#         'min_samples_split': [2, 5, 25],\n",
    "#         'learning_rate': [.01,0.1,.5],\n",
    "#         'subsample': [0.01, 0.1, 1],\n",
    "#         'min_impurity_decrease': [0, 1e-3, 1e-2]\n",
    "#     }\n",
    "]"
   ]
  },
  {
   "cell_type": "code",
   "execution_count": 21,
   "metadata": {},
   "outputs": [],
   "source": [
    "grid_outputs = {}"
   ]
  },
  {
   "cell_type": "code",
   "execution_count": 30,
   "metadata": {},
   "outputs": [
    {
     "name": "stdout",
     "output_type": "stream",
     "text": [
      "knn\n"
     ]
    },
    {
     "name": "stderr",
     "output_type": "stream",
     "text": [
      "/Users/user/anaconda3/lib/python3.6/site-packages/sklearn/externals/joblib/externals/loky/process_executor.py:700: UserWarning: A worker stopped while some jobs were given to the executor. This can be caused by a too short worker timeout or by a memory leak.\n",
      "  \"timeout or by a memory leak.\", UserWarning\n",
      "/Users/user/anaconda3/lib/python3.6/site-packages/sklearn/linear_model/logistic.py:432: FutureWarning: Default solver will be changed to 'lbfgs' in 0.22. Specify a solver to silence this warning.\n",
      "  FutureWarning)\n",
      "/Users/user/anaconda3/lib/python3.6/site-packages/sklearn/linear_model/logistic.py:459: FutureWarning: Default multi_class will be changed to 'auto' in 0.22. Specify the multi_class option to silence this warning.\n",
      "  \"this warning.\", FutureWarning)\n"
     ]
    },
    {
     "name": "stdout",
     "output_type": "stream",
     "text": [
      "logistic\n"
     ]
    },
    {
     "name": "stderr",
     "output_type": "stream",
     "text": [
      "/Users/user/anaconda3/lib/python3.6/site-packages/sklearn/externals/joblib/externals/loky/process_executor.py:700: UserWarning: A worker stopped while some jobs were given to the executor. This can be caused by a too short worker timeout or by a memory leak.\n",
      "  \"timeout or by a memory leak.\", UserWarning\n",
      "/Users/user/anaconda3/lib/python3.6/site-packages/sklearn/model_selection/_search.py:841: DeprecationWarning: The default of the `iid` parameter will change from True to False in version 0.22 and will be removed in 0.24. This will change numeric results when test-set sizes are unequal.\n",
      "  DeprecationWarning)\n"
     ]
    },
    {
     "name": "stdout",
     "output_type": "stream",
     "text": [
      "svm\n"
     ]
    },
    {
     "name": "stderr",
     "output_type": "stream",
     "text": [
      "/Users/user/anaconda3/lib/python3.6/site-packages/sklearn/model_selection/_search.py:841: DeprecationWarning: The default of the `iid` parameter will change from True to False in version 0.22 and will be removed in 0.24. This will change numeric results when test-set sizes are unequal.\n",
      "  DeprecationWarning)\n"
     ]
    },
    {
     "name": "stdout",
     "output_type": "stream",
     "text": [
      "gnb\n",
      "bnb\n",
      "tree\n",
      "forest\n"
     ]
    },
    {
     "name": "stderr",
     "output_type": "stream",
     "text": [
      "/Users/user/anaconda3/lib/python3.6/site-packages/sklearn/model_selection/_search.py:841: DeprecationWarning: The default of the `iid` parameter will change from True to False in version 0.22 and will be removed in 0.24. This will change numeric results when test-set sizes are unequal.\n",
      "  DeprecationWarning)\n"
     ]
    },
    {
     "name": "stdout",
     "output_type": "stream",
     "text": [
      "erf\n"
     ]
    }
   ],
   "source": [
    "for model_info, params in zip(models, param_choices):\n",
    "\n",
    "    grouped_kfold = GroupKFold(n_splits=3)\n",
    "    groups = np.array(y_train_merged['SubjectID'])\n",
    "    folds = grouped_kfold.split(np.array(X_train), np.array(y_train), groups)\n",
    "\n",
    "    name, model = model_info\n",
    "    grid = GridSearchCV(model(), params, cv=folds, n_jobs=-1)\n",
    "    grid.fit(X_train, np.ravel(y_train))\n",
    "    print(name)\n",
    "    \n",
    "    grid_outputs[name] = grid\n"
   ]
  },
  {
   "cell_type": "code",
   "execution_count": 32,
   "metadata": {},
   "outputs": [
    {
     "name": "stdout",
     "output_type": "stream",
     "text": [
      "knn 0.869833912708\n",
      "logistic 0.932277584653\n",
      "svm 0.924552594309\n",
      "gnb 0.667696665379\n",
      "bnb 0.801210248487\n",
      "tree 0.78846401442\n",
      "forest 0.908973863783\n",
      "erf 0.908458864426\n"
     ]
    }
   ],
   "source": [
    "for element in grid_outputs:\n",
    "    print(element, grid_outputs[element].best_score_)"
   ]
  },
  {
   "cell_type": "code",
   "execution_count": 31,
   "metadata": {},
   "outputs": [
    {
     "name": "stdout",
     "output_type": "stream",
     "text": [
      "knn :                precision    recall  f1-score   support\n",
      "\n",
      "           1       1.00      1.00      1.00      1226\n",
      "           2       0.98      1.00      0.99      1073\n",
      "           3       1.00      0.99      1.00       987\n",
      "           4       0.96      0.92      0.94      1293\n",
      "           5       0.94      0.96      0.95      1423\n",
      "           6       0.99      1.00      1.00      1413\n",
      "           7       0.84      0.87      0.85        47\n",
      "           8       0.95      0.87      0.91        23\n",
      "           9       0.81      0.91      0.86        75\n",
      "          10       0.74      0.85      0.79        60\n",
      "          11       0.96      0.71      0.82        90\n",
      "          12       0.82      0.65      0.73        57\n",
      "\n",
      "   micro avg       0.97      0.97      0.97      7767\n",
      "   macro avg       0.92      0.89      0.90      7767\n",
      "weighted avg       0.97      0.97      0.97      7767\n",
      " [[1226    0    0    0    0    0    0    0    0    0    0    0]\n",
      " [   0 1073    0    0    0    0    0    0    0    0    0    0]\n",
      " [   2    4  981    0    0    0    0    0    0    0    0    0]\n",
      " [   0    1    0 1190   95    6    0    0    1    0    0    0]\n",
      " [   0    2    0   48 1373    0    0    0    0    0    0    0]\n",
      " [   0    0    0    0    0 1413    0    0    0    0    0    0]\n",
      " [   1    5    0    0    0    0   41    0    0    0    0    0]\n",
      " [   0    1    0    0    0    0    2   20    0    0    0    0]\n",
      " [   0    0    0    0    0    0    3    1   68    0    3    0]\n",
      " [   0    0    0    0    0    1    0    0    0   51    0    8]\n",
      " [   2    4    1    0    0    1    3    0   15    0   64    0]\n",
      " [   0    0    0    0    0    2    0    0    0   18    0   37]]\n"
     ]
    },
    {
     "name": "stderr",
     "output_type": "stream",
     "text": [
      "/Users/user/anaconda3/lib/python3.6/site-packages/sklearn/linear_model/logistic.py:432: FutureWarning: Default solver will be changed to 'lbfgs' in 0.22. Specify a solver to silence this warning.\n",
      "  FutureWarning)\n",
      "/Users/user/anaconda3/lib/python3.6/site-packages/sklearn/linear_model/logistic.py:459: FutureWarning: Default multi_class will be changed to 'auto' in 0.22. Specify the multi_class option to silence this warning.\n",
      "  \"this warning.\", FutureWarning)\n"
     ]
    },
    {
     "name": "stdout",
     "output_type": "stream",
     "text": [
      "logistic :                precision    recall  f1-score   support\n",
      "\n",
      "           1       1.00      1.00      1.00      1226\n",
      "           2       1.00      1.00      1.00      1073\n",
      "           3       1.00      1.00      1.00       987\n",
      "           4       0.98      0.98      0.98      1293\n",
      "           5       0.98      0.98      0.98      1423\n",
      "           6       1.00      1.00      1.00      1413\n",
      "           7       1.00      0.96      0.98        47\n",
      "           8       1.00      1.00      1.00        23\n",
      "           9       0.95      0.99      0.97        75\n",
      "          10       0.98      0.98      0.98        60\n",
      "          11       1.00      0.97      0.98        90\n",
      "          12       0.98      0.95      0.96        57\n",
      "\n",
      "   micro avg       0.99      0.99      0.99      7767\n",
      "   macro avg       0.99      0.98      0.99      7767\n",
      "weighted avg       0.99      0.99      0.99      7767\n",
      " [[1226    0    0    0    0    0    0    0    0    0    0    0]\n",
      " [   0 1073    0    0    0    0    0    0    0    0    0    0]\n",
      " [   0    0  987    0    0    0    0    0    0    0    0    0]\n",
      " [   0    0    0 1265   28    0    0    0    0    0    0    0]\n",
      " [   0    0    0   29 1394    0    0    0    0    0    0    0]\n",
      " [   0    0    0    0    0 1413    0    0    0    0    0    0]\n",
      " [   0    1    0    0    1    0   45    0    0    0    0    0]\n",
      " [   0    0    0    0    0    0    0   23    0    0    0    0]\n",
      " [   0    0    0    1    0    0    0    0   74    0    0    0]\n",
      " [   0    0    0    0    0    0    0    0    0   59    0    1]\n",
      " [   0    0    0    0    0    0    0    0    3    0   87    0]\n",
      " [   0    0    0    0    0    1    0    0    1    1    0   54]]\n",
      "svm :                precision    recall  f1-score   support\n",
      "\n",
      "           1       1.00      1.00      1.00      1226\n",
      "           2       1.00      1.00      1.00      1073\n",
      "           3       1.00      1.00      1.00       987\n",
      "           4       0.98      0.98      0.98      1293\n",
      "           5       0.98      0.98      0.98      1423\n",
      "           6       1.00      1.00      1.00      1413\n",
      "           7       1.00      1.00      1.00        47\n",
      "           8       1.00      1.00      1.00        23\n",
      "           9       1.00      1.00      1.00        75\n",
      "          10       1.00      1.00      1.00        60\n",
      "          11       1.00      1.00      1.00        90\n",
      "          12       1.00      1.00      1.00        57\n",
      "\n",
      "   micro avg       0.99      0.99      0.99      7767\n",
      "   macro avg       1.00      1.00      1.00      7767\n",
      "weighted avg       0.99      0.99      0.99      7767\n",
      " [[1226    0    0    0    0    0    0    0    0    0    0    0]\n",
      " [   0 1073    0    0    0    0    0    0    0    0    0    0]\n",
      " [   0    0  987    0    0    0    0    0    0    0    0    0]\n",
      " [   0    0    0 1266   27    0    0    0    0    0    0    0]\n",
      " [   0    0    0   27 1396    0    0    0    0    0    0    0]\n",
      " [   0    0    0    0    0 1413    0    0    0    0    0    0]\n",
      " [   0    0    0    0    0    0   47    0    0    0    0    0]\n",
      " [   0    0    0    0    0    0    0   23    0    0    0    0]\n",
      " [   0    0    0    0    0    0    0    0   75    0    0    0]\n",
      " [   0    0    0    0    0    0    0    0    0   60    0    0]\n",
      " [   0    0    0    0    0    0    0    0    0    0   90    0]\n",
      " [   0    0    0    0    0    0    0    0    0    0    0   57]]\n",
      "gnb :                precision    recall  f1-score   support\n",
      "\n",
      "           1       0.94      0.73      0.82      1226\n",
      "           2       0.71      0.84      0.77      1073\n",
      "           3       0.79      0.79      0.79       987\n",
      "           4       0.49      0.91      0.64      1293\n",
      "           5       0.87      0.32      0.47      1423\n",
      "           6       1.00      0.76      0.86      1413\n",
      "           7       0.23      0.81      0.36        47\n",
      "           8       0.41      0.91      0.57        23\n",
      "           9       0.56      0.79      0.65        75\n",
      "          10       0.44      0.90      0.59        60\n",
      "          11       0.72      0.57      0.63        90\n",
      "          12       0.62      0.46      0.53        57\n",
      "\n",
      "   micro avg       0.71      0.71      0.71      7767\n",
      "   macro avg       0.65      0.73      0.64      7767\n",
      "weighted avg       0.79      0.71      0.71      7767\n",
      " [[ 898  198  127    0    0    0    3    0    0    0    0    0]\n",
      " [  22  899   80    0    0    0   63    0    7    0    2    0]\n",
      " [  38  170  779    0    0    0    0    0    0    0    0    0]\n",
      " [   0    0    0 1183   66    4   18   20    2    0    0    0]\n",
      " [   0    1    0  921  456    0   38    4    1    0    1    1]\n",
      " [   0    0    0  289    0 1071    0    0    0   41    2   10]\n",
      " [   0    2    1    0    0    0   38    3    2    0    1    0]\n",
      " [   0    0    0    0    0    0    2   21    0    0    0    0]\n",
      " [   0    0    0    0    0    0    2    2   59    1   11    0]\n",
      " [   0    0    0    0    0    0    0    0    1   54    0    5]\n",
      " [   0    1    0    0    0    0    3    0   34    1   51    0]\n",
      " [   0    0    0    0    0    1    0    1    0   26    3   26]]\n",
      "bnb :                precision    recall  f1-score   support\n",
      "\n",
      "           1       0.91      0.78      0.84      1226\n",
      "           2       0.73      0.92      0.81      1073\n",
      "           3       0.85      0.78      0.81       987\n",
      "           4       0.83      0.77      0.80      1293\n",
      "           5       0.81      0.84      0.83      1423\n",
      "           6       1.00      0.97      0.99      1413\n",
      "           7       0.49      0.85      0.62        47\n",
      "           8       0.68      0.91      0.78        23\n",
      "           9       0.58      0.81      0.67        75\n",
      "          10       0.57      0.83      0.68        60\n",
      "          11       0.83      0.60      0.70        90\n",
      "          12       0.66      0.72      0.69        57\n",
      "\n",
      "   micro avg       0.84      0.84      0.84      7767\n",
      "   macro avg       0.75      0.82      0.77      7767\n",
      "weighted avg       0.85      0.84      0.84      7767\n",
      " [[ 955  181   90    0    0    0    0    0    0    0    0    0]\n",
      " [  44  984   44    0    0    0    1    0    0    0    0    0]\n",
      " [  44  173  770    0    0    0    0    0    0    0    0    0]\n",
      " [   0    1    0  993  272    0    7    8   12    0    0    0]\n",
      " [   0    1    0  201 1196    0   24    1    0    0    0    0]\n",
      " [   0    0    0    0    0 1374    0    0    3   23    1   12]\n",
      " [   1    3    0    0    0    0   40    0    2    0    1    0]\n",
      " [   0    0    0    0    0    0    1   21    0    0    1    0]\n",
      " [   0    2    0    0    0    0    3    1   61    1    7    0]\n",
      " [   0    0    0    0    0    0    0    0    0   50    1    9]\n",
      " [   0    3    0    0    0    0    6    0   27    0   54    0]\n",
      " [   0    0    0    0    0    1    0    0    1   14    0   41]]\n"
     ]
    },
    {
     "name": "stderr",
     "output_type": "stream",
     "text": [
      "/Users/user/anaconda3/lib/python3.6/site-packages/sklearn/metrics/classification.py:1143: UndefinedMetricWarning: Precision and F-score are ill-defined and being set to 0.0 in labels with no predicted samples.\n",
      "  'precision', 'predicted', average, warn_for)\n"
     ]
    },
    {
     "name": "stdout",
     "output_type": "stream",
     "text": [
      "tree :                precision    recall  f1-score   support\n",
      "\n",
      "           1       0.81      0.88      0.84      1226\n",
      "           2       0.62      0.83      0.71      1073\n",
      "           3       0.90      0.81      0.85       987\n",
      "           4       0.90      0.90      0.90      1293\n",
      "           5       0.91      0.91      0.91      1423\n",
      "           6       1.00      0.99      0.99      1413\n",
      "           7       0.00      0.00      0.00        47\n",
      "           8       0.00      0.00      0.00        23\n",
      "           9       0.00      0.00      0.00        75\n",
      "          10       1.00      0.12      0.21        60\n",
      "          11       0.00      0.00      0.00        90\n",
      "          12       1.00      0.14      0.25        57\n",
      "\n",
      "   micro avg       0.85      0.85      0.85      7767\n",
      "   macro avg       0.59      0.46      0.47      7767\n",
      "weighted avg       0.84      0.85      0.84      7767\n",
      " [[1075  101   50    0    0    0    0    0    0    0    0    0]\n",
      " [ 154  887   32    0    0    0    0    0    0    0    0    0]\n",
      " [  97   91  799    0    0    0    0    0    0    0    0    0]\n",
      " [   0    8    0 1159  126    0    0    0    0    0    0    0]\n",
      " [   0    0    0  128 1295    0    0    0    0    0    0    0]\n",
      " [   0   15    0    2    0 1396    0    0    0    0    0    0]\n",
      " [   0   45    1    0    1    0    0    0    0    0    0    0]\n",
      " [   0   23    0    0    0    0    0    0    0    0    0    0]\n",
      " [   0   72    0    3    0    0    0    0    0    0    0    0]\n",
      " [   1   51    1    0    0    0    0    0    0    7    0    0]\n",
      " [   1   85    0    1    3    0    0    0    0    0    0    0]\n",
      " [   0   44    4    0    0    1    0    0    0    0    0    8]]\n",
      "forest :                precision    recall  f1-score   support\n",
      "\n",
      "           1       1.00      1.00      1.00      1226\n",
      "           2       1.00      1.00      1.00      1073\n",
      "           3       1.00      1.00      1.00       987\n",
      "           4       1.00      1.00      1.00      1293\n",
      "           5       1.00      1.00      1.00      1423\n",
      "           6       1.00      1.00      1.00      1413\n",
      "           7       1.00      1.00      1.00        47\n",
      "           8       1.00      1.00      1.00        23\n",
      "           9       1.00      1.00      1.00        75\n",
      "          10       1.00      1.00      1.00        60\n",
      "          11       1.00      1.00      1.00        90\n",
      "          12       1.00      1.00      1.00        57\n",
      "\n",
      "   micro avg       1.00      1.00      1.00      7767\n",
      "   macro avg       1.00      1.00      1.00      7767\n",
      "weighted avg       1.00      1.00      1.00      7767\n",
      " [[1226    0    0    0    0    0    0    0    0    0    0    0]\n",
      " [   0 1073    0    0    0    0    0    0    0    0    0    0]\n",
      " [   0    0  987    0    0    0    0    0    0    0    0    0]\n",
      " [   0    0    0 1293    0    0    0    0    0    0    0    0]\n",
      " [   0    0    0    0 1423    0    0    0    0    0    0    0]\n",
      " [   0    0    0    0    0 1413    0    0    0    0    0    0]\n",
      " [   0    0    0    0    0    0   47    0    0    0    0    0]\n",
      " [   0    0    0    0    0    0    0   23    0    0    0    0]\n",
      " [   0    0    0    0    0    0    0    0   75    0    0    0]\n",
      " [   0    0    0    0    0    0    0    0    0   60    0    0]\n",
      " [   0    0    0    0    0    0    0    0    0    0   90    0]\n",
      " [   0    0    0    0    0    0    0    0    0    0    0   57]]\n",
      "erf :                precision    recall  f1-score   support\n",
      "\n",
      "           1       1.00      1.00      1.00      1226\n",
      "           2       1.00      1.00      1.00      1073\n",
      "           3       1.00      1.00      1.00       987\n",
      "           4       1.00      1.00      1.00      1293\n",
      "           5       1.00      1.00      1.00      1423\n",
      "           6       1.00      1.00      1.00      1413\n",
      "           7       1.00      1.00      1.00        47\n",
      "           8       1.00      1.00      1.00        23\n",
      "           9       1.00      1.00      1.00        75\n",
      "          10       1.00      1.00      1.00        60\n",
      "          11       1.00      1.00      1.00        90\n",
      "          12       1.00      1.00      1.00        57\n",
      "\n",
      "   micro avg       1.00      1.00      1.00      7767\n",
      "   macro avg       1.00      1.00      1.00      7767\n",
      "weighted avg       1.00      1.00      1.00      7767\n",
      " [[1226    0    0    0    0    0    0    0    0    0    0    0]\n",
      " [   0 1073    0    0    0    0    0    0    0    0    0    0]\n",
      " [   0    0  987    0    0    0    0    0    0    0    0    0]\n",
      " [   0    0    0 1293    0    0    0    0    0    0    0    0]\n",
      " [   0    0    0    0 1423    0    0    0    0    0    0    0]\n",
      " [   0    0    0    0    0 1413    0    0    0    0    0    0]\n",
      " [   0    0    0    0    0    0   47    0    0    0    0    0]\n",
      " [   0    0    0    0    0    0    0   23    0    0    0    0]\n",
      " [   0    0    0    0    0    0    0    0   75    0    0    0]\n",
      " [   0    0    0    0    0    0    0    0    0   60    0    0]\n",
      " [   0    0    0    0    0    0    0    0    0    0   90    0]\n",
      " [   0    0    0    0    0    0    0    0    0    0    0   57]]\n"
     ]
    }
   ],
   "source": [
    "best_fit_models = {}\n",
    "predicted_y_values = {}\n",
    "\n",
    "for element in grid_outputs:\n",
    "    best_fit = grid_outputs[element].best_estimator_.fit(X_train, np.ravel(y_train))\n",
    "    best_fit_models[element] = best_fit\n",
    "    y_train_pred = best_fit.predict(X_train)\n",
    "    predicted_y_values[element] = y_train_pred\n",
    "    print(element, \": \", classification_report(y_train, y_train_pred), confusion_matrix(y_train, y_train_pred))\n",
    "    "
   ]
  },
  {
   "cell_type": "markdown",
   "metadata": {},
   "source": [
    "### 4.6 Comparisons"
   ]
  },
  {
   "cell_type": "markdown",
   "metadata": {},
   "source": [
    "--------\n",
    "## 5. Feature Selection"
   ]
  },
  {
   "cell_type": "code",
   "execution_count": 19,
   "metadata": {},
   "outputs": [
    {
     "data": {
      "text/plain": [
       "PCA(copy=True, iterated_power='auto', n_components=None, random_state=None,\n",
       "  svd_solver='auto', tol=0.0, whiten=False)"
      ]
     },
     "execution_count": 19,
     "metadata": {},
     "output_type": "execute_result"
    }
   ],
   "source": [
    "from sklearn.decomposition import PCA\n",
    "\n",
    "pca = PCA()\n",
    "pca.fit(X_train)"
   ]
  },
  {
   "cell_type": "code",
   "execution_count": 20,
   "metadata": {},
   "outputs": [
    {
     "data": {
      "text/plain": [
       "[<matplotlib.lines.Line2D at 0x10aae13c8>]"
      ]
     },
     "execution_count": 20,
     "metadata": {},
     "output_type": "execute_result"
    },
    {
     "data": {
      "image/png": "[encoded data removed]",
      "text/plain": [
       "<Figure size 432x288 with 1 Axes>"
      ]
     },
     "metadata": {
      "needs_background": "light"
     },
     "output_type": "display_data"
    }
   ],
   "source": [
    "plt.plot(pca.explained_variance_ratio_.cumsum().reshape(561,1), '--o')"
   ]
  },
  {
   "cell_type": "code",
   "execution_count": 31,
   "metadata": {},
   "outputs": [
    {
     "data": {
      "text/html": [
       "<div>\n",
       "<style scoped>\n",
       "    .dataframe tbody tr th:only-of-type {\n",
       "        vertical-align: middle;\n",
       "    }\n",
       "\n",
       "    .dataframe tbody tr th {\n",
       "        vertical-align: top;\n",
       "    }\n",
       "\n",
       "    .dataframe thead th {\n",
       "        text-align: right;\n",
       "    }\n",
       "</style>\n",
       "<table border=\"1\" class=\"dataframe\">\n",
       "  <thead>\n",
       "    <tr style=\"text-align: right;\">\n",
       "      <th></th>\n",
       "      <th>0</th>\n",
       "    </tr>\n",
       "  </thead>\n",
       "  <tbody>\n",
       "    <tr>\n",
       "      <th>0</th>\n",
       "      <td>0.625544</td>\n",
       "    </tr>\n",
       "    <tr>\n",
       "      <th>1</th>\n",
       "      <td>0.674675</td>\n",
       "    </tr>\n",
       "    <tr>\n",
       "      <th>2</th>\n",
       "      <td>0.715889</td>\n",
       "    </tr>\n",
       "    <tr>\n",
       "      <th>3</th>\n",
       "      <td>0.734639</td>\n",
       "    </tr>\n",
       "    <tr>\n",
       "      <th>4</th>\n",
       "      <td>0.751587</td>\n",
       "    </tr>\n",
       "  </tbody>\n",
       "</table>\n",
       "</div>"
      ],
      "text/plain": [
       "          0\n",
       "0  0.625544\n",
       "1  0.674675\n",
       "2  0.715889\n",
       "3  0.734639\n",
       "4  0.751587"
      ]
     },
     "execution_count": 31,
     "metadata": {},
     "output_type": "execute_result"
    }
   ],
   "source": [
    "cumulative_varience_explained = pca.explained_variance_ratio_.cumsum().reshape(561,1)\n",
    "cumulative_varience_explained = pd.DataFrame(cumulative_varience_explained)\n",
    "cumulative_varience_explained.head()\n",
    "# Need to keep 66 PCAs to get to 95% variability or 154 to keep 99% of variability"
   ]
  },
  {
   "cell_type": "code",
   "execution_count": 22,
   "metadata": {},
   "outputs": [],
   "source": [
    "pca_99 = PCA(n_components=154)\n",
    "pca_99.fit(X_train)\n",
    "X_train_PCA = pd.DataFrame(pca_99.transform(X_train))"
   ]
  },
  {
   "cell_type": "markdown",
   "metadata": {},
   "source": [
    "### <span style=\"color:red\">Need to Turn this into a threshold formula^ </span>"
   ]
  },
  {
   "cell_type": "markdown",
   "metadata": {},
   "source": [
    "--------\n",
    "## 5. Fit Models on limited feature space"
   ]
  },
  {
   "cell_type": "code",
   "execution_count": 68,
   "metadata": {},
   "outputs": [
    {
     "ename": "AttributeError",
     "evalue": "'dict' object has no attribute 'fit'",
     "output_type": "error",
     "traceback": [
      "\u001b[0;31m---------------------------------------------------------------------------\u001b[0m",
      "\u001b[0;31mAttributeError\u001b[0m                            Traceback (most recent call last)",
      "\u001b[0;32m<ipython-input-68-6ec3adf7f83c>\u001b[0m in \u001b[0;36m<module>\u001b[0;34m()\u001b[0m\n\u001b[1;32m     54\u001b[0m     \u001b[0mname\u001b[0m\u001b[0;34m,\u001b[0m \u001b[0mmodel\u001b[0m \u001b[0;34m=\u001b[0m \u001b[0mmodel_info\u001b[0m\u001b[0;34m\u001b[0m\u001b[0m\n\u001b[1;32m     55\u001b[0m     \u001b[0mgrid\u001b[0m \u001b[0;34m=\u001b[0m \u001b[0mBayesSearchCV\u001b[0m\u001b[0;34m(\u001b[0m\u001b[0mmodel\u001b[0m\u001b[0;34m(\u001b[0m\u001b[0;34m)\u001b[0m\u001b[0;34m,\u001b[0m \u001b[0mparams\u001b[0m\u001b[0;34m,\u001b[0m \u001b[0mcv\u001b[0m\u001b[0;34m=\u001b[0m\u001b[0mfolds\u001b[0m\u001b[0;34m)\u001b[0m\u001b[0;34m\u001b[0m\u001b[0m\n\u001b[0;32m---> 56\u001b[0;31m     \u001b[0mbayes_grid_pca\u001b[0m\u001b[0;34m.\u001b[0m\u001b[0mfit\u001b[0m\u001b[0;34m(\u001b[0m\u001b[0mX_train_PCA\u001b[0m\u001b[0;34m,\u001b[0m \u001b[0mnp\u001b[0m\u001b[0;34m.\u001b[0m\u001b[0mravel\u001b[0m\u001b[0;34m(\u001b[0m\u001b[0my_train\u001b[0m\u001b[0;34m)\u001b[0m\u001b[0;34m)\u001b[0m\u001b[0;34m\u001b[0m\u001b[0m\n\u001b[0m\u001b[1;32m     57\u001b[0m     \u001b[0mn\u001b[0m \u001b[0;34m=\u001b[0m \u001b[0;34mf\"{name}: best score: {grid.best_score_}\"\u001b[0m\u001b[0;34m\u001b[0m\u001b[0m\n\u001b[1;32m     58\u001b[0m     \u001b[0mp\u001b[0m \u001b[0;34m=\u001b[0m \u001b[0;34mf\"{name}: best parameters: {grid.best_params_}\"\u001b[0m\u001b[0;34m\u001b[0m\u001b[0m\n",
      "\u001b[0;31mAttributeError\u001b[0m: 'dict' object has no attribute 'fit'"
     ]
    }
   ],
   "source": [
    "models = [('knn', KNeighborsClassifier), \n",
    "          ('logistic', LogisticRegression),\n",
    "          ('tree', DecisionTreeClassifier),\n",
    "          ('forest', RandomForestClassifier),\n",
    "          ('boost', GradientBoostingClassifier),\n",
    "          ('svm', svm.SVC)\n",
    "         ]\n",
    "\n",
    "param_choices = [\n",
    "    {\n",
    "        'n_neighbors': (1, 100)\n",
    "    },\n",
    "    {\n",
    "        'C': (-3, 6, 'log-uniform'),\n",
    "        'penalty': ['l1', 'l2']\n",
    "    },\n",
    "    {\n",
    "        'max_depth': (1,5),\n",
    "        'min_samples_leaf': (1,10)\n",
    "    },\n",
    "    {\n",
    "        'n_estimators': (50,300),\n",
    "        'criterion': ['gini', 'entropy'],\n",
    "        'max_depth': (2,50), \n",
    "        'max_features': (1,25),\n",
    "        'min_samples_split': (2,50)\n",
    "    },\n",
    "    {\n",
    "        'learning_rate': (.001,1,'log-uniform'), \n",
    "        'max_features': (1,25), \n",
    "        'subsample': (.001,1,'log-uniform'),\n",
    "        'n_estimators': (50,300),\n",
    "        'min_samples_split': (2,25)\n",
    "    },\n",
    "    {\n",
    "        'gamma': (.001,1,'log-uniform'), \n",
    "        'kernel': ['linear', 'poly', 'rbf', 'sigmoid']\n",
    "    }\n",
    "]\n",
    "\n",
    "\n",
    "bayes_grid_pca ={}\n",
    "bayes_best_models_pca = {}\n",
    "bayes_scores_pca = {}\n",
    "bayes_parameters_pca = {}\n",
    "\n",
    "\n",
    "for model_info, params in zip(models, param_choices):\n",
    "\n",
    "    grouped_kfold = GroupKFold(n_splits=3)\n",
    "    groups = np.array(y_train_merged['SubjectID'])\n",
    "    folds = grouped_kfold.split(np.array(X_train_PCA), np.array(y_train), groups)\n",
    "\n",
    "    name, model = model_info\n",
    "    grid = BayesSearchCV(model(), params, cv=folds)\n",
    "    bayes_grid_pca.fit(X_train_PCA, np.ravel(y_train))\n",
    "    n = f\"{name}: best score: {grid.best_score_}\"\n",
    "    p = f\"{name}: best parameters: {grid.best_params_}\"\n",
    "    print(n)\n",
    "    print(p)\n",
    "    bayes_grid_pca[name] = grid\n",
    "    bayes_best_models_pca[name]= grid.best_params_\n",
    "    bayes_scores_pca[name] = grid.best_estimator_\n",
    "    bayes_parameters_pca[name]= grid.best_params_"
   ]
  },
  {
   "cell_type": "code",
   "execution_count": 29,
   "metadata": {},
   "outputs": [
    {
     "name": "stdout",
     "output_type": "stream",
     "text": [
      "knn: best score: 0.8820729053318824\n",
      "knn: best score: {'n_neighbors': 16}\n"
     ]
    },
    {
     "name": "stderr",
     "output_type": "stream",
     "text": [
      "/Users/user/anaconda3/lib/python3.6/site-packages/sklearn/externals/joblib/externals/loky/process_executor.py:700: UserWarning: A worker stopped while some jobs were given to the executor. This can be caused by a too short worker timeout or by a memory leak.\n",
      "  \"timeout or by a memory leak.\", UserWarning\n",
      "/Users/user/anaconda3/lib/python3.6/site-packages/sklearn/linear_model/logistic.py:432: FutureWarning: Default solver will be changed to 'lbfgs' in 0.22. Specify a solver to silence this warning.\n",
      "  FutureWarning)\n",
      "/Users/user/anaconda3/lib/python3.6/site-packages/sklearn/linear_model/logistic.py:459: FutureWarning: Default multi_class will be changed to 'auto' in 0.22. Specify the multi_class option to silence this warning.\n",
      "  \"this warning.\", FutureWarning)\n"
     ]
    },
    {
     "name": "stdout",
     "output_type": "stream",
     "text": [
      "logistic: best score: 0.9228781284004353\n",
      "logistic: best score: {'C': 1.873817422860385, 'penalty': 'l2'}\n",
      "tree: best score: 0.7759793253536452\n",
      "tree: best score: {'max_depth': 5, 'min_samples_leaf': 6}\n"
     ]
    },
    {
     "name": "stderr",
     "output_type": "stream",
     "text": [
      "/Users/user/anaconda3/lib/python3.6/site-packages/sklearn/externals/joblib/externals/loky/process_executor.py:700: UserWarning: A worker stopped while some jobs were given to the executor. This can be caused by a too short worker timeout or by a memory leak.\n",
      "  \"timeout or by a memory leak.\", UserWarning\n"
     ]
    },
    {
     "name": "stdout",
     "output_type": "stream",
     "text": [
      "forest: best score: 0.8819368879216539\n",
      "forest: best score: {'criterion': 'gini', 'max_depth': None, 'max_features': 10, 'min_samples_split': 5, 'n_estimators': 200}\n"
     ]
    },
    {
     "name": "stderr",
     "output_type": "stream",
     "text": [
      "/Users/user/anaconda3/lib/python3.6/site-packages/sklearn/model_selection/_search.py:841: DeprecationWarning: The default of the `iid` parameter will change from True to False in version 0.22 and will be removed in 0.24. This will change numeric results when test-set sizes are unequal.\n",
      "  DeprecationWarning)\n"
     ]
    },
    {
     "name": "stdout",
     "output_type": "stream",
     "text": [
      "boost: best score: 0.9056039173014145\n",
      "boost: best score: {'learning_rate': 0.1, 'max_features': 'sqrt', 'min_samples_split': 25, 'n_estimators': 400, 'subsample': 1}\n",
      "svm: best score: 0.9224700761697497\n",
      "svm: best score: {'gamma': 0.01, 'kernel': 'rbf'}\n"
     ]
    }
   ],
   "source": [
    "models = [('knn', KNeighborsClassifier), \n",
    "          ('logistic', LogisticRegression),\n",
    "          ('tree', DecisionTreeClassifier),\n",
    "          ('forest', RandomForestClassifier),\n",
    "          ('boost', GradientBoostingClassifier),\n",
    "          ('svm', svm.SVC)\n",
    "         ]\n",
    "\n",
    "param_choices = [\n",
    "    {\n",
    "        'n_neighbors': range(1, 50, 5)\n",
    "    },\n",
    "    {\n",
    "        'C': np.logspace(-3,6, 12),\n",
    "        'penalty': ['l1', 'l2']\n",
    "    },\n",
    "    {\n",
    "        'max_depth': [1,2,3,4,5],\n",
    "        'min_samples_leaf': [3,6,10]\n",
    "    },\n",
    "    {\n",
    "        'n_estimators': [50, 200],\n",
    "        'criterion': ['gini', 'entropy'],\n",
    "        'max_depth': [15, 20, None], \n",
    "        'max_features': [10, 15, 50, 'auto'],\n",
    "        'min_samples_split': [2, 5, 25]\n",
    "    },\n",
    "    {\n",
    "        'learning_rate': [.01,0.1,.5], \n",
    "        'max_features': [1, 10, \"sqrt\"], \n",
    "        'subsample': [0.01, 0.1, 1],\n",
    "        'n_estimators': [100, 200, 400],\n",
    "        'min_samples_split': [2,5,25]\n",
    "    },\n",
    "    {\n",
    "        'gamma': [.0001,.001,.01,.1, 'scale','auto_deprecated'], \n",
    "        'kernel': ['linear', 'poly', 'rbf', 'sigmoid']\n",
    "    }\n",
    "]\n",
    "\n",
    "grid_pca ={}\n",
    "best_models_pca = {}\n",
    "scores_pca = {}\n",
    "parameters_pca = {}\n",
    "\n",
    "for model_info, params in zip(models, param_choices):\n",
    "\n",
    "    grouped_kfold = GroupKFold(n_splits=3)\n",
    "    groups = np.array(y_train_merged['SubjectID'])\n",
    "    folds = grouped_kfold.split(np.array(X_train_PCA), np.array(y_train), groups)\n",
    "\n",
    "    name, model = model_info\n",
    "    grid = GridSearchCV(model(), params, cv=folds, n_jobs=-1)\n",
    "    grid.fit(X_train_PCA, np.ravel(y_train))\n",
    "    n = f\"{name}: best score: {grid.best_score_}\"\n",
    "    p = f\"{name}: best parameters: {grid.best_params_}\"\n",
    "    print(n)\n",
    "    print(p)\n",
    "    grid_pca[name] = grid\n",
    "    best_models_pca[name]= grid.best_params_\n",
    "    scores_pca[name] = grid.best_estimator_\n",
    "    parameters_pca[name]= grid.best_params_\n",
    "    "
   ]
  },
  {
   "cell_type": "code",
   "execution_count": 65,
   "metadata": {},
   "outputs": [
    {
     "name": "stdout",
     "output_type": "stream",
     "text": [
      "SVC(C=1.0, cache_size=200, class_weight=None, coef0=0.0,\n",
      "  decision_function_shape='ovr', degree=3, gamma=0.01, kernel='rbf',\n",
      "  max_iter=-1, probability=False, random_state=None, shrinking=True,\n",
      "  tol=0.001, verbose=False)\n"
     ]
    }
   ],
   "source": [
    "print(grid.best_estimator_)"
   ]
  },
  {
   "cell_type": "markdown",
   "metadata": {},
   "source": [
    "## 6. Testing our chosen model"
   ]
  },
  {
   "cell_type": "code",
   "execution_count": 60,
   "metadata": {},
   "outputs": [],
   "source": [
    "features = pd.read_csv('HAPT Data Set/features.txt', delim_whitespace=True, header=None)\n",
    "activity = pd.read_csv('HAPT Data Set/activity_labels.txt', delim_whitespace=True, header=None)\n",
    "subject_test = pd.read_csv('HAPT Data Set/test/subject_id_test.txt', delim_whitespace=True, header=None)\n",
    "X_test = pd.read_csv('HAPT Data Set/test/X_test.txt', delim_whitespace=True, header=None)\n",
    "y_test = pd.read_csv('HAPT Data Set/test/y_test.txt', delim_whitespace=True, header=None)"
   ]
  },
  {
   "cell_type": "code",
   "execution_count": 61,
   "metadata": {},
   "outputs": [
    {
     "data": {
      "text/plain": [
       "array([ 5,  7,  4,  8, 11,  6, 10,  9, 12,  1,  3,  2])"
      ]
     },
     "execution_count": 61,
     "metadata": {},
     "output_type": "execute_result"
    }
   ],
   "source": [
    "y_test[0].unique()"
   ]
  },
  {
   "cell_type": "code",
   "execution_count": 62,
   "metadata": {},
   "outputs": [],
   "source": [
    "grid_outputs_test={}"
   ]
  },
  {
   "cell_type": "code",
   "execution_count": 63,
   "metadata": {},
   "outputs": [
    {
     "name": "stdout",
     "output_type": "stream",
     "text": [
      "knn :  0.89247311828               precision    recall  f1-score   support\n",
      "\n",
      "           1       0.85      0.98      0.91       496\n",
      "           2       0.88      0.91      0.89       471\n",
      "           3       0.97      0.79      0.87       420\n",
      "           4       0.90      0.80      0.85       508\n",
      "           5       0.84      0.92      0.88       556\n",
      "           6       1.00      0.99      1.00       545\n",
      "           7       0.89      0.74      0.81        23\n",
      "           8       1.00      1.00      1.00        10\n",
      "           9       0.64      0.88      0.74        32\n",
      "          10       0.65      0.88      0.75        25\n",
      "          11       0.77      0.47      0.58        49\n",
      "          12       0.85      0.41      0.55        27\n",
      "\n",
      "   micro avg       0.89      0.89      0.89      3162\n",
      "   macro avg       0.85      0.81      0.82      3162\n",
      "weighted avg       0.90      0.89      0.89      3162\n",
      " [[487   2   7   0   0   0   0   0   0   0   0   0]\n",
      " [ 37 429   5   0   0   0   0   0   0   0   0   0]\n",
      " [ 44  43 333   0   0   0   0   0   0   0   0   0]\n",
      " [  0   4   0 407  97   0   0   0   0   0   0   0]\n",
      " [  0   1   0  41 514   0   0   0   0   0   0   0]\n",
      " [  0   1   0   2   1 541   0   0   0   0   0   0]\n",
      " [  1   4   0   1   0   0  17   0   0   0   0   0]\n",
      " [  0   0   0   0   0   0   0  10   0   0   0   0]\n",
      " [  0   0   0   0   0   0   0   0  28   0   4   0]\n",
      " [  0   0   0   0   0   0   0   0   0  22   1   2]\n",
      " [  1   5   0   1   1   1   2   0  15   0  23   0]\n",
      " [  1   0   0   0   0   0   0   0   1  12   2  11]]\n",
      "logistic :  0.945287792536               precision    recall  f1-score   support\n",
      "\n",
      "           1       0.93      0.99      0.96       496\n",
      "           2       0.97      0.94      0.95       471\n",
      "           3       1.00      0.97      0.98       420\n",
      "           4       0.96      0.87      0.92       508\n",
      "           5       0.90      0.97      0.93       556\n",
      "           6       1.00      1.00      1.00       545\n",
      "           7       1.00      0.70      0.82        23\n",
      "           8       1.00      1.00      1.00        10\n",
      "           9       0.68      0.78      0.72        32\n",
      "          10       0.69      0.72      0.71        25\n",
      "          11       0.76      0.63      0.69        49\n",
      "          12       0.65      0.56      0.60        27\n",
      "\n",
      "   micro avg       0.95      0.95      0.95      3162\n",
      "   macro avg       0.88      0.84      0.86      3162\n",
      "weighted avg       0.95      0.95      0.94      3162\n",
      " [[491   3   2   0   0   0   0   0   0   0   0   0]\n",
      " [ 27 443   0   0   0   0   0   0   0   0   1   0]\n",
      " [  5   6 409   0   0   0   0   0   0   0   0   0]\n",
      " [  0   4   0 444  59   0   0   0   0   0   1   0]\n",
      " [  2   0   0  12 542   0   0   0   0   0   0   0]\n",
      " [  0   0   0   0   0 545   0   0   0   0   0   0]\n",
      " [  0   1   0   2   2   0  16   0   1   0   1   0]\n",
      " [  0   0   0   0   0   0   0  10   0   0   0   0]\n",
      " [  0   0   0   1   1   0   0   0  25   0   4   1]\n",
      " [  0   0   0   0   0   0   0   0   0  18   0   7]\n",
      " [  2   1   0   3   0   1   0   0  11   0  31   0]\n",
      " [  0   1   0   0   0   0   0   0   0   8   3  15]]\n",
      "svm :  0.95192915876               precision    recall  f1-score   support\n",
      "\n",
      "           1       0.96      0.99      0.98       496\n",
      "           2       0.98      0.97      0.97       471\n",
      "           3       0.99      0.98      0.98       420\n",
      "           4       0.96      0.89      0.92       508\n",
      "           5       0.91      0.97      0.94       556\n",
      "           6       1.00      1.00      1.00       545\n",
      "           7       0.95      0.78      0.86        23\n",
      "           8       0.91      1.00      0.95        10\n",
      "           9       0.58      0.66      0.62        32\n",
      "          10       0.75      0.72      0.73        25\n",
      "          11       0.70      0.65      0.67        49\n",
      "          12       0.72      0.67      0.69        27\n",
      "\n",
      "   micro avg       0.95      0.95      0.95      3162\n",
      "   macro avg       0.87      0.86      0.86      3162\n",
      "weighted avg       0.95      0.95      0.95      3162\n",
      " [[492   1   3   0   0   0   0   0   0   0   0   0]\n",
      " [ 15 455   1   0   0   0   0   0   0   0   0   0]\n",
      " [  3   6 411   0   0   0   0   0   0   0   0   0]\n",
      " [  0   1   0 452  54   0   0   1   0   0   0   0]\n",
      " [  0   0   0  18 538   0   0   0   0   0   0   0]\n",
      " [  0   0   0   0   0 545   0   0   0   0   0   0]\n",
      " [  0   1   0   2   0   0  18   0   1   0   1   0]\n",
      " [  0   0   0   0   0   0   0  10   0   0   0   0]\n",
      " [  0   0   0   0   0   0   1   0  21   0  10   0]\n",
      " [  0   0   0   0   0   0   0   0   0  18   0   7]\n",
      " [  0   0   0   1   0   2   0   0  14   0  32   0]\n",
      " [  0   0   0   0   0   0   0   0   0   6   3  18]]\n",
      "gnb :  0.747311827957               precision    recall  f1-score   support\n",
      "\n",
      "           1       0.83      0.84      0.83       496\n",
      "           2       0.78      0.94      0.85       471\n",
      "           3       0.83      0.61      0.70       420\n",
      "           4       0.55      0.90      0.68       508\n",
      "           5       0.86      0.40      0.54       556\n",
      "           6       1.00      0.86      0.92       545\n",
      "           7       0.27      0.65      0.38        23\n",
      "           8       0.53      0.90      0.67        10\n",
      "           9       0.52      0.75      0.62        32\n",
      "          10       0.41      0.84      0.55        25\n",
      "          11       0.63      0.55      0.59        49\n",
      "          12       0.53      0.30      0.38        27\n",
      "\n",
      "   micro avg       0.75      0.75      0.75      3162\n",
      "   macro avg       0.64      0.71      0.64      3162\n",
      "weighted avg       0.79      0.75      0.74      3162\n",
      " [[416  38  42   0   0   0   0   0   0   0   0   0]\n",
      " [  8 442  11   0   0   0   9   0   0   0   1   0]\n",
      " [ 80  83 257   0   0   0   0   0   0   0   0   0]\n",
      " [  0   0   0 457  35   1   8   5   1   1   0   0]\n",
      " [  0   0   0 311 220   1  22   0   0   0   2   0]\n",
      " [  0   0   0  62   0 467   0   0   0  11   1   4]\n",
      " [  0   1   1   0   0   0  15   2   3   0   1   0]\n",
      " [  0   0   0   0   0   0   0   9   0   1   0   0]\n",
      " [  0   0   0   0   0   0   0   1  24   0   7   0]\n",
      " [  0   0   0   0   0   0   0   0   0  21   1   3]\n",
      " [  0   0   0   0   1   0   1   0  18   2  27   0]\n",
      " [  0   0   0   0   0   0   1   0   0  15   3   8]]\n",
      "bnb :  0.825743200506               precision    recall  f1-score   support\n",
      "\n",
      "           1       0.79      0.84      0.82       496\n",
      "           2       0.78      0.93      0.85       471\n",
      "           3       0.84      0.60      0.70       420\n",
      "           4       0.87      0.74      0.80       508\n",
      "           5       0.80      0.87      0.83       556\n",
      "           6       1.00      0.98      0.99       545\n",
      "           7       0.43      0.87      0.57        23\n",
      "           8       0.62      0.80      0.70        10\n",
      "           9       0.52      0.81      0.63        32\n",
      "          10       0.57      0.68      0.62        25\n",
      "          11       0.63      0.39      0.48        49\n",
      "          12       0.67      0.59      0.63        27\n",
      "\n",
      "   micro avg       0.83      0.83      0.83      3162\n",
      "   macro avg       0.71      0.76      0.72      3162\n",
      "weighted avg       0.83      0.83      0.82      3162\n",
      " [[419  36  41   0   0   0   0   0   0   0   0   0]\n",
      " [ 25 438   8   0   0   0   0   0   0   0   0   0]\n",
      " [ 83  86 251   0   0   0   0   0   0   0   0   0]\n",
      " [  0   0   0 376 122   0   6   3   1   0   0   0]\n",
      " [  0   2   0  55 485   0  12   2   0   0   0   0]\n",
      " [  0   0   0   0   0 536   2   0   0   6   0   1]\n",
      " [  0   0   0   0   0   0  20   0   2   0   1   0]\n",
      " [  0   1   0   0   0   0   1   8   0   0   0   0]\n",
      " [  0   0   0   0   0   0   1   0  26   0   5   0]\n",
      " [  0   0   0   0   0   0   0   0   0  17   1   7]\n",
      " [  0   2   0   0   1   0   5   0  21   1  19   0]\n",
      " [  1   0   0   0   0   0   0   0   0   6   4  16]]\n"
     ]
    },
    {
     "name": "stderr",
     "output_type": "stream",
     "text": [
      "/Users/user/anaconda3/lib/python3.6/site-packages/sklearn/metrics/classification.py:1143: UndefinedMetricWarning: Precision and F-score are ill-defined and being set to 0.0 in labels with no predicted samples.\n",
      "  'precision', 'predicted', average, warn_for)\n",
      "/Users/user/anaconda3/lib/python3.6/site-packages/sklearn/metrics/classification.py:1143: UndefinedMetricWarning: Precision and F-score are ill-defined and being set to 0.0 in labels with no predicted samples.\n",
      "  'precision', 'predicted', average, warn_for)\n",
      "/Users/user/anaconda3/lib/python3.6/site-packages/sklearn/metrics/classification.py:1143: UndefinedMetricWarning: Precision and F-score are ill-defined and being set to 0.0 in labels with no predicted samples.\n",
      "  'precision', 'predicted', average, warn_for)\n"
     ]
    },
    {
     "name": "stdout",
     "output_type": "stream",
     "text": [
      "tree :  0.779886148008               precision    recall  f1-score   support\n",
      "\n",
      "           1       0.70      0.90      0.79       496\n",
      "           2       0.59      0.79      0.67       471\n",
      "           3       0.90      0.62      0.74       420\n",
      "           4       0.78      0.81      0.79       508\n",
      "           5       0.82      0.80      0.81       556\n",
      "           6       1.00      0.98      0.99       545\n",
      "           7       0.00      0.00      0.00        23\n",
      "           8       0.00      0.00      0.00        10\n",
      "           9       0.00      0.00      0.00        32\n",
      "          10       0.00      0.00      0.00        25\n",
      "          11       0.00      0.00      0.00        49\n",
      "          12       0.00      0.00      0.00        27\n",
      "\n",
      "   micro avg       0.78      0.78      0.78      3162\n",
      "   macro avg       0.40      0.41      0.40      3162\n",
      "weighted avg       0.76      0.78      0.76      3162\n",
      " [[446  32  18   0   0   0   0   0   0   0   0   0]\n",
      " [ 89 372  10   0   0   0   0   0   0   0   0   0]\n",
      " [ 95  64 261   0   0   0   0   0   0   0   0   0]\n",
      " [  0   4   0 410  94   0   0   0   0   0   0   0]\n",
      " [  0   1   0 110 445   0   0   0   0   0   0   0]\n",
      " [  2  11   0   0   0 532   0   0   0   0   0   0]\n",
      " [  0  19   0   1   3   0   0   0   0   0   0   0]\n",
      " [  0   9   0   1   0   0   0   0   0   0   0   0]\n",
      " [  1  27   0   4   0   0   0   0   0   0   0   0]\n",
      " [  0  24   0   0   0   0   0   0   0   0   0   1]\n",
      " [  0  46   0   2   1   0   0   0   0   0   0   0]\n",
      " [  0  25   1   0   0   0   0   0   0   1   0   0]]\n",
      "forest :  0.908918406072               precision    recall  f1-score   support\n",
      "\n",
      "           1       0.89      0.97      0.93       496\n",
      "           2       0.89      0.91      0.90       471\n",
      "           3       0.94      0.84      0.89       420\n",
      "           4       0.95      0.87      0.91       508\n",
      "           5       0.89      0.96      0.93       556\n",
      "           6       1.00      1.00      1.00       545\n",
      "           7       0.72      0.57      0.63        23\n",
      "           8       0.73      0.80      0.76        10\n",
      "           9       0.54      0.66      0.59        32\n",
      "          10       0.58      0.60      0.59        25\n",
      "          11       0.60      0.51      0.55        49\n",
      "          12       0.57      0.44      0.50        27\n",
      "\n",
      "   micro avg       0.91      0.91      0.91      3162\n",
      "   macro avg       0.77      0.76      0.76      3162\n",
      "weighted avg       0.91      0.91      0.91      3162\n",
      " [[480   3  13   0   0   0   0   0   0   0   0   0]\n",
      " [ 34 429   8   0   0   0   0   0   0   0   0   0]\n",
      " [ 22  47 351   0   0   0   0   0   0   0   0   0]\n",
      " [  0   0   0 441  64   1   1   1   0   0   0   0]\n",
      " [  0   0   0  21 535   0   0   0   0   0   0   0]\n",
      " [  0   0   0   0   0 544   0   0   0   0   1   0]\n",
      " [  0   2   0   3   1   0  13   2   0   0   2   0]\n",
      " [  0   1   0   0   0   0   0   8   1   0   0   0]\n",
      " [  0   0   0   0   0   0   0   0  21   0  11   0]\n",
      " [  0   0   0   0   0   0   0   0   1  15   0   9]\n",
      " [  3   1   0   1   0   0   3   0  16   0  25   0]\n",
      " [  0   0   0   0   0   0   1   0   0  11   3  12]]\n",
      "erf :  0.922517394054               precision    recall  f1-score   support\n",
      "\n",
      "           1       0.91      0.97      0.94       496\n",
      "           2       0.88      0.94      0.91       471\n",
      "           3       0.96      0.84      0.89       420\n",
      "           4       0.96      0.89      0.92       508\n",
      "           5       0.91      0.97      0.94       556\n",
      "           6       1.00      1.00      1.00       545\n",
      "           7       0.77      0.74      0.76        23\n",
      "           8       0.89      0.80      0.84        10\n",
      "           9       0.70      0.81      0.75        32\n",
      "          10       0.59      0.68      0.63        25\n",
      "          11       0.72      0.59      0.65        49\n",
      "          12       0.58      0.41      0.48        27\n",
      "\n",
      "   micro avg       0.92      0.92      0.92      3162\n",
      "   macro avg       0.82      0.80      0.81      3162\n",
      "weighted avg       0.92      0.92      0.92      3162\n",
      " [[483   3  10   0   0   0   0   0   0   0   0   0]\n",
      " [ 25 441   5   0   0   0   0   0   0   0   0   0]\n",
      " [ 18  50 352   0   0   0   0   0   0   0   0   0]\n",
      " [  0   0   0 451  56   0   1   0   0   0   0   0]\n",
      " [  0   0   0  18 538   0   0   0   0   0   0   0]\n",
      " [  0   1   0   0   0 544   0   0   0   0   0   0]\n",
      " [  0   3   0   2   0   0  17   1   0   0   0   0]\n",
      " [  0   0   0   0   0   0   2   8   0   0   0   0]\n",
      " [  0   0   0   0   0   0   0   0  26   0   6   0]\n",
      " [  0   0   0   0   0   0   0   0   0  17   1   7]\n",
      " [  2   3   0   1   0   0   2   0  11   0  29   1]\n",
      " [  0   0   0   0   0   0   0   0   0  12   4  11]]\n"
     ]
    }
   ],
   "source": [
    "predicted_y_values = {}\n",
    "\n",
    "\n",
    "for element in grid_outputs:\n",
    "    y_test_pred = best_fit_models[element].predict(X_test)\n",
    "    predicted_y_values[element]=y_test_pred\n",
    "    print(element, \": \", accuracy_score(y_test, y_test_pred), classification_report(y_test, y_test_pred), confusion_matrix(y_test, y_test_pred))\n"
   ]
  },
  {
   "cell_type": "code",
   "execution_count": 64,
   "metadata": {},
   "outputs": [
    {
     "data": {
      "text/plain": [
       "{'knn': array([5, 5, 5, ..., 2, 2, 1]),\n",
       " 'logistic': array([5, 5, 5, ..., 2, 2, 2]),\n",
       " 'svm': array([5, 5, 5, ..., 2, 2, 2]),\n",
       " 'gnb': array([5, 5, 4, ..., 2, 2, 2]),\n",
       " 'bnb': array([5, 5, 5, ..., 2, 2, 2]),\n",
       " 'tree': array([5, 5, 5, ..., 2, 2, 2]),\n",
       " 'forest': array([5, 5, 5, ..., 2, 2, 2]),\n",
       " 'erf': array([5, 5, 5, ..., 2, 2, 2])}"
      ]
     },
     "execution_count": 64,
     "metadata": {},
     "output_type": "execute_result"
    }
   ],
   "source": [
    "predicted_y_values"
   ]
  },
  {
   "cell_type": "code",
   "execution_count": 65,
   "metadata": {},
   "outputs": [
    {
     "data": {
      "text/plain": [
       "array([[491,   3,   2,   0,   0,   0,   0,   0,   0,   0,   0,   0],\n",
       "       [ 27, 443,   0,   0,   0,   0,   0,   0,   0,   0,   1,   0],\n",
       "       [  5,   6, 409,   0,   0,   0,   0,   0,   0,   0,   0,   0],\n",
       "       [  0,   4,   0, 444,  59,   0,   0,   0,   0,   0,   1,   0],\n",
       "       [  2,   0,   0,  12, 542,   0,   0,   0,   0,   0,   0,   0],\n",
       "       [  0,   0,   0,   0,   0, 545,   0,   0,   0,   0,   0,   0],\n",
       "       [  0,   1,   0,   2,   2,   0,  16,   0,   1,   0,   1,   0],\n",
       "       [  0,   0,   0,   0,   0,   0,   0,  10,   0,   0,   0,   0],\n",
       "       [  0,   0,   0,   1,   1,   0,   0,   0,  25,   0,   4,   1],\n",
       "       [  0,   0,   0,   0,   0,   0,   0,   0,   0,  18,   0,   7],\n",
       "       [  2,   1,   0,   3,   0,   1,   0,   0,  11,   0,  31,   0],\n",
       "       [  0,   1,   0,   0,   0,   0,   0,   0,   0,   8,   3,  15]])"
      ]
     },
     "execution_count": 65,
     "metadata": {},
     "output_type": "execute_result"
    }
   ],
   "source": [
    "confusion_matrix(y_test, predicted_y_values['logistic'])"
   ]
  },
  {
   "cell_type": "code",
   "execution_count": 66,
   "metadata": {},
   "outputs": [
    {
     "data": {
      "image/png": "[encoded data removed]",
      "text/plain": [
       "<Figure size 720x504 with 2 Axes>"
      ]
     },
     "metadata": {
      "needs_background": "light"
     },
     "output_type": "display_data"
    }
   ],
   "source": [
    "import seaborn as sn\n",
    "import pandas as pd\n",
    "import matplotlib.pyplot as plt\n",
    "\n",
    "array = confusion_matrix(y_test, predicted_y_values['logistic'])\n",
    "\n",
    "act = ['Walking', 'Walking up stairs', 'Walking down stairs', 'Sitting', 'Standing', 'Laying', \"Stand to sit\", 'Sit to stand', 'Sit to lie', 'Lie to sit', 'Stand to lie', 'Lie to stand']\n",
    "\n",
    "df_cm = pd.DataFrame(array, index = [i for i in act],\n",
    "                  columns = [i for i in act])\n",
    "plt.figure(figsize = (10,7))\n",
    "sn.heatmap(df_cm, annot=True, fmt='g', cmap=\"Blues\")\n",
    "plt.rcParams['font.size'] = 20\n"
   ]
  },
  {
   "cell_type": "markdown",
   "metadata": {},
   "source": [
    "## Oversample Minority"
   ]
  },
  {
   "cell_type": "code",
   "execution_count": 67,
   "metadata": {},
   "outputs": [],
   "source": [
    "y_test.columns=[\"ActivityID\"]\n",
    "df = pd.concat([X_test, y_test], axis=1)"
   ]
  },
  {
   "cell_type": "code",
   "execution_count": 81,
   "metadata": {},
   "outputs": [],
   "source": [
    "minority = df[df['ActivityID']>6].reset_index()\n",
    "minority = minority.drop(['index'], axis=1)"
   ]
  },
  {
   "cell_type": "code",
   "execution_count": 88,
   "metadata": {},
   "outputs": [],
   "source": [
    "frames = [minority, minority, minority, minority, minority, minority, minority, minority, minority, minority, minority, minority, minority, minority, minority, minority, minority, minority, minority, minority]\n",
    "expanded = pd.concat(frames)"
   ]
  },
  {
   "cell_type": "code",
   "execution_count": 90,
   "metadata": {},
   "outputs": [],
   "source": [
    "df_expanded = pd.concat([df,expanded], axis=0)"
   ]
  },
  {
   "cell_type": "code",
   "execution_count": 96,
   "metadata": {},
   "outputs": [],
   "source": [
    "y_test_expanded = df_expanded['ActivityID']\n",
    "X_test_expanded = df_expanded[list(range(561))]"
   ]
  },
  {
   "cell_type": "code",
   "execution_count": 100,
   "metadata": {},
   "outputs": [
    {
     "name": "stdout",
     "output_type": "stream",
     "text": [
      "knn :  0.777846343721               precision    recall  f1-score   support\n",
      "\n",
      "           1       0.77      0.98      0.86       496\n",
      "           2       0.64      0.91      0.75       471\n",
      "           3       0.97      0.79      0.87       420\n",
      "           4       0.83      0.80      0.81       508\n",
      "           5       0.81      0.92      0.86       556\n",
      "           6       0.96      0.99      0.98       545\n",
      "           7       0.89      0.74      0.81       483\n",
      "           8       1.00      1.00      1.00       210\n",
      "           9       0.64      0.88      0.74       672\n",
      "          10       0.65      0.88      0.75       525\n",
      "          11       0.77      0.47      0.58      1029\n",
      "          12       0.85      0.41      0.55       567\n",
      "\n",
      "   micro avg       0.78      0.78      0.78      6482\n",
      "   macro avg       0.81      0.81      0.80      6482\n",
      "weighted avg       0.80      0.78      0.77      6482\n",
      " [[487   2   7   0   0   0   0   0   0   0   0   0]\n",
      " [ 37 429   5   0   0   0   0   0   0   0   0   0]\n",
      " [ 44  43 333   0   0   0   0   0   0   0   0   0]\n",
      " [  0   4   0 407  97   0   0   0   0   0   0   0]\n",
      " [  0   1   0  41 514   0   0   0   0   0   0   0]\n",
      " [  0   1   0   2   1 541   0   0   0   0   0   0]\n",
      " [ 21  84   0  21   0   0 357   0   0   0   0   0]\n",
      " [  0   0   0   0   0   0   0 210   0   0   0   0]\n",
      " [  0   0   0   0   0   0   0   0 588   0  84   0]\n",
      " [  0   0   0   0   0   0   0   0   0 462  21  42]\n",
      " [ 21 105   0  21  21  21  42   0 315   0 483   0]\n",
      " [ 21   0   0   0   0   0   0   0  21 252  42 231]]\n",
      "logistic :  0.815951866708               precision    recall  f1-score   support\n",
      "\n",
      "           1       0.87      0.99      0.92       496\n",
      "           2       0.85      0.94      0.89       471\n",
      "           3       1.00      0.97      0.98       420\n",
      "           4       0.76      0.87      0.81       508\n",
      "           5       0.82      0.97      0.89       556\n",
      "           6       0.96      1.00      0.98       545\n",
      "           7       1.00      0.70      0.82       483\n",
      "           8       1.00      1.00      1.00       210\n",
      "           9       0.68      0.78      0.72       672\n",
      "          10       0.69      0.72      0.71       525\n",
      "          11       0.79      0.63      0.70      1029\n",
      "          12       0.65      0.56      0.60       567\n",
      "\n",
      "   micro avg       0.82      0.82      0.82      6482\n",
      "   macro avg       0.84      0.84      0.84      6482\n",
      "weighted avg       0.82      0.82      0.81      6482\n",
      " [[491   3   2   0   0   0   0   0   0   0   0   0]\n",
      " [ 27 443   0   0   0   0   0   0   0   0   1   0]\n",
      " [  5   6 409   0   0   0   0   0   0   0   0   0]\n",
      " [  0   4   0 444  59   0   0   0   0   0   1   0]\n",
      " [  2   0   0  12 542   0   0   0   0   0   0   0]\n",
      " [  0   0   0   0   0 545   0   0   0   0   0   0]\n",
      " [  0  21   0  42  42   0 336   0  21   0  21   0]\n",
      " [  0   0   0   0   0   0   0 210   0   0   0   0]\n",
      " [  0   0   0  21  21   0   0   0 525   0  84  21]\n",
      " [  0   0   0   0   0   0   0   0   0 378   0 147]\n",
      " [ 42  21   0  63   0  21   0   0 231   0 651   0]\n",
      " [  0  21   0   0   0   0   0   0   0 168  63 315]]\n",
      "svm :  0.825362542425               precision    recall  f1-score   support\n",
      "\n",
      "           1       0.96      0.99      0.98       496\n",
      "           2       0.94      0.97      0.95       471\n",
      "           3       0.99      0.98      0.98       420\n",
      "           4       0.85      0.89      0.87       508\n",
      "           5       0.91      0.97      0.94       556\n",
      "           6       0.93      1.00      0.96       545\n",
      "           7       0.95      0.78      0.86       483\n",
      "           8       1.00      1.00      1.00       210\n",
      "           9       0.58      0.66      0.62       672\n",
      "          10       0.75      0.72      0.73       525\n",
      "          11       0.70      0.65      0.67      1029\n",
      "          12       0.72      0.67      0.69       567\n",
      "\n",
      "   micro avg       0.83      0.83      0.83      6482\n",
      "   macro avg       0.86      0.86      0.85      6482\n",
      "weighted avg       0.83      0.83      0.82      6482\n",
      " [[492   1   3   0   0   0   0   0   0   0   0   0]\n",
      " [ 15 455   1   0   0   0   0   0   0   0   0   0]\n",
      " [  3   6 411   0   0   0   0   0   0   0   0   0]\n",
      " [  0   1   0 452  54   0   0   1   0   0   0   0]\n",
      " [  0   0   0  18 538   0   0   0   0   0   0   0]\n",
      " [  0   0   0   0   0 545   0   0   0   0   0   0]\n",
      " [  0  21   0  42   0   0 378   0  21   0  21   0]\n",
      " [  0   0   0   0   0   0   0 210   0   0   0   0]\n",
      " [  0   0   0   0   0   0  21   0 441   0 210   0]\n",
      " [  0   0   0   0   0   0   0   0   0 378   0 147]\n",
      " [  0   0   0  21   0  42   0   0 294   0 672   0]\n",
      " [  0   0   0   0   0   0   0   0   0 126  63 378]]\n",
      "gnb :  0.685436593644               precision    recall  f1-score   support\n",
      "\n",
      "           1       0.83      0.84      0.83       496\n",
      "           2       0.76      0.94      0.84       471\n",
      "           3       0.78      0.61      0.68       420\n",
      "           4       0.55      0.90      0.68       508\n",
      "           5       0.80      0.40      0.53       556\n",
      "           6       1.00      0.86      0.92       545\n",
      "           7       0.80      0.65      0.72       483\n",
      "           8       0.74      0.90      0.81       210\n",
      "           9       0.53      0.75      0.62       672\n",
      "          10       0.53      0.84      0.65       525\n",
      "          11       0.69      0.55      0.61      1029\n",
      "          12       0.71      0.30      0.42       567\n",
      "\n",
      "   micro avg       0.69      0.69      0.69      6482\n",
      "   macro avg       0.73      0.71      0.69      6482\n",
      "weighted avg       0.72      0.69      0.68      6482\n",
      " [[416  38  42   0   0   0   0   0   0   0   0   0]\n",
      " [  8 442  11   0   0   0   9   0   0   0   1   0]\n",
      " [ 80  83 257   0   0   0   0   0   0   0   0   0]\n",
      " [  0   0   0 457  35   1   8   5   1   1   0   0]\n",
      " [  0   0   0 311 220   1  22   0   0   0   2   0]\n",
      " [  0   0   0  62   0 467   0   0   0  11   1   4]\n",
      " [  0  21  21   0   0   0 315  42  63   0  21   0]\n",
      " [  0   0   0   0   0   0   0 189   0  21   0   0]\n",
      " [  0   0   0   0   0   0   0  21 504   0 147   0]\n",
      " [  0   0   0   0   0   0   0   0   0 441  21  63]\n",
      " [  0   0   0   0  21   0  21   0 378  42 567   0]\n",
      " [  0   0   0   0   0   0  21   0   0 315  63 168]]\n",
      "bnb :  0.7298673249               precision    recall  f1-score   support\n",
      "\n",
      "           1       0.76      0.84      0.80       496\n",
      "           2       0.70      0.93      0.80       471\n",
      "           3       0.84      0.60      0.70       420\n",
      "           4       0.87      0.74      0.80       508\n",
      "           5       0.77      0.87      0.82       556\n",
      "           6       1.00      0.98      0.99       545\n",
      "           7       0.72      0.87      0.79       483\n",
      "           8       0.97      0.80      0.88       210\n",
      "           9       0.53      0.81      0.64       672\n",
      "          10       0.70      0.68      0.69       525\n",
      "          11       0.63      0.39      0.48      1029\n",
      "          12       0.69      0.59      0.64       567\n",
      "\n",
      "   micro avg       0.73      0.73      0.73      6482\n",
      "   macro avg       0.77      0.76      0.75      6482\n",
      "weighted avg       0.74      0.73      0.72      6482\n",
      " [[419  36  41   0   0   0   0   0   0   0   0   0]\n",
      " [ 25 438   8   0   0   0   0   0   0   0   0   0]\n",
      " [ 83  86 251   0   0   0   0   0   0   0   0   0]\n",
      " [  0   0   0 376 122   0   6   3   1   0   0   0]\n",
      " [  0   2   0  55 485   0  12   2   0   0   0   0]\n",
      " [  0   0   0   0   0 536   2   0   0   6   0   1]\n",
      " [  0   0   0   0   0   0 420   0  42   0  21   0]\n",
      " [  0  21   0   0   0   0  21 168   0   0   0   0]\n",
      " [  0   0   0   0   0   0  21   0 546   0 105   0]\n",
      " [  0   0   0   0   0   0   0   0   0 357  21 147]\n",
      " [  0  42   0   0  21   0 105   0 441  21 399   0]\n",
      " [ 21   0   0   0   0   0   0   0   0 126  84 336]]\n",
      "tree :  0.380438136378               precision    recall  f1-score   support\n",
      "\n",
      "           1       0.68      0.90      0.78       496\n",
      "           2       0.10      0.79      0.18       471\n",
      "           3       0.84      0.62      0.72       420\n",
      "           4       0.60      0.81      0.69       508\n",
      "           5       0.71      0.80      0.75       556\n",
      "           6       1.00      0.98      0.99       545\n",
      "           7       0.00      0.00      0.00       483\n",
      "           8       0.00      0.00      0.00       210\n",
      "           9       0.00      0.00      0.00       672\n",
      "          10       0.00      0.00      0.00       525\n",
      "          11       0.00      0.00      0.00      1029\n",
      "          12       0.00      0.00      0.00       567\n",
      "\n",
      "   micro avg       0.38      0.38      0.38      6482\n",
      "   macro avg       0.33      0.41      0.34      6482\n",
      "weighted avg       0.31      0.38      0.32      6482\n",
      " [[446  32  18   0   0   0   0   0   0   0   0   0]\n",
      " [ 89 372  10   0   0   0   0   0   0   0   0   0]\n",
      " [ 95  64 261   0   0   0   0   0   0   0   0   0]\n",
      " [  0   4   0 410  94   0   0   0   0   0   0   0]\n",
      " [  0   1   0 110 445   0   0   0   0   0   0   0]\n",
      " [  2  11   0   0   0 532   0   0   0   0   0   0]\n",
      " [  0 399   0  21  63   0   0   0   0   0   0   0]\n",
      " [  0 189   0  21   0   0   0   0   0   0   0   0]\n",
      " [ 21 567   0  84   0   0   0   0   0   0   0   0]\n",
      " [  0 504   0   0   0   0   0   0   0   0   0  21]\n",
      " [  0 966   0  42  21   0   0   0   0   0   0   0]\n",
      " [  0 525  21   0   0   0   0   0   0  21   0   0]]\n",
      "forest :  0.733415612465               precision    recall  f1-score   support\n",
      "\n",
      "           1       0.80      0.97      0.88       496\n",
      "           2       0.76      0.91      0.83       471\n",
      "           3       0.94      0.84      0.89       420\n",
      "           4       0.81      0.87      0.84       508\n",
      "           5       0.86      0.96      0.91       556\n",
      "           6       1.00      1.00      1.00       545\n",
      "           7       0.76      0.57      0.65       483\n",
      "           8       0.80      0.80      0.80       210\n",
      "           9       0.54      0.66      0.59       672\n",
      "          10       0.58      0.60      0.59       525\n",
      "          11       0.61      0.51      0.56      1029\n",
      "          12       0.57      0.44      0.50       567\n",
      "\n",
      "   micro avg       0.73      0.73      0.73      6482\n",
      "   macro avg       0.75      0.76      0.75      6482\n",
      "weighted avg       0.73      0.73      0.73      6482\n",
      " [[480   3  13   0   0   0   0   0   0   0   0   0]\n",
      " [ 34 429   8   0   0   0   0   0   0   0   0   0]\n",
      " [ 22  47 351   0   0   0   0   0   0   0   0   0]\n",
      " [  0   0   0 441  64   1   1   1   0   0   0   0]\n",
      " [  0   0   0  21 535   0   0   0   0   0   0   0]\n",
      " [  0   0   0   0   0 544   0   0   0   0   1   0]\n",
      " [  0  42   0  63  21   0 273  42   0   0  42   0]\n",
      " [  0  21   0   0   0   0   0 168  21   0   0   0]\n",
      " [  0   0   0   0   0   0   0   0 441   0 231   0]\n",
      " [  0   0   0   0   0   0   0   0  21 315   0 189]\n",
      " [ 63  21   0  21   0   0  63   0 336   0 525   0]\n",
      " [  0   0   0   0   0   0  21   0   0 231  63 252]]\n"
     ]
    },
    {
     "name": "stderr",
     "output_type": "stream",
     "text": [
      "/Users/user/anaconda3/lib/python3.6/site-packages/sklearn/metrics/classification.py:1143: UndefinedMetricWarning: Precision and F-score are ill-defined and being set to 0.0 in labels with no predicted samples.\n",
      "  'precision', 'predicted', average, warn_for)\n",
      "/Users/user/anaconda3/lib/python3.6/site-packages/sklearn/metrics/classification.py:1143: UndefinedMetricWarning: Precision and F-score are ill-defined and being set to 0.0 in labels with no predicted samples.\n",
      "  'precision', 'predicted', average, warn_for)\n",
      "/Users/user/anaconda3/lib/python3.6/site-packages/sklearn/metrics/classification.py:1143: UndefinedMetricWarning: Precision and F-score are ill-defined and being set to 0.0 in labels with no predicted samples.\n",
      "  'precision', 'predicted', average, warn_for)\n"
     ]
    },
    {
     "name": "stdout",
     "output_type": "stream",
     "text": [
      "erf :  0.783245911756               precision    recall  f1-score   support\n",
      "\n",
      "           1       0.85      0.97      0.91       496\n",
      "           2       0.71      0.94      0.81       471\n",
      "           3       0.96      0.84      0.89       420\n",
      "           4       0.85      0.89      0.87       508\n",
      "           5       0.91      0.97      0.94       556\n",
      "           6       1.00      1.00      1.00       545\n",
      "           7       0.81      0.74      0.77       483\n",
      "           8       0.89      0.80      0.84       210\n",
      "           9       0.70      0.81      0.75       672\n",
      "          10       0.59      0.68      0.63       525\n",
      "          11       0.72      0.59      0.65      1029\n",
      "          12       0.58      0.41      0.48       567\n",
      "\n",
      "   micro avg       0.78      0.78      0.78      6482\n",
      "   macro avg       0.80      0.80      0.79      6482\n",
      "weighted avg       0.78      0.78      0.78      6482\n",
      " [[483   3  10   0   0   0   0   0   0   0   0   0]\n",
      " [ 25 441   5   0   0   0   0   0   0   0   0   0]\n",
      " [ 18  50 352   0   0   0   0   0   0   0   0   0]\n",
      " [  0   0   0 451  56   0   1   0   0   0   0   0]\n",
      " [  0   0   0  18 538   0   0   0   0   0   0   0]\n",
      " [  0   1   0   0   0 544   0   0   0   0   0   0]\n",
      " [  0  63   0  42   0   0 357  21   0   0   0   0]\n",
      " [  0   0   0   0   0   0  42 168   0   0   0   0]\n",
      " [  0   0   0   0   0   0   0   0 546   0 126   0]\n",
      " [  0   0   0   0   0   0   0   0   0 357  21 147]\n",
      " [ 42  63   0  21   0   0  42   0 231   0 609  21]\n",
      " [  0   0   0   0   0   0   0   0   0 252  84 231]]\n"
     ]
    }
   ],
   "source": [
    "predicted_y_values_expanded = {}\n",
    "\n",
    "\n",
    "for element in grid_outputs:\n",
    "    y_test_pred_expanded = best_fit_models[element].predict(X_test_expanded)\n",
    "    predicted_y_values_expanded[element]=y_test_pred_expanded\n",
    "    print(element, \": \", accuracy_score(y_test_expanded, y_test_pred_expanded), classification_report(y_test_expanded, y_test_pred_expanded), confusion_matrix(y_test_expanded, y_test_pred_expanded))\n"
   ]
  },
  {
   "cell_type": "code",
   "execution_count": 102,
   "metadata": {},
   "outputs": [
    {
     "data": {
      "image/png": "[encoded data removed]",
      "text/plain": [
       "<Figure size 720x504 with 2 Axes>"
      ]
     },
     "metadata": {
      "needs_background": "light"
     },
     "output_type": "display_data"
    }
   ],
   "source": [
    "import seaborn as sn\n",
    "import pandas as pd\n",
    "import matplotlib.pyplot as plt\n",
    "\n",
    "array = confusion_matrix(y_test_expanded, predicted_y_values_expanded['logistic'])\n",
    "\n",
    "act = ['Walking', 'Walking up stairs', 'Walking down stairs', 'Sitting', 'Standing', 'Laying', \"Stand to sit\", 'Sit to stand', 'Sit to lie', 'Lie to sit', 'Stand to lie', 'Lie to stand']\n",
    "\n",
    "df_cm = pd.DataFrame(array, index = [i for i in act],\n",
    "                  columns = [i for i in act])\n",
    "plt.figure(figsize = (10,7))\n",
    "sn.heatmap(df_cm, annot=False, fmt='g', cmap=\"Blues\")\n",
    "plt.rcParams['font.size'] = 20\n"
   ]
  },
  {
   "cell_type": "markdown",
   "metadata": {},
   "source": [
    "-------------\n",
    "-------------\n",
    "-------------\n",
    "\n",
    "## Appendix"
   ]
  },
  {
   "cell_type": "code",
   "execution_count": null,
   "metadata": {},
   "outputs": [],
   "source": [
    "# # THIS ONLY WORKS FOR BINARY CLASSIFICATION. I NEED ANOTHER VERSION FOR MULTI CLASS\n",
    "\n",
    "# from sklearn.metrics import roc_auc_score\n",
    "# from sklearn.metrics import roc_curve,auc\n",
    "\n",
    "# knn_roc_auc = roc_auc_score(y_train, pred_train_knn_best)\n",
    "# fpr, tpr, thresholds = roc_curve(y_train, knn_best_cv.predict_proba(X_train)[:,1])\n",
    "# roc_auc = auc(fpr,tpr)\n",
    "\n",
    "# plt.figure(figsize=(6,6))\n",
    "# # Plotting our Baseline..\n",
    "# plt.plot([0,1],[0,1],'r--')\n",
    "# plt.plot(fpr, tpr, 'b',label='AUC = %0.3f'% roc_auc)\n",
    "# plt.legend(loc='lower right')\n",
    "# plt.xlabel('False Positive Rate')\n",
    "# plt.ylabel('True Positive Rate');"
   ]
  },
  {
   "cell_type": "code",
   "execution_count": null,
   "metadata": {},
   "outputs": [],
   "source": [
    "grouped_kfold = GroupKFold(n_splits=3)\n",
    "groups = np.array(y_train_merged['SubjectID'])\n",
    "folds = grouped_kfold.split(np.array(X_train), np.array(y_train), groups)\n",
    "\n",
    "KNN_best_CV_train_pred = cross_val_predict(\n",
    "    knn_best, \n",
    "    X_train, \n",
    "    np.ravel(y_train), \n",
    "    cv=folds,\n",
    "    method=’predict’)\n",
    "\n",
    "KNN_best_CV_train_pred_proba = cross_val_predict(\n",
    "    knn_best, \n",
    "    X_train, \n",
    "    np.ravel(y_train), \n",
    "    cv=folds,\n",
    "    method=’predict_proba’)\n",
    "\n",
    "\n",
    "from sklearn.metrics import roc_auc_score\n",
    "from sklearn.metrics import roc_curve, auc\n",
    "\n",
    "knn_roc_auc = roc_auc_score(y_train, KNN_best_CV_train_pred)\n",
    "fpr, tpr, thresholds = roc_curve(y_train, KNN_best_CV_train_pred_proba[:,1])\n",
    "roc_auc = auc(fpr,tpr)"
   ]
  },
  {
   "cell_type": "code",
   "execution_count": 101,
   "metadata": {},
   "outputs": [
    {
     "ename": "SyntaxError",
     "evalue": "invalid syntax (<ipython-input-101-4f19b24d1236>, line 11)",
     "output_type": "error",
     "traceback": [
      "\u001b[0;36m  File \u001b[0;32m\"<ipython-input-101-4f19b24d1236>\"\u001b[0;36m, line \u001b[0;32m11\u001b[0m\n\u001b[0;31m    knn = KNeighborsClassifier(n_neighbors=13)\u001b[0m\n\u001b[0m      ^\u001b[0m\n\u001b[0;31mSyntaxError\u001b[0m\u001b[0;31m:\u001b[0m invalid syntax\n"
     ]
    }
   ],
   "source": [
    "# How to get ROC Curves\n",
    "\n",
    "# Here I generate grouped k-folds\n",
    "from sklearn.model_selection import GroupKFold\n",
    "grouped_kfold = GroupKFold(n_splits=3)\n",
    "groups = np.array(y_train_merged['SubjectID'])\n",
    "folds = grouped_kfold.split(np.array(X_train), np.array(y_train), groups)\n",
    "\n",
    "\n",
    "# Here I fit a model using GridSearchCV to iterate through different K values \n",
    "# and cross validate using my predefined folds to find best K value\n",
    "param_grid = dict(n_neighbors=list(range(1, 100,5)))\n",
    "knn = KNeighborsClassifier(n_neighbors=13)\n",
    "grid_knn = GridSearchCV(knn, param_grid, cv=folds, scoring='accuracy', n_jobs=-1)\n",
    "grid_knn.fit(X_train, y_train['ActivityID']);\n",
    "knn_best = grid_knn.best_estimator_\n",
    "\n",
    "# I could fit my model on the full X_train dataset and then predict the y_trains.\n",
    "# This will tend to give me higher accuracy because of overfitting and/or sample size effects\n",
    "# If I want to build an ROC curve, this will tend to show my model performing better than it \n",
    "# would on test data because I am only capturing the in-sample error rate\n",
    "knn_best.fit(X_train, np.ravel(y_train))\n",
    "pred_train_knn_best = knn_best.predict(X_train)\n",
    "\n",
    "\n",
    "# If I want to build an ROC curve we want to predict y as below. This method essentially predicts each y_i\n",
    "# based on a model fit on the subset of X_train that excludes the fold in which y_i was contained\n",
    "pred_train_KNN_best_CV = cross_val_predict(\n",
    "    knn_best, \n",
    "    X_train, \n",
    "    np.ravel(y_train), \n",
    "    cv=folds)\n",
    "\n",
    "# In summary:\n",
    "# pred_train_knn_best - predicts all y_i's on the same model which was fit on all of X_train\n",
    "# pred_train_KNN_best_CV  - each y_i is predicted with a model trained on out of sample folds"
   ]
  },
  {
   "cell_type": "code",
   "execution_count": null,
   "metadata": {},
   "outputs": [],
   "source": [
    "model_svm_linear = svm.SVC(kernel='linear')\n",
    "model_svm_linear.fit(X_train, y_train)"
   ]
  },
  {
   "cell_type": "code",
   "execution_count": null,
   "metadata": {
    "scrolled": true
   },
   "outputs": [],
   "source": [
    "pred_train_svm_linear = model_svm_linear.predict(X_train)\n",
    "confusion_matrix(y_train, pred_train_svm_linear)"
   ]
  },
  {
   "cell_type": "code",
   "execution_count": null,
   "metadata": {
    "scrolled": true
   },
   "outputs": [],
   "source": [
    "from sklearn.metrics import confusion_matrix\n",
    "accuracy_score(y_train, pred_train_svm_linear)"
   ]
  },
  {
   "cell_type": "code",
   "execution_count": null,
   "metadata": {
    "scrolled": true
   },
   "outputs": [],
   "source": [
    "model_svm_rbf = svm.SVC(kernel='rbf')\n",
    "model_svm_rbf.fit(X_train, y_train)\n",
    "pred_train_svm_rbf = model_svm_rbf.predict(X_train)"
   ]
  },
  {
   "cell_type": "code",
   "execution_count": null,
   "metadata": {},
   "outputs": [],
   "source": [
    "accuracy_score(y_train, pred_train_svm_rbf)"
   ]
  },
  {
   "cell_type": "markdown",
   "metadata": {},
   "source": [
    "### 4.1 KNN"
   ]
  },
  {
   "cell_type": "code",
   "execution_count": 18,
   "metadata": {},
   "outputs": [],
   "source": [
    "from sklearn.model_selection import GroupKFold\n",
    "\n",
    "grouped_kfold = GroupKFold(n_splits=3)\n",
    "groups = np.array(y_train_merged['SubjectID'])\n",
    "folds = grouped_kfold.split(np.array(X_train), np.array(y_train), groups)"
   ]
  },
  {
   "cell_type": "code",
   "execution_count": 222,
   "metadata": {},
   "outputs": [],
   "source": [
    "k_range = list(range(1, 100,5))\n",
    "param_grid = dict(n_neighbors=k_range)\n",
    "knn = KNeighborsClassifier(n_neighbors=13)"
   ]
  },
  {
   "cell_type": "code",
   "execution_count": 223,
   "metadata": {},
   "outputs": [],
   "source": [
    "grid_knn = GridSearchCV(knn, param_grid, cv=folds, scoring='accuracy', n_jobs=-1)"
   ]
  },
  {
   "cell_type": "code",
   "execution_count": 224,
   "metadata": {},
   "outputs": [],
   "source": [
    "grid_knn.fit(X_train, y_train['ActivityID']);"
   ]
  },
  {
   "cell_type": "code",
   "execution_count": 225,
   "metadata": {
    "scrolled": true
   },
   "outputs": [
    {
     "name": "stdout",
     "output_type": "stream",
     "text": [
      "0.882889009793\n",
      "{'n_neighbors': 16}\n",
      "KNeighborsClassifier(algorithm='auto', leaf_size=30, metric='minkowski',\n",
      "           metric_params=None, n_jobs=None, n_neighbors=16, p=2,\n",
      "           weights='uniform')\n"
     ]
    }
   ],
   "source": [
    "print(grid_knn.best_score_)\n",
    "print(grid_knn.best_params_)\n",
    "print(grid_knn.best_estimator_)\n",
    "\n",
    "# went from ?90? to 88, K stayed 16 (before & after grouping kfolds)"
   ]
  },
  {
   "cell_type": "code",
   "execution_count": 23,
   "metadata": {},
   "outputs": [],
   "source": [
    "knn_best = grid_knn.best_estimator_\n",
    "knn_best.fit(X_train, np.ravel(y_train))\n",
    "pred_train_knn_best = knn_best.predict(X_train)"
   ]
  },
  {
   "cell_type": "code",
   "execution_count": 24,
   "metadata": {
    "scrolled": true
   },
   "outputs": [
    {
     "data": {
      "text/plain": [
       "0.9683079434167573"
      ]
     },
     "execution_count": 24,
     "metadata": {},
     "output_type": "execute_result"
    }
   ],
   "source": [
    "accuracy_score(y_train, pred_train_knn_best)"
   ]
  },
  {
   "cell_type": "code",
   "execution_count": 25,
   "metadata": {
    "scrolled": true
   },
   "outputs": [
    {
     "data": {
      "text/plain": [
       "array([[1226,    0,    0,    0,    0,    0],\n",
       "       [   6, 1067,    0,    0,    0,    0],\n",
       "       [   8,    9,  969,    0,    0,    0],\n",
       "       [   0,    1,    0, 1147,  133,    5],\n",
       "       [   0,    0,    0,   68, 1306,    0],\n",
       "       [   0,    0,    1,    2,    0, 1404]])"
      ]
     },
     "execution_count": 25,
     "metadata": {},
     "output_type": "execute_result"
    }
   ],
   "source": [
    "confusion_matrix(y_train, pred_train_knn_best)\n"
   ]
  },
  {
   "cell_type": "markdown",
   "metadata": {},
   "source": [
    "### 4.2 SVM"
   ]
  },
  {
   "cell_type": "code",
   "execution_count": 26,
   "metadata": {},
   "outputs": [],
   "source": [
    "model_svm = svm.SVC(kernel='rbf', gamma='auto_deprecated')\n",
    "\n",
    "# may want to add random_state=86 to be safe"
   ]
  },
  {
   "cell_type": "code",
   "execution_count": 28,
   "metadata": {},
   "outputs": [],
   "source": [
    "param_grid_svm = {'gamma':[.0001,.001,.01,.1, 'scale','auto_deprecated'], \n",
    "              'kernel':['linear', 'poly', 'rbf', 'sigmoid']}"
   ]
  },
  {
   "cell_type": "code",
   "execution_count": 29,
   "metadata": {},
   "outputs": [],
   "source": [
    "grouped_kfold = GroupKFold(n_splits=3)\n",
    "groups = np.array(y_train_merged['SubjectID'])\n",
    "folds = grouped_kfold.split(np.array(X_train), np.array(y_train), groups)"
   ]
  },
  {
   "cell_type": "code",
   "execution_count": 30,
   "metadata": {},
   "outputs": [],
   "source": [
    "grid_svm = GridSearchCV(model_svm, param_grid_svm, cv=folds, scoring='accuracy', n_jobs=-1)"
   ]
  },
  {
   "cell_type": "code",
   "execution_count": 31,
   "metadata": {
    "scrolled": true
   },
   "outputs": [
    {
     "name": "stderr",
     "output_type": "stream",
     "text": [
      "/Users/user/anaconda3/lib/python3.6/site-packages/sklearn/externals/joblib/externals/loky/process_executor.py:700: UserWarning: A worker stopped while some jobs were given to the executor. This can be caused by a too short worker timeout or by a memory leak.\n",
      "  \"timeout or by a memory leak.\", UserWarning\n"
     ]
    }
   ],
   "source": [
    "grid_svm.fit(X_train, y_train['ActivityID']);"
   ]
  },
  {
   "cell_type": "code",
   "execution_count": 32,
   "metadata": {},
   "outputs": [
    {
     "name": "stdout",
     "output_type": "stream",
     "text": [
      "0.924102285092\n",
      "{'gamma': 0.01, 'kernel': 'rbf'}\n",
      "SVC(C=1.0, cache_size=200, class_weight=None, coef0=0.0,\n",
      "  decision_function_shape='ovr', degree=3, gamma=0.01, kernel='rbf',\n",
      "  max_iter=-1, probability=False, random_state=None, shrinking=True,\n",
      "  tol=0.001, verbose=False)\n"
     ]
    }
   ],
   "source": [
    "print(grid_svm.best_score_)\n",
    "print(grid_svm.best_params_)\n",
    "print(grid_svm.best_estimator_)"
   ]
  },
  {
   "cell_type": "markdown",
   "metadata": {},
   "source": [
    "Before grouping our K-Folds, we believe the best option will be to use a linear model with gamma=0.01\n",
    "\n",
    "After grouping K folds, the best is rbf with gamma of 0.01"
   ]
  },
  {
   "cell_type": "code",
   "execution_count": 33,
   "metadata": {},
   "outputs": [],
   "source": [
    "svc_best = grid_svm.best_estimator_\n",
    "svc_best.fit(X_train, np.ravel(y_train))\n",
    "# y_pred = knn.predict(X_test)\n",
    "# print(metrics.accuracy_score(y_test, y_pred))\n",
    "pred_train_svc_best = svc_best.predict(X_train)"
   ]
  },
  {
   "cell_type": "code",
   "execution_count": 34,
   "metadata": {},
   "outputs": [
    {
     "data": {
      "text/plain": [
       "0.98340587595212192"
      ]
     },
     "execution_count": 34,
     "metadata": {},
     "output_type": "execute_result"
    }
   ],
   "source": [
    "accuracy_score(y_train, pred_train_svc_best)"
   ]
  },
  {
   "cell_type": "code",
   "execution_count": 35,
   "metadata": {},
   "outputs": [
    {
     "data": {
      "text/plain": [
       "array([[1226,    0,    0,    0,    0,    0],\n",
       "       [   1, 1071,    1,    0,    0,    0],\n",
       "       [   0,    0,  986,    0,    0,    0],\n",
       "       [   0,    1,    0, 1231,   54,    0],\n",
       "       [   0,    0,    0,   65, 1309,    0],\n",
       "       [   0,    0,    0,    0,    0, 1407]])"
      ]
     },
     "execution_count": 35,
     "metadata": {},
     "output_type": "execute_result"
    }
   ],
   "source": [
    "confusion_matrix(y_train, pred_train_svc_best)"
   ]
  },
  {
   "cell_type": "markdown",
   "metadata": {},
   "source": [
    "### 4.3 Random Forest"
   ]
  },
  {
   "cell_type": "code",
   "execution_count": 37,
   "metadata": {},
   "outputs": [],
   "source": [
    "model_randforest = RandomForestClassifier(\n",
    "    n_estimators=200, \n",
    "    criterion='gini', \n",
    "    max_depth=None, \n",
    "    max_features='auto',\n",
    "    min_samples_split=5,\n",
    "    random_state=47)"
   ]
  },
  {
   "cell_type": "code",
   "execution_count": 38,
   "metadata": {},
   "outputs": [],
   "source": [
    "''' First time tried below model and got cv accuracy of 0.898394994559 \n",
    "and in-sample of 1.0 so we definitely overfit'''\n",
    "\n",
    "# param_grid_randforrest = {\n",
    "#     'criterion':['gini', 'entropy'],\n",
    "#     'max_depth':[None, 50,100], \n",
    "#     'max_features':['auto', 50]\n",
    "# }\n",
    "\n",
    "param_grid_randforest = {\n",
    "    'n_estimators':[50, 200],\n",
    "    'criterion':['gini', 'entropy'],\n",
    "    'max_depth':[15, 20, None], \n",
    "    'max_features':[10, 15, 50, 'auto'],\n",
    "    'min_samples_split':[2, 5, 25]\n",
    "}\n",
    "\n"
   ]
  },
  {
   "cell_type": "code",
   "execution_count": 39,
   "metadata": {},
   "outputs": [
    {
     "name": "stderr",
     "output_type": "stream",
     "text": [
      "/Users/user/anaconda3/lib/python3.6/site-packages/sklearn/model_selection/_search.py:740: DataConversionWarning: A column-vector y was passed when a 1d array was expected. Please change the shape of y to (n_samples,), for example using ravel().\n",
      "  self.best_estimator_.fit(X, y, **fit_params)\n"
     ]
    },
    {
     "name": "stdout",
     "output_type": "stream",
     "text": [
      "0.906147986942\n",
      "{'criterion': 'entropy', 'max_depth': 20, 'max_features': 15, 'min_samples_split': 2, 'n_estimators': 200}\n",
      "RandomForestClassifier(bootstrap=True, class_weight=None, criterion='entropy',\n",
      "            max_depth=20, max_features=15, max_leaf_nodes=None,\n",
      "            min_impurity_decrease=0.0, min_impurity_split=None,\n",
      "            min_samples_leaf=1, min_samples_split=2,\n",
      "            min_weight_fraction_leaf=0.0, n_estimators=200, n_jobs=None,\n",
      "            oob_score=False, random_state=47, verbose=0, warm_start=False)\n"
     ]
    }
   ],
   "source": [
    "from sklearn.model_selection import GroupKFold\n",
    "\n",
    "grouped_kfold = GroupKFold(n_splits=3)\n",
    "groups = np.array(y_train_merged['SubjectID'])\n",
    "folds = grouped_kfold.split(np.array(X_train), np.array(y_train), groups)\n",
    "\n",
    "\n",
    "grid_randforest = GridSearchCV(model_randforest, param_grid_randforest, cv=folds, scoring='accuracy', n_jobs=-1)\n",
    "grid_randforest.fit(X_train, np.ravel(y_train))\n",
    "\n",
    "print(grid_randforest.best_score_)\n",
    "print(grid_randforest.best_params_)\n",
    "print(grid_randforest.best_estimator_)"
   ]
  },
  {
   "cell_type": "code",
   "execution_count": 40,
   "metadata": {},
   "outputs": [],
   "source": [
    "randforest_best = grid_randforest.best_estimator_\n",
    "randforest_best.fit(X_train, np.ravel(y_train))\n",
    "\n",
    "# y_pred = knn.predict(X_test)\n",
    "# print(metrics.accuracy_score(y_test, y_pred))\n",
    "pred_train_randforest_best = randforest_best.predict(X_train)"
   ]
  },
  {
   "cell_type": "code",
   "execution_count": 41,
   "metadata": {},
   "outputs": [
    {
     "data": {
      "text/plain": [
       "1.0"
      ]
     },
     "execution_count": 41,
     "metadata": {},
     "output_type": "execute_result"
    }
   ],
   "source": [
    "accuracy_score(y_train, pred_train_randforest_best)"
   ]
  },
  {
   "cell_type": "code",
   "execution_count": 42,
   "metadata": {},
   "outputs": [
    {
     "data": {
      "text/plain": [
       "array([[1226,    0,    0,    0,    0,    0],\n",
       "       [   0, 1073,    0,    0,    0,    0],\n",
       "       [   0,    0,  986,    0,    0,    0],\n",
       "       [   0,    0,    0, 1286,    0,    0],\n",
       "       [   0,    0,    0,    0, 1374,    0],\n",
       "       [   0,    0,    0,    0,    0, 1407]])"
      ]
     },
     "execution_count": 42,
     "metadata": {},
     "output_type": "execute_result"
    }
   ],
   "source": [
    "confusion_matrix(y_train, pred_train_randforest_best)"
   ]
  },
  {
   "cell_type": "markdown",
   "metadata": {},
   "source": [
    "### <span style=\"color:red\">Need to analyze an extra random forest i.e. random feature selection, not greedy. Is that the same as entropy? </span>"
   ]
  },
  {
   "cell_type": "markdown",
   "metadata": {},
   "source": [
    "### 4.4 Gradient Boosting"
   ]
  },
  {
   "cell_type": "code",
   "execution_count": 44,
   "metadata": {},
   "outputs": [],
   "source": [
    "model_gradboost = GradientBoostingClassifier(learning_rate=0.1, max_features=1, subsample=0.5,\n",
    "n_estimators=200, min_samples_split=5)"
   ]
  },
  {
   "cell_type": "code",
   "execution_count": 50,
   "metadata": {},
   "outputs": [],
   "source": [
    "param_grid_gradboost = {\n",
    "    'learning_rate':[.01,0.1,.5], \n",
    "    'max_features':[1, 10, \"sqrt\"], \n",
    "    'subsample':[0.01, 0.1, 1],\n",
    "    'n_estimators':[100, 200, 400],\n",
    "    'min_samples_split':[2,5,25]\n",
    "}"
   ]
  },
  {
   "cell_type": "code",
   "execution_count": 51,
   "metadata": {},
   "outputs": [
    {
     "name": "stderr",
     "output_type": "stream",
     "text": [
      "/Users/user/anaconda3/lib/python3.6/site-packages/sklearn/model_selection/_search.py:841: DeprecationWarning: The default of the `iid` parameter will change from True to False in version 0.22 and will be removed in 0.24. This will change numeric results when test-set sizes are unequal.\n",
      "  DeprecationWarning)\n"
     ]
    },
    {
     "name": "stdout",
     "output_type": "stream",
     "text": [
      "0.908596300326\n",
      "{'learning_rate': 0.1, 'max_features': 10, 'min_samples_split': 2, 'n_estimators': 400, 'subsample': 0.1}\n",
      "GradientBoostingClassifier(criterion='friedman_mse', init=None,\n",
      "              learning_rate=0.1, loss='deviance', max_depth=3,\n",
      "              max_features=10, max_leaf_nodes=None,\n",
      "              min_impurity_decrease=0.0, min_impurity_split=None,\n",
      "              min_samples_leaf=1, min_samples_split=2,\n",
      "              min_weight_fraction_leaf=0.0, n_estimators=400,\n",
      "              n_iter_no_change=None, presort='auto', random_state=None,\n",
      "              subsample=0.1, tol=0.0001, validation_fraction=0.1,\n",
      "              verbose=0, warm_start=False)\n"
     ]
    }
   ],
   "source": [
    "\n",
    "grouped_kfold = GroupKFold(n_splits=3)\n",
    "groups = np.array(y_train_merged['SubjectID'])\n",
    "folds = grouped_kfold.split(np.array(X_train), np.array(y_train), groups)\n",
    "\n",
    "\n",
    "grid_gradboost = GridSearchCV(model_gradboost, param_grid_gradboost, cv=folds, scoring='accuracy', n_jobs=-1)\n",
    "grid_gradboost.fit(X_train, np.ravel(y_train));\n",
    "\n",
    "print(grid_gradboost.best_score_)\n",
    "print(grid_gradboost.best_params_)\n",
    "print(grid_gradboost.best_estimator_)"
   ]
  },
  {
   "cell_type": "code",
   "execution_count": 52,
   "metadata": {},
   "outputs": [],
   "source": [
    "gradboost_best = grid_gradboost.best_estimator_\n",
    "gradboost_best.fit(X_train, np.ravel(y_train))\n",
    "# y_pred = knn.predict(X_test)\n",
    "# print(metrics.accuracy_score(y_test, y_pred))\n",
    "pred_train_gradboost_best = gradboost_best.predict(X_train)"
   ]
  },
  {
   "cell_type": "code",
   "execution_count": 53,
   "metadata": {},
   "outputs": [
    {
     "data": {
      "text/plain": [
       "1.0"
      ]
     },
     "execution_count": 53,
     "metadata": {},
     "output_type": "execute_result"
    }
   ],
   "source": [
    "accuracy_score(y_train, pred_train_gradboost_best)"
   ]
  },
  {
   "cell_type": "code",
   "execution_count": 54,
   "metadata": {},
   "outputs": [
    {
     "data": {
      "text/plain": [
       "array([[1226,    0,    0,    0,    0,    0],\n",
       "       [   0, 1073,    0,    0,    0,    0],\n",
       "       [   0,    0,  986,    0,    0,    0],\n",
       "       [   0,    0,    0, 1286,    0,    0],\n",
       "       [   0,    0,    0,    0, 1374,    0],\n",
       "       [   0,    0,    0,    0,    0, 1407]])"
      ]
     },
     "execution_count": 54,
     "metadata": {},
     "output_type": "execute_result"
    }
   ],
   "source": [
    "confusion_matrix(y_train, pred_train_gradboost_best)"
   ]
  },
  {
   "cell_type": "markdown",
   "metadata": {},
   "source": [
    "### 4.5 Logistic Regression"
   ]
  },
  {
   "cell_type": "code",
   "execution_count": 57,
   "metadata": {},
   "outputs": [],
   "source": [
    "scaler = StandardScaler()\n",
    "X_train_scaled = scaler.fit_transform(X_train, y_train)"
   ]
  },
  {
   "cell_type": "code",
   "execution_count": 26,
   "metadata": {},
   "outputs": [],
   "source": [
    "\n",
    "model_log_L2 = LogisticRegression(n_jobs=-1, C=1.0, tol=0.0001, solver ='newton-cg', max_iter=100, random_state = 42, multi_class='auto')\n"
   ]
  },
  {
   "cell_type": "code",
   "execution_count": 56,
   "metadata": {},
   "outputs": [],
   "source": [
    "param_grid_log_L2 = {\n",
    "    'C':[.05, .1, .5], \n",
    "#     'penalty':['l2','l1'],\n",
    "    'tol':[0.000001, 0.0001, 0.001],\n",
    "    'solver':['newton-cg', 'lbfgs', 'sag'],\n",
    "    'max_iter':[100, 500]\n",
    "}"
   ]
  },
  {
   "cell_type": "code",
   "execution_count": null,
   "metadata": {},
   "outputs": [],
   "source": [
    "from skopt import gp_minimize\n",
    "\n",
    "\n",
    "class BayesSearchCV(BayesSearchCV):\n",
    "    def _run_search(self, x): raise BaseException('Use newer skopt')```"
   ]
  },
  {
   "cell_type": "code",
   "execution_count": 58,
   "metadata": {},
   "outputs": [
    {
     "name": "stdout",
     "output_type": "stream",
     "text": [
      "0.912812840044\n",
      "{'C': 0.5, 'max_iter': 500, 'solver': 'sag', 'tol': 1e-06}\n",
      "LogisticRegression(C=0.5, class_weight=None, dual=False, fit_intercept=True,\n",
      "          intercept_scaling=1, max_iter=500, multi_class='auto', n_jobs=-1,\n",
      "          penalty='l2', random_state=42, solver='sag', tol=1e-06,\n",
      "          verbose=0, warm_start=False)\n"
     ]
    },
    {
     "name": "stderr",
     "output_type": "stream",
     "text": [
      "/Users/user/anaconda3/lib/python3.6/site-packages/sklearn/linear_model/sag.py:334: ConvergenceWarning: The max_iter was reached which means the coef_ did not converge\n",
      "  \"the coef_ did not converge\", ConvergenceWarning)\n"
     ]
    }
   ],
   "source": [
    "from sklearn.model_selection import GroupKFold\n",
    "\n",
    "grouped_kfold = GroupKFold(n_splits=3)\n",
    "groups = np.array(y_train_merged['SubjectID'])\n",
    "folds = grouped_kfold.split(np.array(X_train), np.array(y_train), groups)\n",
    "\n",
    "\n",
    "grid_log = GridSearchCV(model_log, param_grid_log, cv=folds, scoring='accuracy', n_jobs=-1)\n",
    "grid_log.fit(X_train_scaled, np.ravel(y_train));\n",
    "\n",
    "print(grid_log.best_score_)\n",
    "print(grid_log.best_params_)\n",
    "print(grid_log.best_estimator_)"
   ]
  },
  {
   "cell_type": "code",
   "execution_count": 59,
   "metadata": {},
   "outputs": [
    {
     "name": "stderr",
     "output_type": "stream",
     "text": [
      "/Users/user/anaconda3/lib/python3.6/site-packages/sklearn/linear_model/sag.py:334: ConvergenceWarning: The max_iter was reached which means the coef_ did not converge\n",
      "  \"the coef_ did not converge\", ConvergenceWarning)\n"
     ]
    }
   ],
   "source": [
    "log_best = grid_log.best_estimator_\n",
    "# y_pred = knn.predict(X_test)\n",
    "# print(metrics.accuracy_score(y_test, y_pred))\n",
    "pred_train_log_best = log_best.predict(X_train_scaled)"
   ]
  },
  {
   "cell_type": "code",
   "execution_count": 60,
   "metadata": {},
   "outputs": [
    {
     "data": {
      "text/plain": [
       "0.98680631120783457"
      ]
     },
     "execution_count": 60,
     "metadata": {},
     "output_type": "execute_result"
    }
   ],
   "source": [
    "accuracy_score(y_train, pred_train_log_best)"
   ]
  },
  {
   "cell_type": "code",
   "execution_count": 61,
   "metadata": {},
   "outputs": [
    {
     "data": {
      "text/plain": [
       "array([[1225,    1,    0,    0,    0,    0],\n",
       "       [   0, 1073,    0,    0,    0,    0],\n",
       "       [   0,    0,  986,    0,    0,    0],\n",
       "       [   0,    0,    0, 1236,   50,    0],\n",
       "       [   0,    0,    0,   46, 1328,    0],\n",
       "       [   0,    0,    0,    0,    0, 1407]])"
      ]
     },
     "execution_count": 61,
     "metadata": {},
     "output_type": "execute_result"
    }
   ],
   "source": [
    "confusion_matrix(y_train, pred_train_log_best)"
   ]
  }
 ],
 "metadata": {
  "kernelspec": {
   "display_name": "Python 3",
   "language": "python",
   "name": "python3"
  },
  "language_info": {
   "codemirror_mode": {
    "name": "ipython",
    "version": 3
   },
   "file_extension": ".py",
   "mimetype": "text/x-python",
   "name": "python",
   "nbconvert_exporter": "python",
   "pygments_lexer": "ipython3",
   "version": "3.6.6"
  }
 },
 "nbformat": 4,
 "nbformat_minor": 2
}
