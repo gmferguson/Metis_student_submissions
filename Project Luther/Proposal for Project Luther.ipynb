{
 "cells": [
  {
   "cell_type": "markdown",
   "metadata": {},
   "source": [
    "# Project Luther Proposal"
   ]
  },
  {
   "cell_type": "markdown",
   "metadata": {},
   "source": [
    "## Goals of the project"
   ]
  },
  {
   "cell_type": "markdown",
   "metadata": {},
   "source": [
    "Predict rental prices in NYC, and potentially (eventually) tell a story about the impact the L train shutdown is having on rental prices in affected neighborhoods"
   ]
  },
  {
   "cell_type": "markdown",
   "metadata": {},
   "source": [
    "## Data to be used"
   ]
  },
  {
   "cell_type": "markdown",
   "metadata": {},
   "source": [
    "Openstreet will give us a list of all addresses in NYC, which we can pass to StreetEasy.\n",
    "StreetEasy has data on rental prices by date rented, amenities, nearby trains, beds/baths, and some (limited) data on squarefootage\n",
    "\n",
    "One issue is that StreetEasy does not give long history of data, so I am also exploring getting some of this data from my connections with Nooklyn real estate company.\n",
    "\n",
    "Ideally we could incorporate the following factors, which are all available on StreetEasy or WalkScore\n",
    "- Zip code\n",
    "- Beds\n",
    "- Baths\n",
    "- SqFt\n",
    "- Year built\n",
    "- Distance to train lines (or TransitScore)\n",
    "- Distance to parks / restaurants etc. (or WalkScore)\n",
    "- Units in building\n",
    "- Building stories\n",
    "- School district\n",
    "- Date\n",
    "- Type of building (e.g. Multi-family, Single-family Apartment complex etc.)\n",
    "- Dishwasher y/n\n",
    "- Backyard y/n\n",
    "- Washer/dryer in unit y/n\n",
    "- Washer/dryer in building y/n\n"
   ]
  },
  {
   "cell_type": "markdown",
   "metadata": {},
   "source": [
    "# Testing the Scraping"
   ]
  },
  {
   "cell_type": "markdown",
   "metadata": {},
   "source": [
    "As a proof of concept, I am going to try to scrape the data for 568 Union Avenue, Brooklyn, NY, 11211"
   ]
  },
  {
   "cell_type": "code",
   "execution_count": 3,
   "metadata": {},
   "outputs": [],
   "source": [
    "import requests\n",
    "\n",
    "url = 'https://www.indeed.com/viewjob?jk=8eaab72a46e4c6a3&tk=1crikafkvbscg800&from=serp&alid=3&advn=3522562628255651'\n",
    "\n",
    "response = requests.get(url)"
   ]
  },
  {
   "cell_type": "code",
   "execution_count": 4,
   "metadata": {},
   "outputs": [
    {
     "data": {
      "text/plain": [
       "200"
      ]
     },
     "execution_count": 4,
     "metadata": {},
     "output_type": "execute_result"
    }
   ],
   "source": [
    "response.status_code"
   ]
  },
  {
   "cell_type": "markdown",
   "metadata": {},
   "source": [
    "So Streeteasy detects me and rejects me... I am still exploring ways around this and think I can get some starter rent data from Nooklyn and then web scrape apartment features from zillow"
   ]
  }
 ],
 "metadata": {
  "kernelspec": {
   "display_name": "Python 3",
   "language": "python",
   "name": "python3"
  },
  "language_info": {
   "codemirror_mode": {
    "name": "ipython",
    "version": 3
   },
   "file_extension": ".py",
   "mimetype": "text/x-python",
   "name": "python",
   "nbconvert_exporter": "python",
   "pygments_lexer": "ipython3",
   "version": "3.6.6"
  }
 },
 "nbformat": 4,
 "nbformat_minor": 2
}
