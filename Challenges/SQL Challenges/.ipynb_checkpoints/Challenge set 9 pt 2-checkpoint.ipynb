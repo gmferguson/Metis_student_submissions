{
 "cells": [
  {
   "cell_type": "markdown",
   "metadata": {},
   "source": [
    "# Challenge Set 9\n",
    "## Part II: Baseball Data\n",
    "\n",
    "*Introductory - Intermediate level SQL*\n",
    "\n",
    "--\n",
    "\n",
    "Please complete this exercise via SQLalchemy and Jupyter notebook.\n",
    "\n",
    "We will be working with the Lahman baseball data we uploaded to your AWS instance in class. \n",
    "\n",
    "\n",
    "1. What was the total spent on salaries by each team, each year?\n",
    "\n",
    "2. What is the first and last year played for each player? *Hint:* Create a new table from 'Fielding.csv'.\n",
    "\n",
    "3. Who has played the most all star games?\n",
    "\n",
    "4. Which school has generated the most distinct players? *Hint:* Create new table from 'CollegePlaying.csv'.\n",
    "\n",
    "5. Which players have the longest career? Assume that the `debut` and `finalGame` columns comprise the start and end, respectively, of a player's career. *Hint:* Create a new table from 'Master.csv'. Also note that strings can be converted to dates using the [`DATE`](https://wiki.postgresql.org/wiki/Working_with_Dates_and_Times_in_PostgreSQL#WORKING_with_DATETIME.2C_DATE.2C_and_INTERVAL_VALUES) function and can then be subtracted from each other yielding their difference in days.\n",
    "\n",
    "6. What is the distribution of debut months? *Hint:* Look at the `DATE` and [`EXTRACT`](https://www.postgresql.org/docs/current/static/functions-datetime.html#FUNCTIONS-DATETIME-EXTRACT) functions.\n",
    "\n",
    "7. What is the effect of table join order on mean salary for the players listed in the main (master) table? *Hint:* Perform two different queries, one that joins on playerID in the salary table and other that joins on the same column in the master table. You will have to use left joins for each since right joins are not currently supported with SQLalchemy.\n"
   ]
  },
  {
   "cell_type": "code",
   "execution_count": null,
   "metadata": {},
   "outputs": [],
   "source": [
    "SELECT SUM(salary) AS TotalSalarySpend, schoolName\n",
    "FROM salaries\n",
    "GROUP BY TeamID\n",
    "ORDER BY TotalSalarySpend DESC;\n",
    "\n",
    "       1460955253 | TOR\n",
    "       1372976857 | HOU\n",
    "       1326557848 | CIN\n",
    "       1322864229 | CLE\n",
    "       1198507139 | COL\n",
    "       1186474624 | MIN\n",
    "       1114146053 | OAK\n",
    "       1112113728 | ARI\n",
    "       1102872893 | KCA\n",
    "       1101814262 | SDN\n",
    "       1062683436 | LAA\n",
    "        946944053 | MIL\n",
    "        917369218 | PIT\n",
    "        695421775 | TBA\n",
    "        675016005 | FLO\n",
    "        583376341 | WAS\n",
    "        468091973 | ANA\n",
    "        408203761 | MON\n",
    "        271978930 | CAL\n",
    "        233645804 | ML4\n",
    "        151679900 | MIA"
   ]
  },
  {
   "cell_type": "markdown",
   "metadata": {},
   "source": [
    "2. What is the first and last year played for each player? Hint: Create a new table from 'Fielding.csv'."
   ]
  },
  {
   "cell_type": "code",
   "execution_count": null,
   "metadata": {},
   "outputs": [],
   "source": [
    "SELECT playerID, MIN(yearID) AS FirstYear, MAX(yearID) AS LastYear\n",
    "FROM AllstarFull\n",
    "GROUP BY playerID;"
   ]
  },
  {
   "cell_type": "markdown",
   "metadata": {},
   "source": [
    "3. Who has played the most all star games"
   ]
  },
  {
   "cell_type": "code",
   "execution_count": null,
   "metadata": {},
   "outputs": [],
   "source": [
    "SELECT playerID, COUNT(DISTINCT gameID) AS NumGames\n",
    "FROM AllstarFull\n",
    "GROUP BY playerID\n",
    "ORDER BY NumGames DESC;\n",
    "\n",
    "# aaronha01"
   ]
  },
  {
   "cell_type": "markdown",
   "metadata": {},
   "source": [
    "4. Which school has generated the most distinct players? Hint: Create new table from 'CollegePlaying.csv'."
   ]
  },
  {
   "cell_type": "code",
   "execution_count": null,
   "metadata": {},
   "outputs": [],
   "source": [
    "# whelato01\n",
    "\n",
    "\n",
    "CREATE TABLE IF NOT EXISTS SchoolPlayers (\n",
    "    schoolID varchar(15) NOT NULL,\n",
    "    playerID varchar(15) NOT NULL,\n",
    "    yearMin int DEFAULT NULL,\n",
    "    yearMax int DEFAULT NULL,\n",
    "    PRIMARY KEY (schoolID,playerID)\n",
    ");\n",
    "\n",
    "COPY Schools FROM '/home/roberto/baseballdata/SchoolsPlayers.csv' DELIMITER ',' CSV HEADER;\n",
    "\n",
    "\n",
    "SELECT schoolID, COUNT(DISTINCT playerID) AS NumPlayers\n",
    "FROM SchoolPlayers\n",
    "GROUP BY schoolID\n",
    "ORDER BY NumPlayers DESC;"
   ]
  },
  {
   "cell_type": "markdown",
   "metadata": {},
   "source": [
    "5. Which players have the longest career? Assume that the debut and finalGame columns comprise the start and end, respectively, of a player's career. Hint: Create a new table from 'Master.csv'. Also note that strings can be converted to dates using the DATE function and can then be subtracted from each other yielding their difference in days."
   ]
  },
  {
   "cell_type": "code",
   "execution_count": null,
   "metadata": {},
   "outputs": [],
   "source": [
    "CREATE TABLE IF NOT EXISTS Master5 (\n",
    "    playerID varchar(15) NOT NULL,\n",
    "    birthYear int DEFAULT NULL,\n",
    "    birthMonth int DEFAULT NULL,\n",
    "    birthDay int DEFAULT NULL,\n",
    "    birthCountry text DEFAULT NULL,\n",
    "    birthState text DEFAULT NULL,\n",
    "    birthCity text DEFAULT NULL,\n",
    "    deathYear int DEFAULT NULL,\n",
    "    deathMonth int DEFAULT NULL,\n",
    "    deathDay int DEFAULT NULL,\n",
    "    deathCountry text DEFAULT NULL,\n",
    "    deathState text DEFAULT NULL,\n",
    "    deathCity text DEFAULT NULL,\n",
    "    nameFirst varchar(50) DEFAULT NULL,\n",
    "    nameLast varchar(50) DEFAULT NULL,\n",
    "    nameGiven varchar(50) DEFAULT NULL,\n",
    "    weight int DEFAULT NULL,\n",
    "    height int DEFAULT NULL,\n",
    "    bats text DEFAULT NULL,\n",
    "    throws text DEFAULT NULL,\n",
    "    debut text DEFAULT NULL,\n",
    "    finalGame text DEFAULT NULL,\n",
    "    retroID varchar(15) DEFAULT NULL,\n",
    "    bbrefID varchar(15) DEFAULT NULL,\n",
    "    PRIMARY KEY (playerID)\n",
    ");\n",
    "\n",
    "COPY Master4 FROM '/home/gretta/baseballdata/Master.csv' DELIMITER ',' CSV HEADER;\n",
    "\n",
    "SELECT playerID, nameFirst, nameLast, (DATE(debut) - DATE(finalGame)) AS CareerLength\n",
    "FROM Master4\n",
    "GROUP BY playerID\n",
    "ORDER BY CareerLength DESC;"
   ]
  },
  {
   "cell_type": "markdown",
   "metadata": {},
   "source": [
    "6. What is the distribution of debut months? Hint: Look at the DATE and EXTRACT functions."
   ]
  },
  {
   "cell_type": "code",
   "execution_count": null,
   "metadata": {},
   "outputs": [],
   "source": [
    "SELECT COUNT(DISTINCT playerID) AS NumPlayers, EXTRACT(MONTH FROM debut) AS DebutMonth\n",
    "FROM Master4\n",
    "GROUP BY DebutMonth\n",
    "ORDER BY DebutMonth;"
   ]
  },
  {
   "cell_type": "markdown",
   "metadata": {},
   "source": [
    "7. What is the effect of table join order on mean salary for the players listed in the main (master) table? Hint: Perform two different queries, one that joins on playerID in the salary table and other that joins on the same column in the master table. You will have to use left joins for each since right joins are not currently supported with SQLalchemy."
   ]
  },
  {
   "cell_type": "code",
   "execution_count": null,
   "metadata": {},
   "outputs": [],
   "source": [
    "one that joins on playerID in the salary table \n",
    "\n",
    "SELECT\n",
    "    s.playerID, AVG(s.salary) AS AvgSalary\n",
    "FROM\n",
    "    Salaries AS s\n",
    "  JOIN\n",
    "    Master4 AS m\n",
    "  ON \n",
    "    s.playerID = m.playerID\n",
    "GROUP BY \n",
    "    m.playerID\n",
    "ORDER BY \n",
    "    s.salary DESC;\n",
    "    \n",
    "\n",
    "other that joins on the same column in the master table. \n",
    "\n",
    "\n"
   ]
  }
 ],
 "metadata": {
  "kernelspec": {
   "display_name": "Python 3",
   "language": "python",
   "name": "python3"
  },
  "language_info": {
   "codemirror_mode": {
    "name": "ipython",
    "version": 3
   },
   "file_extension": ".py",
   "mimetype": "text/x-python",
   "name": "python",
   "nbconvert_exporter": "python",
   "pygments_lexer": "ipython3",
   "version": "3.6.6"
  }
 },
 "nbformat": 4,
 "nbformat_minor": 2
}
