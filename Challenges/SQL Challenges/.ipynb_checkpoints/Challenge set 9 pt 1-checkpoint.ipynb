{
 "cells": [
  {
   "cell_type": "markdown",
   "metadata": {},
   "source": [
    "# Challenge Set 9\n",
    "## Part I: W3Schools SQL Lab \n",
    "\n",
    "*Introductory level SQL*\n",
    "\n",
    "--\n",
    "\n",
    "This challenge uses the [W3Schools SQL playground](http://www.w3schools.com/sql/trysql.asp?filename=trysql_select_all). Please add solutions to this markdown file and submit.\n",
    "\n",
    "1. Which customers are from the UK?\n",
    "\n",
    "2. What is the name of the customer who has the most orders?\n",
    "\n",
    "3. Which supplier has the highest average product price?\n",
    "\n",
    "4. How many different countries are all the customers from? (*Hint:* consider [DISTINCT](http://www.w3schools.com/sql/sql_distinct.asp).)\n",
    "\n",
    "5. What category appears in the most orders?\n",
    "\n",
    "6. What was the total cost for each order?\n",
    "\n",
    "7. Which employee made the most sales (by total price)?\n",
    "\n",
    "8. Which employees have BS degrees? (*Hint:* look at the [LIKE](http://www.w3schools.com/sql/sql_like.asp) operator.)\n",
    "\n",
    "9. Which supplier of three or more products has the highest average product price? (*Hint:* look at the [HAVING](http://www.w3schools.com/sql/sql_having.asp) operator.)\n"
   ]
  },
  {
   "cell_type": "markdown",
   "metadata": {},
   "source": [
    "1. Which customers are from the UK?"
   ]
  },
  {
   "cell_type": "code",
   "execution_count": null,
   "metadata": {},
   "outputs": [],
   "source": [
    "'''SQL\n",
    "    SELECT \n",
    "        CustomerName \n",
    "    FROM \n",
    "        Customers\n",
    "    WHERE \n",
    "        Country='UK';\n",
    "'''"
   ]
  },
  {
   "cell_type": "markdown",
   "metadata": {},
   "source": [
    "2. What is the name of the customer who has the most orders?"
   ]
  },
  {
   "cell_type": "code",
   "execution_count": null,
   "metadata": {},
   "outputs": [],
   "source": [
    "# Answer: Ernst Handel\n",
    "\n",
    "'''SQL\n",
    "    SELECT \n",
    "        CustomerName, \n",
    "        COUNT(DISTINCT OrderID) AS OrderCount\n",
    "    FROM \n",
    "        Customers\n",
    "        JOIN Orders ON Orders.CustomerID = Customers.CustomerID\n",
    "    GROUP BY \n",
    "        Customers.CustomerID\n",
    "    ORDER BY \n",
    "        OrderCount DESC;\n",
    "'''"
   ]
  },
  {
   "cell_type": "markdown",
   "metadata": {},
   "source": [
    "3. Which supplier has the highest average product price?"
   ]
  },
  {
   "cell_type": "code",
   "execution_count": null,
   "metadata": {},
   "outputs": [],
   "source": [
    "# Answer: Aux joyeux ecclésiastiques\n",
    "\n",
    "'''SQL\n",
    "    SELECT\n",
    "        SupplierName,\n",
    "        AVG(Price) as AvgPrice\n",
    "    FROM\n",
    "        Suppliers\n",
    "      JOIN\n",
    "        Products\n",
    "      ON \n",
    "        Suppliers.SupplierID = Products.SupplierID\n",
    "    GROUP BY\n",
    "        Suppliers.SupplierID\n",
    "    ORDER BY\n",
    "        AvgPrice DESC\n",
    "    LIMIT 1;\n",
    "'''"
   ]
  },
  {
   "cell_type": "markdown",
   "metadata": {},
   "source": [
    "4. How many different countries are all the customers from? (*Hint:* consider [DISTINCT](http://www.w3schools.com/sql/sql_distinct.asp).)"
   ]
  },
  {
   "cell_type": "code",
   "execution_count": null,
   "metadata": {},
   "outputs": [],
   "source": [
    "'''SQL\n",
    "    SELECT\n",
    "        COUNT(DISTINCT(Country)) AS CountryCount\n",
    "    FROM\n",
    "        Customers;\n",
    "'''"
   ]
  },
  {
   "cell_type": "markdown",
   "metadata": {},
   "source": [
    "5. What category appears in the most orders?"
   ]
  },
  {
   "cell_type": "code",
   "execution_count": null,
   "metadata": {},
   "outputs": [],
   "source": [
    "'''SQL\n",
    "    SELECT\n",
    "        Categories.CategoryName, \n",
    "        COUNT(*) AS Count\n",
    "    FROM\n",
    "        OrderDetails\n",
    "      JOIN\n",
    "        Products\n",
    "      JOIN\n",
    "        Categories\n",
    "      ON\n",
    "          OrderDetails.ProductID = Products.ProductID\n",
    "        AND\n",
    "          Products.CategoryID = Categories.CategoryID\n",
    "    GROUP BY\n",
    "        Categories.CategoryID\n",
    "    ORDER BY\n",
    "        Count DESC\n",
    "    LIMIT 1;\n",
    "'''"
   ]
  },
  {
   "cell_type": "markdown",
   "metadata": {},
   "source": [
    "6. What was the total cost for each order?"
   ]
  },
  {
   "cell_type": "code",
   "execution_count": null,
   "metadata": {},
   "outputs": [],
   "source": [
    "'''SQL\n",
    "    SELECT\n",
    "        OrderDetails.OrderID,\n",
    "        SUM(OrderDetails.Quantity * Products.Price) as Cost\n",
    "    FROM\n",
    "        OrderDetails\n",
    "      JOIN\n",
    "        Products\n",
    "      ON\n",
    "        OrderDetails.ProductID = Products.ProductID\n",
    "    GROUP BY\n",
    "        OrderDetails.OrderID\n",
    "    ORDER BY\n",
    "        Cost DESC;\n",
    "'''"
   ]
  },
  {
   "cell_type": "markdown",
   "metadata": {},
   "source": [
    "7. Which employee made the most sales (by total price)?"
   ]
  },
  {
   "cell_type": "code",
   "execution_count": null,
   "metadata": {},
   "outputs": [],
   "source": [
    "'''SQL\n",
    "    SELECT\n",
    "        Employees.FirstName,\n",
    "        Employees.LastName,\n",
    "        SUM(OrderDetails.Quantity * Products.Price) as Cost\n",
    "    FROM\n",
    "        Employees\n",
    "      JOIN\n",
    "        Orders\n",
    "      JOIN\n",
    "        OrderDetails\n",
    "      JOIN\n",
    "        Products\n",
    "      ON\n",
    "          Employees.EmployeeID = Orders.EmployeeID\n",
    "        AND\n",
    "          Orders.OrderID = OrderDetails.OrderID\n",
    "        AND\n",
    "          OrderDetails.ProductID = Products.ProductID\n",
    "    GROUP BY\n",
    "        Employees.EmployeeID\n",
    "    ORDER BY\n",
    "        Cost DESC;\n",
    "'''"
   ]
  },
  {
   "cell_type": "markdown",
   "metadata": {},
   "source": [
    "8. Which employees have BS degrees? (*Hint:* look at the [LIKE](http://www.w3schools.com/sql/sql_like.asp) operator.)"
   ]
  },
  {
   "cell_type": "code",
   "execution_count": null,
   "metadata": {},
   "outputs": [],
   "source": [
    "'''SQL\n",
    "    SELECT\n",
    "        *\n",
    "    FROM \n",
    "        Employees \n",
    "    WHERE \n",
    "        Notes \n",
    "    LIKE \n",
    "        '% BS%';\n",
    "'''"
   ]
  },
  {
   "cell_type": "markdown",
   "metadata": {},
   "source": [
    "9. Which supplier of three or more products has the highest average product price? (*Hint:* look at the [HAVING](http://www.w3schools.com/sql/sql_having.asp) operator.)"
   ]
  },
  {
   "cell_type": "code",
   "execution_count": null,
   "metadata": {},
   "outputs": [],
   "source": [
    "'''SQL\n",
    "    SELECT\n",
    "        SupplierName,\n",
    "        COUNT(*) as NumProducts,\n",
    "        AVG(Products.Price) as MeanPrice\n",
    "    FROM\n",
    "        Suppliers\n",
    "      JOIN\n",
    "        Products\n",
    "      ON\n",
    "        Suppliers.SupplierID = Products.SupplierID\n",
    "    GROUP BY\n",
    "        Suppliers.SupplierID\n",
    "    HAVING\n",
    "        NumProducts >= 3\n",
    "    ORDER BY\n",
    "        MeanPrice DESC;\n",
    "'''"
   ]
  }
 ],
 "metadata": {
  "kernelspec": {
   "display_name": "Python 3",
   "language": "python",
   "name": "python3"
  },
  "language_info": {
   "codemirror_mode": {
    "name": "ipython",
    "version": 3
   },
   "file_extension": ".py",
   "mimetype": "text/x-python",
   "name": "python",
   "nbconvert_exporter": "python",
   "pygments_lexer": "ipython3",
   "version": "3.6.6"
  }
 },
 "nbformat": 4,
 "nbformat_minor": 2
}
