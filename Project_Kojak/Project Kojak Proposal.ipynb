{
 "cells": [
  {
   "cell_type": "markdown",
   "metadata": {},
   "source": [
    "# Project Kojak Proposal\n",
    "\n",
    "Gretta Ferguson\n",
    "November 21, 2018\n",
    "\n",
    "## Human Protein Atlas Image Classification\n",
    "\n",
    "### Motivation\n",
    "\n",
    "I would like to join an ongoing Kaggle competition run by The Human Protein Atlas with the goal of developing a model that can classify mixed patterns of proteins in microscope images. Images such as these are commonly used in biomedical research for drug development and diagnosis. However, the current process of manually evaluating images is time consuming causing a bottleneck in innovation. \n",
    "\n",
    "### Data\n",
    "\n",
    "The data provided contains 31K training samples each with the following:\n",
    "1. Labels - There are 28 possible classes and each sample will have one or more labels\n",
    "2. Four b&w images (stored as individual files) of the same sample under four different filters\n",
    "    - the protein of interest (green)\n",
    "    - nucleus (blue)\n",
    "    - microtubules (red)\n",
    "    - endoplasmic reticulum (yellow)\n",
    "\n",
    "The green filter therefore shows the shape and location of the protein we wish to classify, and the other filters show cell structures that can serve as landmarks / references. The dataset comprises 27 different cell types of highly different morphology, which affect the protein patterns of the different organelles.\n",
    "\n",
    "### Anticipated Approach\n",
    "\n",
    "I anticipate I will convert the input data into a matrix which assigns four distinct scores (0-255) to each pixel of a sample, representing the white-intensity registered on the green, blue, red, and yellow filter images. I will also convert the training labels into 28 hot-encoded columns. Then I will train a CNN on this data and have it output a softmax prediction for each label. At this point I will optimize the threshold to something that gives me the best accuracy.\n",
    "\n",
    "### Possible Complications\n",
    "\n",
    "The challenges I forsee are:\n",
    "1. Many classes and imbalanced dataset\n",
    "2. Potential issues could arise in dealing with a multilabel input\n",
    "3. We want to only identify the label based on the green filter, but we need to consider where those green structures are in relation to the structures identified by the other color filters. I am worried the \"picaso face\" issue may come to play somehow since modern image classification methods don't often take into account the relational location between structures.\n"
   ]
  },
  {
   "cell_type": "code",
   "execution_count": null,
   "metadata": {},
   "outputs": [],
   "source": []
  }
 ],
 "metadata": {
  "kernelspec": {
   "display_name": "Python 3",
   "language": "python",
   "name": "python3"
  },
  "language_info": {
   "codemirror_mode": {
    "name": "ipython",
    "version": 3
   },
   "file_extension": ".py",
   "mimetype": "text/x-python",
   "name": "python",
   "nbconvert_exporter": "python",
   "pygments_lexer": "ipython3",
   "version": "3.6.6"
  }
 },
 "nbformat": 4,
 "nbformat_minor": 2
}
